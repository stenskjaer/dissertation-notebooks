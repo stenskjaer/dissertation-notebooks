{
 "cells": [
  {
   "cell_type": "markdown",
   "metadata": {},
   "source": [
    "# Quantifying Centrality of a Commentator\n",
    "\n",
    "The initial question of this notebook was: Is it true that Faversham shares doctrines with a lot of other commentators? Is he in the middle of a net of shared material? Does he pull from the whole tradition? This was based on the observation that there seemed to be a conspicuous overlap between the doctrines used by Anonymus Bazan 1 and those used by Faversham. This overlap was seen to be uni-directional, meaning that most or all of Bazan's doctrines were found in Faversham, but not the other way around (as Faversham has more doctrines than Bazan 1).\n",
    "\n",
    "This let me ask: How do I investigate this observation more? This notebook shows the investigation of such observations of uni-directional shared material, and some reflections on what such investigations can show us.\n",
    "\n",
    "This leads to an analysis of a relatively naive measure of centrality for the corpus of commentators."
   ]
  },
  {
   "cell_type": "markdown",
   "metadata": {},
   "source": [
    "# Procedure"
   ]
  },
  {
   "cell_type": "markdown",
   "metadata": {},
   "source": [
    "## Utility functions and setup"
   ]
  },
  {
   "cell_type": "code",
   "execution_count": 62,
   "metadata": {},
   "outputs": [],
   "source": [
    "import pandas as pd\n",
    "import seaborn as sns\n",
    "import matplotlib.pyplot as plt\n",
    "\n",
    "%matplotlib inline\n",
    "\n",
    "from neo4j.v1 import GraphDatabase\n",
    "\n",
    "sns.set_context(\"paper\", font_scale=1.2)"
   ]
  },
  {
   "cell_type": "code",
   "execution_count": 63,
   "metadata": {},
   "outputs": [],
   "source": [
    "# Type hinting\n",
    "from typing import Callable, Dict, List\n",
    "from neo4j.v1.result import BoltStatementResult"
   ]
  },
  {
   "cell_type": "code",
   "execution_count": 64,
   "metadata": {},
   "outputs": [],
   "source": [
    "def run_query(string: str) -> BoltStatementResult:\n",
    "    with driver.session() as session:\n",
    "        with session.begin_transaction() as tx:\n",
    "            return tx.run(string)"
   ]
  },
  {
   "cell_type": "code",
   "execution_count": 65,
   "metadata": {},
   "outputs": [],
   "source": [
    "def build_matrix(authors: List[str], \n",
    "                 calculator: Callable[[str], Dict[str, List[float]]]\n",
    "                ) -> Dict[str, List[float]]:\n",
    "    matrix = {}\n",
    "    for author in authors:\n",
    "        matrix[author] = []\n",
    "        values = calculator(author)\n",
    "        for name in authors:\n",
    "            if name in values:\n",
    "                matrix[author].append(values[name])\n",
    "            else:\n",
    "                matrix[author].append(0)\n",
    "    return matrix            "
   ]
  },
  {
   "cell_type": "markdown",
   "metadata": {},
   "source": [
    "## List of authors"
   ]
  },
  {
   "cell_type": "markdown",
   "metadata": {},
   "source": [
    "Here we include all the authors mentioned in the database except Aristotle."
   ]
  },
  {
   "cell_type": "code",
   "execution_count": 61,
   "metadata": {},
   "outputs": [
    {
     "data": {
      "text/html": [
       "<div>\n",
       "<style scoped>\n",
       "    .dataframe tbody tr th:only-of-type {\n",
       "        vertical-align: middle;\n",
       "    }\n",
       "\n",
       "    .dataframe tbody tr th {\n",
       "        vertical-align: top;\n",
       "    }\n",
       "\n",
       "    .dataframe thead th {\n",
       "        text-align: right;\n",
       "    }\n",
       "</style>\n",
       "<table border=\"1\" class=\"dataframe\">\n",
       "  <thead>\n",
       "    <tr style=\"text-align: right;\">\n",
       "      <th></th>\n",
       "      <th>ID</th>\n",
       "    </tr>\n",
       "  </thead>\n",
       "  <tbody>\n",
       "    <tr>\n",
       "      <th>Anonymus Bazan I</th>\n",
       "      <td>192</td>\n",
       "    </tr>\n",
       "    <tr>\n",
       "      <th>Anonymus Bernardini</th>\n",
       "      <td>218</td>\n",
       "    </tr>\n",
       "    <tr>\n",
       "      <th>Anonymus Giele</th>\n",
       "      <td>5</td>\n",
       "    </tr>\n",
       "    <tr>\n",
       "      <th>Anonymus Mertoniensis 275</th>\n",
       "      <td>7</td>\n",
       "    </tr>\n",
       "    <tr>\n",
       "      <th>Anonymus Oriel 33</th>\n",
       "      <td>4</td>\n",
       "    </tr>\n",
       "    <tr>\n",
       "      <th>Anonymus Steenberghen</th>\n",
       "      <td>23</td>\n",
       "    </tr>\n",
       "    <tr>\n",
       "      <th>Anonymus Vat. Lat. 2170 I</th>\n",
       "      <td>6</td>\n",
       "    </tr>\n",
       "    <tr>\n",
       "      <th>Anonymus Vat. Lat. 2170 II</th>\n",
       "      <td>21</td>\n",
       "    </tr>\n",
       "    <tr>\n",
       "      <th>Anonymus Vennebusch</th>\n",
       "      <td>187</td>\n",
       "    </tr>\n",
       "    <tr>\n",
       "      <th>Henric de la Wyle</th>\n",
       "      <td>1</td>\n",
       "    </tr>\n",
       "    <tr>\n",
       "      <th>John Dinsdale</th>\n",
       "      <td>0</td>\n",
       "    </tr>\n",
       "    <tr>\n",
       "      <th>John of Jandun</th>\n",
       "      <td>20</td>\n",
       "    </tr>\n",
       "    <tr>\n",
       "      <th>Radulphus Brito</th>\n",
       "      <td>3</td>\n",
       "    </tr>\n",
       "    <tr>\n",
       "      <th>Simon of Faversham</th>\n",
       "      <td>2</td>\n",
       "    </tr>\n",
       "  </tbody>\n",
       "</table>\n",
       "</div>"
      ],
      "text/plain": [
       "                             ID\n",
       "Anonymus Bazan I            192\n",
       "Anonymus Bernardini         218\n",
       "Anonymus Giele                5\n",
       "Anonymus Mertoniensis 275     7\n",
       "Anonymus Oriel 33             4\n",
       "Anonymus Steenberghen        23\n",
       "Anonymus Vat. Lat. 2170 I     6\n",
       "Anonymus Vat. Lat. 2170 II   21\n",
       "Anonymus Vennebusch         187\n",
       "Henric de la Wyle             1\n",
       "John Dinsdale                 0\n",
       "John of Jandun               20\n",
       "Radulphus Brito               3\n",
       "Simon of Faversham            2"
      ]
     },
     "execution_count": 61,
     "metadata": {},
     "output_type": "execute_result"
    }
   ],
   "source": [
    "q: str = ('MATCH (n:Author) WHERE not(n.name = \"Aristotle\") '\n",
    "          'RETURN n.name, id(n) ORDER BY n.name asc')\n",
    "res = run_query(q)\n",
    "author_table = {i[0]: i[1] for i in res.values()}\n",
    "df = pd.DataFrame(author_table, index=['ID'])\n",
    "df.T"
   ]
  },
  {
   "cell_type": "code",
   "execution_count": 41,
   "metadata": {},
   "outputs": [],
   "source": [
    "author_names = author_table.keys()"
   ]
  },
  {
   "cell_type": "markdown",
   "metadata": {},
   "source": [
    "## One-sided commonality\n",
    "\n",
    "Now, let's look at the data in the more one sided perspective of how big a proportion of the material of one commentator is also to be found in the others (regardless of their shared sum of material). So this is the uni-directional, non-symmetric relation. \n",
    "\n",
    "The hypothesis is that this can be used to investigate which commentators have material that is also present in a high proportion of the other commentators (regardless of how much unique material they might have)."
   ]
  },
  {
   "cell_type": "code",
   "execution_count": 42,
   "metadata": {},
   "outputs": [
    {
     "data": {
      "text/plain": [
       "{'Anonymus Bazan I': 0.38461538461538464,\n",
       " 'Anonymus Bernardini': 0.3076923076923077,\n",
       " 'Anonymus Giele': 0.46153846153846156,\n",
       " 'Anonymus Mertoniensis 275': 0.46153846153846156,\n",
       " 'Anonymus Oriel 33': 0.38461538461538464,\n",
       " 'Anonymus Steenberghen': 0.15384615384615385,\n",
       " 'Anonymus Vat. Lat. 2170 I': 0.5384615384615384,\n",
       " 'Anonymus Vat. Lat. 2170 II': 0.5384615384615384,\n",
       " 'Anonymus Vennebusch': 0.23076923076923078,\n",
       " 'Henric de la Wyle': 0.3076923076923077,\n",
       " 'John Dinsdale': 0.38461538461538464,\n",
       " 'John of Jandun': 0.6153846153846154,\n",
       " 'Radulphus Brito': 0.6153846153846154}"
      ]
     },
     "execution_count": 42,
     "metadata": {},
     "output_type": "execute_result"
    }
   ],
   "source": [
    "def unidirectional_shared_material(name: str) -> Dict[str, List[float]]:\n",
    "    \"\"\"\n",
    "    Return a dictionary of how big a proportion \n",
    "    of his doctrines the searched commentator \n",
    "    shares with all the others.\n",
    "    \"\"\"\n",
    "    q = (\"MATCH (a1:Author)--(:Text)--(q1:Question)--(d:Doctrine) \"\n",
    "         \"WHERE a1.name = '%s'\"\n",
    "         \"MATCH (d)--(:Question)--(:Text)--(a2:Author) \"\n",
    "         \"WHERE (a1) <> (a2) \"\n",
    "         \"MATCH (q1)--(d1:Doctrine) \" \n",
    "         \"RETURN a2.name, collect(distinct d), \"\n",
    "         \"toFloat(count(distinct d)) / count(distinct d1) as CNT \" % (name))\n",
    "    return {r[0]: r[2] for r in run_query(q).values()}\n",
    "\n",
    "\n",
    "# Test it with an example\n",
    "unidir_single = unidirectional_shared_material('Simon of Faversham')\n",
    "unidir_single"
   ]
  },
  {
   "cell_type": "markdown",
   "metadata": {},
   "source": [
    "### Uni-directional overlap in full matrix\n",
    "\n",
    "This shows how many of the doctrines of one commentator are also to be found in each of the others. This is not a symmetrical relation. \n",
    "\n",
    "This will show much much of the material of the column commnentator (X) is present in the others (Y). This only shows how big a proportion of the material (X) is also found in each of the others (Y). It thus does not show how close the two are to each other but merely how close the X is to Y.\n",
    "\n",
    "Now let's try to build a matrix of those values for all the commentators. By default each column (X) will contain the array of results from the above function. \n"
   ]
  },
  {
   "cell_type": "code",
   "execution_count": 43,
   "metadata": {},
   "outputs": [
    {
     "data": {
      "text/html": [
       "<div>\n",
       "<style scoped>\n",
       "    .dataframe tbody tr th:only-of-type {\n",
       "        vertical-align: middle;\n",
       "    }\n",
       "\n",
       "    .dataframe tbody tr th {\n",
       "        vertical-align: top;\n",
       "    }\n",
       "\n",
       "    .dataframe thead th {\n",
       "        text-align: right;\n",
       "    }\n",
       "</style>\n",
       "<table border=\"1\" class=\"dataframe\">\n",
       "  <thead>\n",
       "    <tr style=\"text-align: right;\">\n",
       "      <th></th>\n",
       "      <th>Anonymus Bazan I</th>\n",
       "      <th>Anonymus Bernardini</th>\n",
       "      <th>Anonymus Giele</th>\n",
       "      <th>Anonymus Mertoniensis 275</th>\n",
       "      <th>Anonymus Oriel 33</th>\n",
       "      <th>Anonymus Steenberghen</th>\n",
       "      <th>Anonymus Vat. Lat. 2170 I</th>\n",
       "      <th>Anonymus Vat. Lat. 2170 II</th>\n",
       "      <th>Anonymus Vennebusch</th>\n",
       "      <th>Henric de la Wyle</th>\n",
       "      <th>John Dinsdale</th>\n",
       "      <th>John of Jandun</th>\n",
       "      <th>Radulphus Brito</th>\n",
       "      <th>Simon of Faversham</th>\n",
       "    </tr>\n",
       "  </thead>\n",
       "  <tbody>\n",
       "    <tr>\n",
       "      <th>Anonymus Bazan I</th>\n",
       "      <td>0.000000</td>\n",
       "      <td>0.230769</td>\n",
       "      <td>0.500000</td>\n",
       "      <td>0.157895</td>\n",
       "      <td>0.214286</td>\n",
       "      <td>0.285714</td>\n",
       "      <td>0.333333</td>\n",
       "      <td>0.571429</td>\n",
       "      <td>0.250</td>\n",
       "      <td>0.176471</td>\n",
       "      <td>0.230769</td>\n",
       "      <td>0.2500</td>\n",
       "      <td>0.500000</td>\n",
       "      <td>0.384615</td>\n",
       "    </tr>\n",
       "    <tr>\n",
       "      <th>Anonymus Bernardini</th>\n",
       "      <td>0.428571</td>\n",
       "      <td>0.000000</td>\n",
       "      <td>0.500000</td>\n",
       "      <td>0.578947</td>\n",
       "      <td>0.500000</td>\n",
       "      <td>0.142857</td>\n",
       "      <td>0.333333</td>\n",
       "      <td>0.285714</td>\n",
       "      <td>0.625</td>\n",
       "      <td>0.235294</td>\n",
       "      <td>0.538462</td>\n",
       "      <td>0.1875</td>\n",
       "      <td>0.333333</td>\n",
       "      <td>0.307692</td>\n",
       "    </tr>\n",
       "    <tr>\n",
       "      <th>Anonymus Giele</th>\n",
       "      <td>0.428571</td>\n",
       "      <td>0.230769</td>\n",
       "      <td>0.000000</td>\n",
       "      <td>0.157895</td>\n",
       "      <td>0.214286</td>\n",
       "      <td>0.142857</td>\n",
       "      <td>0.416667</td>\n",
       "      <td>0.428571</td>\n",
       "      <td>0.375</td>\n",
       "      <td>0.117647</td>\n",
       "      <td>0.230769</td>\n",
       "      <td>0.3750</td>\n",
       "      <td>0.333333</td>\n",
       "      <td>0.461538</td>\n",
       "    </tr>\n",
       "    <tr>\n",
       "      <th>Anonymus Mertoniensis 275</th>\n",
       "      <td>0.428571</td>\n",
       "      <td>0.846154</td>\n",
       "      <td>0.500000</td>\n",
       "      <td>0.000000</td>\n",
       "      <td>0.714286</td>\n",
       "      <td>0.142857</td>\n",
       "      <td>0.416667</td>\n",
       "      <td>0.428571</td>\n",
       "      <td>0.750</td>\n",
       "      <td>0.352941</td>\n",
       "      <td>0.692308</td>\n",
       "      <td>0.2500</td>\n",
       "      <td>0.416667</td>\n",
       "      <td>0.461538</td>\n",
       "    </tr>\n",
       "    <tr>\n",
       "      <th>Anonymus Oriel 33</th>\n",
       "      <td>0.428571</td>\n",
       "      <td>0.538462</td>\n",
       "      <td>0.500000</td>\n",
       "      <td>0.526316</td>\n",
       "      <td>0.000000</td>\n",
       "      <td>0.142857</td>\n",
       "      <td>0.333333</td>\n",
       "      <td>0.428571</td>\n",
       "      <td>0.500</td>\n",
       "      <td>0.529412</td>\n",
       "      <td>1.000000</td>\n",
       "      <td>0.3750</td>\n",
       "      <td>0.416667</td>\n",
       "      <td>0.384615</td>\n",
       "    </tr>\n",
       "    <tr>\n",
       "      <th>Anonymus Steenberghen</th>\n",
       "      <td>0.285714</td>\n",
       "      <td>0.076923</td>\n",
       "      <td>0.166667</td>\n",
       "      <td>0.052632</td>\n",
       "      <td>0.071429</td>\n",
       "      <td>0.000000</td>\n",
       "      <td>0.250000</td>\n",
       "      <td>0.285714</td>\n",
       "      <td>0.125</td>\n",
       "      <td>0.058824</td>\n",
       "      <td>0.076923</td>\n",
       "      <td>0.1250</td>\n",
       "      <td>0.250000</td>\n",
       "      <td>0.153846</td>\n",
       "    </tr>\n",
       "    <tr>\n",
       "      <th>Anonymus Vat. Lat. 2170 I</th>\n",
       "      <td>0.571429</td>\n",
       "      <td>0.307692</td>\n",
       "      <td>0.833333</td>\n",
       "      <td>0.263158</td>\n",
       "      <td>0.285714</td>\n",
       "      <td>0.428571</td>\n",
       "      <td>0.000000</td>\n",
       "      <td>0.571429</td>\n",
       "      <td>0.375</td>\n",
       "      <td>0.235294</td>\n",
       "      <td>0.307692</td>\n",
       "      <td>0.5000</td>\n",
       "      <td>0.500000</td>\n",
       "      <td>0.538462</td>\n",
       "    </tr>\n",
       "    <tr>\n",
       "      <th>Anonymus Vat. Lat. 2170 II</th>\n",
       "      <td>0.571429</td>\n",
       "      <td>0.153846</td>\n",
       "      <td>0.500000</td>\n",
       "      <td>0.157895</td>\n",
       "      <td>0.214286</td>\n",
       "      <td>0.285714</td>\n",
       "      <td>0.333333</td>\n",
       "      <td>0.000000</td>\n",
       "      <td>0.250</td>\n",
       "      <td>0.176471</td>\n",
       "      <td>0.230769</td>\n",
       "      <td>0.3125</td>\n",
       "      <td>0.500000</td>\n",
       "      <td>0.538462</td>\n",
       "    </tr>\n",
       "    <tr>\n",
       "      <th>Anonymus Vennebusch</th>\n",
       "      <td>0.285714</td>\n",
       "      <td>0.384615</td>\n",
       "      <td>0.500000</td>\n",
       "      <td>0.315789</td>\n",
       "      <td>0.285714</td>\n",
       "      <td>0.142857</td>\n",
       "      <td>0.250000</td>\n",
       "      <td>0.285714</td>\n",
       "      <td>0.000</td>\n",
       "      <td>0.117647</td>\n",
       "      <td>0.307692</td>\n",
       "      <td>0.1875</td>\n",
       "      <td>0.333333</td>\n",
       "      <td>0.230769</td>\n",
       "    </tr>\n",
       "    <tr>\n",
       "      <th>Henric de la Wyle</th>\n",
       "      <td>0.428571</td>\n",
       "      <td>0.307692</td>\n",
       "      <td>0.333333</td>\n",
       "      <td>0.315789</td>\n",
       "      <td>0.642857</td>\n",
       "      <td>0.142857</td>\n",
       "      <td>0.333333</td>\n",
       "      <td>0.428571</td>\n",
       "      <td>0.250</td>\n",
       "      <td>0.000000</td>\n",
       "      <td>0.692308</td>\n",
       "      <td>0.3125</td>\n",
       "      <td>0.333333</td>\n",
       "      <td>0.307692</td>\n",
       "    </tr>\n",
       "    <tr>\n",
       "      <th>John Dinsdale</th>\n",
       "      <td>0.428571</td>\n",
       "      <td>0.538462</td>\n",
       "      <td>0.500000</td>\n",
       "      <td>0.473684</td>\n",
       "      <td>0.928571</td>\n",
       "      <td>0.142857</td>\n",
       "      <td>0.333333</td>\n",
       "      <td>0.428571</td>\n",
       "      <td>0.500</td>\n",
       "      <td>0.529412</td>\n",
       "      <td>0.000000</td>\n",
       "      <td>0.3750</td>\n",
       "      <td>0.416667</td>\n",
       "      <td>0.384615</td>\n",
       "    </tr>\n",
       "    <tr>\n",
       "      <th>John of Jandun</th>\n",
       "      <td>0.571429</td>\n",
       "      <td>0.230769</td>\n",
       "      <td>1.000000</td>\n",
       "      <td>0.210526</td>\n",
       "      <td>0.428571</td>\n",
       "      <td>0.285714</td>\n",
       "      <td>0.666667</td>\n",
       "      <td>0.714286</td>\n",
       "      <td>0.375</td>\n",
       "      <td>0.294118</td>\n",
       "      <td>0.461538</td>\n",
       "      <td>0.0000</td>\n",
       "      <td>0.583333</td>\n",
       "      <td>0.615385</td>\n",
       "    </tr>\n",
       "    <tr>\n",
       "      <th>Radulphus Brito</th>\n",
       "      <td>0.857143</td>\n",
       "      <td>0.307692</td>\n",
       "      <td>0.666667</td>\n",
       "      <td>0.263158</td>\n",
       "      <td>0.357143</td>\n",
       "      <td>0.428571</td>\n",
       "      <td>0.500000</td>\n",
       "      <td>0.857143</td>\n",
       "      <td>0.500</td>\n",
       "      <td>0.235294</td>\n",
       "      <td>0.384615</td>\n",
       "      <td>0.4375</td>\n",
       "      <td>0.000000</td>\n",
       "      <td>0.615385</td>\n",
       "    </tr>\n",
       "    <tr>\n",
       "      <th>Simon of Faversham</th>\n",
       "      <td>0.714286</td>\n",
       "      <td>0.307692</td>\n",
       "      <td>1.000000</td>\n",
       "      <td>0.315789</td>\n",
       "      <td>0.357143</td>\n",
       "      <td>0.285714</td>\n",
       "      <td>0.583333</td>\n",
       "      <td>1.000000</td>\n",
       "      <td>0.375</td>\n",
       "      <td>0.235294</td>\n",
       "      <td>0.384615</td>\n",
       "      <td>0.5000</td>\n",
       "      <td>0.666667</td>\n",
       "      <td>0.000000</td>\n",
       "    </tr>\n",
       "  </tbody>\n",
       "</table>\n",
       "</div>"
      ],
      "text/plain": [
       "                            Anonymus Bazan I  Anonymus Bernardini  \\\n",
       "Anonymus Bazan I                    0.000000             0.230769   \n",
       "Anonymus Bernardini                 0.428571             0.000000   \n",
       "Anonymus Giele                      0.428571             0.230769   \n",
       "Anonymus Mertoniensis 275           0.428571             0.846154   \n",
       "Anonymus Oriel 33                   0.428571             0.538462   \n",
       "Anonymus Steenberghen               0.285714             0.076923   \n",
       "Anonymus Vat. Lat. 2170 I           0.571429             0.307692   \n",
       "Anonymus Vat. Lat. 2170 II          0.571429             0.153846   \n",
       "Anonymus Vennebusch                 0.285714             0.384615   \n",
       "Henric de la Wyle                   0.428571             0.307692   \n",
       "John Dinsdale                       0.428571             0.538462   \n",
       "John of Jandun                      0.571429             0.230769   \n",
       "Radulphus Brito                     0.857143             0.307692   \n",
       "Simon of Faversham                  0.714286             0.307692   \n",
       "\n",
       "                            Anonymus Giele  Anonymus Mertoniensis 275  \\\n",
       "Anonymus Bazan I                  0.500000                   0.157895   \n",
       "Anonymus Bernardini               0.500000                   0.578947   \n",
       "Anonymus Giele                    0.000000                   0.157895   \n",
       "Anonymus Mertoniensis 275         0.500000                   0.000000   \n",
       "Anonymus Oriel 33                 0.500000                   0.526316   \n",
       "Anonymus Steenberghen             0.166667                   0.052632   \n",
       "Anonymus Vat. Lat. 2170 I         0.833333                   0.263158   \n",
       "Anonymus Vat. Lat. 2170 II        0.500000                   0.157895   \n",
       "Anonymus Vennebusch               0.500000                   0.315789   \n",
       "Henric de la Wyle                 0.333333                   0.315789   \n",
       "John Dinsdale                     0.500000                   0.473684   \n",
       "John of Jandun                    1.000000                   0.210526   \n",
       "Radulphus Brito                   0.666667                   0.263158   \n",
       "Simon of Faversham                1.000000                   0.315789   \n",
       "\n",
       "                            Anonymus Oriel 33  Anonymus Steenberghen  \\\n",
       "Anonymus Bazan I                     0.214286               0.285714   \n",
       "Anonymus Bernardini                  0.500000               0.142857   \n",
       "Anonymus Giele                       0.214286               0.142857   \n",
       "Anonymus Mertoniensis 275            0.714286               0.142857   \n",
       "Anonymus Oriel 33                    0.000000               0.142857   \n",
       "Anonymus Steenberghen                0.071429               0.000000   \n",
       "Anonymus Vat. Lat. 2170 I            0.285714               0.428571   \n",
       "Anonymus Vat. Lat. 2170 II           0.214286               0.285714   \n",
       "Anonymus Vennebusch                  0.285714               0.142857   \n",
       "Henric de la Wyle                    0.642857               0.142857   \n",
       "John Dinsdale                        0.928571               0.142857   \n",
       "John of Jandun                       0.428571               0.285714   \n",
       "Radulphus Brito                      0.357143               0.428571   \n",
       "Simon of Faversham                   0.357143               0.285714   \n",
       "\n",
       "                            Anonymus Vat. Lat. 2170 I  \\\n",
       "Anonymus Bazan I                             0.333333   \n",
       "Anonymus Bernardini                          0.333333   \n",
       "Anonymus Giele                               0.416667   \n",
       "Anonymus Mertoniensis 275                    0.416667   \n",
       "Anonymus Oriel 33                            0.333333   \n",
       "Anonymus Steenberghen                        0.250000   \n",
       "Anonymus Vat. Lat. 2170 I                    0.000000   \n",
       "Anonymus Vat. Lat. 2170 II                   0.333333   \n",
       "Anonymus Vennebusch                          0.250000   \n",
       "Henric de la Wyle                            0.333333   \n",
       "John Dinsdale                                0.333333   \n",
       "John of Jandun                               0.666667   \n",
       "Radulphus Brito                              0.500000   \n",
       "Simon of Faversham                           0.583333   \n",
       "\n",
       "                            Anonymus Vat. Lat. 2170 II  Anonymus Vennebusch  \\\n",
       "Anonymus Bazan I                              0.571429                0.250   \n",
       "Anonymus Bernardini                           0.285714                0.625   \n",
       "Anonymus Giele                                0.428571                0.375   \n",
       "Anonymus Mertoniensis 275                     0.428571                0.750   \n",
       "Anonymus Oriel 33                             0.428571                0.500   \n",
       "Anonymus Steenberghen                         0.285714                0.125   \n",
       "Anonymus Vat. Lat. 2170 I                     0.571429                0.375   \n",
       "Anonymus Vat. Lat. 2170 II                    0.000000                0.250   \n",
       "Anonymus Vennebusch                           0.285714                0.000   \n",
       "Henric de la Wyle                             0.428571                0.250   \n",
       "John Dinsdale                                 0.428571                0.500   \n",
       "John of Jandun                                0.714286                0.375   \n",
       "Radulphus Brito                               0.857143                0.500   \n",
       "Simon of Faversham                            1.000000                0.375   \n",
       "\n",
       "                            Henric de la Wyle  John Dinsdale  John of Jandun  \\\n",
       "Anonymus Bazan I                     0.176471       0.230769          0.2500   \n",
       "Anonymus Bernardini                  0.235294       0.538462          0.1875   \n",
       "Anonymus Giele                       0.117647       0.230769          0.3750   \n",
       "Anonymus Mertoniensis 275            0.352941       0.692308          0.2500   \n",
       "Anonymus Oriel 33                    0.529412       1.000000          0.3750   \n",
       "Anonymus Steenberghen                0.058824       0.076923          0.1250   \n",
       "Anonymus Vat. Lat. 2170 I            0.235294       0.307692          0.5000   \n",
       "Anonymus Vat. Lat. 2170 II           0.176471       0.230769          0.3125   \n",
       "Anonymus Vennebusch                  0.117647       0.307692          0.1875   \n",
       "Henric de la Wyle                    0.000000       0.692308          0.3125   \n",
       "John Dinsdale                        0.529412       0.000000          0.3750   \n",
       "John of Jandun                       0.294118       0.461538          0.0000   \n",
       "Radulphus Brito                      0.235294       0.384615          0.4375   \n",
       "Simon of Faversham                   0.235294       0.384615          0.5000   \n",
       "\n",
       "                            Radulphus Brito  Simon of Faversham  \n",
       "Anonymus Bazan I                   0.500000            0.384615  \n",
       "Anonymus Bernardini                0.333333            0.307692  \n",
       "Anonymus Giele                     0.333333            0.461538  \n",
       "Anonymus Mertoniensis 275          0.416667            0.461538  \n",
       "Anonymus Oriel 33                  0.416667            0.384615  \n",
       "Anonymus Steenberghen              0.250000            0.153846  \n",
       "Anonymus Vat. Lat. 2170 I          0.500000            0.538462  \n",
       "Anonymus Vat. Lat. 2170 II         0.500000            0.538462  \n",
       "Anonymus Vennebusch                0.333333            0.230769  \n",
       "Henric de la Wyle                  0.333333            0.307692  \n",
       "John Dinsdale                      0.416667            0.384615  \n",
       "John of Jandun                     0.583333            0.615385  \n",
       "Radulphus Brito                    0.000000            0.615385  \n",
       "Simon of Faversham                 0.666667            0.000000  "
      ]
     },
     "execution_count": 43,
     "metadata": {},
     "output_type": "execute_result"
    }
   ],
   "source": [
    "uni_rel = build_matrix(author_names, calculator=unidirectional_shared_material)\n",
    "matrix = pd.DataFrame(uni_rel, index=author_names)\n",
    "matrix"
   ]
  },
  {
   "cell_type": "markdown",
   "metadata": {},
   "source": [
    "#### Single author proportions\n",
    "\n",
    "Now with this matrix we can get any of the columns to see the data on that commentator."
   ]
  },
  {
   "cell_type": "code",
   "execution_count": 45,
   "metadata": {},
   "outputs": [
    {
     "data": {
      "text/plain": [
       "Radulphus Brito               0.857143\n",
       "Simon of Faversham            0.714286\n",
       "John of Jandun                0.571429\n",
       "Anonymus Vat. Lat. 2170 II    0.571429\n",
       "Anonymus Vat. Lat. 2170 I     0.571429\n",
       "John Dinsdale                 0.428571\n",
       "Henric de la Wyle             0.428571\n",
       "Anonymus Oriel 33             0.428571\n",
       "Anonymus Mertoniensis 275     0.428571\n",
       "Anonymus Giele                0.428571\n",
       "Anonymus Bernardini           0.428571\n",
       "Anonymus Vennebusch           0.285714\n",
       "Anonymus Steenberghen         0.285714\n",
       "Anonymus Bazan I              0.000000\n",
       "Name: Anonymus Bazan I, dtype: float64"
      ]
     },
     "execution_count": 45,
     "metadata": {},
     "output_type": "execute_result"
    }
   ],
   "source": [
    "matrix['Anonymus Bazan I'].sort_values(ascending=False)"
   ]
  },
  {
   "cell_type": "markdown",
   "metadata": {},
   "source": [
    "#### Centrality factor\n",
    "We can turn the matrix 90° so that rows become columns and each column then shows the inverse relation for each commentator (X), namely how big a proportion of the doctrines of each other commentator (Y) is contained in X.\n",
    "\n",
    "If we calculate the mean of each of those columns we get a single value for how strong a tendency there is for the doctrines of an author to also be present in other authors. It is not a commonality measure, but a centrality measure."
   ]
  },
  {
   "cell_type": "code",
   "execution_count": 46,
   "metadata": {},
   "outputs": [],
   "source": [
    "centrality = matrix.T.mean().sort_values(ascending=False).round(3)"
   ]
  },
  {
   "cell_type": "code",
   "execution_count": 47,
   "metadata": {},
   "outputs": [
    {
     "data": {
      "text/plain": [
       "Simon of Faversham            0.480\n",
       "John of Jandun                0.460\n",
       "Radulphus Brito               0.458\n",
       "Anonymus Mertoniensis 275     0.457\n",
       "Anonymus Oriel 33             0.436\n",
       "John Dinsdale                 0.427\n",
       "Anonymus Vat. Lat. 2170 I     0.408\n",
       "Anonymus Bernardini           0.357\n",
       "Henric de la Wyle             0.345\n",
       "Anonymus Vat. Lat. 2170 II    0.302\n",
       "Anonymus Bazan I              0.292\n",
       "Anonymus Giele                0.279\n",
       "Anonymus Vennebusch           0.259\n",
       "Anonymus Steenberghen         0.141\n",
       "dtype: float64"
      ]
     },
     "execution_count": 47,
     "metadata": {},
     "output_type": "execute_result"
    }
   ],
   "source": [
    "centrality"
   ]
  },
  {
   "cell_type": "code",
   "execution_count": 48,
   "metadata": {},
   "outputs": [
    {
     "data": {
      "text/plain": [
       "count    14.000000\n",
       "mean      0.364357\n",
       "std       0.099484\n",
       "min       0.141000\n",
       "25%       0.294500\n",
       "50%       0.382500\n",
       "75%       0.451750\n",
       "max       0.480000\n",
       "dtype: float64"
      ]
     },
     "execution_count": 48,
     "metadata": {},
     "output_type": "execute_result"
    }
   ],
   "source": [
    "centrality.describe()"
   ]
  },
  {
   "cell_type": "markdown",
   "metadata": {},
   "source": [
    "Show the top quartile. The four commentators in that upper quantile are the ones with whom the total commentators share the most of their doctrines. "
   ]
  },
  {
   "cell_type": "code",
   "execution_count": 49,
   "metadata": {},
   "outputs": [
    {
     "data": {
      "text/plain": [
       "Simon of Faversham           0.480\n",
       "John of Jandun               0.460\n",
       "Radulphus Brito              0.458\n",
       "Anonymus Mertoniensis 275    0.457\n",
       "dtype: float64"
      ]
     },
     "execution_count": 49,
     "metadata": {},
     "output_type": "execute_result"
    }
   ],
   "source": [
    "centrality[centrality>centrality.quantile(0.75)]"
   ]
  },
  {
   "cell_type": "markdown",
   "metadata": {},
   "source": [
    "They are very close at this end of the spectrum, as the low standard deviation shows:"
   ]
  },
  {
   "cell_type": "code",
   "execution_count": 50,
   "metadata": {},
   "outputs": [
    {
     "data": {
      "text/plain": [
       "0.01090489186863704"
      ]
     },
     "execution_count": 50,
     "metadata": {},
     "output_type": "execute_result"
    }
   ],
   "source": [
    "centrality[centrality>centrality.quantile(0.75)].std()"
   ]
  },
  {
   "cell_type": "markdown",
   "metadata": {},
   "source": [
    "### Who have high out-going overlap?\n",
    "\n",
    "Now we can also take the max value of each of column in the recipiency matrix to reveal whether there are some commentators who have a very high out-going overlap, i.e. whether there are some commentators who have a very high proportion of their material present in that commentator."
   ]
  },
  {
   "cell_type": "code",
   "execution_count": 51,
   "metadata": {},
   "outputs": [
    {
     "data": {
      "text/plain": [
       "Simon of Faversham            1.000000\n",
       "John of Jandun                1.000000\n",
       "Anonymus Oriel 33             1.000000\n",
       "John Dinsdale                 0.928571\n",
       "Radulphus Brito               0.857143\n",
       "Anonymus Mertoniensis 275     0.846154\n",
       "Anonymus Vat. Lat. 2170 I     0.833333\n",
       "Henric de la Wyle             0.692308\n",
       "Anonymus Bernardini           0.625000\n",
       "Anonymus Vat. Lat. 2170 II    0.571429\n",
       "Anonymus Bazan I              0.571429\n",
       "Anonymus Vennebusch           0.500000\n",
       "Anonymus Giele                0.461538\n",
       "Anonymus Steenberghen         0.285714\n",
       "dtype: float64"
      ]
     },
     "execution_count": 51,
     "metadata": {},
     "output_type": "execute_result"
    }
   ],
   "source": [
    "max_values = matrix.T.max().sort_values(ascending=False)\n",
    "max_values"
   ]
  },
  {
   "cell_type": "code",
   "execution_count": 52,
   "metadata": {},
   "outputs": [
    {
     "data": {
      "text/plain": [
       "count    14.000000\n",
       "mean      0.726616\n",
       "std       0.229280\n",
       "min       0.285714\n",
       "25%       0.571429\n",
       "50%       0.762821\n",
       "75%       0.910714\n",
       "max       1.000000\n",
       "dtype: float64"
      ]
     },
     "execution_count": 52,
     "metadata": {},
     "output_type": "execute_result"
    }
   ],
   "source": [
    "max_values.describe()"
   ]
  },
  {
   "cell_type": "markdown",
   "metadata": {},
   "source": [
    "### Top most shared with each of the max outliers"
   ]
  },
  {
   "cell_type": "code",
   "execution_count": 53,
   "metadata": {},
   "outputs": [
    {
     "data": {
      "text/plain": [
       "Anonymus Vat. Lat. 2170 II    1.000000\n",
       "Anonymus Giele                1.000000\n",
       "Anonymus Bazan I              0.714286\n",
       "Radulphus Brito               0.666667\n",
       "Name: Simon of Faversham, dtype: float64"
      ]
     },
     "execution_count": 53,
     "metadata": {},
     "output_type": "execute_result"
    }
   ],
   "source": [
    "matrix.T['Simon of Faversham'].sort_values(ascending=False).head(4)"
   ]
  },
  {
   "cell_type": "code",
   "execution_count": 54,
   "metadata": {},
   "outputs": [
    {
     "data": {
      "text/plain": [
       "Anonymus Vat. Lat. 2170 II    0.857143\n",
       "Anonymus Bazan I              0.857143\n",
       "Anonymus Giele                0.666667\n",
       "Simon of Faversham            0.615385\n",
       "Name: Radulphus Brito, dtype: float64"
      ]
     },
     "execution_count": 54,
     "metadata": {},
     "output_type": "execute_result"
    }
   ],
   "source": [
    "matrix.T['Radulphus Brito'].sort_values(ascending=False).head(4)"
   ]
  },
  {
   "cell_type": "code",
   "execution_count": 23,
   "metadata": {},
   "outputs": [
    {
     "data": {
      "text/plain": [
       "Anonymus Giele                1.000000\n",
       "Anonymus Vat. Lat. 2170 II    0.833333\n",
       "Simon of Faversham            0.666667\n",
       "Anonymus Vat. Lat. 2170 I     0.666667\n",
       "Name: John of Jandun, dtype: float64"
      ]
     },
     "execution_count": 23,
     "metadata": {},
     "output_type": "execute_result"
    }
   ],
   "source": [
    "matrix.T['John of Jandun'].sort_values(ascending=False).head(4)"
   ]
  },
  {
   "cell_type": "markdown",
   "metadata": {},
   "source": [
    "## Observations\n",
    "\n",
    "Faversham the commentator with highest degree of shared material with the others. Along with Brito and Jandun he seems to constitute a group of central and representative commentators (cross-correlating the mean and max listings).\n",
    "\n",
    "There are some commentators who share all or almost all of their doctrines with one or more of these three guys."
   ]
  }
 ],
 "metadata": {
  "kernelspec": {
   "display_name": "Python 3",
   "language": "python",
   "name": "python3"
  },
  "language_info": {
   "codemirror_mode": {
    "name": "ipython",
    "version": 3
   },
   "file_extension": ".py",
   "mimetype": "text/x-python",
   "name": "python",
   "nbconvert_exporter": "python",
   "pygments_lexer": "ipython3",
   "version": "3.6.4"
  }
 },
 "nbformat": 4,
 "nbformat_minor": 2
}
