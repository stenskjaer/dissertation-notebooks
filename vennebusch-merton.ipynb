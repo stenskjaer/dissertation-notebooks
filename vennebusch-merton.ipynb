{
 "cells": [
  {
   "cell_type": "markdown",
   "metadata": {},
   "source": [
    "# Description\n",
    "\n",
    "This notebook extracts doctrines on the science of the soul from the commentaries by Anonymus Vennebusch, Merton 275, and Anonymus Bernardini.\n",
    "\n",
    "The purpose is to demonstrate the distribution of shared material among the three."
   ]
  },
  {
   "cell_type": "markdown",
   "metadata": {},
   "source": [
    "# Procedure"
   ]
  },
  {
   "cell_type": "markdown",
   "metadata": {},
   "source": [
    "## Utility functions and setup"
   ]
  },
  {
   "cell_type": "code",
   "execution_count": 30,
   "metadata": {},
   "outputs": [],
   "source": [
    "import pandas as pd\n",
    "import seaborn as sns\n",
    "import numpy as np\n",
    "import matplotlib.pyplot as plt\n",
    "from os import path\n",
    "\n",
    "%matplotlib inline\n",
    "\n",
    "from neo4j.v1 import GraphDatabase\n",
    "\n",
    "sns.set_context(\"paper\", font_scale=1.8)"
   ]
  },
  {
   "cell_type": "code",
   "execution_count": 31,
   "metadata": {},
   "outputs": [],
   "source": [
    "uri = \"bolt://localhost:7687\"\n",
    "driver = GraphDatabase.driver(uri, auth=(\"neo4j\", \"1234\"))"
   ]
  },
  {
   "cell_type": "code",
   "execution_count": 32,
   "metadata": {},
   "outputs": [],
   "source": [
    "def run_query(string):\n",
    "    with driver.session() as session:\n",
    "        with session.begin_transaction() as tx:\n",
    "            return tx.run(string)"
   ]
  },
  {
   "cell_type": "markdown",
   "metadata": {},
   "source": [
    "## List of authors"
   ]
  },
  {
   "cell_type": "code",
   "execution_count": 33,
   "metadata": {},
   "outputs": [
    {
     "data": {
      "text/html": [
       "<div>\n",
       "<style scoped>\n",
       "    .dataframe tbody tr th:only-of-type {\n",
       "        vertical-align: middle;\n",
       "    }\n",
       "\n",
       "    .dataframe tbody tr th {\n",
       "        vertical-align: top;\n",
       "    }\n",
       "\n",
       "    .dataframe thead th {\n",
       "        text-align: right;\n",
       "    }\n",
       "</style>\n",
       "<table border=\"1\" class=\"dataframe\">\n",
       "  <thead>\n",
       "    <tr style=\"text-align: right;\">\n",
       "      <th></th>\n",
       "      <th>ID</th>\n",
       "    </tr>\n",
       "  </thead>\n",
       "  <tbody>\n",
       "    <tr>\n",
       "      <th>Anonymus Bazan I</th>\n",
       "      <td>192</td>\n",
       "    </tr>\n",
       "    <tr>\n",
       "      <th>Anonymus Bernardini</th>\n",
       "      <td>218</td>\n",
       "    </tr>\n",
       "    <tr>\n",
       "      <th>Anonymus Giele</th>\n",
       "      <td>5</td>\n",
       "    </tr>\n",
       "    <tr>\n",
       "      <th>Anonymus Mertoniensis 275</th>\n",
       "      <td>7</td>\n",
       "    </tr>\n",
       "    <tr>\n",
       "      <th>Anonymus Oriel 33</th>\n",
       "      <td>4</td>\n",
       "    </tr>\n",
       "    <tr>\n",
       "      <th>Anonymus Steenberghen</th>\n",
       "      <td>23</td>\n",
       "    </tr>\n",
       "    <tr>\n",
       "      <th>Anonymus Vat. Lat. 2170 I</th>\n",
       "      <td>6</td>\n",
       "    </tr>\n",
       "    <tr>\n",
       "      <th>Anonymus Vat. Lat. 2170 II</th>\n",
       "      <td>21</td>\n",
       "    </tr>\n",
       "    <tr>\n",
       "      <th>Anonymus Vennebusch</th>\n",
       "      <td>187</td>\n",
       "    </tr>\n",
       "    <tr>\n",
       "      <th>Henric de la Wyle</th>\n",
       "      <td>1</td>\n",
       "    </tr>\n",
       "    <tr>\n",
       "      <th>John Dinsdale</th>\n",
       "      <td>0</td>\n",
       "    </tr>\n",
       "    <tr>\n",
       "      <th>John of Jandun</th>\n",
       "      <td>20</td>\n",
       "    </tr>\n",
       "    <tr>\n",
       "      <th>Radulphus Brito</th>\n",
       "      <td>3</td>\n",
       "    </tr>\n",
       "    <tr>\n",
       "      <th>Simon of Faversham</th>\n",
       "      <td>2</td>\n",
       "    </tr>\n",
       "  </tbody>\n",
       "</table>\n",
       "</div>"
      ],
      "text/plain": [
       "                             ID\n",
       "Anonymus Bazan I            192\n",
       "Anonymus Bernardini         218\n",
       "Anonymus Giele                5\n",
       "Anonymus Mertoniensis 275     7\n",
       "Anonymus Oriel 33             4\n",
       "Anonymus Steenberghen        23\n",
       "Anonymus Vat. Lat. 2170 I     6\n",
       "Anonymus Vat. Lat. 2170 II   21\n",
       "Anonymus Vennebusch         187\n",
       "Henric de la Wyle             1\n",
       "John Dinsdale                 0\n",
       "John of Jandun               20\n",
       "Radulphus Brito               3\n",
       "Simon of Faversham            2"
      ]
     },
     "execution_count": 33,
     "metadata": {},
     "output_type": "execute_result"
    }
   ],
   "source": [
    "author_table = {i[0]: i[1] for i in run_query('MATCH (n:Author) WHERE not(n.name = \"Aristotle\") RETURN n.name, id(n) ORDER BY n.name asc').values()}\n",
    "df = pd.DataFrame(author_table, index=['ID'])\n",
    "df.T"
   ]
  },
  {
   "cell_type": "code",
   "execution_count": 34,
   "metadata": {},
   "outputs": [],
   "source": [
    "author_names = author_table.keys()"
   ]
  },
  {
   "cell_type": "markdown",
   "metadata": {},
   "source": [
    "## List of positive doctrines\n",
    "\n",
    "Doctrines that do not directly attack the main thesis."
   ]
  },
  {
   "cell_type": "code",
   "execution_count": 35,
   "metadata": {},
   "outputs": [
    {
     "data": {
      "text/html": [
       "<div>\n",
       "<style scoped>\n",
       "    .dataframe tbody tr th:only-of-type {\n",
       "        vertical-align: middle;\n",
       "    }\n",
       "\n",
       "    .dataframe tbody tr th {\n",
       "        vertical-align: top;\n",
       "    }\n",
       "\n",
       "    .dataframe thead th {\n",
       "        text-align: right;\n",
       "    }\n",
       "</style>\n",
       "<table border=\"1\" class=\"dataframe\">\n",
       "  <thead>\n",
       "    <tr style=\"text-align: right;\">\n",
       "      <th></th>\n",
       "      <th>Count</th>\n",
       "    </tr>\n",
       "  </thead>\n",
       "  <tbody>\n",
       "    <tr>\n",
       "      <th>There can be a science of the soul</th>\n",
       "      <td>14</td>\n",
       "    </tr>\n",
       "    <tr>\n",
       "      <th>Substantial knowledge from accidents</th>\n",
       "      <td>10</td>\n",
       "    </tr>\n",
       "    <tr>\n",
       "      <th>Science through subject, properties, principles</th>\n",
       "      <td>8</td>\n",
       "    </tr>\n",
       "    <tr>\n",
       "      <th>Soul known through secondary act of understanding</th>\n",
       "      <td>8</td>\n",
       "    </tr>\n",
       "    <tr>\n",
       "      <th>Science through self-reflection</th>\n",
       "      <td>6</td>\n",
       "    </tr>\n",
       "    <tr>\n",
       "      <th>Soul indirectly available to sense perception</th>\n",
       "      <td>6</td>\n",
       "    </tr>\n",
       "    <tr>\n",
       "      <th>Proper and improper science</th>\n",
       "      <td>5</td>\n",
       "    </tr>\n",
       "    <tr>\n",
       "      <th>Form of particular can be studied as a universal</th>\n",
       "      <td>4</td>\n",
       "    </tr>\n",
       "    <tr>\n",
       "      <th>Intellect especially difficult to know</th>\n",
       "      <td>4</td>\n",
       "    </tr>\n",
       "    <tr>\n",
       "      <th>The soul is hard but not impossible to know</th>\n",
       "      <td>4</td>\n",
       "    </tr>\n",
       "    <tr>\n",
       "      <th>Different types of intelligibility</th>\n",
       "      <td>3</td>\n",
       "    </tr>\n",
       "    <tr>\n",
       "      <th>Knowledge may proceed from temporal to atemporal matters</th>\n",
       "      <td>3</td>\n",
       "    </tr>\n",
       "    <tr>\n",
       "      <th>Perfect mover can move itself</th>\n",
       "      <td>3</td>\n",
       "    </tr>\n",
       "    <tr>\n",
       "      <th>Science about a substance which contains parts and properties</th>\n",
       "      <td>2</td>\n",
       "    </tr>\n",
       "    <tr>\n",
       "      <th>Propter quod unumquodque tale et illud magis</th>\n",
       "      <td>2</td>\n",
       "    </tr>\n",
       "    <tr>\n",
       "      <th>Three meanings of science</th>\n",
       "      <td>2</td>\n",
       "    </tr>\n",
       "    <tr>\n",
       "      <th>Objects of knowledge need not be temporal, but analysis is</th>\n",
       "      <td>2</td>\n",
       "    </tr>\n",
       "    <tr>\n",
       "      <th>Soul has parts and properties in virtue of its embodied activities</th>\n",
       "      <td>2</td>\n",
       "    </tr>\n",
       "    <tr>\n",
       "      <th>Identity of knower and known</th>\n",
       "      <td>2</td>\n",
       "    </tr>\n",
       "    <tr>\n",
       "      <th>Soul intelligible as object of dubium</th>\n",
       "      <td>1</td>\n",
       "    </tr>\n",
       "    <tr>\n",
       "      <th>The soul is not known through phantasms</th>\n",
       "      <td>1</td>\n",
       "    </tr>\n",
       "    <tr>\n",
       "      <th>Soul in itself is atemporal, but it is the acutalization of something temporal</th>\n",
       "      <td>1</td>\n",
       "    </tr>\n",
       "    <tr>\n",
       "      <th>There can be science about everything with intelligible essence or definition</th>\n",
       "      <td>1</td>\n",
       "    </tr>\n",
       "    <tr>\n",
       "      <th>Soul is simple in essence but has different powers (partes potentiales)</th>\n",
       "      <td>1</td>\n",
       "    </tr>\n",
       "    <tr>\n",
       "      <th>Certain science about simple subject</th>\n",
       "      <td>1</td>\n",
       "    </tr>\n",
       "    <tr>\n",
       "      <th>Soul does exists as something outside itself (in certain sense)</th>\n",
       "      <td>1</td>\n",
       "    </tr>\n",
       "    <tr>\n",
       "      <th>Science of form and perfection</th>\n",
       "      <td>1</td>\n",
       "    </tr>\n",
       "    <tr>\n",
       "      <th>Science from observations of accidents is also science</th>\n",
       "      <td>1</td>\n",
       "    </tr>\n",
       "    <tr>\n",
       "      <th>Science by answering (four) scientific questions</th>\n",
       "      <td>1</td>\n",
       "    </tr>\n",
       "    <tr>\n",
       "      <th>Not all universals are abstracted from sense perception</th>\n",
       "      <td>1</td>\n",
       "    </tr>\n",
       "    <tr>\n",
       "      <th>No science of the separate soul</th>\n",
       "      <td>1</td>\n",
       "    </tr>\n",
       "    <tr>\n",
       "      <th>Intellective soul incorruptible, so the soul only partially corruptible</th>\n",
       "      <td>1</td>\n",
       "    </tr>\n",
       "    <tr>\n",
       "      <th>Intellect is not like senses but has reflexivity</th>\n",
       "      <td>1</td>\n",
       "    </tr>\n",
       "    <tr>\n",
       "      <th>Four requirements of a science (universal, incorruptible, parts and properties, intellectual immediacy)</th>\n",
       "      <td>1</td>\n",
       "    </tr>\n",
       "    <tr>\n",
       "      <th>Essential self-knowledge of subsisting substance</th>\n",
       "      <td>1</td>\n",
       "    </tr>\n",
       "    <tr>\n",
       "      <th>Different viewpoints on the soul</th>\n",
       "      <td>1</td>\n",
       "    </tr>\n",
       "    <tr>\n",
       "      <th>Science about subject with causes</th>\n",
       "      <td>1</td>\n",
       "    </tr>\n",
       "  </tbody>\n",
       "</table>\n",
       "</div>"
      ],
      "text/plain": [
       "                                                    Count\n",
       "There can be a science of the soul                     14\n",
       "Substantial knowledge from accidents                   10\n",
       "Science through subject, properties, principles         8\n",
       "Soul known through secondary act of understanding       8\n",
       "Science through self-reflection                         6\n",
       "Soul indirectly available to sense perception           6\n",
       "Proper and improper science                             5\n",
       "Form of particular can be studied as a universal        4\n",
       "Intellect especially difficult to know                  4\n",
       "The soul is hard but not impossible to know             4\n",
       "Different types of intelligibility                      3\n",
       "Knowledge may proceed from temporal to atempora...      3\n",
       "Perfect mover can move itself                           3\n",
       "Science about a substance which contains parts ...      2\n",
       "Propter quod unumquodque tale et illud magis            2\n",
       "Three meanings of science                               2\n",
       "Objects of knowledge need not be temporal, but ...      2\n",
       "Soul has parts and properties in virtue of its ...      2\n",
       "Identity of knower and known                            2\n",
       "Soul intelligible as object of dubium                   1\n",
       "The soul is not known through phantasms                 1\n",
       "Soul in itself is atemporal, but it is the acut...      1\n",
       "There can be science about everything with inte...      1\n",
       "Soul is simple in essence but has different pow...      1\n",
       "Certain science about simple subject                    1\n",
       "Soul does exists as something outside itself (i...      1\n",
       "Science of form and perfection                          1\n",
       "Science from observations of accidents is also ...      1\n",
       "Science by answering (four) scientific questions        1\n",
       "Not all universals are abstracted from sense pe...      1\n",
       "No science of the separate soul                         1\n",
       "Intellective soul incorruptible, so the soul on...      1\n",
       "Intellect is not like senses but has reflexivity        1\n",
       "Four requirements of a science (universal, inco...      1\n",
       "Essential self-knowledge of subsisting substance        1\n",
       "Different viewpoints on the soul                        1\n",
       "Science about subject with causes                       1"
      ]
     },
     "execution_count": 35,
     "metadata": {},
     "output_type": "execute_result"
    }
   ],
   "source": [
    "q = (\"match (a:Author)--(t:Text)--(q:Question)\"\n",
    "     \"match (d:Doctrine) where not (d)-[:ATTACKS]->(:Doctrine {name:'There can be a science of the soul'})\"\n",
    "     \"match (q)--(d)\"\n",
    "     \"return distinct d.name, collect(distinct a.name) as authors, count(distinct a)\"\n",
    "     \"order by count(distinct a) desc\")\n",
    "m = {i[0]: i[2] for i in run_query(q).values()}\n",
    "positive_doctrines  = m.keys()\n",
    "df = pd.DataFrame(m, index=['Count'])\n",
    "df.T.sort_values(by='Count', ascending=False)"
   ]
  },
  {
   "cell_type": "markdown",
   "metadata": {},
   "source": [
    "## List of challenges"
   ]
  },
  {
   "cell_type": "code",
   "execution_count": 36,
   "metadata": {},
   "outputs": [
    {
     "data": {
      "text/html": [
       "<div>\n",
       "<style scoped>\n",
       "    .dataframe tbody tr th:only-of-type {\n",
       "        vertical-align: middle;\n",
       "    }\n",
       "\n",
       "    .dataframe tbody tr th {\n",
       "        vertical-align: top;\n",
       "    }\n",
       "\n",
       "    .dataframe thead th {\n",
       "        text-align: right;\n",
       "    }\n",
       "</style>\n",
       "<table border=\"1\" class=\"dataframe\">\n",
       "  <thead>\n",
       "    <tr style=\"text-align: right;\">\n",
       "      <th></th>\n",
       "      <th>Count</th>\n",
       "    </tr>\n",
       "  </thead>\n",
       "  <tbody>\n",
       "    <tr>\n",
       "      <th>No sense perception of the soul, so there cannot be a science about it</th>\n",
       "      <td>12</td>\n",
       "    </tr>\n",
       "    <tr>\n",
       "      <th>Soul not intelligible to us</th>\n",
       "      <td>6</td>\n",
       "    </tr>\n",
       "    <tr>\n",
       "      <th>Science about subject with parts and properties, so no science about the soul</th>\n",
       "      <td>5</td>\n",
       "    </tr>\n",
       "    <tr>\n",
       "      <th>Knowledge is continuous and temporal, so no science of the soul</th>\n",
       "      <td>5</td>\n",
       "    </tr>\n",
       "    <tr>\n",
       "      <th>Things most manifest in nature are opaque, so no science of the soul</th>\n",
       "      <td>4</td>\n",
       "    </tr>\n",
       "    <tr>\n",
       "      <th>No identity of mover and moved, so no science of the soul</th>\n",
       "      <td>4</td>\n",
       "    </tr>\n",
       "    <tr>\n",
       "      <th>No phantasm from the soul, so no science about it</th>\n",
       "      <td>3</td>\n",
       "    </tr>\n",
       "    <tr>\n",
       "      <th>No science about corruptible things, so no science about the soul</th>\n",
       "      <td>3</td>\n",
       "    </tr>\n",
       "    <tr>\n",
       "      <th>Soul is a particular, so there can be no science about it</th>\n",
       "      <td>3</td>\n",
       "    </tr>\n",
       "    <tr>\n",
       "      <th>No identity between knower and known, so no science of the soul</th>\n",
       "      <td>2</td>\n",
       "    </tr>\n",
       "    <tr>\n",
       "      <th>No intellectual self-knowledge, so no science of the soul</th>\n",
       "      <td>1</td>\n",
       "    </tr>\n",
       "    <tr>\n",
       "      <th>No science about the non-existent, so no science about the soul</th>\n",
       "      <td>1</td>\n",
       "    </tr>\n",
       "    <tr>\n",
       "      <th>Intellect denudated of object before knowledge, so no science of the soul</th>\n",
       "      <td>1</td>\n",
       "    </tr>\n",
       "    <tr>\n",
       "      <th>No universal about the soul, as it requires sense perception</th>\n",
       "      <td>1</td>\n",
       "    </tr>\n",
       "    <tr>\n",
       "      <th>Science about universals abstracted from perception</th>\n",
       "      <td>1</td>\n",
       "    </tr>\n",
       "    <tr>\n",
       "      <th>Science proceeds from causes, so no science about the soul</th>\n",
       "      <td>1</td>\n",
       "    </tr>\n",
       "    <tr>\n",
       "      <th>Sciene about something actually intelligible, so no science about the soul</th>\n",
       "      <td>1</td>\n",
       "    </tr>\n",
       "    <tr>\n",
       "      <th>Act and potency problem, so no science of the soul</th>\n",
       "      <td>1</td>\n",
       "    </tr>\n",
       "  </tbody>\n",
       "</table>\n",
       "</div>"
      ],
      "text/plain": [
       "                                                    Count\n",
       "No sense perception of the soul, so there canno...     12\n",
       "Soul not intelligible to us                             6\n",
       "Science about subject with parts and properties...      5\n",
       "Knowledge is continuous and temporal, so no sci...      5\n",
       "Things most manifest in nature are opaque, so n...      4\n",
       "No identity of mover and moved, so no science o...      4\n",
       "No phantasm from the soul, so no science about it       3\n",
       "No science about corruptible things, so no scie...      3\n",
       "Soul is a particular, so there can be no scienc...      3\n",
       "No identity between knower and known, so no sci...      2\n",
       "No intellectual self-knowledge, so no science o...      1\n",
       "No science about the non-existent, so no scienc...      1\n",
       "Intellect denudated of object before knowledge,...      1\n",
       "No universal about the soul, as it requires sen...      1\n",
       "Science about universals abstracted from percep...      1\n",
       "Science proceeds from causes, so no science abo...      1\n",
       "Sciene about something actually intelligible, s...      1\n",
       "Act and potency problem, so no science of the soul      1"
      ]
     },
     "execution_count": 36,
     "metadata": {},
     "output_type": "execute_result"
    }
   ],
   "source": [
    "q = (\"match (a:Author)--(t:Text)--(q:Question)\"\n",
    "     \"match (d:Doctrine) \"\n",
    "     \"where (d)-[:ATTACKS]->(:Doctrine {name:'There can be a science of the soul'})\"\n",
    "     \"match (q)--(d)\"\n",
    "     \"return distinct d.name, collect(distinct a.name) as authors, count(distinct a)\"\n",
    "     \"order by count(distinct a) desc\")\n",
    "m = {i[0]: i[2] for i in run_query(q).values()}\n",
    "attacking_doctrines = m.keys()\n",
    "df = pd.DataFrame(m, index=['Count'])\n",
    "df.T.sort_values(by='Count', ascending=False)"
   ]
  },
  {
   "cell_type": "markdown",
   "metadata": {},
   "source": [
    "## List of refuting doctrines"
   ]
  },
  {
   "cell_type": "code",
   "execution_count": 37,
   "metadata": {},
   "outputs": [
    {
     "data": {
      "text/html": [
       "<div>\n",
       "<style scoped>\n",
       "    .dataframe tbody tr th:only-of-type {\n",
       "        vertical-align: middle;\n",
       "    }\n",
       "\n",
       "    .dataframe tbody tr th {\n",
       "        vertical-align: top;\n",
       "    }\n",
       "\n",
       "    .dataframe thead th {\n",
       "        text-align: right;\n",
       "    }\n",
       "</style>\n",
       "<table border=\"1\" class=\"dataframe\">\n",
       "  <thead>\n",
       "    <tr style=\"text-align: right;\">\n",
       "      <th></th>\n",
       "      <th>Count</th>\n",
       "    </tr>\n",
       "  </thead>\n",
       "  <tbody>\n",
       "    <tr>\n",
       "      <th>Substantial knowledge from accidents</th>\n",
       "      <td>10</td>\n",
       "    </tr>\n",
       "    <tr>\n",
       "      <th>Soul known through secondary act of understanding</th>\n",
       "      <td>8</td>\n",
       "    </tr>\n",
       "    <tr>\n",
       "      <th>Soul indirectly available to sense perception</th>\n",
       "      <td>6</td>\n",
       "    </tr>\n",
       "    <tr>\n",
       "      <th>Form of particular can be studied as a universal</th>\n",
       "      <td>4</td>\n",
       "    </tr>\n",
       "    <tr>\n",
       "      <th>The soul is hard but not impossible to know</th>\n",
       "      <td>4</td>\n",
       "    </tr>\n",
       "    <tr>\n",
       "      <th>Knowledge may proceed from temporal to atemporal matters</th>\n",
       "      <td>3</td>\n",
       "    </tr>\n",
       "    <tr>\n",
       "      <th>Perfect mover can move itself</th>\n",
       "      <td>3</td>\n",
       "    </tr>\n",
       "    <tr>\n",
       "      <th>Soul has parts and properties in virtue of its embodied activities</th>\n",
       "      <td>2</td>\n",
       "    </tr>\n",
       "    <tr>\n",
       "      <th>Objects of knowledge need not be temporal, but analysis is</th>\n",
       "      <td>2</td>\n",
       "    </tr>\n",
       "    <tr>\n",
       "      <th>Soul does exists as something outside itself (in certain sense)</th>\n",
       "      <td>1</td>\n",
       "    </tr>\n",
       "    <tr>\n",
       "      <th>Intellect is not like senses but has reflexivity</th>\n",
       "      <td>1</td>\n",
       "    </tr>\n",
       "    <tr>\n",
       "      <th>Soul in itself is atemporal, but it is the acutalization of something temporal</th>\n",
       "      <td>1</td>\n",
       "    </tr>\n",
       "    <tr>\n",
       "      <th>Science from observations of accidents is also science</th>\n",
       "      <td>1</td>\n",
       "    </tr>\n",
       "    <tr>\n",
       "      <th>Soul intelligible as object of dubium</th>\n",
       "      <td>1</td>\n",
       "    </tr>\n",
       "    <tr>\n",
       "      <th>Soul is simple in essence but has different powers (partes potentiales)</th>\n",
       "      <td>1</td>\n",
       "    </tr>\n",
       "    <tr>\n",
       "      <th>Not all universals are abstracted from sense perception</th>\n",
       "      <td>1</td>\n",
       "    </tr>\n",
       "    <tr>\n",
       "      <th>Intellective soul incorruptible, so the soul only partially corruptible</th>\n",
       "      <td>1</td>\n",
       "    </tr>\n",
       "    <tr>\n",
       "      <th>The soul is not known through phantasms</th>\n",
       "      <td>1</td>\n",
       "    </tr>\n",
       "  </tbody>\n",
       "</table>\n",
       "</div>"
      ],
      "text/plain": [
       "                                                    Count\n",
       "Substantial knowledge from accidents                   10\n",
       "Soul known through secondary act of understanding       8\n",
       "Soul indirectly available to sense perception           6\n",
       "Form of particular can be studied as a universal        4\n",
       "The soul is hard but not impossible to know             4\n",
       "Knowledge may proceed from temporal to atempora...      3\n",
       "Perfect mover can move itself                           3\n",
       "Soul has parts and properties in virtue of its ...      2\n",
       "Objects of knowledge need not be temporal, but ...      2\n",
       "Soul does exists as something outside itself (i...      1\n",
       "Intellect is not like senses but has reflexivity        1\n",
       "Soul in itself is atemporal, but it is the acut...      1\n",
       "Science from observations of accidents is also ...      1\n",
       "Soul intelligible as object of dubium                   1\n",
       "Soul is simple in essence but has different pow...      1\n",
       "Not all universals are abstracted from sense pe...      1\n",
       "Intellective soul incorruptible, so the soul on...      1\n",
       "The soul is not known through phantasms                 1"
      ]
     },
     "execution_count": 37,
     "metadata": {},
     "output_type": "execute_result"
    }
   ],
   "source": [
    "q = (\"match (a:Author)--(t:Text)--(q:Question)\"\n",
    "     \"match (d:Doctrine) \"\n",
    "     \"where (d)-[:ATTACKS]->(:Doctrine)-[:ATTACKS]->(:Doctrine {name:'There can be a science of the soul'})\"\n",
    "     \"match (q)--(d)\"\n",
    "     \"return distinct d.name, collect(distinct a.name) as authors, count(distinct a)\"\n",
    "     \"order by count(distinct a) desc\")\n",
    "m = {i[0]: i[2] for i in run_query(q).values()}\n",
    "refuting_doctrines = m.keys()\n",
    "df = pd.DataFrame(m, index=['Count'])\n",
    "df.T.sort_values(by='Count', ascending=False)"
   ]
  },
  {
   "cell_type": "markdown",
   "metadata": {},
   "source": [
    "## Search doctrines"
   ]
  },
  {
   "cell_type": "code",
   "execution_count": 42,
   "metadata": {},
   "outputs": [
    {
     "data": {
      "text/plain": [
       "{'No science of the separate soul'}"
      ]
     },
     "execution_count": 42,
     "metadata": {},
     "output_type": "execute_result"
    }
   ],
   "source": [
    "def search_doctrines(needle, *haystack):\n",
    "    s = []\n",
    "    for stack in haystack:\n",
    "        s.extend([d for d in stack if needle in d])\n",
    "    return s\n",
    "\n",
    "    \n",
    "search_doctrines('separate', positive_doctrines, refuting_doctrines, attacking_doctrines)"
   ]
  },
  {
   "cell_type": "markdown",
   "metadata": {},
   "source": [
    "# Doctrines in determinations"
   ]
  },
  {
   "cell_type": "markdown",
   "metadata": {},
   "source": [
    "## Some general quantities"
   ]
  },
  {
   "cell_type": "code",
   "execution_count": 204,
   "metadata": {},
   "outputs": [
    {
     "data": {
      "text/plain": [
       "['Soul indirectly available to sense perception',\n",
       " 'Different types of intelligibility',\n",
       " 'Intellect is not like senses but has reflexivity',\n",
       " 'Science from observations of accidents is also science',\n",
       " 'Objects of knowledge need not be temporal, but analysis is',\n",
       " 'The soul is hard but not impossible to know',\n",
       " 'There can be a science of the soul',\n",
       " 'Science through self-reflection',\n",
       " 'Proper and improper science',\n",
       " 'Substantial knowledge from accidents']"
      ]
     },
     "execution_count": 204,
     "metadata": {},
     "output_type": "execute_result"
    }
   ],
   "source": [
    "def commentator_positive_doctrines(name):\n",
    "    q = (\"MATCH (t:Doctrine) WHERE t.name = '{root}'\"\n",
    "         \"MATCH (a:Author)--(:Text)--(q:Question)--(d:Doctrine)\"\n",
    "         \"WHERE a.name = '{name}'\"\n",
    "         \"AND NOT (d)-[:ATTACKS]->(t)\"\n",
    "         \"RETURN d.name\".format(name=name, root='There can be a science of the soul'))\n",
    "    try:\n",
    "        return [d[0] for d in run_query(q).values()]\n",
    "    except TypeError:\n",
    "        return 0\n",
    "\n",
    "# Example\n",
    "commentator_positive_doctrines('Anonymus Mertoniensis 275')"
   ]
  },
  {
   "cell_type": "code",
   "execution_count": 186,
   "metadata": {},
   "outputs": [
    {
     "data": {
      "text/plain": [
       "['No universal about the soul, as it requires sense perception',\n",
       " 'No sense perception of the soul, so there cannot be a science about it']"
      ]
     },
     "execution_count": 186,
     "metadata": {},
     "output_type": "execute_result"
    }
   ],
   "source": [
    "def commentator_attacking_doctrines(name):\n",
    "    q = (\"MATCH (t:Doctrine) WHERE t.name = '{root}'\"\n",
    "         \"MATCH (a:Author)--(:Text)--(q:Question)--(d:Doctrine)\"\n",
    "         \"WHERE a.name = '{name}'\"\n",
    "         \"AND (d)-[:ATTACKS]->(t)\"\n",
    "         \"RETURN d.name\".format(name=name, root='There can be a science of the soul'))\n",
    "    try:\n",
    "        return [d[0] for d in run_query(q).values()]\n",
    "    except TypeError:\n",
    "        return 0\n",
    "\n",
    "# Example\n",
    "commentator_attacking_doctrines('Anonymus Vennebusch')"
   ]
  },
  {
   "cell_type": "code",
   "execution_count": 188,
   "metadata": {},
   "outputs": [
    {
     "data": {
      "text/plain": [
       "[('No universal about the soul, as it requires sense perception',\n",
       "  'Soul indirectly available to sense perception'),\n",
       " ('No sense perception of the soul, so there cannot be a science about it',\n",
       "  'Soul indirectly available to sense perception'),\n",
       " ('No sense perception of the soul, so there cannot be a science about it',\n",
       "  'Substantial knowledge from accidents')]"
      ]
     },
     "execution_count": 188,
     "metadata": {},
     "output_type": "execute_result"
    }
   ],
   "source": [
    "def commentator_refuting_doctrines(name):\n",
    "    q = (\"MATCH (t:Doctrine) WHERE t.name = '{root}'\"\n",
    "         \"MATCH (a:Author)--(:Text)--(q:Question)--(d:Doctrine)\"\n",
    "         \"WHERE a.name = '{name}'\"\n",
    "         \"AND (d)-[:ATTACKS]->(t)\"\n",
    "         \"MATCH (at:Doctrine) WHERE (at)-[:ATTACKS]->(d) AND (q)--(at)\"\n",
    "         \"RETURN d.name, at.name\".format(name=name, root='There can be a science of the soul'))\n",
    "    try:\n",
    "        return run_query(q).values()\n",
    "    except TypeError:\n",
    "        return 0\n",
    "\n",
    "# Example\n",
    "commentator_refuting_doctrines('Anonymus Vennebusch')"
   ]
  },
  {
   "cell_type": "code",
   "execution_count": 40,
   "metadata": {},
   "outputs": [
    {
     "data": {
      "text/html": [
       "<div>\n",
       "<style scoped>\n",
       "    .dataframe tbody tr th:only-of-type {\n",
       "        vertical-align: middle;\n",
       "    }\n",
       "\n",
       "    .dataframe tbody tr th {\n",
       "        vertical-align: top;\n",
       "    }\n",
       "\n",
       "    .dataframe thead th {\n",
       "        text-align: right;\n",
       "    }\n",
       "</style>\n",
       "<table border=\"1\" class=\"dataframe\">\n",
       "  <thead>\n",
       "    <tr style=\"text-align: right;\">\n",
       "      <th></th>\n",
       "      <th>Unique</th>\n",
       "      <th>Shared</th>\n",
       "      <th>Sum</th>\n",
       "      <th>Proportion</th>\n",
       "    </tr>\n",
       "  </thead>\n",
       "  <tbody>\n",
       "    <tr>\n",
       "      <th>Anonymus Vat. Lat. 2170 I</th>\n",
       "      <td>1</td>\n",
       "      <td>5</td>\n",
       "      <td>6</td>\n",
       "      <td>0.17</td>\n",
       "    </tr>\n",
       "    <tr>\n",
       "      <th>Henric de la Wyle</th>\n",
       "      <td>1</td>\n",
       "      <td>4</td>\n",
       "      <td>5</td>\n",
       "      <td>0.20</td>\n",
       "    </tr>\n",
       "    <tr>\n",
       "      <th>Radulphus Brito</th>\n",
       "      <td>1</td>\n",
       "      <td>4</td>\n",
       "      <td>5</td>\n",
       "      <td>0.20</td>\n",
       "    </tr>\n",
       "    <tr>\n",
       "      <th>Simon of Faversham</th>\n",
       "      <td>0</td>\n",
       "      <td>5</td>\n",
       "      <td>5</td>\n",
       "      <td>0.00</td>\n",
       "    </tr>\n",
       "    <tr>\n",
       "      <th>John of Jandun</th>\n",
       "      <td>1</td>\n",
       "      <td>3</td>\n",
       "      <td>4</td>\n",
       "      <td>0.25</td>\n",
       "    </tr>\n",
       "    <tr>\n",
       "      <th>Anonymus Mertoniensis 275</th>\n",
       "      <td>0</td>\n",
       "      <td>3</td>\n",
       "      <td>3</td>\n",
       "      <td>0.00</td>\n",
       "    </tr>\n",
       "    <tr>\n",
       "      <th>Anonymus Oriel 33</th>\n",
       "      <td>0</td>\n",
       "      <td>3</td>\n",
       "      <td>3</td>\n",
       "      <td>0.00</td>\n",
       "    </tr>\n",
       "    <tr>\n",
       "      <th>Anonymus Steenberghen</th>\n",
       "      <td>1</td>\n",
       "      <td>2</td>\n",
       "      <td>3</td>\n",
       "      <td>0.33</td>\n",
       "    </tr>\n",
       "    <tr>\n",
       "      <th>Anonymus Vat. Lat. 2170 II</th>\n",
       "      <td>0</td>\n",
       "      <td>3</td>\n",
       "      <td>3</td>\n",
       "      <td>0.00</td>\n",
       "    </tr>\n",
       "    <tr>\n",
       "      <th>John Dinsdale</th>\n",
       "      <td>0</td>\n",
       "      <td>3</td>\n",
       "      <td>3</td>\n",
       "      <td>0.00</td>\n",
       "    </tr>\n",
       "    <tr>\n",
       "      <th>Anonymus Bazan I</th>\n",
       "      <td>0</td>\n",
       "      <td>2</td>\n",
       "      <td>2</td>\n",
       "      <td>0.00</td>\n",
       "    </tr>\n",
       "    <tr>\n",
       "      <th>Anonymus Giele</th>\n",
       "      <td>0</td>\n",
       "      <td>1</td>\n",
       "      <td>1</td>\n",
       "      <td>0.00</td>\n",
       "    </tr>\n",
       "  </tbody>\n",
       "</table>\n",
       "</div>"
      ],
      "text/plain": [
       "                            Unique  Shared  Sum  Proportion\n",
       "Anonymus Vat. Lat. 2170 I        1       5    6        0.17\n",
       "Henric de la Wyle                1       4    5        0.20\n",
       "Radulphus Brito                  1       4    5        0.20\n",
       "Simon of Faversham               0       5    5        0.00\n",
       "John of Jandun                   1       3    4        0.25\n",
       "Anonymus Mertoniensis 275        0       3    3        0.00\n",
       "Anonymus Oriel 33                0       3    3        0.00\n",
       "Anonymus Steenberghen            1       2    3        0.33\n",
       "Anonymus Vat. Lat. 2170 II       0       3    3        0.00\n",
       "John Dinsdale                    0       3    3        0.00\n",
       "Anonymus Bazan I                 0       2    2        0.00\n",
       "Anonymus Giele                   0       1    1        0.00"
      ]
     },
     "execution_count": 40,
     "metadata": {},
     "output_type": "execute_result"
    }
   ],
   "source": [
    "df = pd.DataFrame(m, index=['Unique', 'Shared', 'Sum', 'Proportion'])\n",
    "df = df.T.sort_values(by='Sum', ascending=False)\n",
    "df[['Unique', 'Shared', 'Sum']] = df[['Unique', 'Shared', 'Sum']].apply(np.int64)\n",
    "df"
   ]
  },
  {
   "cell_type": "code",
   "execution_count": 589,
   "metadata": {},
   "outputs": [],
   "source": [
    "# Some saving could be set up here...\n",
    "save_table('../tables/sci-determinations-quantities.tex', df.to_latex(), \n",
    "           caption='Unique, shared, total, and proportion of unique to shared doctrines in determinations.',\n",
    "           label='tab:sci:determ:quantities')"
   ]
  },
  {
   "cell_type": "code",
   "execution_count": 590,
   "metadata": {},
   "outputs": [
    {
     "data": {
      "text/plain": [
       "Unique     3\n",
       "Shared    41\n",
       "Sum       44\n",
       "dtype: int64"
      ]
     },
     "execution_count": 590,
     "metadata": {},
     "output_type": "execute_result"
    }
   ],
   "source": [
    "# The sums?\n",
    "df[['Unique', 'Shared', 'Sum']].sum()"
   ]
  },
  {
   "cell_type": "code",
   "execution_count": 591,
   "metadata": {},
   "outputs": [
    {
     "data": {
      "text/plain": [
       "9"
      ]
     },
     "execution_count": 591,
     "metadata": {},
     "output_type": "execute_result"
    }
   ],
   "source": [
    "# Number of distinct rationes\n",
    "doctrine_count = run_transaction('MATCH (d:Doctrine)'\n",
    "                                 'WHERE NOT (d)-[:ATTACKS]->()'\n",
    "                                 'AND NOT d.name=\"There can be a science of the soul\"'\n",
    "                                 'RETURN count(DISTINCT d)').single()[0]\n",
    "doctrine_count"
   ]
  },
  {
   "cell_type": "code",
   "execution_count": 592,
   "metadata": {},
   "outputs": [
    {
     "data": {
      "text/plain": [
       "0.3333333333333333"
      ]
     },
     "execution_count": 592,
     "metadata": {},
     "output_type": "execute_result"
    }
   ],
   "source": [
    "# Proportion of unique\n",
    "df['Unique'].sum() / doctrine_count"
   ]
  },
  {
   "cell_type": "code",
   "execution_count": 593,
   "metadata": {},
   "outputs": [
    {
     "data": {
      "text/plain": [
       "0.06818181818181818"
      ]
     },
     "execution_count": 593,
     "metadata": {},
     "output_type": "execute_result"
    }
   ],
   "source": [
    "# Proportion of unique instances\n",
    "df['Unique'].sum() / df['Sum'].sum()"
   ]
  },
  {
   "cell_type": "code",
   "execution_count": 594,
   "metadata": {},
   "outputs": [
    {
     "data": {
      "text/plain": [
       "7.3"
      ]
     },
     "execution_count": 594,
     "metadata": {},
     "output_type": "execute_result"
    }
   ],
   "source": [
    "# Average use number of non-uniques\n",
    "round(df['Sum'].sum() / (doctrine_count - df['Unique'].sum()), 1)"
   ]
  },
  {
   "cell_type": "markdown",
   "metadata": {},
   "source": [
    "## Proportional distribution matrix"
   ]
  },
  {
   "cell_type": "code",
   "execution_count": 595,
   "metadata": {},
   "outputs": [
    {
     "data": {
      "text/plain": [
       "{'Anonymus Mertoniensis 275': 2,\n",
       " 'Anonymus Oriel 33': 2,\n",
       " 'Anonymus Vat. Lat. 2170 I': 2,\n",
       " 'Anonymus Vat. Lat. 2170 II': 1,\n",
       " 'Anonymus Vennebusch': 2,\n",
       " 'Henric de la Wyle': 1,\n",
       " 'John Dinsdale': 2,\n",
       " 'John of Jandun': 2,\n",
       " 'Radulphus Brito': 1,\n",
       " 'Simon of Faversham': 2}"
      ]
     },
     "execution_count": 595,
     "metadata": {},
     "output_type": "execute_result"
    }
   ],
   "source": [
    "def number_shared_positive_doctrines(name):\n",
    "    with driver.session() as session:\n",
    "        with session.begin_transaction() as tx:\n",
    "            res = tx.run(\"MATCH (d:Doctrine) WHERE NOT (d)-[:ATTACKS]->()\"\n",
    "                         \"MATCH (a:Author)--(:Text)--(q:Question)--(d)--(:Question)--(:Text)--(a2:Author)\"\n",
    "                         \"WHERE a.name = {name}\"\n",
    "                         \"RETURN a2.name, count(distinct d)\", name=name)\n",
    "            return {r[0]: r[1] for r in res}\n",
    "\n",
    "number_shared_positive_doctrines('Anonymus Giele')"
   ]
  },
  {
   "cell_type": "code",
   "execution_count": 596,
   "metadata": {},
   "outputs": [
    {
     "data": {
      "text/plain": [
       "{'Anonymus Giele': 0.5,\n",
       " 'Anonymus Mertoniensis 275': 0.5625,\n",
       " 'Anonymus Oriel 33': 1.0,\n",
       " 'Anonymus Vat. Lat. 2170 I': 0.44999999999999996,\n",
       " 'Anonymus Vat. Lat. 2170 II': 0.3333333333333333,\n",
       " 'Anonymus Vennebusch': 0.5,\n",
       " 'Henric de la Wyle': 0.25,\n",
       " 'John Dinsdale': 1.0,\n",
       " 'John of Jandun': 0.44999999999999996,\n",
       " 'Radulphus Brito': 0.2,\n",
       " 'Simon of Faversham': 0.6666666666666666}"
      ]
     },
     "execution_count": 596,
     "metadata": {},
     "output_type": "execute_result"
    }
   ],
   "source": [
    "def proportion_shared_determination_doctrines(name):\n",
    "    with driver.session() as session:\n",
    "        with session.begin_transaction() as tx:\n",
    "            res = tx.run(\"MATCH (d:Doctrine) WHERE NOT (d)-[:ATTACKS]->()\"\n",
    "                         \"MATCH (a:Author)--(:Text)--(q1:Question)--(d)\"\n",
    "                         \"WHERE a.name = {name}\"\n",
    "                         \"MATCH (d)--(q2:Question)--(:Text)--(a2:Author)\"\n",
    "                         \"MATCH (q1:Question)--(d1:Doctrine) WHERE NOT (d1)-[:ATTACKS]->()\"                         \n",
    "                         \"MATCH (q2:Question)--(d2:Doctrine) WHERE NOT (d2)-[:ATTACKS]->()\"                         \n",
    "                         \"RETURN a2.name, (toFloat(count(distinct d)) / count(distinct d1)) * (toFloat(count(distinct d)) / count(distinct d2))\", name=name)\n",
    "            return {r[0]: r[1] for r in res}\n",
    "\n",
    "proportion_shared_determination_doctrines('John Dinsdale')"
   ]
  },
  {
   "cell_type": "code",
   "execution_count": 597,
   "metadata": {},
   "outputs": [
    {
     "data": {
      "text/plain": [
       "['Anonymus Giele',\n",
       " 'Anonymus Mertoniensis 275',\n",
       " 'Anonymus Oriel 33',\n",
       " 'Anonymus Vat. Lat. 2170 I',\n",
       " 'Anonymus Vat. Lat. 2170 II',\n",
       " 'Anonymus Vennebusch',\n",
       " 'Henric de la Wyle',\n",
       " 'John Dinsdale',\n",
       " 'John of Jandun',\n",
       " 'Radulphus Brito',\n",
       " 'Simon of Faversham']"
      ]
     },
     "execution_count": 597,
     "metadata": {},
     "output_type": "execute_result"
    }
   ],
   "source": [
    "author_names"
   ]
  },
  {
   "cell_type": "code",
   "execution_count": 653,
   "metadata": {},
   "outputs": [],
   "source": [
    "\n",
    "def build_matrix(authors, docfunc=proportion_shared_determination_doctrines):\n",
    "    matrix = {}\n",
    "    for author in authors:\n",
    "        matrix[author] = []\n",
    "        values = docfunc(author)\n",
    "        for name in authors:\n",
    "            if name in values:\n",
    "                matrix[author].append(values[name])\n",
    "            else:\n",
    "                matrix[author].append(0)\n",
    "    return matrix\n",
    "\n",
    "d = build_matrix(author_names)\n",
    "            "
   ]
  },
  {
   "cell_type": "code",
   "execution_count": null,
   "metadata": {},
   "outputs": [],
   "source": []
  },
  {
   "cell_type": "code",
   "execution_count": 657,
   "metadata": {},
   "outputs": [
    {
     "data": {
      "image/png": "[encoded data removed]",
      "text/plain": [
       "<matplotlib.figure.Figure at 0x118810860>"
      ]
     },
     "metadata": {},
     "output_type": "display_data"
    }
   ],
   "source": [
    "df = pd.DataFrame(d, index=author_names)\n",
    "\n",
    "# Generate a custom diverging colormap\n",
    "cmap = sns.light_palette((210, 90, 60), as_cmap=True, input=\"husl\")\n",
    "\n",
    "# Draw the heatmap with the mask and correct aspect ratio\n",
    "plot = sns.clustermap(df, cmap=cmap, linewidths=.5, row_cluster=True)\n",
    "for _, ax in enumerate(plot.fig.axes):\n",
    "    ax.set_xticklabels(ax.get_xticklabels(), rotation = 45, horizontalalignment='right')\n"
   ]
  },
  {
   "cell_type": "code",
   "execution_count": 655,
   "metadata": {},
   "outputs": [
    {
     "name": "stdout",
     "output_type": "stream",
     "text": [
      "\\begin{figure}\n",
      "\\centering\n",
      "\\includegraphics[width=\\linewidth]{data/figures/science-determ-proportional-clustermap.pdf}\n",
      "\\caption{Proportional clustermap of determination doctrines.}\n",
      "\\label{fig:sci:determ:prop-clustermap}\n",
      "\\end{figure}\n"
     ]
    }
   ],
   "source": [
    "plot.savefig('../figures/science-determ-proportional-clustermap.pdf')\n",
    "print_figure_inclusion(\n",
    "    '../figures/science-determ-proportional-clustermap', plot,\n",
    "    caption='Proportional clustermap of determination doctrines.',\n",
    "    label='fig:sci:determ:prop-clustermap')"
   ]
  },
  {
   "cell_type": "code",
   "execution_count": 602,
   "metadata": {},
   "outputs": [
    {
     "data": {
      "text/plain": [
       "Simon of Faversham            0.5\n",
       "John Dinsdale                 0.5\n",
       "Anonymus Oriel 33             0.5\n",
       "Anonymus Vat. Lat. 2170 I     0.5\n",
       "Anonymus Vennebusch           0.5\n",
       "Anonymus Giele                0.5\n",
       "John of Jandun                0.5\n",
       "Anonymus Mertoniensis 275     0.4\n",
       "Anonymus Vat. Lat. 2170 II    0.4\n",
       "Radulphus Brito               0.4\n",
       "Henric de la Wyle             0.3\n",
       "dtype: float64"
      ]
     },
     "execution_count": 602,
     "metadata": {},
     "output_type": "execute_result"
    }
   ],
   "source": [
    "# Mean commonality values \n",
    "df.mean().sort_values(ascending=False).round(1)"
   ]
  },
  {
   "cell_type": "code",
   "execution_count": 603,
   "metadata": {},
   "outputs": [
    {
     "data": {
      "text/plain": [
       "Anonymus Giele                0.50\n",
       "Anonymus Mertoniensis 275     0.56\n",
       "Anonymus Oriel 33             1.00\n",
       "Anonymus Vat. Lat. 2170 I     0.45\n",
       "Anonymus Vat. Lat. 2170 II    0.33\n",
       "Anonymus Vennebusch           0.50\n",
       "Henric de la Wyle             0.25\n",
       "John Dinsdale                 1.00\n",
       "John of Jandun                0.45\n",
       "Radulphus Brito               0.20\n",
       "Simon of Faversham            0.67\n",
       "Name: John Dinsdale, dtype: float64"
      ]
     },
     "execution_count": 603,
     "metadata": {},
     "output_type": "execute_result"
    }
   ],
   "source": [
    "# Dinsdale example\n",
    "dins = df['John Dinsdale'].round(decimals=2)\n",
    "save_table('../tables/dinsdale-fingerprint.tex', dins.to_latex(), \n",
    "           caption='Example of proportional shared profile for determination doctrines of John Dinsdale.',\n",
    "           label='tab:sci:determ:profile-dinsdale')\n",
    "dins"
   ]
  },
  {
   "cell_type": "markdown",
   "metadata": {},
   "source": [
    "# Create doctrinal matrix\n",
    "Here we want to create a matrix table where it can be seen in more detail which doctrines each commentator uses. It is probably a good idea to distinguish between determination doctrines and rationes doctrines."
   ]
  },
  {
   "cell_type": "markdown",
   "metadata": {},
   "source": [
    "First we pull out a list of the names of the doctrines in determinations of each commentator."
   ]
  },
  {
   "cell_type": "code",
   "execution_count": 632,
   "metadata": {},
   "outputs": [
    {
     "data": {
      "text/plain": [
       "['There can be a science of the soul', 'Substantial knowledge from accidents']"
      ]
     },
     "execution_count": 632,
     "metadata": {},
     "output_type": "execute_result"
    }
   ],
   "source": [
    "def determination_doctrines_of(name):\n",
    "    q = (\"MATCH (a:Author)--(t:Text)--(q:Question)--(d:Doctrine)\"\n",
    "         \"WHERE a.name = '{name}'\"\n",
    "         \"AND NOT (d)-[:ATTACKS]->()\"\n",
    "         \"RETURN d.name\".format(name=name))\n",
    "    return [t[0] for t in run_transaction(q).values()]\n",
    "\n",
    "# Example test\n",
    "determination_doctrines_of(\"Anonymus Giele\")"
   ]
  },
  {
   "cell_type": "markdown",
   "metadata": {},
   "source": [
    "Then we create a full list of all the doctrines in determinations."
   ]
  },
  {
   "cell_type": "code",
   "execution_count": 633,
   "metadata": {},
   "outputs": [
    {
     "data": {
      "text/plain": [
       "['Intellect especially difficult to know',\n",
       " 'No science of the separate soul',\n",
       " 'Proper and improper science',\n",
       " 'Science by answering (four) scientific questions',\n",
       " 'Science of form and perfection',\n",
       " 'Science through self-reflection',\n",
       " 'Science through subject, properties, principles',\n",
       " 'Substantial knowledge from accidents',\n",
       " 'Three meanings of science']"
      ]
     },
     "execution_count": 633,
     "metadata": {},
     "output_type": "execute_result"
    }
   ],
   "source": [
    "def all_determination_doctrines():\n",
    "    q = (\"MATCH (d:Doctrine) WHERE NOT (d)-[:ATTACKS]->()\"\n",
    "         \"AND NOT d.name = 'There can be a science of the soul'\"\n",
    "         \"RETURN d.name ORDER BY d.name asc\")\n",
    "    return [t[0] for t in run_transaction(q).values()]\n",
    "\n",
    "all_docs = all_determination_doctrines()\n",
    "\n",
    "# Test output\n",
    "all_docs"
   ]
  },
  {
   "cell_type": "markdown",
   "metadata": {},
   "source": [
    "Now for each author we register how many of the doctrines he ticks off and reads that into a matrix."
   ]
  },
  {
   "cell_type": "code",
   "execution_count": 634,
   "metadata": {},
   "outputs": [],
   "source": [
    "matrix = {}\n",
    "for author in author_names:\n",
    "    matrix[author] = []\n",
    "    adocs = determination_doctrines_of(author)\n",
    "    for doc in all_docs:\n",
    "        if doc in adocs:\n",
    "            matrix[author].append(1)\n",
    "        else:\n",
    "            matrix[author].append(0)\n",
    "\n",
    "\n",
    "df = pd.DataFrame(matrix, index=all_docs)"
   ]
  },
  {
   "cell_type": "markdown",
   "metadata": {},
   "source": [
    "Okay, I want to sort the matrix by how many doctrines the texts contain. This means that we sort the columns based on the sum of the values. Oddly enough I can't figure out how to do that within the `DataFrame`, so instead I create a dict, from that a list of the authors sorted by their sum doctrines. That list is used for keys in building a new matrix with the desired order. But then the rows and columns are switched, so I need to transmute those with the `zip` function. *This just doesn't feel right*."
   ]
  },
  {
   "cell_type": "code",
   "execution_count": 635,
   "metadata": {},
   "outputs": [
    {
     "data": {
      "text/html": [
       "<div>\n",
       "<style scoped>\n",
       "    .dataframe tbody tr th:only-of-type {\n",
       "        vertical-align: middle;\n",
       "    }\n",
       "\n",
       "    .dataframe tbody tr th {\n",
       "        vertical-align: top;\n",
       "    }\n",
       "\n",
       "    .dataframe thead th {\n",
       "        text-align: right;\n",
       "    }\n",
       "</style>\n",
       "<table border=\"1\" class=\"dataframe\">\n",
       "  <thead>\n",
       "    <tr style=\"text-align: right;\">\n",
       "      <th></th>\n",
       "      <th>Radulphus Brito</th>\n",
       "      <th>Simon of Faversham</th>\n",
       "      <th>John of Jandun</th>\n",
       "      <th>Anonymus Vat. Lat. 2170 II</th>\n",
       "      <th>Anonymus Mertoniensis 275</th>\n",
       "      <th>Anonymus Oriel 33</th>\n",
       "      <th>John Dinsdale</th>\n",
       "      <th>Henric de la Wyle</th>\n",
       "      <th>Anonymus Vat. Lat. 2170 I</th>\n",
       "      <th>Anonymus Giele</th>\n",
       "      <th>Anonymus Vennebusch</th>\n",
       "    </tr>\n",
       "  </thead>\n",
       "  <tbody>\n",
       "    <tr>\n",
       "      <th>Intellect especially difficult to know</th>\n",
       "      <td>x</td>\n",
       "      <td>x</td>\n",
       "      <td>x</td>\n",
       "      <td>x</td>\n",
       "      <td></td>\n",
       "      <td></td>\n",
       "      <td></td>\n",
       "      <td></td>\n",
       "      <td></td>\n",
       "      <td></td>\n",
       "      <td></td>\n",
       "    </tr>\n",
       "    <tr>\n",
       "      <th>No science of the separate soul</th>\n",
       "      <td>x</td>\n",
       "      <td></td>\n",
       "      <td></td>\n",
       "      <td></td>\n",
       "      <td></td>\n",
       "      <td></td>\n",
       "      <td></td>\n",
       "      <td></td>\n",
       "      <td></td>\n",
       "      <td></td>\n",
       "      <td></td>\n",
       "    </tr>\n",
       "    <tr>\n",
       "      <th>Proper and improper science</th>\n",
       "      <td></td>\n",
       "      <td>x</td>\n",
       "      <td></td>\n",
       "      <td></td>\n",
       "      <td>x</td>\n",
       "      <td>x</td>\n",
       "      <td>x</td>\n",
       "      <td></td>\n",
       "      <td></td>\n",
       "      <td></td>\n",
       "      <td></td>\n",
       "    </tr>\n",
       "    <tr>\n",
       "      <th>Science by answering (four) scientific questions</th>\n",
       "      <td></td>\n",
       "      <td></td>\n",
       "      <td>x</td>\n",
       "      <td></td>\n",
       "      <td></td>\n",
       "      <td></td>\n",
       "      <td></td>\n",
       "      <td></td>\n",
       "      <td></td>\n",
       "      <td></td>\n",
       "      <td></td>\n",
       "    </tr>\n",
       "    <tr>\n",
       "      <th>Science of form and perfection</th>\n",
       "      <td></td>\n",
       "      <td></td>\n",
       "      <td></td>\n",
       "      <td></td>\n",
       "      <td></td>\n",
       "      <td></td>\n",
       "      <td></td>\n",
       "      <td>x</td>\n",
       "      <td></td>\n",
       "      <td></td>\n",
       "      <td></td>\n",
       "    </tr>\n",
       "    <tr>\n",
       "      <th>Science through self-reflection</th>\n",
       "      <td>x</td>\n",
       "      <td>x</td>\n",
       "      <td></td>\n",
       "      <td></td>\n",
       "      <td>x</td>\n",
       "      <td></td>\n",
       "      <td></td>\n",
       "      <td></td>\n",
       "      <td>x</td>\n",
       "      <td></td>\n",
       "      <td></td>\n",
       "    </tr>\n",
       "    <tr>\n",
       "      <th>Science through subject, properties, principles</th>\n",
       "      <td>x</td>\n",
       "      <td>x</td>\n",
       "      <td>x</td>\n",
       "      <td>x</td>\n",
       "      <td></td>\n",
       "      <td>x</td>\n",
       "      <td>x</td>\n",
       "      <td>x</td>\n",
       "      <td>x</td>\n",
       "      <td></td>\n",
       "      <td></td>\n",
       "    </tr>\n",
       "    <tr>\n",
       "      <th>Substantial knowledge from accidents</th>\n",
       "      <td></td>\n",
       "      <td>x</td>\n",
       "      <td>x</td>\n",
       "      <td></td>\n",
       "      <td>x</td>\n",
       "      <td>x</td>\n",
       "      <td>x</td>\n",
       "      <td></td>\n",
       "      <td>x</td>\n",
       "      <td>x</td>\n",
       "      <td>x</td>\n",
       "    </tr>\n",
       "    <tr>\n",
       "      <th>Three meanings of science</th>\n",
       "      <td></td>\n",
       "      <td></td>\n",
       "      <td></td>\n",
       "      <td></td>\n",
       "      <td></td>\n",
       "      <td></td>\n",
       "      <td></td>\n",
       "      <td>x</td>\n",
       "      <td>x</td>\n",
       "      <td></td>\n",
       "      <td></td>\n",
       "    </tr>\n",
       "  </tbody>\n",
       "</table>\n",
       "</div>"
      ],
      "text/plain": [
       "                                                 Radulphus Brito  \\\n",
       "Intellect especially difficult to know                         x   \n",
       "No science of the separate soul                                x   \n",
       "Proper and improper science                                        \n",
       "Science by answering (four) scientific questions                   \n",
       "Science of form and perfection                                     \n",
       "Science through self-reflection                                x   \n",
       "Science through subject, properties, principles                x   \n",
       "Substantial knowledge from accidents                               \n",
       "Three meanings of science                                          \n",
       "\n",
       "                                                 Simon of Faversham  \\\n",
       "Intellect especially difficult to know                            x   \n",
       "No science of the separate soul                                       \n",
       "Proper and improper science                                       x   \n",
       "Science by answering (four) scientific questions                      \n",
       "Science of form and perfection                                        \n",
       "Science through self-reflection                                   x   \n",
       "Science through subject, properties, principles                   x   \n",
       "Substantial knowledge from accidents                              x   \n",
       "Three meanings of science                                             \n",
       "\n",
       "                                                 John of Jandun  \\\n",
       "Intellect especially difficult to know                        x   \n",
       "No science of the separate soul                                   \n",
       "Proper and improper science                                       \n",
       "Science by answering (four) scientific questions              x   \n",
       "Science of form and perfection                                    \n",
       "Science through self-reflection                                   \n",
       "Science through subject, properties, principles               x   \n",
       "Substantial knowledge from accidents                          x   \n",
       "Three meanings of science                                         \n",
       "\n",
       "                                                 Anonymus Vat. Lat. 2170 II  \\\n",
       "Intellect especially difficult to know                                    x   \n",
       "No science of the separate soul                                               \n",
       "Proper and improper science                                                   \n",
       "Science by answering (four) scientific questions                              \n",
       "Science of form and perfection                                                \n",
       "Science through self-reflection                                               \n",
       "Science through subject, properties, principles                           x   \n",
       "Substantial knowledge from accidents                                          \n",
       "Three meanings of science                                                     \n",
       "\n",
       "                                                 Anonymus Mertoniensis 275  \\\n",
       "Intellect especially difficult to know                                       \n",
       "No science of the separate soul                                              \n",
       "Proper and improper science                                              x   \n",
       "Science by answering (four) scientific questions                             \n",
       "Science of form and perfection                                               \n",
       "Science through self-reflection                                          x   \n",
       "Science through subject, properties, principles                              \n",
       "Substantial knowledge from accidents                                     x   \n",
       "Three meanings of science                                                    \n",
       "\n",
       "                                                 Anonymus Oriel 33  \\\n",
       "Intellect especially difficult to know                               \n",
       "No science of the separate soul                                      \n",
       "Proper and improper science                                      x   \n",
       "Science by answering (four) scientific questions                     \n",
       "Science of form and perfection                                       \n",
       "Science through self-reflection                                      \n",
       "Science through subject, properties, principles                  x   \n",
       "Substantial knowledge from accidents                             x   \n",
       "Three meanings of science                                            \n",
       "\n",
       "                                                 John Dinsdale  \\\n",
       "Intellect especially difficult to know                           \n",
       "No science of the separate soul                                  \n",
       "Proper and improper science                                  x   \n",
       "Science by answering (four) scientific questions                 \n",
       "Science of form and perfection                                   \n",
       "Science through self-reflection                                  \n",
       "Science through subject, properties, principles              x   \n",
       "Substantial knowledge from accidents                         x   \n",
       "Three meanings of science                                        \n",
       "\n",
       "                                                 Henric de la Wyle  \\\n",
       "Intellect especially difficult to know                               \n",
       "No science of the separate soul                                      \n",
       "Proper and improper science                                          \n",
       "Science by answering (four) scientific questions                     \n",
       "Science of form and perfection                                   x   \n",
       "Science through self-reflection                                      \n",
       "Science through subject, properties, principles                  x   \n",
       "Substantial knowledge from accidents                                 \n",
       "Three meanings of science                                        x   \n",
       "\n",
       "                                                 Anonymus Vat. Lat. 2170 I  \\\n",
       "Intellect especially difficult to know                                       \n",
       "No science of the separate soul                                              \n",
       "Proper and improper science                                                  \n",
       "Science by answering (four) scientific questions                             \n",
       "Science of form and perfection                                               \n",
       "Science through self-reflection                                          x   \n",
       "Science through subject, properties, principles                          x   \n",
       "Substantial knowledge from accidents                                     x   \n",
       "Three meanings of science                                                x   \n",
       "\n",
       "                                                 Anonymus Giele  \\\n",
       "Intellect especially difficult to know                            \n",
       "No science of the separate soul                                   \n",
       "Proper and improper science                                       \n",
       "Science by answering (four) scientific questions                  \n",
       "Science of form and perfection                                    \n",
       "Science through self-reflection                                   \n",
       "Science through subject, properties, principles                   \n",
       "Substantial knowledge from accidents                          x   \n",
       "Three meanings of science                                         \n",
       "\n",
       "                                                 Anonymus Vennebusch  \n",
       "Intellect especially difficult to know                                \n",
       "No science of the separate soul                                       \n",
       "Proper and improper science                                           \n",
       "Science by answering (four) scientific questions                      \n",
       "Science of form and perfection                                        \n",
       "Science through self-reflection                                       \n",
       "Science through subject, properties, principles                       \n",
       "Substantial knowledge from accidents                               x  \n",
       "Three meanings of science                                             "
      ]
     },
     "execution_count": 635,
     "metadata": {},
     "output_type": "execute_result"
    }
   ],
   "source": [
    "def create_matrix(numeric=True):\n",
    "    matrix = {}\n",
    "    if numeric:\n",
    "        true_val = 1\n",
    "        false_val = 0\n",
    "    else:\n",
    "        true_val = 'x'\n",
    "        false_val = ''\n",
    "        \n",
    "    for author in author_names:\n",
    "        matrix[author] = []\n",
    "        adocs = determination_doctrines_of(author)\n",
    "        for doc in all_docs:\n",
    "            if doc in adocs:\n",
    "                matrix[author].append(true_val)\n",
    "            else:\n",
    "                matrix[author].append(false_val)\n",
    "    sorted_names = sorted(matrix, key=matrix.get, reverse=True)\n",
    "    m = [matrix[key] for key in sorted_names]\n",
    "    m = [list(i) for i in zip(*m)]\n",
    "    return pd.DataFrame(m, columns=sorted_names, index=all_docs)\n",
    "\n",
    "create_matrix(numeric=False)"
   ]
  },
  {
   "cell_type": "markdown",
   "metadata": {},
   "source": [
    "I can sort the sum of the DataFrame like this, but I can't figure out how to sort the columns by that."
   ]
  },
  {
   "cell_type": "code",
   "execution_count": 636,
   "metadata": {
    "scrolled": true
   },
   "outputs": [
    {
     "data": {
      "text/plain": [
       "Simon of Faversham            5\n",
       "Anonymus Vat. Lat. 2170 I     4\n",
       "John of Jandun                4\n",
       "Radulphus Brito               4\n",
       "Henric de la Wyle             3\n",
       "John Dinsdale                 3\n",
       "Anonymus Oriel 33             3\n",
       "Anonymus Mertoniensis 275     3\n",
       "Anonymus Vat. Lat. 2170 II    2\n",
       "Anonymus Vennebusch           1\n",
       "Anonymus Giele                1\n",
       "dtype: int64"
      ]
     },
     "execution_count": 636,
     "metadata": {},
     "output_type": "execute_result"
    }
   ],
   "source": [
    "\n",
    "df = create_matrix(numeric=True)\n",
    "sums = df.sum().sort_values(ascending=False)\n",
    "sums"
   ]
  },
  {
   "cell_type": "code",
   "execution_count": 637,
   "metadata": {},
   "outputs": [],
   "source": [
    "#print(sums.to_latex())"
   ]
  },
  {
   "cell_type": "markdown",
   "metadata": {},
   "source": [
    "What is the mean amount of doctrines?"
   ]
  },
  {
   "cell_type": "code",
   "execution_count": 638,
   "metadata": {},
   "outputs": [
    {
     "data": {
      "text/plain": [
       "3.0"
      ]
     },
     "execution_count": 638,
     "metadata": {},
     "output_type": "execute_result"
    }
   ],
   "source": [
    "df.sum().mean()"
   ]
  },
  {
   "cell_type": "code",
   "execution_count": 639,
   "metadata": {},
   "outputs": [
    {
     "data": {
      "text/plain": [
       "<matplotlib.axes._subplots.AxesSubplot at 0x117eb6be0>"
      ]
     },
     "execution_count": 639,
     "metadata": {},
     "output_type": "execute_result"
    },
    {
     "data": {
      "image/png": "[encoded data removed]",
      "text/plain": [
       "<matplotlib.figure.Figure at 0x1151455f8>"
      ]
     },
     "metadata": {},
     "output_type": "display_data"
    }
   ],
   "source": [
    "sns.distplot(df.sum())"
   ]
  },
  {
   "cell_type": "markdown",
   "metadata": {},
   "source": [
    "### Popularity of arguments"
   ]
  },
  {
   "cell_type": "code",
   "execution_count": 640,
   "metadata": {},
   "outputs": [
    {
     "data": {
      "text/plain": [
       "Substantial knowledge from accidents                8\n",
       "Science through subject, properties, principles     8\n",
       "Science through self-reflection                     4\n",
       "Proper and improper science                         4\n",
       "Intellect especially difficult to know              4\n",
       "Three meanings of science                           2\n",
       "Science of form and perfection                      1\n",
       "Science by answering (four) scientific questions    1\n",
       "No science of the separate soul                     1\n",
       "dtype: int64"
      ]
     },
     "execution_count": 640,
     "metadata": {},
     "output_type": "execute_result"
    }
   ],
   "source": [
    "df.sum(axis=1).sort_values(ascending=False)"
   ]
  },
  {
   "cell_type": "markdown",
   "metadata": {},
   "source": [
    "# Binary matrix cluster analysis\n",
    "So what if we take the binary matrix representing the presence or absence of a doctrine and use that for clustering?\n",
    "I have used this as an inspiration: https://stats.stackexchange.com/questions/222492/any-distance-measures-that-are-more-useful-for-binary-data-clustering.\n",
    "As suggested in the post we use the Hamming metric for distance measuring, as that just counts the number of coordinates that differ. AS it is also mentioned in the scipy documentation it can therefore be used for boolean matrices (https://docs.scipy.org/doc/scipy/reference/generated/scipy.spatial.distance.pdist.html)."
   ]
  },
  {
   "cell_type": "code",
   "execution_count": 650,
   "metadata": {},
   "outputs": [
    {
     "data": {
      "image/png": "[encoded data removed]",
      "text/plain": [
       "<matplotlib.figure.Figure at 0x114477860>"
      ]
     },
     "metadata": {},
     "output_type": "display_data"
    }
   ],
   "source": [
    "df = create_matrix(numeric=True)\n",
    "\n",
    "# Generate a custom diverging colormap\n",
    "cmap = sns.light_palette((210, 90, 60), input=\"husl\")\n",
    "\n",
    "# Draw the heatmap with the mask and correct aspect ratio\n",
    "plot = sns.clustermap(df, cmap=cmap, linewidths=.5, row_cluster=False, metric='hamming')\n",
    "\n",
    "for _, ax in enumerate(plot.fig.axes):\n",
    "    ax.set_xticklabels(ax.get_xticklabels(), rotation = 45, horizontalalignment='right')"
   ]
  },
  {
   "cell_type": "code",
   "execution_count": 651,
   "metadata": {},
   "outputs": [
    {
     "name": "stdout",
     "output_type": "stream",
     "text": [
      "\\begin{figure}\n",
      "\\centering\n",
      "\\includegraphics[width=\\linewidth]{data/figures/science-determinations-binary-clustermap.pdf}\n",
      "\\caption{Binary clustermap of determination doctrines.}\n",
      "\\label{fig:sci:determ:binary-clustermap}\n",
      "\\end{figure}\n"
     ]
    }
   ],
   "source": [
    "plot.savefig('../figures/science-determinations-binary-clustermap.pdf')\n",
    "print_figure_inclusion(\n",
    "    'science-determinations-binary-clustermap', plot,\n",
    "    caption='Binary clustermap of determination doctrines.',\n",
    "    label='fig:sci:determ:binary-clustermap')"
   ]
  },
  {
   "cell_type": "markdown",
   "metadata": {},
   "source": [
    "# Doctrines in rationes\n",
    "How about if we only focus on rationes?"
   ]
  },
  {
   "cell_type": "markdown",
   "metadata": {},
   "source": [
    "## Proportional representation"
   ]
  },
  {
   "cell_type": "markdown",
   "metadata": {},
   "source": [
    "First, let's get some simple quantitative data on the amount of doctrines each author has in each category."
   ]
  },
  {
   "cell_type": "code",
   "execution_count": 615,
   "metadata": {},
   "outputs": [
    {
     "data": {
      "text/plain": [
       "5"
      ]
     },
     "execution_count": 615,
     "metadata": {},
     "output_type": "execute_result"
    }
   ],
   "source": [
    "def number_unique_rationes_doctrines(name):\n",
    "    with driver.session() as session:\n",
    "        with session.begin_transaction() as tx:\n",
    "            res = tx.run(\"MATCH (a:Author)--(:Text)--(q:Question)--(d:Doctrine)\"\n",
    "                         \"WHERE (d)-[:ATTACKS]->() AND a.name = {name}\"\n",
    "                         \"AND NOT (:Question)--(d)--(q:Question)\"\n",
    "                         \"RETURN count(distinct d)\", name=name)\n",
    "            return res.single()['count(distinct d)']\n",
    "            \n",
    "number_unique_rationes_doctrines('John of Jandun')"
   ]
  },
  {
   "cell_type": "code",
   "execution_count": 616,
   "metadata": {},
   "outputs": [
    {
     "data": {
      "text/plain": [
       "7"
      ]
     },
     "execution_count": 616,
     "metadata": {},
     "output_type": "execute_result"
    }
   ],
   "source": [
    "def number_shared_rationes_doctrines(name):\n",
    "    with driver.session() as session:\n",
    "        with session.begin_transaction() as tx:\n",
    "            res = tx.run(\"MATCH (a:Author)--(:Text)--(q:Question)--(d:Doctrine)\"\n",
    "                         \"WHERE (d)-[:ATTACKS]->() AND a.name = {name}\"\n",
    "                         \"MATCH (q1:Question)--(d)--(q:Question)\"\n",
    "                         \"WHERE (q1) <> (q)\"\n",
    "                         \"RETURN count(distinct d)\", name=name)\n",
    "            return res.single()['count(distinct d)']\n",
    "\n",
    "number_shared_rationes_doctrines('John of Jandun')"
   ]
  },
  {
   "cell_type": "markdown",
   "metadata": {},
   "source": [
    "Proportion unique of all doctrines"
   ]
  },
  {
   "cell_type": "code",
   "execution_count": 617,
   "metadata": {},
   "outputs": [
    {
     "data": {
      "text/plain": [
       "0.4166666666666667"
      ]
     },
     "execution_count": 617,
     "metadata": {},
     "output_type": "execute_result"
    }
   ],
   "source": [
    "number_unique_rationes_doctrines('John of Jandun') / sum([number_unique_rationes_doctrines('John of Jandun'), \n",
    "                                                          number_shared_rationes_doctrines('John of Jandun')])"
   ]
  },
  {
   "cell_type": "markdown",
   "metadata": {},
   "source": [
    "Now let's get the values of these for all the commentators and put them into a matrix."
   ]
  },
  {
   "cell_type": "code",
   "execution_count": 618,
   "metadata": {},
   "outputs": [],
   "source": [
    "def unique_shared_proportions_all():\n",
    "    d = {}\n",
    "    for a in author_names:\n",
    "        unique = number_unique_rationes_doctrines(a)\n",
    "        shared = number_shared_rationes_doctrines(a)\n",
    "        if unique is not 0:\n",
    "            prop = number_unique_rationes_doctrines(a) / sum([number_unique_rationes_doctrines('John of Jandun'), \n",
    "                                                              number_shared_rationes_doctrines('John of Jandun')])\n",
    "        else:\n",
    "            prop = 0\n",
    "\n",
    "        d[a] = [unique, shared, unique + shared, round(prop, 2)]\n",
    "\n",
    "    return d\n",
    "m = unique_shared_proportions_all()\n"
   ]
  },
  {
   "cell_type": "markdown",
   "metadata": {},
   "source": [
    "Put this in a DataFrame and sort according to most unique."
   ]
  },
  {
   "cell_type": "code",
   "execution_count": 619,
   "metadata": {},
   "outputs": [
    {
     "data": {
      "text/html": [
       "<div>\n",
       "<style scoped>\n",
       "    .dataframe tbody tr th:only-of-type {\n",
       "        vertical-align: middle;\n",
       "    }\n",
       "\n",
       "    .dataframe tbody tr th {\n",
       "        vertical-align: top;\n",
       "    }\n",
       "\n",
       "    .dataframe thead th {\n",
       "        text-align: right;\n",
       "    }\n",
       "</style>\n",
       "<table border=\"1\" class=\"dataframe\">\n",
       "  <thead>\n",
       "    <tr style=\"text-align: right;\">\n",
       "      <th></th>\n",
       "      <th>Unique</th>\n",
       "      <th>Shared</th>\n",
       "      <th>Sum</th>\n",
       "      <th>Proportion</th>\n",
       "    </tr>\n",
       "  </thead>\n",
       "  <tbody>\n",
       "    <tr>\n",
       "      <th>John of Jandun</th>\n",
       "      <td>5</td>\n",
       "      <td>7</td>\n",
       "      <td>12</td>\n",
       "      <td>0.42</td>\n",
       "    </tr>\n",
       "    <tr>\n",
       "      <th>Anonymus Mertoniensis 275</th>\n",
       "      <td>4</td>\n",
       "      <td>7</td>\n",
       "      <td>11</td>\n",
       "      <td>0.33</td>\n",
       "    </tr>\n",
       "    <tr>\n",
       "      <th>Henric de la Wyle</th>\n",
       "      <td>4</td>\n",
       "      <td>7</td>\n",
       "      <td>11</td>\n",
       "      <td>0.33</td>\n",
       "    </tr>\n",
       "    <tr>\n",
       "      <th>Anonymus Oriel 33</th>\n",
       "      <td>0</td>\n",
       "      <td>9</td>\n",
       "      <td>9</td>\n",
       "      <td>0.00</td>\n",
       "    </tr>\n",
       "    <tr>\n",
       "      <th>John Dinsdale</th>\n",
       "      <td>0</td>\n",
       "      <td>9</td>\n",
       "      <td>9</td>\n",
       "      <td>0.00</td>\n",
       "    </tr>\n",
       "    <tr>\n",
       "      <th>Simon of Faversham</th>\n",
       "      <td>2</td>\n",
       "      <td>5</td>\n",
       "      <td>7</td>\n",
       "      <td>0.17</td>\n",
       "    </tr>\n",
       "    <tr>\n",
       "      <th>Anonymus Vat. Lat. 2170 I</th>\n",
       "      <td>2</td>\n",
       "      <td>4</td>\n",
       "      <td>6</td>\n",
       "      <td>0.17</td>\n",
       "    </tr>\n",
       "    <tr>\n",
       "      <th>Radulphus Brito</th>\n",
       "      <td>2</td>\n",
       "      <td>4</td>\n",
       "      <td>6</td>\n",
       "      <td>0.17</td>\n",
       "    </tr>\n",
       "    <tr>\n",
       "      <th>Anonymus Giele</th>\n",
       "      <td>0</td>\n",
       "      <td>5</td>\n",
       "      <td>5</td>\n",
       "      <td>0.00</td>\n",
       "    </tr>\n",
       "    <tr>\n",
       "      <th>Anonymus Vat. Lat. 2170 II</th>\n",
       "      <td>0</td>\n",
       "      <td>3</td>\n",
       "      <td>3</td>\n",
       "      <td>0.00</td>\n",
       "    </tr>\n",
       "    <tr>\n",
       "      <th>Anonymus Vennebusch</th>\n",
       "      <td>0</td>\n",
       "      <td>0</td>\n",
       "      <td>0</td>\n",
       "      <td>0.00</td>\n",
       "    </tr>\n",
       "  </tbody>\n",
       "</table>\n",
       "</div>"
      ],
      "text/plain": [
       "                            Unique  Shared  Sum  Proportion\n",
       "John of Jandun                   5       7   12        0.42\n",
       "Anonymus Mertoniensis 275        4       7   11        0.33\n",
       "Henric de la Wyle                4       7   11        0.33\n",
       "Anonymus Oriel 33                0       9    9        0.00\n",
       "John Dinsdale                    0       9    9        0.00\n",
       "Simon of Faversham               2       5    7        0.17\n",
       "Anonymus Vat. Lat. 2170 I        2       4    6        0.17\n",
       "Radulphus Brito                  2       4    6        0.17\n",
       "Anonymus Giele                   0       5    5        0.00\n",
       "Anonymus Vat. Lat. 2170 II       0       3    3        0.00\n",
       "Anonymus Vennebusch              0       0    0        0.00"
      ]
     },
     "execution_count": 619,
     "metadata": {},
     "output_type": "execute_result"
    }
   ],
   "source": [
    "df = pd.DataFrame(m, index=['Unique', 'Shared', 'Sum', 'Proportion'])\n",
    "df = df.T.sort_values(by='Sum', ascending=False)\n",
    "df[['Unique', 'Shared', 'Sum']] = df[['Unique', 'Shared', 'Sum']].apply(np.int64)\n",
    "df"
   ]
  },
  {
   "cell_type": "code",
   "execution_count": 620,
   "metadata": {},
   "outputs": [],
   "source": [
    "# Some saving could be set up here...\n",
    "save_table('../tables/sci-rationes-quantities.tex', df.to_latex(), \n",
    "           caption='Unique, shared, total, and proportion of unique to shared doctrines in rationes.',\n",
    "           label='tab:sci:rationes:quantities')"
   ]
  },
  {
   "cell_type": "code",
   "execution_count": 621,
   "metadata": {},
   "outputs": [
    {
     "data": {
      "text/plain": [
       "Unique    19\n",
       "Shared    60\n",
       "Sum       79\n",
       "dtype: int64"
      ]
     },
     "execution_count": 621,
     "metadata": {},
     "output_type": "execute_result"
    }
   ],
   "source": [
    "# The sums?\n",
    "df[['Unique', 'Shared', 'Sum']].sum()"
   ]
  },
  {
   "cell_type": "code",
   "execution_count": 622,
   "metadata": {},
   "outputs": [
    {
     "data": {
      "text/plain": [
       "36"
      ]
     },
     "execution_count": 622,
     "metadata": {},
     "output_type": "execute_result"
    }
   ],
   "source": [
    "# Number of distinct rationes\n",
    "rationes_count = run_transaction('MATCH (d:Doctrine)'\n",
    "                                 'WHERE (d)-[:ATTACKS]->()'\n",
    "                                 'RETURN count(DISTINCT d)').single()[0]\n",
    "rationes_count"
   ]
  },
  {
   "cell_type": "code",
   "execution_count": 623,
   "metadata": {},
   "outputs": [
    {
     "data": {
      "text/plain": [
       "0.5277777777777778"
      ]
     },
     "execution_count": 623,
     "metadata": {},
     "output_type": "execute_result"
    }
   ],
   "source": [
    "# Proportion of unique\n",
    "df['Unique'].sum() / rationes_count"
   ]
  },
  {
   "cell_type": "code",
   "execution_count": 624,
   "metadata": {},
   "outputs": [
    {
     "data": {
      "text/plain": [
       "0.24050632911392406"
      ]
     },
     "execution_count": 624,
     "metadata": {},
     "output_type": "execute_result"
    }
   ],
   "source": [
    "# Proportion of unique instances\n",
    "df['Unique'].sum() / df['Sum'].sum()"
   ]
  },
  {
   "cell_type": "code",
   "execution_count": 625,
   "metadata": {
    "scrolled": true
   },
   "outputs": [
    {
     "data": {
      "text/plain": [
       "4.6"
      ]
     },
     "execution_count": 625,
     "metadata": {},
     "output_type": "execute_result"
    }
   ],
   "source": [
    "# Average use number of non-uniques\n",
    "round(df['Sum'].sum() / (rationes_count - df['Unique'].sum()), 1)"
   ]
  },
  {
   "cell_type": "markdown",
   "metadata": {},
   "source": [
    "But the relative proportions in relation to all the others is more interesting..."
   ]
  },
  {
   "cell_type": "code",
   "execution_count": 626,
   "metadata": {},
   "outputs": [
    {
     "data": {
      "text/plain": [
       "{'Anonymus Giele': 0.15,\n",
       " 'Anonymus Mertoniensis 275': 0.007575757575757576,\n",
       " 'Anonymus Oriel 33': 0.08333333333333333,\n",
       " 'Anonymus Vat. Lat. 2170 I': 0.125,\n",
       " 'Anonymus Vat. Lat. 2170 II': 0.027777777777777776,\n",
       " 'Henric de la Wyle': 0.06818181818181818,\n",
       " 'John Dinsdale': 0.08333333333333333,\n",
       " 'John of Jandun': 1.0,\n",
       " 'Radulphus Brito': 0.05555555555555555,\n",
       " 'Simon of Faversham': 0.10714285714285714}"
      ]
     },
     "execution_count": 626,
     "metadata": {},
     "output_type": "execute_result"
    }
   ],
   "source": [
    "def proportion_shared_rationes_doctrines(name):\n",
    "    with driver.session() as session:\n",
    "        with session.begin_transaction() as tx:\n",
    "            res = tx.run(\"MATCH (a:Author)--(:Text)--(q1:Question)--(d:Doctrine)\"\n",
    "                         \"MATCH (:Doctrine {name:'There can be a science of the soul'})<-[:ATTACKS *1..5]-(d)\"\n",
    "                         \"WHERE a.name = {name}\"\n",
    "                         \"MATCH (d)--(q2:Question)--(:Text)--(a2:Author)\"\n",
    "                         \"MATCH (:Doctrine {name:'There can be a science of the soul'})<-[:ATTACKS *1..5]-(d1:Doctrine)--(q1)\"\n",
    "                         \"MATCH (:Doctrine {name:'There can be a science of the soul'})<-[:ATTACKS *1..5]-(d2:Doctrine)--(q2)\"\n",
    "                         \"RETURN a2.name, (toFloat(count(distinct d)) / count(distinct d1)) * (toFloat(count(distinct d)) / count(distinct d2))\", name=name)\n",
    "            return {r[0]: r[1] for r in res}\n",
    "\n",
    "proportion_shared_rationes_doctrines('John of Jandun')"
   ]
  },
  {
   "cell_type": "code",
   "execution_count": 627,
   "metadata": {},
   "outputs": [],
   "source": [
    "d = build_matrix(author_names, docfunc=proportion_shared_rationes_doctrines)"
   ]
  },
  {
   "cell_type": "code",
   "execution_count": 628,
   "metadata": {},
   "outputs": [
    {
     "data": {
      "image/png": "[encoded data removed]",
      "text/plain": [
       "<matplotlib.figure.Figure at 0x115d069b0>"
      ]
     },
     "metadata": {},
     "output_type": "display_data"
    }
   ],
   "source": [
    "df = pd.DataFrame(d, index=author_names)\n",
    "\n",
    "# Generate a custom diverging colormap\n",
    "cmap = sns.light_palette((210, 90, 60), as_cmap=True, input=\"husl\")\n",
    "\n",
    "# Draw the heatmap with the mask and correct aspect ratio\n",
    "plot = sns.clustermap(df, cmap=cmap, linewidths=.5, row_cluster=True)\n",
    "for _, ax in enumerate(plot.fig.axes):\n",
    "    ax.set_xticklabels(ax.get_xticklabels(), rotation = 45, horizontalalignment='right')"
   ]
  },
  {
   "cell_type": "code",
   "execution_count": 629,
   "metadata": {},
   "outputs": [
    {
     "name": "stdout",
     "output_type": "stream",
     "text": [
      "\\begin{figure}\n",
      "\\centering\n",
      "\\includegraphics[width=\\linewidth]{data/figures/science-rationes-proportional-clustermap.pdf}\n",
      "\\caption{Proportional clustermap of rationes doctrines.}\n",
      "\\label{fig:sci:rationes:prop-clustermap}\n",
      "\\end{figure}\n"
     ]
    }
   ],
   "source": [
    "plot.savefig('../figures/science-rationes-proportional-clustermap.pdf')\n",
    "print_figure_inclusion(\n",
    "    '../figures/science-rationes-proportional-clustermap', plot,\n",
    "    caption='Proportional clustermap of rationes doctrines.',\n",
    "    label='fig:sci:rationes:prop-clustermap')"
   ]
  },
  {
   "cell_type": "markdown",
   "metadata": {},
   "source": [
    "## Binary doctrines"
   ]
  },
  {
   "cell_type": "code",
   "execution_count": 630,
   "metadata": {},
   "outputs": [
    {
     "data": {
      "text/plain": [
       "18"
      ]
     },
     "execution_count": 630,
     "metadata": {},
     "output_type": "execute_result"
    }
   ],
   "source": [
    "# All doctrines except the base statement of the science\n",
    "def all_rationes_doctrines():\n",
    "    q = (\"MATCH (:Doctrine {name:'There can be a science of the soul'})<-[:ATTACKS]-(d)\"\n",
    "         \"RETURN distinct(d.name) ORDER BY d.name asc\")\n",
    "    return [t[0] for t in run_transaction(q).values()]\n",
    "\n",
    "all_docs = all_rationes_doctrines()\n",
    "\n",
    "# Test output\n",
    "len(all_docs)"
   ]
  },
  {
   "cell_type": "code",
   "execution_count": 631,
   "metadata": {},
   "outputs": [
    {
     "data": {
      "text/plain": [
       "['No science about corruptible things, so no science about the soul',\n",
       " 'Intellect denudated of object before knowledge, so no science of the soul',\n",
       " 'No identity of mover and moved, so no science of the soul',\n",
       " 'No sense perception of the soul, so there cannot be a science about it',\n",
       " 'Soul not intelligible to us',\n",
       " 'No science about the non-existent, so no science about the soul',\n",
       " 'Identity between science and thing known, so now science about the soul',\n",
       " 'Soul is a particular, so there can be no science about it']"
      ]
     },
     "execution_count": 631,
     "metadata": {},
     "output_type": "execute_result"
    }
   ],
   "source": [
    "def all_rationes_doctrines_of(name):\n",
    "    q = (\"MATCH (r:Doctrine) WHERE r.name='There can be a science of the soul'\"\n",
    "         \"MATCH (r)<-[:ATTACKS]-(d:Doctrine)\"\n",
    "         \"MATCH (a:Author)--(t:Text)--(q:Question)--(d)\"\n",
    "         \"WHERE a.name = '{name}'\"\n",
    "         \"RETURN distinct(d.name)\".format(name=name))\n",
    "    return [t[0] for t in run_transaction(q).values()]\n",
    "\n",
    "# Example test\n",
    "all_rationes_doctrines_of(\"John of Jandun\")"
   ]
  },
  {
   "cell_type": "code",
   "execution_count": 568,
   "metadata": {},
   "outputs": [
    {
     "data": {
      "text/html": [
       "<div>\n",
       "<style scoped>\n",
       "    .dataframe tbody tr th:only-of-type {\n",
       "        vertical-align: middle;\n",
       "    }\n",
       "\n",
       "    .dataframe tbody tr th {\n",
       "        vertical-align: top;\n",
       "    }\n",
       "\n",
       "    .dataframe thead th {\n",
       "        text-align: right;\n",
       "    }\n",
       "</style>\n",
       "<table border=\"1\" class=\"dataframe\">\n",
       "  <thead>\n",
       "    <tr style=\"text-align: right;\">\n",
       "      <th></th>\n",
       "      <th>Radulphus Brito</th>\n",
       "      <th>Anonymus Vat. Lat. 2170 I</th>\n",
       "      <th>John of Jandun</th>\n",
       "      <th>Henric de la Wyle</th>\n",
       "      <th>Anonymus Oriel 33</th>\n",
       "      <th>John Dinsdale</th>\n",
       "      <th>Anonymus Mertoniensis 275</th>\n",
       "      <th>Simon of Faversham</th>\n",
       "      <th>Anonymus Vat. Lat. 2170 II</th>\n",
       "      <th>Anonymus Giele</th>\n",
       "      <th>Anonymus Vennebusch</th>\n",
       "    </tr>\n",
       "  </thead>\n",
       "  <tbody>\n",
       "    <tr>\n",
       "      <th>Act and potency problem, so no science of the soul</th>\n",
       "      <td>x</td>\n",
       "      <td></td>\n",
       "      <td></td>\n",
       "      <td></td>\n",
       "      <td></td>\n",
       "      <td></td>\n",
       "      <td></td>\n",
       "      <td></td>\n",
       "      <td></td>\n",
       "      <td></td>\n",
       "      <td></td>\n",
       "    </tr>\n",
       "    <tr>\n",
       "      <th>Difference between knower and known, so no science of the soul</th>\n",
       "      <td></td>\n",
       "      <td>x</td>\n",
       "      <td></td>\n",
       "      <td></td>\n",
       "      <td></td>\n",
       "      <td></td>\n",
       "      <td></td>\n",
       "      <td></td>\n",
       "      <td></td>\n",
       "      <td></td>\n",
       "      <td></td>\n",
       "    </tr>\n",
       "    <tr>\n",
       "      <th>Identity between science and thing known, so now science about the soul</th>\n",
       "      <td></td>\n",
       "      <td></td>\n",
       "      <td>x</td>\n",
       "      <td></td>\n",
       "      <td></td>\n",
       "      <td></td>\n",
       "      <td></td>\n",
       "      <td></td>\n",
       "      <td></td>\n",
       "      <td></td>\n",
       "      <td></td>\n",
       "    </tr>\n",
       "    <tr>\n",
       "      <th>Intellect denudated of object before knowledge, so no science of the soul</th>\n",
       "      <td></td>\n",
       "      <td></td>\n",
       "      <td>x</td>\n",
       "      <td></td>\n",
       "      <td></td>\n",
       "      <td></td>\n",
       "      <td></td>\n",
       "      <td></td>\n",
       "      <td></td>\n",
       "      <td></td>\n",
       "      <td></td>\n",
       "    </tr>\n",
       "    <tr>\n",
       "      <th>Knowledge is continuous and temporal, so no science of the soul</th>\n",
       "      <td></td>\n",
       "      <td></td>\n",
       "      <td></td>\n",
       "      <td>x</td>\n",
       "      <td>x</td>\n",
       "      <td>x</td>\n",
       "      <td>x</td>\n",
       "      <td></td>\n",
       "      <td></td>\n",
       "      <td></td>\n",
       "      <td></td>\n",
       "    </tr>\n",
       "    <tr>\n",
       "      <th>No identity of mover and moved, so no science of the soul</th>\n",
       "      <td></td>\n",
       "      <td></td>\n",
       "      <td>x</td>\n",
       "      <td>x</td>\n",
       "      <td>x</td>\n",
       "      <td>x</td>\n",
       "      <td></td>\n",
       "      <td></td>\n",
       "      <td></td>\n",
       "      <td></td>\n",
       "      <td></td>\n",
       "    </tr>\n",
       "    <tr>\n",
       "      <th>No intellectual self-knowledge, so no science of the soul</th>\n",
       "      <td></td>\n",
       "      <td></td>\n",
       "      <td></td>\n",
       "      <td></td>\n",
       "      <td></td>\n",
       "      <td></td>\n",
       "      <td>x</td>\n",
       "      <td></td>\n",
       "      <td></td>\n",
       "      <td></td>\n",
       "      <td></td>\n",
       "    </tr>\n",
       "    <tr>\n",
       "      <th>No phantasm from the soul, so no science about it</th>\n",
       "      <td></td>\n",
       "      <td></td>\n",
       "      <td></td>\n",
       "      <td>x</td>\n",
       "      <td></td>\n",
       "      <td></td>\n",
       "      <td>x</td>\n",
       "      <td></td>\n",
       "      <td></td>\n",
       "      <td></td>\n",
       "      <td></td>\n",
       "    </tr>\n",
       "    <tr>\n",
       "      <th>No science about corruptible things, so no science about the soul</th>\n",
       "      <td></td>\n",
       "      <td>x</td>\n",
       "      <td>x</td>\n",
       "      <td></td>\n",
       "      <td></td>\n",
       "      <td></td>\n",
       "      <td></td>\n",
       "      <td></td>\n",
       "      <td></td>\n",
       "      <td></td>\n",
       "      <td></td>\n",
       "    </tr>\n",
       "    <tr>\n",
       "      <th>No science about the non-existent, so no science about the soul</th>\n",
       "      <td></td>\n",
       "      <td></td>\n",
       "      <td>x</td>\n",
       "      <td></td>\n",
       "      <td></td>\n",
       "      <td></td>\n",
       "      <td></td>\n",
       "      <td></td>\n",
       "      <td></td>\n",
       "      <td></td>\n",
       "      <td></td>\n",
       "    </tr>\n",
       "    <tr>\n",
       "      <th>No sense perception of the soul, so there cannot be a science about it</th>\n",
       "      <td>x</td>\n",
       "      <td>x</td>\n",
       "      <td>x</td>\n",
       "      <td></td>\n",
       "      <td>x</td>\n",
       "      <td>x</td>\n",
       "      <td>x</td>\n",
       "      <td>x</td>\n",
       "      <td>x</td>\n",
       "      <td>x</td>\n",
       "      <td></td>\n",
       "    </tr>\n",
       "    <tr>\n",
       "      <th>Science about subject with parts and properties, so no science about the soul</th>\n",
       "      <td>x</td>\n",
       "      <td></td>\n",
       "      <td></td>\n",
       "      <td></td>\n",
       "      <td></td>\n",
       "      <td></td>\n",
       "      <td></td>\n",
       "      <td>x</td>\n",
       "      <td>x</td>\n",
       "      <td></td>\n",
       "      <td></td>\n",
       "    </tr>\n",
       "    <tr>\n",
       "      <th>Science about universals abstracted from perception</th>\n",
       "      <td></td>\n",
       "      <td></td>\n",
       "      <td></td>\n",
       "      <td>x</td>\n",
       "      <td></td>\n",
       "      <td></td>\n",
       "      <td></td>\n",
       "      <td></td>\n",
       "      <td></td>\n",
       "      <td></td>\n",
       "      <td></td>\n",
       "    </tr>\n",
       "    <tr>\n",
       "      <th>Science proceeds from causes, so no science about the soul</th>\n",
       "      <td></td>\n",
       "      <td></td>\n",
       "      <td></td>\n",
       "      <td></td>\n",
       "      <td></td>\n",
       "      <td></td>\n",
       "      <td>x</td>\n",
       "      <td></td>\n",
       "      <td></td>\n",
       "      <td></td>\n",
       "      <td></td>\n",
       "    </tr>\n",
       "    <tr>\n",
       "      <th>Sciene about something actually intelligible, so no science about the soul</th>\n",
       "      <td></td>\n",
       "      <td></td>\n",
       "      <td></td>\n",
       "      <td></td>\n",
       "      <td></td>\n",
       "      <td></td>\n",
       "      <td></td>\n",
       "      <td>x</td>\n",
       "      <td></td>\n",
       "      <td></td>\n",
       "      <td></td>\n",
       "    </tr>\n",
       "    <tr>\n",
       "      <th>Soul is a particular, so there can be no science about it</th>\n",
       "      <td></td>\n",
       "      <td></td>\n",
       "      <td>x</td>\n",
       "      <td></td>\n",
       "      <td></td>\n",
       "      <td></td>\n",
       "      <td></td>\n",
       "      <td>x</td>\n",
       "      <td></td>\n",
       "      <td>x</td>\n",
       "      <td></td>\n",
       "    </tr>\n",
       "    <tr>\n",
       "      <th>Soul not intelligible to us</th>\n",
       "      <td>x</td>\n",
       "      <td></td>\n",
       "      <td>x</td>\n",
       "      <td>x</td>\n",
       "      <td>x</td>\n",
       "      <td>x</td>\n",
       "      <td></td>\n",
       "      <td></td>\n",
       "      <td></td>\n",
       "      <td></td>\n",
       "      <td></td>\n",
       "    </tr>\n",
       "    <tr>\n",
       "      <th>Things most manifest in nature are opaque, so no science of the soul</th>\n",
       "      <td></td>\n",
       "      <td></td>\n",
       "      <td></td>\n",
       "      <td></td>\n",
       "      <td>x</td>\n",
       "      <td>x</td>\n",
       "      <td>x</td>\n",
       "      <td></td>\n",
       "      <td></td>\n",
       "      <td></td>\n",
       "      <td></td>\n",
       "    </tr>\n",
       "  </tbody>\n",
       "</table>\n",
       "</div>"
      ],
      "text/plain": [
       "                                                   Radulphus Brito  \\\n",
       "Act and potency problem, so no science of the soul               x   \n",
       "Difference between knower and known, so no scie...                   \n",
       "Identity between science and thing known, so no...                   \n",
       "Intellect denudated of object before knowledge,...                   \n",
       "Knowledge is continuous and temporal, so no sci...                   \n",
       "No identity of mover and moved, so no science o...                   \n",
       "No intellectual self-knowledge, so no science o...                   \n",
       "No phantasm from the soul, so no science about it                    \n",
       "No science about corruptible things, so no scie...                   \n",
       "No science about the non-existent, so no scienc...                   \n",
       "No sense perception of the soul, so there canno...               x   \n",
       "Science about subject with parts and properties...               x   \n",
       "Science about universals abstracted from percep...                   \n",
       "Science proceeds from causes, so no science abo...                   \n",
       "Sciene about something actually intelligible, s...                   \n",
       "Soul is a particular, so there can be no scienc...                   \n",
       "Soul not intelligible to us                                      x   \n",
       "Things most manifest in nature are opaque, so n...                   \n",
       "\n",
       "                                                   Anonymus Vat. Lat. 2170 I  \\\n",
       "Act and potency problem, so no science of the soul                             \n",
       "Difference between knower and known, so no scie...                         x   \n",
       "Identity between science and thing known, so no...                             \n",
       "Intellect denudated of object before knowledge,...                             \n",
       "Knowledge is continuous and temporal, so no sci...                             \n",
       "No identity of mover and moved, so no science o...                             \n",
       "No intellectual self-knowledge, so no science o...                             \n",
       "No phantasm from the soul, so no science about it                              \n",
       "No science about corruptible things, so no scie...                         x   \n",
       "No science about the non-existent, so no scienc...                             \n",
       "No sense perception of the soul, so there canno...                         x   \n",
       "Science about subject with parts and properties...                             \n",
       "Science about universals abstracted from percep...                             \n",
       "Science proceeds from causes, so no science abo...                             \n",
       "Sciene about something actually intelligible, s...                             \n",
       "Soul is a particular, so there can be no scienc...                             \n",
       "Soul not intelligible to us                                                    \n",
       "Things most manifest in nature are opaque, so n...                             \n",
       "\n",
       "                                                   John of Jandun  \\\n",
       "Act and potency problem, so no science of the soul                  \n",
       "Difference between knower and known, so no scie...                  \n",
       "Identity between science and thing known, so no...              x   \n",
       "Intellect denudated of object before knowledge,...              x   \n",
       "Knowledge is continuous and temporal, so no sci...                  \n",
       "No identity of mover and moved, so no science o...              x   \n",
       "No intellectual self-knowledge, so no science o...                  \n",
       "No phantasm from the soul, so no science about it                   \n",
       "No science about corruptible things, so no scie...              x   \n",
       "No science about the non-existent, so no scienc...              x   \n",
       "No sense perception of the soul, so there canno...              x   \n",
       "Science about subject with parts and properties...                  \n",
       "Science about universals abstracted from percep...                  \n",
       "Science proceeds from causes, so no science abo...                  \n",
       "Sciene about something actually intelligible, s...                  \n",
       "Soul is a particular, so there can be no scienc...              x   \n",
       "Soul not intelligible to us                                     x   \n",
       "Things most manifest in nature are opaque, so n...                  \n",
       "\n",
       "                                                   Henric de la Wyle  \\\n",
       "Act and potency problem, so no science of the soul                     \n",
       "Difference between knower and known, so no scie...                     \n",
       "Identity between science and thing known, so no...                     \n",
       "Intellect denudated of object before knowledge,...                     \n",
       "Knowledge is continuous and temporal, so no sci...                 x   \n",
       "No identity of mover and moved, so no science o...                 x   \n",
       "No intellectual self-knowledge, so no science o...                     \n",
       "No phantasm from the soul, so no science about it                  x   \n",
       "No science about corruptible things, so no scie...                     \n",
       "No science about the non-existent, so no scienc...                     \n",
       "No sense perception of the soul, so there canno...                     \n",
       "Science about subject with parts and properties...                     \n",
       "Science about universals abstracted from percep...                 x   \n",
       "Science proceeds from causes, so no science abo...                     \n",
       "Sciene about something actually intelligible, s...                     \n",
       "Soul is a particular, so there can be no scienc...                     \n",
       "Soul not intelligible to us                                        x   \n",
       "Things most manifest in nature are opaque, so n...                     \n",
       "\n",
       "                                                   Anonymus Oriel 33  \\\n",
       "Act and potency problem, so no science of the soul                     \n",
       "Difference between knower and known, so no scie...                     \n",
       "Identity between science and thing known, so no...                     \n",
       "Intellect denudated of object before knowledge,...                     \n",
       "Knowledge is continuous and temporal, so no sci...                 x   \n",
       "No identity of mover and moved, so no science o...                 x   \n",
       "No intellectual self-knowledge, so no science o...                     \n",
       "No phantasm from the soul, so no science about it                      \n",
       "No science about corruptible things, so no scie...                     \n",
       "No science about the non-existent, so no scienc...                     \n",
       "No sense perception of the soul, so there canno...                 x   \n",
       "Science about subject with parts and properties...                     \n",
       "Science about universals abstracted from percep...                     \n",
       "Science proceeds from causes, so no science abo...                     \n",
       "Sciene about something actually intelligible, s...                     \n",
       "Soul is a particular, so there can be no scienc...                     \n",
       "Soul not intelligible to us                                        x   \n",
       "Things most manifest in nature are opaque, so n...                 x   \n",
       "\n",
       "                                                   John Dinsdale  \\\n",
       "Act and potency problem, so no science of the soul                 \n",
       "Difference between knower and known, so no scie...                 \n",
       "Identity between science and thing known, so no...                 \n",
       "Intellect denudated of object before knowledge,...                 \n",
       "Knowledge is continuous and temporal, so no sci...             x   \n",
       "No identity of mover and moved, so no science o...             x   \n",
       "No intellectual self-knowledge, so no science o...                 \n",
       "No phantasm from the soul, so no science about it                  \n",
       "No science about corruptible things, so no scie...                 \n",
       "No science about the non-existent, so no scienc...                 \n",
       "No sense perception of the soul, so there canno...             x   \n",
       "Science about subject with parts and properties...                 \n",
       "Science about universals abstracted from percep...                 \n",
       "Science proceeds from causes, so no science abo...                 \n",
       "Sciene about something actually intelligible, s...                 \n",
       "Soul is a particular, so there can be no scienc...                 \n",
       "Soul not intelligible to us                                    x   \n",
       "Things most manifest in nature are opaque, so n...             x   \n",
       "\n",
       "                                                   Anonymus Mertoniensis 275  \\\n",
       "Act and potency problem, so no science of the soul                             \n",
       "Difference between knower and known, so no scie...                             \n",
       "Identity between science and thing known, so no...                             \n",
       "Intellect denudated of object before knowledge,...                             \n",
       "Knowledge is continuous and temporal, so no sci...                         x   \n",
       "No identity of mover and moved, so no science o...                             \n",
       "No intellectual self-knowledge, so no science o...                         x   \n",
       "No phantasm from the soul, so no science about it                          x   \n",
       "No science about corruptible things, so no scie...                             \n",
       "No science about the non-existent, so no scienc...                             \n",
       "No sense perception of the soul, so there canno...                         x   \n",
       "Science about subject with parts and properties...                             \n",
       "Science about universals abstracted from percep...                             \n",
       "Science proceeds from causes, so no science abo...                         x   \n",
       "Sciene about something actually intelligible, s...                             \n",
       "Soul is a particular, so there can be no scienc...                             \n",
       "Soul not intelligible to us                                                    \n",
       "Things most manifest in nature are opaque, so n...                         x   \n",
       "\n",
       "                                                   Simon of Faversham  \\\n",
       "Act and potency problem, so no science of the soul                      \n",
       "Difference between knower and known, so no scie...                      \n",
       "Identity between science and thing known, so no...                      \n",
       "Intellect denudated of object before knowledge,...                      \n",
       "Knowledge is continuous and temporal, so no sci...                      \n",
       "No identity of mover and moved, so no science o...                      \n",
       "No intellectual self-knowledge, so no science o...                      \n",
       "No phantasm from the soul, so no science about it                       \n",
       "No science about corruptible things, so no scie...                      \n",
       "No science about the non-existent, so no scienc...                      \n",
       "No sense perception of the soul, so there canno...                  x   \n",
       "Science about subject with parts and properties...                  x   \n",
       "Science about universals abstracted from percep...                      \n",
       "Science proceeds from causes, so no science abo...                      \n",
       "Sciene about something actually intelligible, s...                  x   \n",
       "Soul is a particular, so there can be no scienc...                  x   \n",
       "Soul not intelligible to us                                             \n",
       "Things most manifest in nature are opaque, so n...                      \n",
       "\n",
       "                                                   Anonymus Vat. Lat. 2170 II  \\\n",
       "Act and potency problem, so no science of the soul                              \n",
       "Difference between knower and known, so no scie...                              \n",
       "Identity between science and thing known, so no...                              \n",
       "Intellect denudated of object before knowledge,...                              \n",
       "Knowledge is continuous and temporal, so no sci...                              \n",
       "No identity of mover and moved, so no science o...                              \n",
       "No intellectual self-knowledge, so no science o...                              \n",
       "No phantasm from the soul, so no science about it                               \n",
       "No science about corruptible things, so no scie...                              \n",
       "No science about the non-existent, so no scienc...                              \n",
       "No sense perception of the soul, so there canno...                          x   \n",
       "Science about subject with parts and properties...                          x   \n",
       "Science about universals abstracted from percep...                              \n",
       "Science proceeds from causes, so no science abo...                              \n",
       "Sciene about something actually intelligible, s...                              \n",
       "Soul is a particular, so there can be no scienc...                              \n",
       "Soul not intelligible to us                                                     \n",
       "Things most manifest in nature are opaque, so n...                              \n",
       "\n",
       "                                                   Anonymus Giele  \\\n",
       "Act and potency problem, so no science of the soul                  \n",
       "Difference between knower and known, so no scie...                  \n",
       "Identity between science and thing known, so no...                  \n",
       "Intellect denudated of object before knowledge,...                  \n",
       "Knowledge is continuous and temporal, so no sci...                  \n",
       "No identity of mover and moved, so no science o...                  \n",
       "No intellectual self-knowledge, so no science o...                  \n",
       "No phantasm from the soul, so no science about it                   \n",
       "No science about corruptible things, so no scie...                  \n",
       "No science about the non-existent, so no scienc...                  \n",
       "No sense perception of the soul, so there canno...              x   \n",
       "Science about subject with parts and properties...                  \n",
       "Science about universals abstracted from percep...                  \n",
       "Science proceeds from causes, so no science abo...                  \n",
       "Sciene about something actually intelligible, s...                  \n",
       "Soul is a particular, so there can be no scienc...              x   \n",
       "Soul not intelligible to us                                         \n",
       "Things most manifest in nature are opaque, so n...                  \n",
       "\n",
       "                                                   Anonymus Vennebusch  \n",
       "Act and potency problem, so no science of the soul                      \n",
       "Difference between knower and known, so no scie...                      \n",
       "Identity between science and thing known, so no...                      \n",
       "Intellect denudated of object before knowledge,...                      \n",
       "Knowledge is continuous and temporal, so no sci...                      \n",
       "No identity of mover and moved, so no science o...                      \n",
       "No intellectual self-knowledge, so no science o...                      \n",
       "No phantasm from the soul, so no science about it                       \n",
       "No science about corruptible things, so no scie...                      \n",
       "No science about the non-existent, so no scienc...                      \n",
       "No sense perception of the soul, so there canno...                      \n",
       "Science about subject with parts and properties...                      \n",
       "Science about universals abstracted from percep...                      \n",
       "Science proceeds from causes, so no science abo...                      \n",
       "Sciene about something actually intelligible, s...                      \n",
       "Soul is a particular, so there can be no scienc...                      \n",
       "Soul not intelligible to us                                             \n",
       "Things most manifest in nature are opaque, so n...                      "
      ]
     },
     "execution_count": 568,
     "metadata": {},
     "output_type": "execute_result"
    }
   ],
   "source": [
    "def create_matrix(numeric=True):\n",
    "    matrix = {}\n",
    "    if numeric:\n",
    "        true_val = 1\n",
    "        false_val = 0\n",
    "    else:\n",
    "        true_val = 'x'\n",
    "        false_val = ''\n",
    "        \n",
    "    for author in author_names:\n",
    "        matrix[author] = []\n",
    "        adocs = all_rationes_doctrines_of(author)\n",
    "        for doc in all_docs:\n",
    "            if doc in adocs:\n",
    "                matrix[author].append(true_val)\n",
    "            else:\n",
    "                matrix[author].append(false_val)\n",
    "    sorted_names = sorted(matrix, key=matrix.get, reverse=True)\n",
    "    m = [matrix[key] for key in sorted_names]\n",
    "    m = [list(i) for i in zip(*m)]\n",
    "    return pd.DataFrame(m, columns=sorted_names, index=all_docs)\n",
    "\n",
    "create_matrix(numeric=False)"
   ]
  },
  {
   "cell_type": "markdown",
   "metadata": {},
   "source": [
    "And now a bit of quantitative info."
   ]
  },
  {
   "cell_type": "code",
   "execution_count": 569,
   "metadata": {},
   "outputs": [
    {
     "data": {
      "text/plain": [
       "John of Jandun                8\n",
       "Anonymus Mertoniensis 275     6\n",
       "John Dinsdale                 5\n",
       "Anonymus Oriel 33             5\n",
       "Henric de la Wyle             5\n",
       "Simon of Faversham            4\n",
       "Radulphus Brito               4\n",
       "Anonymus Vat. Lat. 2170 I     3\n",
       "Anonymus Giele                2\n",
       "Anonymus Vat. Lat. 2170 II    2\n",
       "Anonymus Vennebusch           0\n",
       "dtype: int64"
      ]
     },
     "execution_count": 569,
     "metadata": {},
     "output_type": "execute_result"
    }
   ],
   "source": [
    "df = create_matrix(numeric=True)\n",
    "sums = df.sum().sort_values(ascending=False)\n",
    "sums\n",
    "#print(sums.to_latex())"
   ]
  },
  {
   "cell_type": "code",
   "execution_count": 570,
   "metadata": {},
   "outputs": [
    {
     "data": {
      "text/plain": [
       "4.0"
      ]
     },
     "execution_count": 570,
     "metadata": {},
     "output_type": "execute_result"
    }
   ],
   "source": [
    "df.sum().mean()"
   ]
  },
  {
   "cell_type": "code",
   "execution_count": 571,
   "metadata": {},
   "outputs": [
    {
     "data": {
      "text/plain": [
       "<matplotlib.axes._subplots.AxesSubplot at 0x116523470>"
      ]
     },
     "execution_count": 571,
     "metadata": {},
     "output_type": "execute_result"
    },
    {
     "data": {
      "image/png": "[encoded data removed]",
      "text/plain": [
       "<matplotlib.figure.Figure at 0x11653b160>"
      ]
     },
     "metadata": {},
     "output_type": "display_data"
    }
   ],
   "source": [
    "sns.distplot(df.sum())"
   ]
  },
  {
   "cell_type": "code",
   "execution_count": 572,
   "metadata": {},
   "outputs": [
    {
     "data": {
      "text/plain": [
       "No sense perception of the soul, so there cannot be a science about it           9\n",
       "Soul not intelligible to us                                                      5\n",
       "Knowledge is continuous and temporal, so no science of the soul                  4\n",
       "No identity of mover and moved, so no science of the soul                        4\n",
       "Things most manifest in nature are opaque, so no science of the soul             3\n",
       "Soul is a particular, so there can be no science about it                        3\n",
       "Science about subject with parts and properties, so no science about the soul    3\n",
       "No phantasm from the soul, so no science about it                                2\n",
       "No science about corruptible things, so no science about the soul                2\n",
       "No science about the non-existent, so no science about the soul                  1\n",
       "Science about universals abstracted from perception                              1\n",
       "No intellectual self-knowledge, so no science of the soul                        1\n",
       "Science proceeds from causes, so no science about the soul                       1\n",
       "Sciene about something actually intelligible, so no science about the soul       1\n",
       "Intellect denudated of object before knowledge, so no science of the soul        1\n",
       "Identity between science and thing known, so now science about the soul          1\n",
       "Difference between knower and known, so no science of the soul                   1\n",
       "Act and potency problem, so no science of the soul                               1\n",
       "dtype: int64"
      ]
     },
     "execution_count": 572,
     "metadata": {},
     "output_type": "execute_result"
    }
   ],
   "source": [
    "df.sum(axis=1).sort_values(ascending=False)"
   ]
  },
  {
   "cell_type": "code",
   "execution_count": 662,
   "metadata": {},
   "outputs": [
    {
     "data": {
      "image/png": "[encoded data removed]",
      "text/plain": [
       "<matplotlib.figure.Figure at 0x115c27240>"
      ]
     },
     "metadata": {},
     "output_type": "display_data"
    }
   ],
   "source": [
    "df = create_matrix(numeric=True).T\n",
    "\n",
    "# Generate a custom diverging colormap\n",
    "cmap = sns.light_palette((210, 90, 60), input=\"husl\")\n",
    "\n",
    "# Draw the heatmap with the mask and correct aspect ratio\n",
    "plot = sns.clustermap(df, cmap=cmap, linewidths=.5, metric='hamming', \n",
    "                      row_cluster=True, figsize=(12,16))\n",
    "\n",
    "for _, ax in enumerate(plot.fig.axes):\n",
    "    ax.set_xticklabels(ax.get_xticklabels(), rotation = 45, horizontalalignment='right')\n",
    "    \n",
    "plot.savefig('../figures/science-determinations-binary-cluster.png')"
   ]
  },
  {
   "cell_type": "code",
   "execution_count": 661,
   "metadata": {},
   "outputs": [
    {
     "name": "stdout",
     "output_type": "stream",
     "text": [
      "\\begin{figure}\n",
      "\\centering\n",
      "\\includegraphics[width=\\linewidth]{data/figures/science-rationes-binary-clustermap.pdf}\n",
      "\\caption{Binary clustermap of rationes doctrines.}\n",
      "\\label{fig:sci:rationes:binary-clustermap}\n",
      "\\end{figure}\n"
     ]
    }
   ],
   "source": [
    "plot.savefig('../figures/science-rationes-binary-clustermap.pdf')\n",
    "print_figure_inclusion(\n",
    "    '../figures/science-rationes-binary-clustermap', plot,\n",
    "    caption='Binary clustermap of rationes doctrines.',\n",
    "    label='fig:sci:rationes:binary-clustermap')"
   ]
  },
  {
   "cell_type": "code",
   "execution_count": null,
   "metadata": {},
   "outputs": [],
   "source": []
  },
  {
   "cell_type": "code",
   "execution_count": null,
   "metadata": {},
   "outputs": [],
   "source": []
  }
 ],
 "metadata": {
  "kernelspec": {
   "display_name": "Python 3",
   "language": "python",
   "name": "python3"
  },
  "language_info": {
   "codemirror_mode": {
    "name": "ipython",
    "version": 3
   },
   "file_extension": ".py",
   "mimetype": "text/x-python",
   "name": "python",
   "nbconvert_exporter": "python",
   "pygments_lexer": "ipython3",
   "version": "3.6.4"
  }
 },
 "nbformat": 4,
 "nbformat_minor": 2
}
