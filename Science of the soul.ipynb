{
 "cells": [
  {
   "cell_type": "markdown",
   "metadata": {},
   "source": [
    "# Setup and utility functions"
   ]
  },
  {
   "cell_type": "code",
   "execution_count": 1,
   "metadata": {},
   "outputs": [],
   "source": [
    "import pandas as pd\n",
    "import seaborn as sns\n",
    "import numpy as np\n",
    "import matplotlib.pyplot as plt\n",
    "from os import path\n",
    "\n",
    "%matplotlib inline\n",
    "\n",
    "from neo4j.v1 import GraphDatabase\n",
    "\n",
    "sns.set_context(\"paper\", font_scale=1.8)"
   ]
  },
  {
   "cell_type": "code",
   "execution_count": 6,
   "metadata": {},
   "outputs": [],
   "source": [
    "uri = \"bolt://localhost:7687\"\n",
    "driver = GraphDatabase.driver(uri, auth=(\"neo4j\", \"1234\"))"
   ]
  },
  {
   "cell_type": "code",
   "execution_count": 7,
   "metadata": {},
   "outputs": [],
   "source": [
    "def run_query(string):\n",
    "    with driver.session() as session:\n",
    "        with session.begin_transaction() as tx:\n",
    "            return tx.run(string)"
   ]
  },
  {
   "cell_type": "code",
   "execution_count": 8,
   "metadata": {},
   "outputs": [],
   "source": [
    "def save_table(filename, table, caption='', label=''):\n",
    "    with open(filename, 'w') as file:\n",
    "        if caption:\n",
    "            caption = \"\\\\caption{%s}\\n\" % caption\n",
    "        if label:\n",
    "            label = \"\\\\label{%s}\\n\" % label\n",
    "        cont = (\n",
    "            \"\\\\begin{table}\\n\"\n",
    "            \"\\\\centering\\n\"\n",
    "        ) + table + caption + label + (\n",
    "            \"\\\\end{table}\"\n",
    "        ) \n",
    "        file.write(cont)"
   ]
  },
  {
   "cell_type": "code",
   "execution_count": 9,
   "metadata": {},
   "outputs": [],
   "source": [
    "def print_figure_inclusion(filename, plot, caption='', label=''):\n",
    "    img_figure = path.splitext(path.basename(filename))[0] + '.pdf'\n",
    "    if caption:\n",
    "        caption = \"\\\\caption{%s}\\n\" % caption\n",
    "    if label:\n",
    "        label = \"\\\\label{%s}\\n\" % label\n",
    "    cont = (\n",
    "        \"\\\\begin{figure}\\n\"\n",
    "        \"\\\\centering\\n\"\n",
    "        \"\\\\includegraphics[width=\\\\linewidth]{data/figures/%s}\\n\" % img_figure\n",
    "    )  + caption + label + (\n",
    "        \"\\\\end{figure}\"\n",
    "    ) \n",
    "    print(cont)"
   ]
  },
  {
   "cell_type": "markdown",
   "metadata": {},
   "source": [
    "# Included authors"
   ]
  },
  {
   "cell_type": "code",
   "execution_count": 10,
   "metadata": {},
   "outputs": [],
   "source": [
    "author_names = [t[0] for t in run_query('MATCH (n:Author) where not n.name = \"Aristotle\" RETURN n.name ORDER BY n.name asc').values()]"
   ]
  },
  {
   "cell_type": "markdown",
   "metadata": {},
   "source": [
    "# Relation between determination and all positive doctrines\n",
    "\n",
    "The following two measing (1) only determination doctrines, i.e. first level doctrines supporting the possibility of the science, and (2) all positive doctrines, i.e. all doctrines that do not directly attack the possibility of a science. This means that the second group of positive doctrines also includes points at further removes from the primary level of determination doctrines, and it will also include doctrine that can be used to refute rationes principales. It does however not include doctrines that are *only* used to refute rationes.\n",
    "\n",
    "## Observation\n",
    "\n",
    "The greater amount of data on the use of all positive doctrines seems to present a more nuanced and clear picture."
   ]
  },
  {
   "cell_type": "markdown",
   "metadata": {},
   "source": [
    "# Direct determination doctrines"
   ]
  },
  {
   "cell_type": "markdown",
   "metadata": {},
   "source": [
    "## Some general quantities"
   ]
  },
  {
   "cell_type": "code",
   "execution_count": 11,
   "metadata": {},
   "outputs": [
    {
     "data": {
      "text/plain": [
       "0"
      ]
     },
     "execution_count": 11,
     "metadata": {},
     "output_type": "execute_result"
    }
   ],
   "source": [
    "def count_unique_determination_doctrines(name):\n",
    "    q = (\"MATCH (a:Author)--(:Text)--(q:Question)--(d:Doctrine)\"\n",
    "         \"WHERE a.name = '%s'\"\n",
    "         \"AND (d)-[:SUPPORTS]->(:Doctrine {name:'There can be a science of the soul'})\"\n",
    "         \"AND NOT (:Question)--(d)--(q:Question)\"\n",
    "         \"RETURN count(distinct d)\" % (name))\n",
    "    try:\n",
    "        return run_query(q).single()[0]\n",
    "    except TypeError:\n",
    "        return 0\n",
    "\n",
    "# Example\n",
    "count_unique_determination_doctrines('John of Jandun')"
   ]
  },
  {
   "cell_type": "code",
   "execution_count": 12,
   "metadata": {},
   "outputs": [
    {
     "data": {
      "text/plain": [
       "2"
      ]
     },
     "execution_count": 12,
     "metadata": {},
     "output_type": "execute_result"
    }
   ],
   "source": [
    "def count_shared_determination_doctrines(name):\n",
    "    q = (\"MATCH (a:Author)--(:Text)--(q:Question)--(d:Doctrine)\"\n",
    "         \"WHERE a.name = '%s' and not(a.name = 'Aristotle')\"\n",
    "         \"AND (d)-[:SUPPORTS]->(:Doctrine {name:'There can be a science of the soul'})\"\n",
    "         \"MATCH (q1:Question)--(d)\"\n",
    "         \"WHERE (q1) <> (q)\"\n",
    "         \"RETURN count(distinct d), collect(distinct d.name)\" % (name))\n",
    "    try:\n",
    "        return run_query(q).single()[0]\n",
    "    except TypeError:\n",
    "        return 0\n",
    "\n",
    "# Example\n",
    "count_shared_determination_doctrines('John of Jandun')"
   ]
  },
  {
   "cell_type": "markdown",
   "metadata": {},
   "source": [
    "Proportion unique of all doctrines"
   ]
  },
  {
   "cell_type": "code",
   "execution_count": 13,
   "metadata": {},
   "outputs": [
    {
     "data": {
      "text/plain": [
       "0.0"
      ]
     },
     "execution_count": 13,
     "metadata": {},
     "output_type": "execute_result"
    }
   ],
   "source": [
    "def unique_to_shared_proportion(name):\n",
    "    unique = count_unique_determination_doctrines(name)\n",
    "    shared = count_shared_determination_doctrines(name)\n",
    "    try:\n",
    "        return unique / (unique + shared)\n",
    "    except ZeroDivisionError:\n",
    "        return 0\n",
    "    \n",
    "# Example\n",
    "unique_to_shared_proportion('John of Jandun')"
   ]
  },
  {
   "cell_type": "markdown",
   "metadata": {},
   "source": [
    "Now let's get the values of these for all the commentators and put them into a matrix."
   ]
  },
  {
   "cell_type": "code",
   "execution_count": 14,
   "metadata": {},
   "outputs": [],
   "source": [
    "def unique_shared_determinations_all(authors):\n",
    "    d = {}\n",
    "    for a in authors:\n",
    "        unique = count_unique_determination_doctrines(a)\n",
    "        shared = count_shared_determination_doctrines(a)\n",
    "        prop = unique_to_shared_proportion(a)\n",
    "        \n",
    "        d[a] = [unique, shared, unique + shared, round(prop, 2)]\n",
    "    return d\n",
    "\n",
    "# Example\n",
    "m = unique_shared_determinations_all(author_names)"
   ]
  },
  {
   "cell_type": "markdown",
   "metadata": {},
   "source": [
    "Put this in a DataFrame and sort according to most unique."
   ]
  },
  {
   "cell_type": "code",
   "execution_count": 15,
   "metadata": {},
   "outputs": [
    {
     "data": {
      "text/html": [
       "<div>\n",
       "<style scoped>\n",
       "    .dataframe tbody tr th:only-of-type {\n",
       "        vertical-align: middle;\n",
       "    }\n",
       "\n",
       "    .dataframe tbody tr th {\n",
       "        vertical-align: top;\n",
       "    }\n",
       "\n",
       "    .dataframe thead th {\n",
       "        text-align: right;\n",
       "    }\n",
       "</style>\n",
       "<table border=\"1\" class=\"dataframe\">\n",
       "  <thead>\n",
       "    <tr style=\"text-align: right;\">\n",
       "      <th></th>\n",
       "      <th>Unique</th>\n",
       "      <th>Shared</th>\n",
       "      <th>Sum</th>\n",
       "      <th>Proportion</th>\n",
       "    </tr>\n",
       "  </thead>\n",
       "  <tbody>\n",
       "    <tr>\n",
       "      <th>Anonymus Mertoniensis 275</th>\n",
       "      <td>0</td>\n",
       "      <td>6</td>\n",
       "      <td>6</td>\n",
       "      <td>0.00</td>\n",
       "    </tr>\n",
       "    <tr>\n",
       "      <th>Anonymus Bernardini</th>\n",
       "      <td>1</td>\n",
       "      <td>4</td>\n",
       "      <td>5</td>\n",
       "      <td>0.20</td>\n",
       "    </tr>\n",
       "    <tr>\n",
       "      <th>Anonymus Vat. Lat. 2170 I</th>\n",
       "      <td>1</td>\n",
       "      <td>4</td>\n",
       "      <td>5</td>\n",
       "      <td>0.20</td>\n",
       "    </tr>\n",
       "    <tr>\n",
       "      <th>Anonymus Oriel 33</th>\n",
       "      <td>0</td>\n",
       "      <td>3</td>\n",
       "      <td>3</td>\n",
       "      <td>0.00</td>\n",
       "    </tr>\n",
       "    <tr>\n",
       "      <th>Anonymus Vennebusch</th>\n",
       "      <td>0</td>\n",
       "      <td>3</td>\n",
       "      <td>3</td>\n",
       "      <td>0.00</td>\n",
       "    </tr>\n",
       "    <tr>\n",
       "      <th>Henric de la Wyle</th>\n",
       "      <td>1</td>\n",
       "      <td>2</td>\n",
       "      <td>3</td>\n",
       "      <td>0.33</td>\n",
       "    </tr>\n",
       "    <tr>\n",
       "      <th>John Dinsdale</th>\n",
       "      <td>0</td>\n",
       "      <td>3</td>\n",
       "      <td>3</td>\n",
       "      <td>0.00</td>\n",
       "    </tr>\n",
       "    <tr>\n",
       "      <th>Radulphus Brito</th>\n",
       "      <td>0</td>\n",
       "      <td>3</td>\n",
       "      <td>3</td>\n",
       "      <td>0.00</td>\n",
       "    </tr>\n",
       "    <tr>\n",
       "      <th>Simon of Faversham</th>\n",
       "      <td>0</td>\n",
       "      <td>3</td>\n",
       "      <td>3</td>\n",
       "      <td>0.00</td>\n",
       "    </tr>\n",
       "    <tr>\n",
       "      <th>Anonymus Steenberghen</th>\n",
       "      <td>1</td>\n",
       "      <td>1</td>\n",
       "      <td>2</td>\n",
       "      <td>0.50</td>\n",
       "    </tr>\n",
       "    <tr>\n",
       "      <th>John of Jandun</th>\n",
       "      <td>0</td>\n",
       "      <td>2</td>\n",
       "      <td>2</td>\n",
       "      <td>0.00</td>\n",
       "    </tr>\n",
       "    <tr>\n",
       "      <th>Anonymus Bazan I</th>\n",
       "      <td>0</td>\n",
       "      <td>1</td>\n",
       "      <td>1</td>\n",
       "      <td>0.00</td>\n",
       "    </tr>\n",
       "    <tr>\n",
       "      <th>Anonymus Giele</th>\n",
       "      <td>0</td>\n",
       "      <td>1</td>\n",
       "      <td>1</td>\n",
       "      <td>0.00</td>\n",
       "    </tr>\n",
       "    <tr>\n",
       "      <th>Anonymus Vat. Lat. 2170 II</th>\n",
       "      <td>0</td>\n",
       "      <td>1</td>\n",
       "      <td>1</td>\n",
       "      <td>0.00</td>\n",
       "    </tr>\n",
       "  </tbody>\n",
       "</table>\n",
       "</div>"
      ],
      "text/plain": [
       "                            Unique  Shared  Sum  Proportion\n",
       "Anonymus Mertoniensis 275        0       6    6        0.00\n",
       "Anonymus Bernardini              1       4    5        0.20\n",
       "Anonymus Vat. Lat. 2170 I        1       4    5        0.20\n",
       "Anonymus Oriel 33                0       3    3        0.00\n",
       "Anonymus Vennebusch              0       3    3        0.00\n",
       "Henric de la Wyle                1       2    3        0.33\n",
       "John Dinsdale                    0       3    3        0.00\n",
       "Radulphus Brito                  0       3    3        0.00\n",
       "Simon of Faversham               0       3    3        0.00\n",
       "Anonymus Steenberghen            1       1    2        0.50\n",
       "John of Jandun                   0       2    2        0.00\n",
       "Anonymus Bazan I                 0       1    1        0.00\n",
       "Anonymus Giele                   0       1    1        0.00\n",
       "Anonymus Vat. Lat. 2170 II       0       1    1        0.00"
      ]
     },
     "execution_count": 15,
     "metadata": {},
     "output_type": "execute_result"
    }
   ],
   "source": [
    "df = pd.DataFrame(m, index=['Unique', 'Shared', 'Sum', 'Proportion'])\n",
    "df = df.T.sort_values(by='Sum', ascending=False)\n",
    "df[['Unique', 'Shared', 'Sum']] = df[['Unique', 'Shared', 'Sum']].apply(np.int64)\n",
    "df"
   ]
  },
  {
   "cell_type": "code",
   "execution_count": 16,
   "metadata": {},
   "outputs": [],
   "source": [
    "# Some saving could be set up here...\n",
    "save_table('../thesis/data/tables/sci-determinations-quantities.tex', df.to_latex(), \n",
    "           caption='Unique, shared, total, and proportion of unique to shared doctrines in determinations.',\n",
    "           label='tab:sci:determ:quantities')"
   ]
  },
  {
   "cell_type": "code",
   "execution_count": 17,
   "metadata": {},
   "outputs": [
    {
     "data": {
      "text/plain": [
       "Unique     4\n",
       "Shared    37\n",
       "Sum       41\n",
       "dtype: int64"
      ]
     },
     "execution_count": 17,
     "metadata": {},
     "output_type": "execute_result"
    }
   ],
   "source": [
    "# The sums?\n",
    "df[['Unique', 'Shared', 'Sum']].sum()"
   ]
  },
  {
   "cell_type": "code",
   "execution_count": 18,
   "metadata": {},
   "outputs": [
    {
     "data": {
      "text/plain": [
       "11"
      ]
     },
     "execution_count": 18,
     "metadata": {},
     "output_type": "execute_result"
    }
   ],
   "source": [
    "# Number of distinct rationes\n",
    "doctrine_count = run_query('MATCH (d:Doctrine)'\n",
    "                           'WHERE (d)-[:SUPPORTS]->(:Doctrine {name:\"There can be a science of the soul\"})'\n",
    "                           'AND NOT d.name=\"There can be a science of the soul\"'\n",
    "                           'RETURN count(DISTINCT d)').single()[0]\n",
    "doctrine_count"
   ]
  },
  {
   "cell_type": "code",
   "execution_count": 19,
   "metadata": {},
   "outputs": [
    {
     "data": {
      "text/plain": [
       "0.36363636363636365"
      ]
     },
     "execution_count": 19,
     "metadata": {},
     "output_type": "execute_result"
    }
   ],
   "source": [
    "# Proportion of unique\n",
    "df['Unique'].sum() / doctrine_count"
   ]
  },
  {
   "cell_type": "code",
   "execution_count": 20,
   "metadata": {},
   "outputs": [
    {
     "data": {
      "text/plain": [
       "0.0975609756097561"
      ]
     },
     "execution_count": 20,
     "metadata": {},
     "output_type": "execute_result"
    }
   ],
   "source": [
    "# Proportion of unique instances\n",
    "df['Unique'].sum() / df['Sum'].sum()"
   ]
  },
  {
   "cell_type": "code",
   "execution_count": 21,
   "metadata": {},
   "outputs": [
    {
     "data": {
      "text/plain": [
       "5.9"
      ]
     },
     "execution_count": 21,
     "metadata": {},
     "output_type": "execute_result"
    }
   ],
   "source": [
    "# Average use number of non-uniques\n",
    "round(df['Sum'].sum() / (doctrine_count - df['Unique'].sum()), 1)"
   ]
  },
  {
   "cell_type": "markdown",
   "metadata": {},
   "source": [
    "## Proportional distribution matrix"
   ]
  },
  {
   "cell_type": "code",
   "execution_count": 22,
   "metadata": {},
   "outputs": [
    {
     "data": {
      "text/plain": [
       "{'Anonymus Bernardini': 1,\n",
       " 'Anonymus Mertoniensis 275': 1,\n",
       " 'Anonymus Oriel 33': 1,\n",
       " 'Anonymus Vat. Lat. 2170 I': 1,\n",
       " 'Anonymus Vennebusch': 1,\n",
       " 'John Dinsdale': 1,\n",
       " 'John of Jandun': 1,\n",
       " 'Radulphus Brito': 1,\n",
       " 'Simon of Faversham': 1}"
      ]
     },
     "execution_count": 22,
     "metadata": {},
     "output_type": "execute_result"
    }
   ],
   "source": [
    "def number_shared_determination_doctrines(name):\n",
    "    with driver.session() as session:\n",
    "        with session.begin_transaction() as tx:\n",
    "            res = tx.run(\"MATCH (d:Doctrine) WHERE (d)-[:SUPPORTS]->(:Doctrine {name:'There can be a science of the soul'})\"\n",
    "                         \"MATCH (a:Author)--(:Text)--(q:Question)--(d)--(:Question)--(:Text)--(a2:Author)\"\n",
    "                         \"WHERE a.name = {name}\"\n",
    "                         \"RETURN a2.name, count(distinct d)\", name=name)\n",
    "            return {r[0]: r[1] for r in res}\n",
    "\n",
    "number_shared_determination_doctrines('Anonymus Giele')"
   ]
  },
  {
   "cell_type": "code",
   "execution_count": 23,
   "metadata": {},
   "outputs": [
    {
     "data": {
      "text/plain": [
       "{'Anonymus Bernardini': 0.26666666666666666,\n",
       " 'Anonymus Giele': 0.3333333333333333,\n",
       " 'Anonymus Mertoniensis 275': 0.5,\n",
       " 'Anonymus Oriel 33': 1.0,\n",
       " 'Anonymus Vat. Lat. 2170 I': 0.26666666666666666,\n",
       " 'Anonymus Vat. Lat. 2170 II': 0.3333333333333333,\n",
       " 'Anonymus Vennebusch': 0.4444444444444444,\n",
       " 'Henric de la Wyle': 0.4444444444444444,\n",
       " 'John Dinsdale': 1.0,\n",
       " 'John of Jandun': 0.6666666666666666,\n",
       " 'Radulphus Brito': 0.4444444444444444,\n",
       " 'Simon of Faversham': 0.4444444444444444}"
      ]
     },
     "execution_count": 23,
     "metadata": {},
     "output_type": "execute_result"
    }
   ],
   "source": [
    "def proportion_shared_determination_doctrines(name):\n",
    "    with driver.session() as session:\n",
    "        with session.begin_transaction() as tx:\n",
    "            res = tx.run(\"MATCH (d:Doctrine) WHERE (d)-[:SUPPORTS]->(:Doctrine {name:'There can be a science of the soul'})\"\n",
    "                         \"MATCH (a:Author)--(:Text)--(q1:Question)--(d)\"\n",
    "                         \"WHERE a.name = {name}\"\n",
    "                         \"MATCH (d)--(q2:Question)--(:Text)--(a2:Author)\"\n",
    "                         \"MATCH (q1:Question)--(d1:Doctrine) WHERE (d1)-[:SUPPORTS]->(:Doctrine {name:'There can be a science of the soul'})\"                         \n",
    "                         \"MATCH (q2:Question)--(d2:Doctrine) WHERE (d2)-[:SUPPORTS]->(:Doctrine {name:'There can be a science of the soul'})\"                         \n",
    "                         \"RETURN a2.name, (toFloat(count(distinct d)) / count(distinct d1)) * (toFloat(count(distinct d)) / count(distinct d2))\", name=name)\n",
    "            return {r[0]: r[1] for r in res}\n",
    "\n",
    "proportion_shared_determination_doctrines('John Dinsdale')"
   ]
  },
  {
   "cell_type": "code",
   "execution_count": 24,
   "metadata": {},
   "outputs": [
    {
     "data": {
      "text/plain": [
       "['Anonymus Bazan I',\n",
       " 'Anonymus Bernardini',\n",
       " 'Anonymus Giele',\n",
       " 'Anonymus Mertoniensis 275',\n",
       " 'Anonymus Oriel 33',\n",
       " 'Anonymus Steenberghen',\n",
       " 'Anonymus Vat. Lat. 2170 I',\n",
       " 'Anonymus Vat. Lat. 2170 II',\n",
       " 'Anonymus Vennebusch',\n",
       " 'Henric de la Wyle',\n",
       " 'John Dinsdale',\n",
       " 'John of Jandun',\n",
       " 'Radulphus Brito',\n",
       " 'Simon of Faversham']"
      ]
     },
     "execution_count": 24,
     "metadata": {},
     "output_type": "execute_result"
    }
   ],
   "source": [
    "author_names"
   ]
  },
  {
   "cell_type": "code",
   "execution_count": 25,
   "metadata": {},
   "outputs": [],
   "source": [
    "\n",
    "def build_matrix(authors, docfunc=proportion_shared_determination_doctrines):\n",
    "    matrix = {}\n",
    "    for author in authors:\n",
    "        matrix[author] = []\n",
    "        values = docfunc(author)\n",
    "        for name in authors:\n",
    "            if name in values:\n",
    "                matrix[author].append(values[name])\n",
    "            else:\n",
    "                matrix[author].append(0)\n",
    "    return matrix\n",
    "\n",
    "d = build_matrix(author_names)\n",
    "            "
   ]
  },
  {
   "cell_type": "code",
   "execution_count": 26,
   "metadata": {},
   "outputs": [
    {
     "data": {
      "image/png": "[encoded data removed]",
      "text/plain": [
       "<matplotlib.figure.Figure at 0x11701da58>"
      ]
     },
     "metadata": {},
     "output_type": "display_data"
    }
   ],
   "source": [
    "df = pd.DataFrame(d, index=author_names)\n",
    "\n",
    "# Generate a custom diverging colormap\n",
    "cmap = sns.light_palette((210, 90, 60), as_cmap=True, input=\"husl\")\n",
    "\n",
    "# Draw the heatmap with the mask and correct aspect ratio\n",
    "plot = sns.clustermap(df, cmap=cmap, linewidths=.5, row_cluster=True)\n",
    "for _, ax in enumerate(plot.fig.axes):\n",
    "    ax.set_xticklabels(ax.get_xticklabels(), rotation = 45, horizontalalignment='right')\n"
   ]
  },
  {
   "cell_type": "code",
   "execution_count": 27,
   "metadata": {},
   "outputs": [
    {
     "name": "stdout",
     "output_type": "stream",
     "text": [
      "\\begin{figure}\n",
      "\\centering\n",
      "\\includegraphics[width=\\linewidth]{data/figures/science-determ-proportional-clustermap.pdf}\n",
      "\\caption{Proportional clustermap of determination doctrines.}\n",
      "\\label{fig:sci:determ:prop-clustermap}\n",
      "\\end{figure}\n"
     ]
    }
   ],
   "source": [
    "plot.savefig('../thesis/data/figures/science-determ-proportional-clustermap.pdf')\n",
    "print_figure_inclusion(\n",
    "    '../figures/science-determ-proportional-clustermap', plot,\n",
    "    caption='Proportional clustermap of determination doctrines.',\n",
    "    label='fig:sci:determ:prop-clustermap')"
   ]
  },
  {
   "cell_type": "code",
   "execution_count": 28,
   "metadata": {},
   "outputs": [
    {
     "data": {
      "text/plain": [
       "John Dinsdale                 0.4\n",
       "Anonymus Oriel 33             0.4\n",
       "Simon of Faversham            0.4\n",
       "Radulphus Brito               0.4\n",
       "John of Jandun                0.4\n",
       "Anonymus Mertoniensis 275     0.4\n",
       "Anonymus Vat. Lat. 2170 I     0.3\n",
       "Anonymus Giele                0.3\n",
       "Anonymus Bernardini           0.3\n",
       "Anonymus Vennebusch           0.3\n",
       "Anonymus Vat. Lat. 2170 II    0.3\n",
       "Henric de la Wyle             0.2\n",
       "Anonymus Bazan I              0.2\n",
       "Anonymus Steenberghen         0.1\n",
       "dtype: float64"
      ]
     },
     "execution_count": 28,
     "metadata": {},
     "output_type": "execute_result"
    }
   ],
   "source": [
    "# Mean commonality values \n",
    "df.mean().sort_values(ascending=False).round(1)"
   ]
  },
  {
   "cell_type": "code",
   "execution_count": 29,
   "metadata": {},
   "outputs": [
    {
     "data": {
      "text/plain": [
       "Anonymus Bazan I              0.00\n",
       "Anonymus Bernardini           0.27\n",
       "Anonymus Giele                0.33\n",
       "Anonymus Mertoniensis 275     0.50\n",
       "Anonymus Oriel 33             1.00\n",
       "Anonymus Steenberghen         0.00\n",
       "Anonymus Vat. Lat. 2170 I     0.27\n",
       "Anonymus Vat. Lat. 2170 II    0.33\n",
       "Anonymus Vennebusch           0.44\n",
       "Henric de la Wyle             0.44\n",
       "John Dinsdale                 1.00\n",
       "John of Jandun                0.67\n",
       "Radulphus Brito               0.44\n",
       "Simon of Faversham            0.44\n",
       "Name: John Dinsdale, dtype: float64"
      ]
     },
     "execution_count": 29,
     "metadata": {},
     "output_type": "execute_result"
    }
   ],
   "source": [
    "# Dinsdale example\n",
    "dins = df['John Dinsdale'].round(decimals=2)\n",
    "save_table('../thesis/data/tables/dinsdale-fingerprint.tex', dins.to_latex(), \n",
    "           caption='Example of proportional shared profile for determination doctrines of John Dinsdale.',\n",
    "           label='tab:sci:determ:profile-dinsdale')\n",
    "dins"
   ]
  },
  {
   "cell_type": "markdown",
   "metadata": {},
   "source": [
    "# Create doctrinal matrix\n",
    "Here we want to create a matrix table where it can be seen in more detail which doctrines each commentator uses. It is probably a good idea to distinguish between determination doctrines and rationes doctrines."
   ]
  },
  {
   "cell_type": "markdown",
   "metadata": {},
   "source": [
    "First we pull out a list of the names of the doctrines in determinations of each commentator."
   ]
  },
  {
   "cell_type": "code",
   "execution_count": 30,
   "metadata": {},
   "outputs": [
    {
     "data": {
      "text/plain": [
       "['Substantial knowledge from accidents']"
      ]
     },
     "execution_count": 30,
     "metadata": {},
     "output_type": "execute_result"
    }
   ],
   "source": [
    "def determination_doctrines_of(name):\n",
    "    q = (\"MATCH (a:Author)--(t:Text)--(q:Question)--(d:Doctrine)\"\n",
    "         \"WHERE a.name = '%s'\"\n",
    "         \"AND (d)-[:SUPPORTS]->(:Doctrine {name:'There can be a science of the soul'})\"\n",
    "         \"RETURN d.name\" % name )\n",
    "    return [t[0] for t in run_query(q).values()]\n",
    "\n",
    "# Example test\n",
    "determination_doctrines_of(\"Anonymus Giele\")"
   ]
  },
  {
   "cell_type": "markdown",
   "metadata": {},
   "source": [
    "Then we create a full list of all the doctrines in determinations."
   ]
  },
  {
   "cell_type": "code",
   "execution_count": 31,
   "metadata": {},
   "outputs": [
    {
     "data": {
      "text/plain": [
       "['Certain science about simple subject',\n",
       " 'Four requirements of a science (universal, incorruptible, parts and properties, intellectual immediacy)',\n",
       " 'Identity of knower and known',\n",
       " 'Propter quod unumquodque tale et illud magis',\n",
       " 'Science about a substance which contains parts and properties',\n",
       " 'Science of form and perfection',\n",
       " 'Science through self-reflection',\n",
       " 'Science through subject, properties, principles',\n",
       " 'Soul indirectly available to sense perception',\n",
       " 'Substantial knowledge from accidents',\n",
       " 'There can be science about everything with intelligible essence or definition']"
      ]
     },
     "execution_count": 31,
     "metadata": {},
     "output_type": "execute_result"
    }
   ],
   "source": [
    "def all_determination_doctrines():\n",
    "    q = (\"MATCH (d:Doctrine)--(:Question)\"\n",
    "         \"WHERE (d)-[:SUPPORTS]->(:Doctrine {name:'There can be a science of the soul'})\"\n",
    "         \"AND NOT d.name = 'There can be a science of the soul'\"\n",
    "         \"RETURN distinct d.name ORDER BY d.name asc\")\n",
    "    return [t[0] for t in run_query(q).values()]\n",
    "\n",
    "all_docs = all_determination_doctrines()\n",
    "\n",
    "# Test output\n",
    "all_docs"
   ]
  },
  {
   "cell_type": "markdown",
   "metadata": {},
   "source": [
    "Now for each author we register how many of the doctrines he ticks off and reads that into a matrix."
   ]
  },
  {
   "cell_type": "code",
   "execution_count": 32,
   "metadata": {},
   "outputs": [],
   "source": [
    "matrix = {}\n",
    "for author in author_names:\n",
    "    matrix[author] = []\n",
    "    adocs = determination_doctrines_of(author)\n",
    "    for doc in all_docs:\n",
    "        if doc in adocs:\n",
    "            matrix[author].append(1)\n",
    "        else:\n",
    "            matrix[author].append(0)\n",
    "\n",
    "\n",
    "df = pd.DataFrame(matrix, index=all_docs)"
   ]
  },
  {
   "cell_type": "markdown",
   "metadata": {},
   "source": [
    "Okay, I want to sort the matrix by how many doctrines the texts contain. This means that we sort the columns based on the sum of the values. Oddly enough I can't figure out how to do that within the `DataFrame`, so instead I create a dict, from that a list of the authors sorted by their sum doctrines. That list is used for keys in building a new matrix with the desired order. But then the rows and columns are switched, so I need to transmute those with the `zip` function. *This just doesn't feel right*."
   ]
  },
  {
   "cell_type": "code",
   "execution_count": 33,
   "metadata": {},
   "outputs": [
    {
     "data": {
      "text/html": [
       "<div>\n",
       "<style scoped>\n",
       "    .dataframe tbody tr th:only-of-type {\n",
       "        vertical-align: middle;\n",
       "    }\n",
       "\n",
       "    .dataframe tbody tr th {\n",
       "        vertical-align: top;\n",
       "    }\n",
       "\n",
       "    .dataframe thead th {\n",
       "        text-align: right;\n",
       "    }\n",
       "</style>\n",
       "<table border=\"1\" class=\"dataframe\">\n",
       "  <thead>\n",
       "    <tr style=\"text-align: right;\">\n",
       "      <th></th>\n",
       "      <th>Anonymus Bernardini</th>\n",
       "      <th>Anonymus Steenberghen</th>\n",
       "      <th>Anonymus Mertoniensis 275</th>\n",
       "      <th>Anonymus Vennebusch</th>\n",
       "      <th>Anonymus Vat. Lat. 2170 I</th>\n",
       "      <th>Henric de la Wyle</th>\n",
       "      <th>Radulphus Brito</th>\n",
       "      <th>Simon of Faversham</th>\n",
       "      <th>Anonymus Bazan I</th>\n",
       "      <th>Anonymus Oriel 33</th>\n",
       "      <th>John Dinsdale</th>\n",
       "      <th>John of Jandun</th>\n",
       "      <th>Anonymus Vat. Lat. 2170 II</th>\n",
       "      <th>Anonymus Giele</th>\n",
       "    </tr>\n",
       "  </thead>\n",
       "  <tbody>\n",
       "    <tr>\n",
       "      <th>Certain science about simple subject</th>\n",
       "      <td>x</td>\n",
       "      <td></td>\n",
       "      <td></td>\n",
       "      <td></td>\n",
       "      <td></td>\n",
       "      <td></td>\n",
       "      <td></td>\n",
       "      <td></td>\n",
       "      <td></td>\n",
       "      <td></td>\n",
       "      <td></td>\n",
       "      <td></td>\n",
       "      <td></td>\n",
       "      <td></td>\n",
       "    </tr>\n",
       "    <tr>\n",
       "      <th>Four requirements of a science (universal, incorruptible, parts and properties, intellectual immediacy)</th>\n",
       "      <td></td>\n",
       "      <td>x</td>\n",
       "      <td></td>\n",
       "      <td></td>\n",
       "      <td></td>\n",
       "      <td></td>\n",
       "      <td></td>\n",
       "      <td></td>\n",
       "      <td></td>\n",
       "      <td></td>\n",
       "      <td></td>\n",
       "      <td></td>\n",
       "      <td></td>\n",
       "      <td></td>\n",
       "    </tr>\n",
       "    <tr>\n",
       "      <th>Identity of knower and known</th>\n",
       "      <td>x</td>\n",
       "      <td></td>\n",
       "      <td>x</td>\n",
       "      <td></td>\n",
       "      <td></td>\n",
       "      <td></td>\n",
       "      <td></td>\n",
       "      <td></td>\n",
       "      <td></td>\n",
       "      <td></td>\n",
       "      <td></td>\n",
       "      <td></td>\n",
       "      <td></td>\n",
       "      <td></td>\n",
       "    </tr>\n",
       "    <tr>\n",
       "      <th>Propter quod unumquodque tale et illud magis</th>\n",
       "      <td></td>\n",
       "      <td></td>\n",
       "      <td>x</td>\n",
       "      <td>x</td>\n",
       "      <td></td>\n",
       "      <td></td>\n",
       "      <td></td>\n",
       "      <td></td>\n",
       "      <td></td>\n",
       "      <td></td>\n",
       "      <td></td>\n",
       "      <td></td>\n",
       "      <td></td>\n",
       "      <td></td>\n",
       "    </tr>\n",
       "    <tr>\n",
       "      <th>Science about a substance which contains parts and properties</th>\n",
       "      <td></td>\n",
       "      <td>x</td>\n",
       "      <td></td>\n",
       "      <td></td>\n",
       "      <td>x</td>\n",
       "      <td></td>\n",
       "      <td></td>\n",
       "      <td></td>\n",
       "      <td></td>\n",
       "      <td></td>\n",
       "      <td></td>\n",
       "      <td></td>\n",
       "      <td></td>\n",
       "      <td></td>\n",
       "    </tr>\n",
       "    <tr>\n",
       "      <th>Science of form and perfection</th>\n",
       "      <td></td>\n",
       "      <td></td>\n",
       "      <td></td>\n",
       "      <td></td>\n",
       "      <td></td>\n",
       "      <td>x</td>\n",
       "      <td></td>\n",
       "      <td></td>\n",
       "      <td></td>\n",
       "      <td></td>\n",
       "      <td></td>\n",
       "      <td></td>\n",
       "      <td></td>\n",
       "      <td></td>\n",
       "    </tr>\n",
       "    <tr>\n",
       "      <th>Science through self-reflection</th>\n",
       "      <td>x</td>\n",
       "      <td></td>\n",
       "      <td>x</td>\n",
       "      <td></td>\n",
       "      <td>x</td>\n",
       "      <td></td>\n",
       "      <td>x</td>\n",
       "      <td>x</td>\n",
       "      <td>x</td>\n",
       "      <td></td>\n",
       "      <td></td>\n",
       "      <td></td>\n",
       "      <td></td>\n",
       "      <td></td>\n",
       "    </tr>\n",
       "    <tr>\n",
       "      <th>Science through subject, properties, principles</th>\n",
       "      <td></td>\n",
       "      <td></td>\n",
       "      <td>x</td>\n",
       "      <td></td>\n",
       "      <td>x</td>\n",
       "      <td>x</td>\n",
       "      <td>x</td>\n",
       "      <td>x</td>\n",
       "      <td></td>\n",
       "      <td>x</td>\n",
       "      <td>x</td>\n",
       "      <td>x</td>\n",
       "      <td>x</td>\n",
       "      <td></td>\n",
       "    </tr>\n",
       "    <tr>\n",
       "      <th>Soul indirectly available to sense perception</th>\n",
       "      <td>x</td>\n",
       "      <td></td>\n",
       "      <td>x</td>\n",
       "      <td>x</td>\n",
       "      <td></td>\n",
       "      <td>x</td>\n",
       "      <td></td>\n",
       "      <td></td>\n",
       "      <td></td>\n",
       "      <td>x</td>\n",
       "      <td>x</td>\n",
       "      <td></td>\n",
       "      <td></td>\n",
       "      <td></td>\n",
       "    </tr>\n",
       "    <tr>\n",
       "      <th>Substantial knowledge from accidents</th>\n",
       "      <td>x</td>\n",
       "      <td></td>\n",
       "      <td>x</td>\n",
       "      <td>x</td>\n",
       "      <td>x</td>\n",
       "      <td></td>\n",
       "      <td>x</td>\n",
       "      <td>x</td>\n",
       "      <td></td>\n",
       "      <td>x</td>\n",
       "      <td>x</td>\n",
       "      <td>x</td>\n",
       "      <td></td>\n",
       "      <td>x</td>\n",
       "    </tr>\n",
       "    <tr>\n",
       "      <th>There can be science about everything with intelligible essence or definition</th>\n",
       "      <td></td>\n",
       "      <td></td>\n",
       "      <td></td>\n",
       "      <td></td>\n",
       "      <td>x</td>\n",
       "      <td></td>\n",
       "      <td></td>\n",
       "      <td></td>\n",
       "      <td></td>\n",
       "      <td></td>\n",
       "      <td></td>\n",
       "      <td></td>\n",
       "      <td></td>\n",
       "      <td></td>\n",
       "    </tr>\n",
       "  </tbody>\n",
       "</table>\n",
       "</div>"
      ],
      "text/plain": [
       "                                                   Anonymus Bernardini  \\\n",
       "Certain science about simple subject                                 x   \n",
       "Four requirements of a science (universal, inco...                       \n",
       "Identity of knower and known                                         x   \n",
       "Propter quod unumquodque tale et illud magis                             \n",
       "Science about a substance which contains parts ...                       \n",
       "Science of form and perfection                                           \n",
       "Science through self-reflection                                      x   \n",
       "Science through subject, properties, principles                          \n",
       "Soul indirectly available to sense perception                        x   \n",
       "Substantial knowledge from accidents                                 x   \n",
       "There can be science about everything with inte...                       \n",
       "\n",
       "                                                   Anonymus Steenberghen  \\\n",
       "Certain science about simple subject                                       \n",
       "Four requirements of a science (universal, inco...                     x   \n",
       "Identity of knower and known                                               \n",
       "Propter quod unumquodque tale et illud magis                               \n",
       "Science about a substance which contains parts ...                     x   \n",
       "Science of form and perfection                                             \n",
       "Science through self-reflection                                            \n",
       "Science through subject, properties, principles                            \n",
       "Soul indirectly available to sense perception                              \n",
       "Substantial knowledge from accidents                                       \n",
       "There can be science about everything with inte...                         \n",
       "\n",
       "                                                   Anonymus Mertoniensis 275  \\\n",
       "Certain science about simple subject                                           \n",
       "Four requirements of a science (universal, inco...                             \n",
       "Identity of knower and known                                               x   \n",
       "Propter quod unumquodque tale et illud magis                               x   \n",
       "Science about a substance which contains parts ...                             \n",
       "Science of form and perfection                                                 \n",
       "Science through self-reflection                                            x   \n",
       "Science through subject, properties, principles                            x   \n",
       "Soul indirectly available to sense perception                              x   \n",
       "Substantial knowledge from accidents                                       x   \n",
       "There can be science about everything with inte...                             \n",
       "\n",
       "                                                   Anonymus Vennebusch  \\\n",
       "Certain science about simple subject                                     \n",
       "Four requirements of a science (universal, inco...                       \n",
       "Identity of knower and known                                             \n",
       "Propter quod unumquodque tale et illud magis                         x   \n",
       "Science about a substance which contains parts ...                       \n",
       "Science of form and perfection                                           \n",
       "Science through self-reflection                                          \n",
       "Science through subject, properties, principles                          \n",
       "Soul indirectly available to sense perception                        x   \n",
       "Substantial knowledge from accidents                                 x   \n",
       "There can be science about everything with inte...                       \n",
       "\n",
       "                                                   Anonymus Vat. Lat. 2170 I  \\\n",
       "Certain science about simple subject                                           \n",
       "Four requirements of a science (universal, inco...                             \n",
       "Identity of knower and known                                                   \n",
       "Propter quod unumquodque tale et illud magis                                   \n",
       "Science about a substance which contains parts ...                         x   \n",
       "Science of form and perfection                                                 \n",
       "Science through self-reflection                                            x   \n",
       "Science through subject, properties, principles                            x   \n",
       "Soul indirectly available to sense perception                                  \n",
       "Substantial knowledge from accidents                                       x   \n",
       "There can be science about everything with inte...                         x   \n",
       "\n",
       "                                                   Henric de la Wyle  \\\n",
       "Certain science about simple subject                                   \n",
       "Four requirements of a science (universal, inco...                     \n",
       "Identity of knower and known                                           \n",
       "Propter quod unumquodque tale et illud magis                           \n",
       "Science about a substance which contains parts ...                     \n",
       "Science of form and perfection                                     x   \n",
       "Science through self-reflection                                        \n",
       "Science through subject, properties, principles                    x   \n",
       "Soul indirectly available to sense perception                      x   \n",
       "Substantial knowledge from accidents                                   \n",
       "There can be science about everything with inte...                     \n",
       "\n",
       "                                                   Radulphus Brito  \\\n",
       "Certain science about simple subject                                 \n",
       "Four requirements of a science (universal, inco...                   \n",
       "Identity of knower and known                                         \n",
       "Propter quod unumquodque tale et illud magis                         \n",
       "Science about a substance which contains parts ...                   \n",
       "Science of form and perfection                                       \n",
       "Science through self-reflection                                  x   \n",
       "Science through subject, properties, principles                  x   \n",
       "Soul indirectly available to sense perception                        \n",
       "Substantial knowledge from accidents                             x   \n",
       "There can be science about everything with inte...                   \n",
       "\n",
       "                                                   Simon of Faversham  \\\n",
       "Certain science about simple subject                                    \n",
       "Four requirements of a science (universal, inco...                      \n",
       "Identity of knower and known                                            \n",
       "Propter quod unumquodque tale et illud magis                            \n",
       "Science about a substance which contains parts ...                      \n",
       "Science of form and perfection                                          \n",
       "Science through self-reflection                                     x   \n",
       "Science through subject, properties, principles                     x   \n",
       "Soul indirectly available to sense perception                           \n",
       "Substantial knowledge from accidents                                x   \n",
       "There can be science about everything with inte...                      \n",
       "\n",
       "                                                   Anonymus Bazan I  \\\n",
       "Certain science about simple subject                                  \n",
       "Four requirements of a science (universal, inco...                    \n",
       "Identity of knower and known                                          \n",
       "Propter quod unumquodque tale et illud magis                          \n",
       "Science about a substance which contains parts ...                    \n",
       "Science of form and perfection                                        \n",
       "Science through self-reflection                                   x   \n",
       "Science through subject, properties, principles                       \n",
       "Soul indirectly available to sense perception                         \n",
       "Substantial knowledge from accidents                                  \n",
       "There can be science about everything with inte...                    \n",
       "\n",
       "                                                   Anonymus Oriel 33  \\\n",
       "Certain science about simple subject                                   \n",
       "Four requirements of a science (universal, inco...                     \n",
       "Identity of knower and known                                           \n",
       "Propter quod unumquodque tale et illud magis                           \n",
       "Science about a substance which contains parts ...                     \n",
       "Science of form and perfection                                         \n",
       "Science through self-reflection                                        \n",
       "Science through subject, properties, principles                    x   \n",
       "Soul indirectly available to sense perception                      x   \n",
       "Substantial knowledge from accidents                               x   \n",
       "There can be science about everything with inte...                     \n",
       "\n",
       "                                                   John Dinsdale  \\\n",
       "Certain science about simple subject                               \n",
       "Four requirements of a science (universal, inco...                 \n",
       "Identity of knower and known                                       \n",
       "Propter quod unumquodque tale et illud magis                       \n",
       "Science about a substance which contains parts ...                 \n",
       "Science of form and perfection                                     \n",
       "Science through self-reflection                                    \n",
       "Science through subject, properties, principles                x   \n",
       "Soul indirectly available to sense perception                  x   \n",
       "Substantial knowledge from accidents                           x   \n",
       "There can be science about everything with inte...                 \n",
       "\n",
       "                                                   John of Jandun  \\\n",
       "Certain science about simple subject                                \n",
       "Four requirements of a science (universal, inco...                  \n",
       "Identity of knower and known                                        \n",
       "Propter quod unumquodque tale et illud magis                        \n",
       "Science about a substance which contains parts ...                  \n",
       "Science of form and perfection                                      \n",
       "Science through self-reflection                                     \n",
       "Science through subject, properties, principles                 x   \n",
       "Soul indirectly available to sense perception                       \n",
       "Substantial knowledge from accidents                            x   \n",
       "There can be science about everything with inte...                  \n",
       "\n",
       "                                                   Anonymus Vat. Lat. 2170 II  \\\n",
       "Certain science about simple subject                                            \n",
       "Four requirements of a science (universal, inco...                              \n",
       "Identity of knower and known                                                    \n",
       "Propter quod unumquodque tale et illud magis                                    \n",
       "Science about a substance which contains parts ...                              \n",
       "Science of form and perfection                                                  \n",
       "Science through self-reflection                                                 \n",
       "Science through subject, properties, principles                             x   \n",
       "Soul indirectly available to sense perception                                   \n",
       "Substantial knowledge from accidents                                            \n",
       "There can be science about everything with inte...                              \n",
       "\n",
       "                                                   Anonymus Giele  \n",
       "Certain science about simple subject                               \n",
       "Four requirements of a science (universal, inco...                 \n",
       "Identity of knower and known                                       \n",
       "Propter quod unumquodque tale et illud magis                       \n",
       "Science about a substance which contains parts ...                 \n",
       "Science of form and perfection                                     \n",
       "Science through self-reflection                                    \n",
       "Science through subject, properties, principles                    \n",
       "Soul indirectly available to sense perception                      \n",
       "Substantial knowledge from accidents                            x  \n",
       "There can be science about everything with inte...                 "
      ]
     },
     "execution_count": 33,
     "metadata": {},
     "output_type": "execute_result"
    }
   ],
   "source": [
    "def create_matrix(numeric=True):\n",
    "    matrix = {}\n",
    "    if numeric:\n",
    "        true_val = 1\n",
    "        false_val = 0\n",
    "    else:\n",
    "        true_val = 'x'\n",
    "        false_val = ''\n",
    "        \n",
    "    for author in author_names:\n",
    "        matrix[author] = []\n",
    "        adocs = determination_doctrines_of(author)\n",
    "        for doc in all_docs:\n",
    "            if doc in adocs:\n",
    "                matrix[author].append(true_val)\n",
    "            else:\n",
    "                matrix[author].append(false_val)\n",
    "    sorted_names = sorted(matrix, key=matrix.get, reverse=True)\n",
    "    m = [matrix[key] for key in sorted_names]\n",
    "    m = [list(i) for i in zip(*m)]\n",
    "    return pd.DataFrame(m, columns=sorted_names, index=all_docs)\n",
    "\n",
    "create_matrix(numeric=False)"
   ]
  },
  {
   "cell_type": "markdown",
   "metadata": {},
   "source": [
    "I can sort the sum of the DataFrame like this, but I can't figure out how to sort the columns by that."
   ]
  },
  {
   "cell_type": "code",
   "execution_count": 34,
   "metadata": {
    "scrolled": true
   },
   "outputs": [
    {
     "data": {
      "text/plain": [
       "Anonymus Mertoniensis 275     6\n",
       "Anonymus Vat. Lat. 2170 I     5\n",
       "Anonymus Bernardini           5\n",
       "John Dinsdale                 3\n",
       "Anonymus Oriel 33             3\n",
       "Simon of Faversham            3\n",
       "Radulphus Brito               3\n",
       "Henric de la Wyle             3\n",
       "Anonymus Vennebusch           3\n",
       "John of Jandun                2\n",
       "Anonymus Steenberghen         2\n",
       "Anonymus Giele                1\n",
       "Anonymus Vat. Lat. 2170 II    1\n",
       "Anonymus Bazan I              1\n",
       "dtype: int64"
      ]
     },
     "execution_count": 34,
     "metadata": {},
     "output_type": "execute_result"
    }
   ],
   "source": [
    "\n",
    "df = create_matrix(numeric=True)\n",
    "sums = df.sum().sort_values(ascending=False)\n",
    "sums"
   ]
  },
  {
   "cell_type": "code",
   "execution_count": 35,
   "metadata": {},
   "outputs": [],
   "source": [
    "#print(sums.to_latex())"
   ]
  },
  {
   "cell_type": "markdown",
   "metadata": {},
   "source": [
    "What is the mean amount of doctrines?"
   ]
  },
  {
   "cell_type": "code",
   "execution_count": 36,
   "metadata": {},
   "outputs": [
    {
     "data": {
      "text/plain": [
       "2.9285714285714284"
      ]
     },
     "execution_count": 36,
     "metadata": {},
     "output_type": "execute_result"
    }
   ],
   "source": [
    "df.sum().mean()"
   ]
  },
  {
   "cell_type": "code",
   "execution_count": 37,
   "metadata": {},
   "outputs": [
    {
     "data": {
      "text/plain": [
       "<matplotlib.axes._subplots.AxesSubplot at 0x117410208>"
      ]
     },
     "execution_count": 37,
     "metadata": {},
     "output_type": "execute_result"
    },
    {
     "data": {
      "image/png": "[encoded data removed]",
      "text/plain": [
       "<matplotlib.figure.Figure at 0x11702ca20>"
      ]
     },
     "metadata": {},
     "output_type": "display_data"
    }
   ],
   "source": [
    "sns.distplot(df.sum())"
   ]
  },
  {
   "cell_type": "markdown",
   "metadata": {},
   "source": [
    "### Popularity of arguments"
   ]
  },
  {
   "cell_type": "code",
   "execution_count": 38,
   "metadata": {},
   "outputs": [
    {
     "data": {
      "text/plain": [
       "Substantial knowledge from accidents                                                                       10\n",
       "Science through subject, properties, principles                                                             9\n",
       "Soul indirectly available to sense perception                                                               6\n",
       "Science through self-reflection                                                                             6\n",
       "Science about a substance which contains parts and properties                                               2\n",
       "Propter quod unumquodque tale et illud magis                                                                2\n",
       "Identity of knower and known                                                                                2\n",
       "There can be science about everything with intelligible essence or definition                               1\n",
       "Science of form and perfection                                                                              1\n",
       "Four requirements of a science (universal, incorruptible, parts and properties, intellectual immediacy)     1\n",
       "Certain science about simple subject                                                                        1\n",
       "dtype: int64"
      ]
     },
     "execution_count": 38,
     "metadata": {},
     "output_type": "execute_result"
    }
   ],
   "source": [
    "df.sum(axis=1).sort_values(ascending=False)"
   ]
  },
  {
   "cell_type": "markdown",
   "metadata": {},
   "source": [
    "# Binary matrix cluster analysis\n",
    "So what if we take the binary matrix representing the presence or absence of a doctrine and use that for clustering?\n",
    "I have used this as an inspiration: https://stats.stackexchange.com/questions/222492/any-distance-measures-that-are-more-useful-for-binary-data-clustering.\n",
    "As suggested in the post we use the Hamming metric for distance measuring, as that just counts the number of coordinates that differ. AS it is also mentioned in the scipy documentation it can therefore be used for boolean matrices (https://docs.scipy.org/doc/scipy/reference/generated/scipy.spatial.distance.pdist.html)."
   ]
  },
  {
   "cell_type": "code",
   "execution_count": 39,
   "metadata": {
    "scrolled": false
   },
   "outputs": [
    {
     "data": {
      "image/png": "[encoded data removed]",
      "text/plain": [
       "<matplotlib.figure.Figure at 0x1173c7e10>"
      ]
     },
     "metadata": {},
     "output_type": "display_data"
    }
   ],
   "source": [
    "df = create_matrix(numeric=True)\n",
    "\n",
    "# Generate a custom diverging colormap\n",
    "cmap = sns.light_palette((210, 90, 60), input=\"husl\")\n",
    "\n",
    "# Draw the heatmap with the mask and correct aspect ratio\n",
    "plot = sns.clustermap(df, cmap=cmap, linewidths=.5, row_cluster=False, metric='hamming')\n",
    "\n",
    "for _, ax in enumerate(plot.fig.axes):\n",
    "    ax.set_xticklabels(ax.get_xticklabels(), rotation = 45, horizontalalignment='right')"
   ]
  },
  {
   "cell_type": "markdown",
   "metadata": {},
   "source": [
    "# Positive doctrines (determinations and rationes)"
   ]
  },
  {
   "cell_type": "code",
   "execution_count": 40,
   "metadata": {},
   "outputs": [
    {
     "data": {
      "text/plain": [
       "2"
      ]
     },
     "execution_count": 40,
     "metadata": {},
     "output_type": "execute_result"
    }
   ],
   "source": [
    "def count_unique_positive_doctrines(name):\n",
    "    q = (\"MATCH (a:Author)--(:Text)--(q:Question)--(d:Doctrine)\"\n",
    "         \"WHERE a.name = '%s'\"\n",
    "         \"AND (d)-[:ATTACKS]->(:Doctrine {name:'There can be a science of the soul'})\"\n",
    "         \"AND NOT (:Question)--(d)--(q:Question)\"\n",
    "         \"RETURN count(distinct d)\" % (name))\n",
    "    try:\n",
    "        return run_query(q).single()[0]\n",
    "    except TypeError:\n",
    "        return 0\n",
    "\n",
    "# Example\n",
    "count_unique_positive_doctrines('John of Jandun')"
   ]
  },
  {
   "cell_type": "code",
   "execution_count": 41,
   "metadata": {},
   "outputs": [
    {
     "data": {
      "text/plain": [
       "6"
      ]
     },
     "execution_count": 41,
     "metadata": {},
     "output_type": "execute_result"
    }
   ],
   "source": [
    "def count_shared_positive_doctrines(name):\n",
    "    q = (\"MATCH (a:Author)--(:Text)--(q:Question)--(d:Doctrine)\"\n",
    "         \"WHERE a.name = '%s' and not(a.name = 'Aristotle')\"\n",
    "         \"AND NOT (d)-[:ATTACKS]->(:Doctrine {name:'There can be a science of the soul'})\"\n",
    "         \"MATCH (q1:Question)--(d)\"\n",
    "         \"WHERE (q1) <> (q)\"\n",
    "         \"RETURN count(distinct d), collect(distinct d.name)\" % (name))\n",
    "    try:\n",
    "        return run_query(q).single()[0]\n",
    "    except TypeError:\n",
    "        return 0\n",
    "\n",
    "# Example\n",
    "count_shared_positive_doctrines('John of Jandun')"
   ]
  },
  {
   "cell_type": "markdown",
   "metadata": {},
   "source": [
    "Proportion unique of all doctrines"
   ]
  },
  {
   "cell_type": "code",
   "execution_count": 42,
   "metadata": {},
   "outputs": [
    {
     "data": {
      "text/plain": [
       "0.25"
      ]
     },
     "execution_count": 42,
     "metadata": {},
     "output_type": "execute_result"
    }
   ],
   "source": [
    "def unique_to_shared_proportion(name):\n",
    "    unique = count_unique_positive_doctrines(name)\n",
    "    shared = count_shared_positive_doctrines(name)\n",
    "    try:\n",
    "        return unique / (unique + shared)\n",
    "    except ZeroDivisionError:\n",
    "        return 0\n",
    "    \n",
    "# Example\n",
    "unique_to_shared_proportion('John of Jandun')"
   ]
  },
  {
   "cell_type": "markdown",
   "metadata": {},
   "source": [
    "Now let's get the values of these for all the commentators and put them into a matrix."
   ]
  },
  {
   "cell_type": "code",
   "execution_count": 43,
   "metadata": {},
   "outputs": [],
   "source": [
    "def unique_shared_positive_all(authors):\n",
    "    d = {}\n",
    "    for a in authors:\n",
    "        unique = count_unique_positive_doctrines(a)\n",
    "        shared = count_shared_positive_doctrines(a)\n",
    "        prop = unique_to_shared_proportion(a)\n",
    "        \n",
    "        d[a] = [unique, shared, unique + shared, round(prop, 2)]\n",
    "    return d\n",
    "\n",
    "# Example\n",
    "m = unique_shared_positive_all(author_names)"
   ]
  },
  {
   "cell_type": "markdown",
   "metadata": {},
   "source": [
    "Put this in a DataFrame and sort according to most unique."
   ]
  },
  {
   "cell_type": "code",
   "execution_count": 44,
   "metadata": {},
   "outputs": [
    {
     "data": {
      "text/html": [
       "<div>\n",
       "<style scoped>\n",
       "    .dataframe tbody tr th:only-of-type {\n",
       "        vertical-align: middle;\n",
       "    }\n",
       "\n",
       "    .dataframe tbody tr th {\n",
       "        vertical-align: top;\n",
       "    }\n",
       "\n",
       "    .dataframe thead th {\n",
       "        text-align: right;\n",
       "    }\n",
       "</style>\n",
       "<table border=\"1\" class=\"dataframe\">\n",
       "  <thead>\n",
       "    <tr style=\"text-align: right;\">\n",
       "      <th></th>\n",
       "      <th>Unique</th>\n",
       "      <th>Shared</th>\n",
       "      <th>Sum</th>\n",
       "      <th>Proportion</th>\n",
       "    </tr>\n",
       "  </thead>\n",
       "  <tbody>\n",
       "    <tr>\n",
       "      <th>Anonymus Mertoniensis 275</th>\n",
       "      <td>2</td>\n",
       "      <td>11</td>\n",
       "      <td>13</td>\n",
       "      <td>0.15</td>\n",
       "    </tr>\n",
       "    <tr>\n",
       "      <th>Simon of Faversham</th>\n",
       "      <td>1</td>\n",
       "      <td>9</td>\n",
       "      <td>10</td>\n",
       "      <td>0.10</td>\n",
       "    </tr>\n",
       "    <tr>\n",
       "      <th>Anonymus Oriel 33</th>\n",
       "      <td>0</td>\n",
       "      <td>9</td>\n",
       "      <td>9</td>\n",
       "      <td>0.00</td>\n",
       "    </tr>\n",
       "    <tr>\n",
       "      <th>Henric de la Wyle</th>\n",
       "      <td>1</td>\n",
       "      <td>8</td>\n",
       "      <td>9</td>\n",
       "      <td>0.11</td>\n",
       "    </tr>\n",
       "    <tr>\n",
       "      <th>Radulphus Brito</th>\n",
       "      <td>1</td>\n",
       "      <td>8</td>\n",
       "      <td>9</td>\n",
       "      <td>0.11</td>\n",
       "    </tr>\n",
       "    <tr>\n",
       "      <th>Anonymus Vat. Lat. 2170 I</th>\n",
       "      <td>0</td>\n",
       "      <td>8</td>\n",
       "      <td>8</td>\n",
       "      <td>0.00</td>\n",
       "    </tr>\n",
       "    <tr>\n",
       "      <th>John Dinsdale</th>\n",
       "      <td>0</td>\n",
       "      <td>8</td>\n",
       "      <td>8</td>\n",
       "      <td>0.00</td>\n",
       "    </tr>\n",
       "    <tr>\n",
       "      <th>John of Jandun</th>\n",
       "      <td>2</td>\n",
       "      <td>6</td>\n",
       "      <td>8</td>\n",
       "      <td>0.25</td>\n",
       "    </tr>\n",
       "    <tr>\n",
       "      <th>Anonymus Bernardini</th>\n",
       "      <td>0</td>\n",
       "      <td>7</td>\n",
       "      <td>7</td>\n",
       "      <td>0.00</td>\n",
       "    </tr>\n",
       "    <tr>\n",
       "      <th>Anonymus Vennebusch</th>\n",
       "      <td>1</td>\n",
       "      <td>6</td>\n",
       "      <td>7</td>\n",
       "      <td>0.14</td>\n",
       "    </tr>\n",
       "    <tr>\n",
       "      <th>Anonymus Vat. Lat. 2170 II</th>\n",
       "      <td>0</td>\n",
       "      <td>5</td>\n",
       "      <td>5</td>\n",
       "      <td>0.00</td>\n",
       "    </tr>\n",
       "    <tr>\n",
       "      <th>Anonymus Giele</th>\n",
       "      <td>0</td>\n",
       "      <td>4</td>\n",
       "      <td>4</td>\n",
       "      <td>0.00</td>\n",
       "    </tr>\n",
       "    <tr>\n",
       "      <th>Anonymus Bazan I</th>\n",
       "      <td>0</td>\n",
       "      <td>3</td>\n",
       "      <td>3</td>\n",
       "      <td>0.00</td>\n",
       "    </tr>\n",
       "    <tr>\n",
       "      <th>Anonymus Steenberghen</th>\n",
       "      <td>0</td>\n",
       "      <td>3</td>\n",
       "      <td>3</td>\n",
       "      <td>0.00</td>\n",
       "    </tr>\n",
       "  </tbody>\n",
       "</table>\n",
       "</div>"
      ],
      "text/plain": [
       "                            Unique  Shared  Sum  Proportion\n",
       "Anonymus Mertoniensis 275        2      11   13        0.15\n",
       "Simon of Faversham               1       9   10        0.10\n",
       "Anonymus Oriel 33                0       9    9        0.00\n",
       "Henric de la Wyle                1       8    9        0.11\n",
       "Radulphus Brito                  1       8    9        0.11\n",
       "Anonymus Vat. Lat. 2170 I        0       8    8        0.00\n",
       "John Dinsdale                    0       8    8        0.00\n",
       "John of Jandun                   2       6    8        0.25\n",
       "Anonymus Bernardini              0       7    7        0.00\n",
       "Anonymus Vennebusch              1       6    7        0.14\n",
       "Anonymus Vat. Lat. 2170 II       0       5    5        0.00\n",
       "Anonymus Giele                   0       4    4        0.00\n",
       "Anonymus Bazan I                 0       3    3        0.00\n",
       "Anonymus Steenberghen            0       3    3        0.00"
      ]
     },
     "execution_count": 44,
     "metadata": {},
     "output_type": "execute_result"
    }
   ],
   "source": [
    "df = pd.DataFrame(m, index=['Unique', 'Shared', 'Sum', 'Proportion'])\n",
    "df = df.T.sort_values(by='Sum', ascending=False)\n",
    "df[['Unique', 'Shared', 'Sum']] = df[['Unique', 'Shared', 'Sum']].apply(np.int64)\n",
    "df"
   ]
  },
  {
   "cell_type": "code",
   "execution_count": 45,
   "metadata": {},
   "outputs": [],
   "source": [
    "# Some saving could be set up here...\n",
    "save_table('../thesis/data/tables/sci-determinations-quantities.tex', df.to_latex(), \n",
    "           caption='Unique, shared, total, and proportion of unique to shared doctrines in determinations.',\n",
    "           label='tab:sci:determ:quantities')"
   ]
  },
  {
   "cell_type": "code",
   "execution_count": 46,
   "metadata": {},
   "outputs": [
    {
     "data": {
      "text/plain": [
       "Unique      8\n",
       "Shared     95\n",
       "Sum       103\n",
       "dtype: int64"
      ]
     },
     "execution_count": 46,
     "metadata": {},
     "output_type": "execute_result"
    }
   ],
   "source": [
    "# The sums?\n",
    "df[['Unique', 'Shared', 'Sum']].sum()"
   ]
  },
  {
   "cell_type": "code",
   "execution_count": 47,
   "metadata": {},
   "outputs": [
    {
     "data": {
      "text/plain": [
       "35"
      ]
     },
     "execution_count": 47,
     "metadata": {},
     "output_type": "execute_result"
    }
   ],
   "source": [
    "# Number of distinct rationes\n",
    "doctrine_count = run_query('MATCH (d:Doctrine)'\n",
    "                           'WHERE NOT (d)-[:ATTACKS]->(:Doctrine {name:\"There can be a science of the soul\"})'\n",
    "                           'AND NOT d.name=\"There can be a science of the soul\"'\n",
    "                           'RETURN count(DISTINCT d)').single()[0]\n",
    "doctrine_count"
   ]
  },
  {
   "cell_type": "code",
   "execution_count": 48,
   "metadata": {},
   "outputs": [
    {
     "data": {
      "text/plain": [
       "0.22857142857142856"
      ]
     },
     "execution_count": 48,
     "metadata": {},
     "output_type": "execute_result"
    }
   ],
   "source": [
    "# Proportion of unique\n",
    "df['Unique'].sum() / doctrine_count"
   ]
  },
  {
   "cell_type": "code",
   "execution_count": 49,
   "metadata": {},
   "outputs": [
    {
     "data": {
      "text/plain": [
       "0.07766990291262135"
      ]
     },
     "execution_count": 49,
     "metadata": {},
     "output_type": "execute_result"
    }
   ],
   "source": [
    "# Proportion of unique instances\n",
    "df['Unique'].sum() / df['Sum'].sum()"
   ]
  },
  {
   "cell_type": "code",
   "execution_count": 50,
   "metadata": {},
   "outputs": [
    {
     "data": {
      "text/plain": [
       "3.8"
      ]
     },
     "execution_count": 50,
     "metadata": {},
     "output_type": "execute_result"
    }
   ],
   "source": [
    "# Average use number of non-uniques\n",
    "round(df['Sum'].sum() / (doctrine_count - df['Unique'].sum()), 1)"
   ]
  },
  {
   "cell_type": "markdown",
   "metadata": {},
   "source": [
    "## Proportional distribution matrix"
   ]
  },
  {
   "cell_type": "code",
   "execution_count": 51,
   "metadata": {},
   "outputs": [
    {
     "data": {
      "text/plain": [
       "{'Anonymus Bazan I': 2,\n",
       " 'Anonymus Bernardini': 2,\n",
       " 'Anonymus Mertoniensis 275': 2,\n",
       " 'Anonymus Oriel 33': 2,\n",
       " 'Anonymus Steenberghen': 1,\n",
       " 'Anonymus Vat. Lat. 2170 I': 4,\n",
       " 'Anonymus Vat. Lat. 2170 II': 2,\n",
       " 'Anonymus Vennebusch': 2,\n",
       " 'Henric de la Wyle': 2,\n",
       " 'John Dinsdale': 2,\n",
       " 'John of Jandun': 4,\n",
       " 'Radulphus Brito': 3,\n",
       " 'Simon of Faversham': 4}"
      ]
     },
     "execution_count": 51,
     "metadata": {},
     "output_type": "execute_result"
    }
   ],
   "source": [
    "def number_shared_positive_doctrines(name):\n",
    "    with driver.session() as session:\n",
    "        with session.begin_transaction() as tx:\n",
    "            res = tx.run(\"MATCH (d:Doctrine) WHERE NOT (d)-[:ATTACKS]->(:Doctrine {name:'There can be a science of the soul'})\"\n",
    "                         \"MATCH (a:Author)--(:Text)--(q:Question)--(d)--(:Question)--(:Text)--(a2:Author)\"\n",
    "                         \"WHERE a.name = {name}\"\n",
    "                         \"RETURN a2.name, count(distinct d)\", name=name)\n",
    "            return {r[0]: r[1] for r in res}\n",
    "\n",
    "number_shared_positive_doctrines('Anonymus Giele')"
   ]
  },
  {
   "cell_type": "code",
   "execution_count": 52,
   "metadata": {},
   "outputs": [
    {
     "data": {
      "text/plain": [
       "{'Anonymus Bazan I': 0.03125,\n",
       " 'Anonymus Bernardini': 0.2222222222222222,\n",
       " 'Anonymus Giele': 0.125,\n",
       " 'Anonymus Mertoniensis 275': 0.34615384615384615,\n",
       " 'Anonymus Oriel 33': 0.8888888888888888,\n",
       " 'Anonymus Steenberghen': 0.025,\n",
       " 'Anonymus Vat. Lat. 2170 I': 0.125,\n",
       " 'Anonymus Vat. Lat. 2170 II': 0.1,\n",
       " 'Anonymus Vennebusch': 0.1875,\n",
       " 'Henric de la Wyle': 0.375,\n",
       " 'John Dinsdale': 1.0,\n",
       " 'John of Jandun': 0.140625,\n",
       " 'Radulphus Brito': 0.140625,\n",
       " 'Simon of Faversham': 0.2222222222222222}"
      ]
     },
     "execution_count": 52,
     "metadata": {},
     "output_type": "execute_result"
    }
   ],
   "source": [
    "def proportion_shared_determination_doctrines(name):\n",
    "    with driver.session() as session:\n",
    "        with session.begin_transaction() as tx:\n",
    "            res = tx.run(\"MATCH (d:Doctrine) WHERE NOT (d)-[:ATTACKS]->(:Doctrine {name:'There can be a science of the soul'})\"\n",
    "                         \"MATCH (a:Author)--(:Text)--(q1:Question)--(d)\"\n",
    "                         \"WHERE a.name = {name}\"\n",
    "                         \"MATCH (d)--(q2:Question)--(:Text)--(a2:Author)\"\n",
    "                         \"MATCH (q1:Question)--(d1:Doctrine) WHERE NOT (d1)-[:ATTACKS]->(:Doctrine {name:'There can be a science of the soul'})\"                         \n",
    "                         \"MATCH (q2:Question)--(d2:Doctrine) WHERE NOT (d2)-[:ATTACKS]->(:Doctrine {name:'There can be a science of the soul'})\"                         \n",
    "                         \"RETURN a2.name, (toFloat(count(distinct d)) / count(distinct d1)) * (toFloat(count(distinct d)) / count(distinct d2))\", name=name)\n",
    "            return {r[0]: r[1] for r in res}\n",
    "\n",
    "proportion_shared_determination_doctrines('John Dinsdale')"
   ]
  },
  {
   "cell_type": "code",
   "execution_count": 53,
   "metadata": {},
   "outputs": [
    {
     "data": {
      "text/plain": [
       "['Anonymus Bazan I',\n",
       " 'Anonymus Bernardini',\n",
       " 'Anonymus Giele',\n",
       " 'Anonymus Mertoniensis 275',\n",
       " 'Anonymus Oriel 33',\n",
       " 'Anonymus Steenberghen',\n",
       " 'Anonymus Vat. Lat. 2170 I',\n",
       " 'Anonymus Vat. Lat. 2170 II',\n",
       " 'Anonymus Vennebusch',\n",
       " 'Henric de la Wyle',\n",
       " 'John Dinsdale',\n",
       " 'John of Jandun',\n",
       " 'Radulphus Brito',\n",
       " 'Simon of Faversham']"
      ]
     },
     "execution_count": 53,
     "metadata": {},
     "output_type": "execute_result"
    }
   ],
   "source": [
    "author_names"
   ]
  },
  {
   "cell_type": "code",
   "execution_count": 54,
   "metadata": {},
   "outputs": [],
   "source": [
    "\n",
    "def build_matrix(authors, docfunc=proportion_shared_determination_doctrines):\n",
    "    matrix = {}\n",
    "    for author in authors:\n",
    "        matrix[author] = []\n",
    "        values = docfunc(author)\n",
    "        for name in authors:\n",
    "            if name in values:\n",
    "                matrix[author].append(values[name])\n",
    "            else:\n",
    "                matrix[author].append(0)\n",
    "    return matrix\n",
    "\n",
    "d = build_matrix(author_names)\n",
    "            "
   ]
  },
  {
   "cell_type": "code",
   "execution_count": 55,
   "metadata": {},
   "outputs": [
    {
     "data": {
      "image/png": "[encoded data removed]",
      "text/plain": [
       "<matplotlib.figure.Figure at 0x1185299b0>"
      ]
     },
     "metadata": {},
     "output_type": "display_data"
    }
   ],
   "source": [
    "df = pd.DataFrame(d, index=author_names)\n",
    "\n",
    "# Generate a custom diverging colormap\n",
    "cmap = sns.light_palette((210, 90, 60), as_cmap=True, input=\"husl\")\n",
    "\n",
    "# Draw the heatmap with the mask and correct aspect ratio\n",
    "plot = sns.clustermap(df, cmap=cmap, linewidths=.5, row_cluster=True)\n",
    "for _, ax in enumerate(plot.fig.axes):\n",
    "    ax.set_xticklabels(ax.get_xticklabels(), rotation = 45, horizontalalignment='right')\n"
   ]
  },
  {
   "cell_type": "code",
   "execution_count": 56,
   "metadata": {},
   "outputs": [
    {
     "name": "stdout",
     "output_type": "stream",
     "text": [
      "\\begin{figure}\n",
      "\\centering\n",
      "\\includegraphics[width=\\linewidth]{data/figures/science-positive-proportional-clustermap.pdf}\n",
      "\\caption{Proportional clustermap of positive doctrines.}\n",
      "\\label{fig:sci:positive:prop-clustermap}\n",
      "\\end{figure}\n"
     ]
    }
   ],
   "source": [
    "plot.savefig('../thesis/data/figures/science-positive-proportional-clustermap.pdf')\n",
    "print_figure_inclusion(\n",
    "    '../figures/science-positive-proportional-clustermap', plot,\n",
    "    caption='Proportional clustermap of positive doctrines.',\n",
    "    label='fig:sci:positive:prop-clustermap')"
   ]
  },
  {
   "cell_type": "code",
   "execution_count": 57,
   "metadata": {},
   "outputs": [
    {
     "data": {
      "text/plain": [
       "Simon of Faversham            0.3\n",
       "Radulphus Brito               0.3\n",
       "John Dinsdale                 0.3\n",
       "John of Jandun                0.3\n",
       "Anonymus Giele                0.3\n",
       "Anonymus Vat. Lat. 2170 I     0.3\n",
       "Anonymus Oriel 33             0.3\n",
       "Anonymus Vat. Lat. 2170 II    0.2\n",
       "Anonymus Mertoniensis 275     0.2\n",
       "Anonymus Bernardini           0.2\n",
       "Anonymus Bazan I              0.2\n",
       "Henric de la Wyle             0.2\n",
       "Anonymus Vennebusch           0.2\n",
       "Anonymus Steenberghen         0.1\n",
       "dtype: float64"
      ]
     },
     "execution_count": 57,
     "metadata": {},
     "output_type": "execute_result"
    }
   ],
   "source": [
    "# Mean commonality values \n",
    "df.mean().sort_values(ascending=False).round(1)"
   ]
  },
  {
   "cell_type": "code",
   "execution_count": 58,
   "metadata": {},
   "outputs": [
    {
     "data": {
      "text/plain": [
       "Anonymus Bazan I              0.03\n",
       "Anonymus Bernardini           0.22\n",
       "Anonymus Giele                0.12\n",
       "Anonymus Mertoniensis 275     0.35\n",
       "Anonymus Oriel 33             0.89\n",
       "Anonymus Steenberghen         0.02\n",
       "Anonymus Vat. Lat. 2170 I     0.12\n",
       "Anonymus Vat. Lat. 2170 II    0.10\n",
       "Anonymus Vennebusch           0.19\n",
       "Henric de la Wyle             0.38\n",
       "John Dinsdale                 1.00\n",
       "John of Jandun                0.14\n",
       "Radulphus Brito               0.14\n",
       "Simon of Faversham            0.22\n",
       "Name: John Dinsdale, dtype: float64"
      ]
     },
     "execution_count": 58,
     "metadata": {},
     "output_type": "execute_result"
    }
   ],
   "source": [
    "# Dinsdale example\n",
    "dins = df['John Dinsdale'].round(decimals=2)\n",
    "save_table('../thesis/data/tables/dinsdale-fingerprint-positive.tex', dins.to_latex(), \n",
    "           caption='Example of proportional shared profile for positive doctrines of John Dinsdale.',\n",
    "           label='tab:sci:determ:profile-dinsdale')\n",
    "dins"
   ]
  },
  {
   "cell_type": "markdown",
   "metadata": {},
   "source": [
    "# Create doctrinal matrix\n",
    "Here we want to create a matrix table where it can be seen in more detail which doctrines each commentator uses. It is probably a good idea to distinguish between determination doctrines and rationes doctrines."
   ]
  },
  {
   "cell_type": "markdown",
   "metadata": {},
   "source": [
    "First we pull out a list of the names of the doctrines in determinations of each commentator."
   ]
  },
  {
   "cell_type": "code",
   "execution_count": 59,
   "metadata": {},
   "outputs": [
    {
     "data": {
      "text/plain": [
       "['There can be a science of the soul', 'Substantial knowledge from accidents']"
      ]
     },
     "execution_count": 59,
     "metadata": {},
     "output_type": "execute_result"
    }
   ],
   "source": [
    "def determination_doctrines_of(name):\n",
    "    q = (\"MATCH (a:Author)--(t:Text)--(q:Question)--(d:Doctrine)\"\n",
    "         \"WHERE a.name = '%s'\"\n",
    "         \"AND NOT (d)-[:ATTACKS]->(:Doctrine {name:'There can be a science of the soul'})\"\n",
    "         \"AND (d)-[:SUPPORTS|:USES]-()\"\n",
    "         \"RETURN d.name\" % name )\n",
    "    return [t[0] for t in run_query(q).values()]\n",
    "\n",
    "# Example test\n",
    "determination_doctrines_of(\"Anonymus Giele\")"
   ]
  },
  {
   "cell_type": "markdown",
   "metadata": {},
   "source": [
    "Then we create a full list of all the doctrines in determinations."
   ]
  },
  {
   "cell_type": "code",
   "execution_count": 60,
   "metadata": {},
   "outputs": [
    {
     "data": {
      "text/plain": [
       "['Certain science about simple subject',\n",
       " 'Different types of intelligibility',\n",
       " 'Four requirements of a science (universal, incorruptible, parts and properties, intellectual immediacy)',\n",
       " 'Identity of knower and known',\n",
       " 'Intellect is not like senses but has reflexivity',\n",
       " 'Propter quod unumquodque tale et illud magis',\n",
       " 'Science about a substance which contains parts and properties',\n",
       " 'Science from observations of accidents is also science',\n",
       " 'Science of form and perfection',\n",
       " 'Science through self-reflection',\n",
       " 'Science through subject, properties, principles',\n",
       " 'Soul has parts and properties in virtue of its embodied activities',\n",
       " 'Soul indirectly available to sense perception',\n",
       " 'Substantial knowledge from accidents',\n",
       " 'There can be science about everything with intelligible essence or definition',\n",
       " 'Three meanings of science']"
      ]
     },
     "execution_count": 60,
     "metadata": {},
     "output_type": "execute_result"
    }
   ],
   "source": [
    "def all_determination_doctrines():\n",
    "    q = (\"MATCH (d:Doctrine)--(:Question)\"\n",
    "         \"WHERE NOT (d)-[:ATTACKS]->(:Doctrine {name:'There can be a science of the soul'})\"\n",
    "         \"AND (d)-[:SUPPORTS|:USES]-()\"\n",
    "         \"AND NOT d.name = 'There can be a science of the soul'\"\n",
    "         \"RETURN distinct d.name ORDER BY d.name asc\")\n",
    "    return [t[0] for t in run_query(q).values()]\n",
    "\n",
    "all_docs = all_determination_doctrines()\n",
    "\n",
    "# Test output\n",
    "all_docs"
   ]
  },
  {
   "cell_type": "markdown",
   "metadata": {},
   "source": [
    "Now for each author we register how many of the doctrines he ticks off and reads that into a matrix."
   ]
  },
  {
   "cell_type": "code",
   "execution_count": 61,
   "metadata": {},
   "outputs": [],
   "source": [
    "matrix = {}\n",
    "for author in author_names:\n",
    "    matrix[author] = []\n",
    "    adocs = determination_doctrines_of(author)\n",
    "    for doc in all_docs:\n",
    "        if doc in adocs:\n",
    "            matrix[author].append(1)\n",
    "        else:\n",
    "            matrix[author].append(0)\n",
    "\n",
    "\n",
    "df = pd.DataFrame(matrix, index=all_docs)"
   ]
  },
  {
   "cell_type": "markdown",
   "metadata": {},
   "source": [
    "Okay, I want to sort the matrix by how many doctrines the texts contain. This means that we sort the columns based on the sum of the values. Oddly enough I can't figure out how to do that within the `DataFrame`, so instead I create a dict, from that a list of the authors sorted by their sum doctrines. That list is used for keys in building a new matrix with the desired order. But then the rows and columns are switched, so I need to transmute those with the `zip` function. *This just doesn't feel right*."
   ]
  },
  {
   "cell_type": "code",
   "execution_count": 62,
   "metadata": {},
   "outputs": [
    {
     "data": {
      "text/html": [
       "<div>\n",
       "<style scoped>\n",
       "    .dataframe tbody tr th:only-of-type {\n",
       "        vertical-align: middle;\n",
       "    }\n",
       "\n",
       "    .dataframe tbody tr th {\n",
       "        vertical-align: top;\n",
       "    }\n",
       "\n",
       "    .dataframe thead th {\n",
       "        text-align: right;\n",
       "    }\n",
       "</style>\n",
       "<table border=\"1\" class=\"dataframe\">\n",
       "  <thead>\n",
       "    <tr style=\"text-align: right;\">\n",
       "      <th></th>\n",
       "      <th>Anonymus Bernardini</th>\n",
       "      <th>Anonymus Mertoniensis 275</th>\n",
       "      <th>Anonymus Vennebusch</th>\n",
       "      <th>Anonymus Steenberghen</th>\n",
       "      <th>Anonymus Vat. Lat. 2170 I</th>\n",
       "      <th>Henric de la Wyle</th>\n",
       "      <th>Radulphus Brito</th>\n",
       "      <th>Simon of Faversham</th>\n",
       "      <th>Anonymus Bazan I</th>\n",
       "      <th>Anonymus Oriel 33</th>\n",
       "      <th>John Dinsdale</th>\n",
       "      <th>John of Jandun</th>\n",
       "      <th>Anonymus Vat. Lat. 2170 II</th>\n",
       "      <th>Anonymus Giele</th>\n",
       "    </tr>\n",
       "  </thead>\n",
       "  <tbody>\n",
       "    <tr>\n",
       "      <th>Certain science about simple subject</th>\n",
       "      <td>x</td>\n",
       "      <td></td>\n",
       "      <td></td>\n",
       "      <td></td>\n",
       "      <td></td>\n",
       "      <td></td>\n",
       "      <td></td>\n",
       "      <td></td>\n",
       "      <td></td>\n",
       "      <td></td>\n",
       "      <td></td>\n",
       "      <td></td>\n",
       "      <td></td>\n",
       "      <td></td>\n",
       "    </tr>\n",
       "    <tr>\n",
       "      <th>Different types of intelligibility</th>\n",
       "      <td>x</td>\n",
       "      <td>x</td>\n",
       "      <td>x</td>\n",
       "      <td></td>\n",
       "      <td></td>\n",
       "      <td></td>\n",
       "      <td></td>\n",
       "      <td></td>\n",
       "      <td></td>\n",
       "      <td></td>\n",
       "      <td></td>\n",
       "      <td></td>\n",
       "      <td></td>\n",
       "      <td></td>\n",
       "    </tr>\n",
       "    <tr>\n",
       "      <th>Four requirements of a science (universal, incorruptible, parts and properties, intellectual immediacy)</th>\n",
       "      <td></td>\n",
       "      <td></td>\n",
       "      <td></td>\n",
       "      <td>x</td>\n",
       "      <td></td>\n",
       "      <td></td>\n",
       "      <td></td>\n",
       "      <td></td>\n",
       "      <td></td>\n",
       "      <td></td>\n",
       "      <td></td>\n",
       "      <td></td>\n",
       "      <td></td>\n",
       "      <td></td>\n",
       "    </tr>\n",
       "    <tr>\n",
       "      <th>Identity of knower and known</th>\n",
       "      <td>x</td>\n",
       "      <td>x</td>\n",
       "      <td></td>\n",
       "      <td></td>\n",
       "      <td></td>\n",
       "      <td></td>\n",
       "      <td></td>\n",
       "      <td></td>\n",
       "      <td></td>\n",
       "      <td></td>\n",
       "      <td></td>\n",
       "      <td></td>\n",
       "      <td></td>\n",
       "      <td></td>\n",
       "    </tr>\n",
       "    <tr>\n",
       "      <th>Intellect is not like senses but has reflexivity</th>\n",
       "      <td></td>\n",
       "      <td>x</td>\n",
       "      <td></td>\n",
       "      <td></td>\n",
       "      <td></td>\n",
       "      <td></td>\n",
       "      <td></td>\n",
       "      <td></td>\n",
       "      <td></td>\n",
       "      <td></td>\n",
       "      <td></td>\n",
       "      <td></td>\n",
       "      <td></td>\n",
       "      <td></td>\n",
       "    </tr>\n",
       "    <tr>\n",
       "      <th>Propter quod unumquodque tale et illud magis</th>\n",
       "      <td></td>\n",
       "      <td>x</td>\n",
       "      <td>x</td>\n",
       "      <td></td>\n",
       "      <td></td>\n",
       "      <td></td>\n",
       "      <td></td>\n",
       "      <td></td>\n",
       "      <td></td>\n",
       "      <td></td>\n",
       "      <td></td>\n",
       "      <td></td>\n",
       "      <td></td>\n",
       "      <td></td>\n",
       "    </tr>\n",
       "    <tr>\n",
       "      <th>Science about a substance which contains parts and properties</th>\n",
       "      <td></td>\n",
       "      <td></td>\n",
       "      <td></td>\n",
       "      <td>x</td>\n",
       "      <td>x</td>\n",
       "      <td></td>\n",
       "      <td></td>\n",
       "      <td></td>\n",
       "      <td></td>\n",
       "      <td></td>\n",
       "      <td></td>\n",
       "      <td></td>\n",
       "      <td></td>\n",
       "      <td></td>\n",
       "    </tr>\n",
       "    <tr>\n",
       "      <th>Science from observations of accidents is also science</th>\n",
       "      <td></td>\n",
       "      <td>x</td>\n",
       "      <td></td>\n",
       "      <td></td>\n",
       "      <td></td>\n",
       "      <td></td>\n",
       "      <td></td>\n",
       "      <td></td>\n",
       "      <td></td>\n",
       "      <td></td>\n",
       "      <td></td>\n",
       "      <td></td>\n",
       "      <td></td>\n",
       "      <td></td>\n",
       "    </tr>\n",
       "    <tr>\n",
       "      <th>Science of form and perfection</th>\n",
       "      <td></td>\n",
       "      <td></td>\n",
       "      <td></td>\n",
       "      <td></td>\n",
       "      <td></td>\n",
       "      <td>x</td>\n",
       "      <td></td>\n",
       "      <td></td>\n",
       "      <td></td>\n",
       "      <td></td>\n",
       "      <td></td>\n",
       "      <td></td>\n",
       "      <td></td>\n",
       "      <td></td>\n",
       "    </tr>\n",
       "    <tr>\n",
       "      <th>Science through self-reflection</th>\n",
       "      <td>x</td>\n",
       "      <td>x</td>\n",
       "      <td></td>\n",
       "      <td></td>\n",
       "      <td>x</td>\n",
       "      <td></td>\n",
       "      <td>x</td>\n",
       "      <td>x</td>\n",
       "      <td>x</td>\n",
       "      <td></td>\n",
       "      <td></td>\n",
       "      <td></td>\n",
       "      <td></td>\n",
       "      <td></td>\n",
       "    </tr>\n",
       "    <tr>\n",
       "      <th>Science through subject, properties, principles</th>\n",
       "      <td></td>\n",
       "      <td>x</td>\n",
       "      <td></td>\n",
       "      <td></td>\n",
       "      <td>x</td>\n",
       "      <td>x</td>\n",
       "      <td>x</td>\n",
       "      <td>x</td>\n",
       "      <td></td>\n",
       "      <td>x</td>\n",
       "      <td>x</td>\n",
       "      <td>x</td>\n",
       "      <td>x</td>\n",
       "      <td></td>\n",
       "    </tr>\n",
       "    <tr>\n",
       "      <th>Soul has parts and properties in virtue of its embodied activities</th>\n",
       "      <td></td>\n",
       "      <td></td>\n",
       "      <td></td>\n",
       "      <td>x</td>\n",
       "      <td></td>\n",
       "      <td></td>\n",
       "      <td>x</td>\n",
       "      <td></td>\n",
       "      <td></td>\n",
       "      <td></td>\n",
       "      <td></td>\n",
       "      <td></td>\n",
       "      <td></td>\n",
       "      <td></td>\n",
       "    </tr>\n",
       "    <tr>\n",
       "      <th>Soul indirectly available to sense perception</th>\n",
       "      <td>x</td>\n",
       "      <td>x</td>\n",
       "      <td>x</td>\n",
       "      <td></td>\n",
       "      <td></td>\n",
       "      <td>x</td>\n",
       "      <td></td>\n",
       "      <td></td>\n",
       "      <td></td>\n",
       "      <td>x</td>\n",
       "      <td>x</td>\n",
       "      <td></td>\n",
       "      <td></td>\n",
       "      <td></td>\n",
       "    </tr>\n",
       "    <tr>\n",
       "      <th>Substantial knowledge from accidents</th>\n",
       "      <td>x</td>\n",
       "      <td>x</td>\n",
       "      <td>x</td>\n",
       "      <td></td>\n",
       "      <td>x</td>\n",
       "      <td></td>\n",
       "      <td>x</td>\n",
       "      <td>x</td>\n",
       "      <td></td>\n",
       "      <td>x</td>\n",
       "      <td>x</td>\n",
       "      <td>x</td>\n",
       "      <td></td>\n",
       "      <td>x</td>\n",
       "    </tr>\n",
       "    <tr>\n",
       "      <th>There can be science about everything with intelligible essence or definition</th>\n",
       "      <td></td>\n",
       "      <td></td>\n",
       "      <td></td>\n",
       "      <td></td>\n",
       "      <td>x</td>\n",
       "      <td></td>\n",
       "      <td></td>\n",
       "      <td></td>\n",
       "      <td></td>\n",
       "      <td></td>\n",
       "      <td></td>\n",
       "      <td></td>\n",
       "      <td></td>\n",
       "      <td></td>\n",
       "    </tr>\n",
       "    <tr>\n",
       "      <th>Three meanings of science</th>\n",
       "      <td></td>\n",
       "      <td></td>\n",
       "      <td></td>\n",
       "      <td></td>\n",
       "      <td>x</td>\n",
       "      <td>x</td>\n",
       "      <td></td>\n",
       "      <td></td>\n",
       "      <td></td>\n",
       "      <td></td>\n",
       "      <td></td>\n",
       "      <td></td>\n",
       "      <td></td>\n",
       "      <td></td>\n",
       "    </tr>\n",
       "  </tbody>\n",
       "</table>\n",
       "</div>"
      ],
      "text/plain": [
       "                                                   Anonymus Bernardini  \\\n",
       "Certain science about simple subject                                 x   \n",
       "Different types of intelligibility                                   x   \n",
       "Four requirements of a science (universal, inco...                       \n",
       "Identity of knower and known                                         x   \n",
       "Intellect is not like senses but has reflexivity                         \n",
       "Propter quod unumquodque tale et illud magis                             \n",
       "Science about a substance which contains parts ...                       \n",
       "Science from observations of accidents is also ...                       \n",
       "Science of form and perfection                                           \n",
       "Science through self-reflection                                      x   \n",
       "Science through subject, properties, principles                          \n",
       "Soul has parts and properties in virtue of its ...                       \n",
       "Soul indirectly available to sense perception                        x   \n",
       "Substantial knowledge from accidents                                 x   \n",
       "There can be science about everything with inte...                       \n",
       "Three meanings of science                                                \n",
       "\n",
       "                                                   Anonymus Mertoniensis 275  \\\n",
       "Certain science about simple subject                                           \n",
       "Different types of intelligibility                                         x   \n",
       "Four requirements of a science (universal, inco...                             \n",
       "Identity of knower and known                                               x   \n",
       "Intellect is not like senses but has reflexivity                           x   \n",
       "Propter quod unumquodque tale et illud magis                               x   \n",
       "Science about a substance which contains parts ...                             \n",
       "Science from observations of accidents is also ...                         x   \n",
       "Science of form and perfection                                                 \n",
       "Science through self-reflection                                            x   \n",
       "Science through subject, properties, principles                            x   \n",
       "Soul has parts and properties in virtue of its ...                             \n",
       "Soul indirectly available to sense perception                              x   \n",
       "Substantial knowledge from accidents                                       x   \n",
       "There can be science about everything with inte...                             \n",
       "Three meanings of science                                                      \n",
       "\n",
       "                                                   Anonymus Vennebusch  \\\n",
       "Certain science about simple subject                                     \n",
       "Different types of intelligibility                                   x   \n",
       "Four requirements of a science (universal, inco...                       \n",
       "Identity of knower and known                                             \n",
       "Intellect is not like senses but has reflexivity                         \n",
       "Propter quod unumquodque tale et illud magis                         x   \n",
       "Science about a substance which contains parts ...                       \n",
       "Science from observations of accidents is also ...                       \n",
       "Science of form and perfection                                           \n",
       "Science through self-reflection                                          \n",
       "Science through subject, properties, principles                          \n",
       "Soul has parts and properties in virtue of its ...                       \n",
       "Soul indirectly available to sense perception                        x   \n",
       "Substantial knowledge from accidents                                 x   \n",
       "There can be science about everything with inte...                       \n",
       "Three meanings of science                                                \n",
       "\n",
       "                                                   Anonymus Steenberghen  \\\n",
       "Certain science about simple subject                                       \n",
       "Different types of intelligibility                                         \n",
       "Four requirements of a science (universal, inco...                     x   \n",
       "Identity of knower and known                                               \n",
       "Intellect is not like senses but has reflexivity                           \n",
       "Propter quod unumquodque tale et illud magis                               \n",
       "Science about a substance which contains parts ...                     x   \n",
       "Science from observations of accidents is also ...                         \n",
       "Science of form and perfection                                             \n",
       "Science through self-reflection                                            \n",
       "Science through subject, properties, principles                            \n",
       "Soul has parts and properties in virtue of its ...                     x   \n",
       "Soul indirectly available to sense perception                              \n",
       "Substantial knowledge from accidents                                       \n",
       "There can be science about everything with inte...                         \n",
       "Three meanings of science                                                  \n",
       "\n",
       "                                                   Anonymus Vat. Lat. 2170 I  \\\n",
       "Certain science about simple subject                                           \n",
       "Different types of intelligibility                                             \n",
       "Four requirements of a science (universal, inco...                             \n",
       "Identity of knower and known                                                   \n",
       "Intellect is not like senses but has reflexivity                               \n",
       "Propter quod unumquodque tale et illud magis                                   \n",
       "Science about a substance which contains parts ...                         x   \n",
       "Science from observations of accidents is also ...                             \n",
       "Science of form and perfection                                                 \n",
       "Science through self-reflection                                            x   \n",
       "Science through subject, properties, principles                            x   \n",
       "Soul has parts and properties in virtue of its ...                             \n",
       "Soul indirectly available to sense perception                                  \n",
       "Substantial knowledge from accidents                                       x   \n",
       "There can be science about everything with inte...                         x   \n",
       "Three meanings of science                                                  x   \n",
       "\n",
       "                                                   Henric de la Wyle  \\\n",
       "Certain science about simple subject                                   \n",
       "Different types of intelligibility                                     \n",
       "Four requirements of a science (universal, inco...                     \n",
       "Identity of knower and known                                           \n",
       "Intellect is not like senses but has reflexivity                       \n",
       "Propter quod unumquodque tale et illud magis                           \n",
       "Science about a substance which contains parts ...                     \n",
       "Science from observations of accidents is also ...                     \n",
       "Science of form and perfection                                     x   \n",
       "Science through self-reflection                                        \n",
       "Science through subject, properties, principles                    x   \n",
       "Soul has parts and properties in virtue of its ...                     \n",
       "Soul indirectly available to sense perception                      x   \n",
       "Substantial knowledge from accidents                                   \n",
       "There can be science about everything with inte...                     \n",
       "Three meanings of science                                          x   \n",
       "\n",
       "                                                   Radulphus Brito  \\\n",
       "Certain science about simple subject                                 \n",
       "Different types of intelligibility                                   \n",
       "Four requirements of a science (universal, inco...                   \n",
       "Identity of knower and known                                         \n",
       "Intellect is not like senses but has reflexivity                     \n",
       "Propter quod unumquodque tale et illud magis                         \n",
       "Science about a substance which contains parts ...                   \n",
       "Science from observations of accidents is also ...                   \n",
       "Science of form and perfection                                       \n",
       "Science through self-reflection                                  x   \n",
       "Science through subject, properties, principles                  x   \n",
       "Soul has parts and properties in virtue of its ...               x   \n",
       "Soul indirectly available to sense perception                        \n",
       "Substantial knowledge from accidents                             x   \n",
       "There can be science about everything with inte...                   \n",
       "Three meanings of science                                            \n",
       "\n",
       "                                                   Simon of Faversham  \\\n",
       "Certain science about simple subject                                    \n",
       "Different types of intelligibility                                      \n",
       "Four requirements of a science (universal, inco...                      \n",
       "Identity of knower and known                                            \n",
       "Intellect is not like senses but has reflexivity                        \n",
       "Propter quod unumquodque tale et illud magis                            \n",
       "Science about a substance which contains parts ...                      \n",
       "Science from observations of accidents is also ...                      \n",
       "Science of form and perfection                                          \n",
       "Science through self-reflection                                     x   \n",
       "Science through subject, properties, principles                     x   \n",
       "Soul has parts and properties in virtue of its ...                      \n",
       "Soul indirectly available to sense perception                           \n",
       "Substantial knowledge from accidents                                x   \n",
       "There can be science about everything with inte...                      \n",
       "Three meanings of science                                               \n",
       "\n",
       "                                                   Anonymus Bazan I  \\\n",
       "Certain science about simple subject                                  \n",
       "Different types of intelligibility                                    \n",
       "Four requirements of a science (universal, inco...                    \n",
       "Identity of knower and known                                          \n",
       "Intellect is not like senses but has reflexivity                      \n",
       "Propter quod unumquodque tale et illud magis                          \n",
       "Science about a substance which contains parts ...                    \n",
       "Science from observations of accidents is also ...                    \n",
       "Science of form and perfection                                        \n",
       "Science through self-reflection                                   x   \n",
       "Science through subject, properties, principles                       \n",
       "Soul has parts and properties in virtue of its ...                    \n",
       "Soul indirectly available to sense perception                         \n",
       "Substantial knowledge from accidents                                  \n",
       "There can be science about everything with inte...                    \n",
       "Three meanings of science                                             \n",
       "\n",
       "                                                   Anonymus Oriel 33  \\\n",
       "Certain science about simple subject                                   \n",
       "Different types of intelligibility                                     \n",
       "Four requirements of a science (universal, inco...                     \n",
       "Identity of knower and known                                           \n",
       "Intellect is not like senses but has reflexivity                       \n",
       "Propter quod unumquodque tale et illud magis                           \n",
       "Science about a substance which contains parts ...                     \n",
       "Science from observations of accidents is also ...                     \n",
       "Science of form and perfection                                         \n",
       "Science through self-reflection                                        \n",
       "Science through subject, properties, principles                    x   \n",
       "Soul has parts and properties in virtue of its ...                     \n",
       "Soul indirectly available to sense perception                      x   \n",
       "Substantial knowledge from accidents                               x   \n",
       "There can be science about everything with inte...                     \n",
       "Three meanings of science                                              \n",
       "\n",
       "                                                   John Dinsdale  \\\n",
       "Certain science about simple subject                               \n",
       "Different types of intelligibility                                 \n",
       "Four requirements of a science (universal, inco...                 \n",
       "Identity of knower and known                                       \n",
       "Intellect is not like senses but has reflexivity                   \n",
       "Propter quod unumquodque tale et illud magis                       \n",
       "Science about a substance which contains parts ...                 \n",
       "Science from observations of accidents is also ...                 \n",
       "Science of form and perfection                                     \n",
       "Science through self-reflection                                    \n",
       "Science through subject, properties, principles                x   \n",
       "Soul has parts and properties in virtue of its ...                 \n",
       "Soul indirectly available to sense perception                  x   \n",
       "Substantial knowledge from accidents                           x   \n",
       "There can be science about everything with inte...                 \n",
       "Three meanings of science                                          \n",
       "\n",
       "                                                   John of Jandun  \\\n",
       "Certain science about simple subject                                \n",
       "Different types of intelligibility                                  \n",
       "Four requirements of a science (universal, inco...                  \n",
       "Identity of knower and known                                        \n",
       "Intellect is not like senses but has reflexivity                    \n",
       "Propter quod unumquodque tale et illud magis                        \n",
       "Science about a substance which contains parts ...                  \n",
       "Science from observations of accidents is also ...                  \n",
       "Science of form and perfection                                      \n",
       "Science through self-reflection                                     \n",
       "Science through subject, properties, principles                 x   \n",
       "Soul has parts and properties in virtue of its ...                  \n",
       "Soul indirectly available to sense perception                       \n",
       "Substantial knowledge from accidents                            x   \n",
       "There can be science about everything with inte...                  \n",
       "Three meanings of science                                           \n",
       "\n",
       "                                                   Anonymus Vat. Lat. 2170 II  \\\n",
       "Certain science about simple subject                                            \n",
       "Different types of intelligibility                                              \n",
       "Four requirements of a science (universal, inco...                              \n",
       "Identity of knower and known                                                    \n",
       "Intellect is not like senses but has reflexivity                                \n",
       "Propter quod unumquodque tale et illud magis                                    \n",
       "Science about a substance which contains parts ...                              \n",
       "Science from observations of accidents is also ...                              \n",
       "Science of form and perfection                                                  \n",
       "Science through self-reflection                                                 \n",
       "Science through subject, properties, principles                             x   \n",
       "Soul has parts and properties in virtue of its ...                              \n",
       "Soul indirectly available to sense perception                                   \n",
       "Substantial knowledge from accidents                                            \n",
       "There can be science about everything with inte...                              \n",
       "Three meanings of science                                                       \n",
       "\n",
       "                                                   Anonymus Giele  \n",
       "Certain science about simple subject                               \n",
       "Different types of intelligibility                                 \n",
       "Four requirements of a science (universal, inco...                 \n",
       "Identity of knower and known                                       \n",
       "Intellect is not like senses but has reflexivity                   \n",
       "Propter quod unumquodque tale et illud magis                       \n",
       "Science about a substance which contains parts ...                 \n",
       "Science from observations of accidents is also ...                 \n",
       "Science of form and perfection                                     \n",
       "Science through self-reflection                                    \n",
       "Science through subject, properties, principles                    \n",
       "Soul has parts and properties in virtue of its ...                 \n",
       "Soul indirectly available to sense perception                      \n",
       "Substantial knowledge from accidents                            x  \n",
       "There can be science about everything with inte...                 \n",
       "Three meanings of science                                          "
      ]
     },
     "execution_count": 62,
     "metadata": {},
     "output_type": "execute_result"
    }
   ],
   "source": [
    "def create_matrix(numeric=True):\n",
    "    matrix = {}\n",
    "    if numeric:\n",
    "        true_val = 1\n",
    "        false_val = 0\n",
    "    else:\n",
    "        true_val = 'x'\n",
    "        false_val = ''\n",
    "        \n",
    "    for author in author_names:\n",
    "        matrix[author] = []\n",
    "        adocs = determination_doctrines_of(author)\n",
    "        for doc in all_docs:\n",
    "            if doc in adocs:\n",
    "                matrix[author].append(true_val)\n",
    "            else:\n",
    "                matrix[author].append(false_val)\n",
    "    sorted_names = sorted(matrix, key=matrix.get, reverse=True)\n",
    "    m = [matrix[key] for key in sorted_names]\n",
    "    m = [list(i) for i in zip(*m)]\n",
    "    return pd.DataFrame(m, columns=sorted_names, index=all_docs)\n",
    "\n",
    "create_matrix(numeric=False)"
   ]
  },
  {
   "cell_type": "markdown",
   "metadata": {},
   "source": [
    "I can sort the sum of the DataFrame like this, but I can't figure out how to sort the columns by that."
   ]
  },
  {
   "cell_type": "code",
   "execution_count": 63,
   "metadata": {
    "scrolled": true
   },
   "outputs": [
    {
     "data": {
      "text/plain": [
       "Anonymus Mertoniensis 275     9\n",
       "Anonymus Vat. Lat. 2170 I     6\n",
       "Anonymus Bernardini           6\n",
       "Radulphus Brito               4\n",
       "Henric de la Wyle             4\n",
       "Anonymus Vennebusch           4\n",
       "John Dinsdale                 3\n",
       "Anonymus Oriel 33             3\n",
       "Simon of Faversham            3\n",
       "Anonymus Steenberghen         3\n",
       "John of Jandun                2\n",
       "Anonymus Giele                1\n",
       "Anonymus Vat. Lat. 2170 II    1\n",
       "Anonymus Bazan I              1\n",
       "dtype: int64"
      ]
     },
     "execution_count": 63,
     "metadata": {},
     "output_type": "execute_result"
    }
   ],
   "source": [
    "\n",
    "df = create_matrix(numeric=True)\n",
    "sums = df.sum().sort_values(ascending=False)\n",
    "sums"
   ]
  },
  {
   "cell_type": "code",
   "execution_count": 64,
   "metadata": {},
   "outputs": [],
   "source": [
    "#print(sums.to_latex())"
   ]
  },
  {
   "cell_type": "markdown",
   "metadata": {},
   "source": [
    "What is the mean amount of doctrines?"
   ]
  },
  {
   "cell_type": "code",
   "execution_count": 65,
   "metadata": {},
   "outputs": [
    {
     "data": {
      "text/plain": [
       "3.5714285714285716"
      ]
     },
     "execution_count": 65,
     "metadata": {},
     "output_type": "execute_result"
    }
   ],
   "source": [
    "df.sum().mean()"
   ]
  },
  {
   "cell_type": "code",
   "execution_count": 66,
   "metadata": {},
   "outputs": [
    {
     "data": {
      "text/plain": [
       "<matplotlib.axes._subplots.AxesSubplot at 0x118554278>"
      ]
     },
     "execution_count": 66,
     "metadata": {},
     "output_type": "execute_result"
    },
    {
     "data": {
      "image/png": "[encoded data removed]",
      "text/plain": [
       "<matplotlib.figure.Figure at 0x118ade240>"
      ]
     },
     "metadata": {},
     "output_type": "display_data"
    }
   ],
   "source": [
    "sns.distplot(df.sum())"
   ]
  },
  {
   "cell_type": "markdown",
   "metadata": {},
   "source": [
    "### Popularity of arguments"
   ]
  },
  {
   "cell_type": "code",
   "execution_count": 67,
   "metadata": {},
   "outputs": [
    {
     "data": {
      "text/plain": [
       "Substantial knowledge from accidents                                                                       10\n",
       "Science through subject, properties, principles                                                             9\n",
       "Soul indirectly available to sense perception                                                               6\n",
       "Science through self-reflection                                                                             6\n",
       "Different types of intelligibility                                                                          3\n",
       "Three meanings of science                                                                                   2\n",
       "Soul has parts and properties in virtue of its embodied activities                                          2\n",
       "Science about a substance which contains parts and properties                                               2\n",
       "Propter quod unumquodque tale et illud magis                                                                2\n",
       "Identity of knower and known                                                                                2\n",
       "There can be science about everything with intelligible essence or definition                               1\n",
       "Science of form and perfection                                                                              1\n",
       "Science from observations of accidents is also science                                                      1\n",
       "Intellect is not like senses but has reflexivity                                                            1\n",
       "Four requirements of a science (universal, incorruptible, parts and properties, intellectual immediacy)     1\n",
       "Certain science about simple subject                                                                        1\n",
       "dtype: int64"
      ]
     },
     "execution_count": 67,
     "metadata": {},
     "output_type": "execute_result"
    }
   ],
   "source": [
    "df.sum(axis=1).sort_values(ascending=False)"
   ]
  },
  {
   "cell_type": "markdown",
   "metadata": {},
   "source": [
    "# Binary matrix cluster analysis\n",
    "So what if we take the binary matrix representing the presence or absence of a doctrine and use that for clustering?\n",
    "I have used this as an inspiration: https://stats.stackexchange.com/questions/222492/any-distance-measures-that-are-more-useful-for-binary-data-clustering.\n",
    "As suggested in the post we use the Hamming metric for distance measuring, as that just counts the number of coordinates that differ. AS it is also mentioned in the scipy documentation it can therefore be used for boolean matrices (https://docs.scipy.org/doc/scipy/reference/generated/scipy.spatial.distance.pdist.html)."
   ]
  },
  {
   "cell_type": "code",
   "execution_count": 68,
   "metadata": {},
   "outputs": [
    {
     "data": {
      "image/png": "[encoded data removed]",
      "text/plain": [
       "<matplotlib.figure.Figure at 0x11701d3c8>"
      ]
     },
     "metadata": {},
     "output_type": "display_data"
    }
   ],
   "source": [
    "df = create_matrix(numeric=True)\n",
    "\n",
    "# Generate a custom diverging colormap\n",
    "cmap = sns.light_palette((210, 90, 60), input=\"husl\")\n",
    "\n",
    "# Draw the heatmap with the mask and correct aspect ratio\n",
    "plot = sns.clustermap(df, cmap=cmap, linewidths=.5, row_cluster=False, metric='hamming')\n",
    "\n",
    "for _, ax in enumerate(plot.fig.axes):\n",
    "    ax.set_xticklabels(ax.get_xticklabels(), rotation = 45, horizontalalignment='right')"
   ]
  },
  {
   "cell_type": "code",
   "execution_count": 69,
   "metadata": {
    "scrolled": false
   },
   "outputs": [
    {
     "name": "stdout",
     "output_type": "stream",
     "text": [
      "\\begin{figure}\n",
      "\\centering\n",
      "\\includegraphics[width=\\linewidth]{data/figures/science-determinations-binary-clustermap.pdf}\n",
      "\\caption{Binary clustermap of positive doctrines.}\n",
      "\\label{fig:sci:positive:binary-clustermap}\n",
      "\\end{figure}\n"
     ]
    }
   ],
   "source": [
    "plot.savefig('../thesis/data/figures/science-positive-binary-clustermap.pdf')\n",
    "print_figure_inclusion(\n",
    "    'science-determinations-binary-clustermap', plot,\n",
    "    caption='Binary clustermap of positive doctrines.',\n",
    "    label='fig:sci:positive:binary-clustermap')"
   ]
  },
  {
   "cell_type": "markdown",
   "metadata": {},
   "source": [
    "# Doctrines in rationes\n",
    "How about if we only focus on rationes?"
   ]
  },
  {
   "cell_type": "markdown",
   "metadata": {},
   "source": [
    "## Proportional representation"
   ]
  },
  {
   "cell_type": "markdown",
   "metadata": {},
   "source": [
    "First, let's get some simple quantitative data on the amount of doctrines each author has in each category."
   ]
  },
  {
   "cell_type": "code",
   "execution_count": null,
   "metadata": {},
   "outputs": [],
   "source": [
    "def number_unique_rationes_doctrines(name):\n",
    "    with driver.session() as session:\n",
    "        with session.begin_transaction() as tx:\n",
    "            res = tx.run(\"MATCH (a:Author)--(:Text)--(q:Question)--(d:Doctrine)\"\n",
    "                         \"WHERE (d)-[:ATTACKS]->(:Doctrine {name:'There can be a science of the soul'})\"\n",
    "                         \"AND a.name = {name}\"\n",
    "                         \"AND NOT (:Question)--(d)--(q:Question)\"\n",
    "                         \"RETURN count(distinct d)\", name=name)\n",
    "            return res.single()['count(distinct d)']\n",
    "            \n",
    "number_unique_rationes_doctrines('John of Jandun')"
   ]
  },
  {
   "cell_type": "code",
   "execution_count": null,
   "metadata": {},
   "outputs": [],
   "source": [
    "def number_shared_rationes_doctrines(name):\n",
    "    with driver.session() as session:\n",
    "        with session.begin_transaction() as tx:\n",
    "            res = tx.run(\"MATCH (a:Author)--(:Text)--(q:Question)--(d:Doctrine)\"\n",
    "                         \"WHERE (d)-[:ATTACKS]->(:Doctrine {name:'There can be a science of the soul'})\"\n",
    "                         \"AND a.name = {name}\"\n",
    "                         \"MATCH (q1:Question)--(d)--(q)\"\n",
    "                         \"WHERE (q1) <> (q)\"\n",
    "                         \"RETURN count(distinct d)\", name=name)\n",
    "            return res.single()['count(distinct d)']\n",
    "\n",
    "number_shared_rationes_doctrines('John of Jandun')"
   ]
  },
  {
   "cell_type": "markdown",
   "metadata": {},
   "source": [
    "Proportion unique of all doctrines"
   ]
  },
  {
   "cell_type": "code",
   "execution_count": null,
   "metadata": {},
   "outputs": [],
   "source": [
    "number_unique_rationes_doctrines('John of Jandun') / sum([number_unique_rationes_doctrines('John of Jandun'), \n",
    "                                                          number_shared_rationes_doctrines('John of Jandun')])"
   ]
  },
  {
   "cell_type": "markdown",
   "metadata": {},
   "source": [
    "Now let's get the values of these for all the commentators and put them into a matrix."
   ]
  },
  {
   "cell_type": "code",
   "execution_count": null,
   "metadata": {},
   "outputs": [],
   "source": [
    "def unique_shared_proportions_all():\n",
    "    d = {}\n",
    "    for a in author_names:\n",
    "        unique = number_unique_rationes_doctrines(a)\n",
    "        shared = number_shared_rationes_doctrines(a)\n",
    "        if unique is not 0:\n",
    "            prop = number_unique_rationes_doctrines(a) / sum([number_unique_rationes_doctrines('John of Jandun'), \n",
    "                                                              number_shared_rationes_doctrines('John of Jandun')])\n",
    "        else:\n",
    "            prop = 0\n",
    "\n",
    "        d[a] = [unique, shared, unique + shared, round(prop, 2)]\n",
    "\n",
    "    return d\n",
    "m = unique_shared_proportions_all()\n"
   ]
  },
  {
   "cell_type": "markdown",
   "metadata": {},
   "source": [
    "Put this in a DataFrame and sort according to most unique."
   ]
  },
  {
   "cell_type": "code",
   "execution_count": null,
   "metadata": {},
   "outputs": [],
   "source": [
    "df = pd.DataFrame(m, index=['Unique', 'Shared', 'Sum', 'Proportion'])\n",
    "df = df.T.sort_values(by='Sum', ascending=False)\n",
    "df[['Unique', 'Shared', 'Sum']] = df[['Unique', 'Shared', 'Sum']].apply(np.int64)\n",
    "df"
   ]
  },
  {
   "cell_type": "code",
   "execution_count": null,
   "metadata": {},
   "outputs": [],
   "source": [
    "# Some saving could be set up here...\n",
    "save_table('../thesis/data/tables/sci-rationes-quantities.tex', df.to_latex(), \n",
    "           caption='Unique, shared, total, and proportion of unique to shared doctrines in rationes.',\n",
    "           label='tab:sci:rationes:quantities')"
   ]
  },
  {
   "cell_type": "code",
   "execution_count": null,
   "metadata": {},
   "outputs": [],
   "source": [
    "# The sums?\n",
    "df[['Unique', 'Shared', 'Sum']].sum()"
   ]
  },
  {
   "cell_type": "code",
   "execution_count": null,
   "metadata": {},
   "outputs": [],
   "source": [
    "# Number of distinct rationes\n",
    "rationes_count = run_query('MATCH (d:Doctrine)'\n",
    "                                 \"WHERE (d)-[:ATTACKS]->(:Doctrine {name:'There can be a science of the soul'})\"\n",
    "                                 'RETURN count(DISTINCT d)').single()[0]\n",
    "rationes_count"
   ]
  },
  {
   "cell_type": "code",
   "execution_count": null,
   "metadata": {},
   "outputs": [],
   "source": [
    "# Proportion of unique\n",
    "df['Unique'].sum() / rationes_count"
   ]
  },
  {
   "cell_type": "code",
   "execution_count": null,
   "metadata": {},
   "outputs": [],
   "source": [
    "# Proportion of unique instances\n",
    "df['Unique'].sum() / df['Sum'].sum()"
   ]
  },
  {
   "cell_type": "code",
   "execution_count": null,
   "metadata": {
    "scrolled": true
   },
   "outputs": [],
   "source": [
    "# Average use number of non-uniques\n",
    "round(df['Sum'].sum() / (rationes_count - df['Unique'].sum()), 1)"
   ]
  },
  {
   "cell_type": "markdown",
   "metadata": {},
   "source": [
    "But the relative proportions in relation to all the others is more interesting..."
   ]
  },
  {
   "cell_type": "code",
   "execution_count": null,
   "metadata": {},
   "outputs": [],
   "source": [
    "def proportion_shared_rationes_doctrines(name):\n",
    "    with driver.session() as session:\n",
    "        with session.begin_transaction() as tx:\n",
    "            res = tx.run(\"MATCH (a:Author)--(:Text)--(q1:Question)--(d:Doctrine)\"\n",
    "                         \"MATCH (:Doctrine {name:'There can be a science of the soul'})<-[:ATTACKS *1..5]-(d)\"\n",
    "                         \"WHERE a.name = {name}\"\n",
    "                         \"MATCH (d)--(q2:Question)--(:Text)--(a2:Author)\"\n",
    "                         \"MATCH (:Doctrine {name:'There can be a science of the soul'})<-[:ATTACKS *1..5]-(d1:Doctrine)--(q1)\"\n",
    "                         \"MATCH (:Doctrine {name:'There can be a science of the soul'})<-[:ATTACKS *1..5]-(d2:Doctrine)--(q2)\"\n",
    "                         \"RETURN a2.name, (toFloat(count(distinct d)) / count(distinct d1)) * (toFloat(count(distinct d)) / count(distinct d2))\", name=name)\n",
    "            return {r[0]: r[1] for r in res}\n",
    "\n",
    "proportion_shared_rationes_doctrines('John of Jandun')"
   ]
  },
  {
   "cell_type": "code",
   "execution_count": null,
   "metadata": {},
   "outputs": [],
   "source": [
    "d = build_matrix(author_names, docfunc=proportion_shared_rationes_doctrines)"
   ]
  },
  {
   "cell_type": "code",
   "execution_count": null,
   "metadata": {},
   "outputs": [],
   "source": [
    "df = pd.DataFrame(d, index=author_names)\n",
    "\n",
    "# Generate a custom diverging colormap\n",
    "cmap = sns.light_palette((210, 90, 60), as_cmap=True, input=\"husl\")\n",
    "\n",
    "# Draw the heatmap with the mask and correct aspect ratio\n",
    "plot = sns.clustermap(df, cmap=cmap, linewidths=.5, row_cluster=True)\n",
    "for _, ax in enumerate(plot.fig.axes):\n",
    "    ax.set_xticklabels(ax.get_xticklabels(), rotation = 45, horizontalalignment='right')"
   ]
  },
  {
   "cell_type": "code",
   "execution_count": null,
   "metadata": {},
   "outputs": [],
   "source": [
    "plot.savefig('../thesis/data/figures/science-rationes-proportional-clustermap.pdf')\n",
    "print_figure_inclusion(\n",
    "    '../figures/science-rationes-proportional-clustermap', plot,\n",
    "    caption='Proportional clustermap of rationes doctrines.',\n",
    "    label='fig:sci:rationes:prop-clustermap')"
   ]
  },
  {
   "cell_type": "markdown",
   "metadata": {},
   "source": [
    "## Binary doctrines"
   ]
  },
  {
   "cell_type": "code",
   "execution_count": null,
   "metadata": {},
   "outputs": [],
   "source": [
    "# All doctrines except the base statement of the science\n",
    "def all_rationes_doctrines():\n",
    "    q = (\"MATCH (:Doctrine {name:'There can be a science of the soul'})<-[:ATTACKS]-(d)\"\n",
    "         \"RETURN distinct(d.name) ORDER BY d.name asc\")\n",
    "    return [t[0] for t in run_query(q).values()]\n",
    "\n",
    "all_docs = all_rationes_doctrines()\n",
    "\n",
    "# Test output\n",
    "len(all_docs)"
   ]
  },
  {
   "cell_type": "code",
   "execution_count": null,
   "metadata": {},
   "outputs": [],
   "source": [
    "def all_rationes_doctrines_of(name):\n",
    "    q = (\"MATCH (r:Doctrine) WHERE r.name='There can be a science of the soul'\"\n",
    "         \"MATCH (r)<-[:ATTACKS]-(d:Doctrine)\"\n",
    "         \"MATCH (a:Author)--(t:Text)--(q:Question)--(d)\"\n",
    "         \"WHERE a.name = '{name}'\"\n",
    "         \"RETURN distinct(d.name)\".format(name=name))\n",
    "    return [t[0] for t in run_query(q).values()]\n",
    "\n",
    "# Example test\n",
    "all_rationes_doctrines_of(\"John of Jandun\")"
   ]
  },
  {
   "cell_type": "code",
   "execution_count": null,
   "metadata": {},
   "outputs": [],
   "source": [
    "def create_matrix(numeric=True):\n",
    "    matrix = {}\n",
    "    if numeric:\n",
    "        true_val = 1\n",
    "        false_val = 0\n",
    "    else:\n",
    "        true_val = 'x'\n",
    "        false_val = ''\n",
    "        \n",
    "    for author in author_names:\n",
    "        matrix[author] = []\n",
    "        adocs = all_rationes_doctrines_of(author)\n",
    "        for doc in all_docs:\n",
    "            if doc in adocs:\n",
    "                matrix[author].append(true_val)\n",
    "            else:\n",
    "                matrix[author].append(false_val)\n",
    "    sorted_names = sorted(matrix, key=matrix.get, reverse=True)\n",
    "    m = [matrix[key] for key in sorted_names]\n",
    "    m = [list(i) for i in zip(*m)]\n",
    "    return pd.DataFrame(m, columns=sorted_names, index=all_docs)\n",
    "\n",
    "create_matrix(numeric=False)"
   ]
  },
  {
   "cell_type": "markdown",
   "metadata": {},
   "source": [
    "And now a bit of quantitative info."
   ]
  },
  {
   "cell_type": "code",
   "execution_count": null,
   "metadata": {},
   "outputs": [],
   "source": [
    "df = create_matrix(numeric=True)\n",
    "sums = df.sum().sort_values(ascending=False)\n",
    "sums\n",
    "#print(sums.to_latex())"
   ]
  },
  {
   "cell_type": "code",
   "execution_count": null,
   "metadata": {},
   "outputs": [],
   "source": [
    "df.sum().mean()"
   ]
  },
  {
   "cell_type": "code",
   "execution_count": null,
   "metadata": {},
   "outputs": [],
   "source": [
    "sns.distplot(df.sum())"
   ]
  },
  {
   "cell_type": "code",
   "execution_count": 3,
   "metadata": {},
   "outputs": [
    {
     "ename": "NameError",
     "evalue": "name 'df' is not defined",
     "output_type": "error",
     "traceback": [
      "\u001b[0;31m---------------------------------------------------------------------------\u001b[0m",
      "\u001b[0;31mNameError\u001b[0m                                 Traceback (most recent call last)",
      "\u001b[0;32m<ipython-input-3-9ddea019db3a>\u001b[0m in \u001b[0;36m<module>\u001b[0;34m()\u001b[0m\n\u001b[0;32m----> 1\u001b[0;31m \u001b[0mdf\u001b[0m\u001b[0;34m.\u001b[0m\u001b[0msum\u001b[0m\u001b[0;34m(\u001b[0m\u001b[0maxis\u001b[0m\u001b[0;34m=\u001b[0m\u001b[0;36m1\u001b[0m\u001b[0;34m)\u001b[0m\u001b[0;34m.\u001b[0m\u001b[0msort_values\u001b[0m\u001b[0;34m(\u001b[0m\u001b[0mascending\u001b[0m\u001b[0;34m=\u001b[0m\u001b[0;32mFalse\u001b[0m\u001b[0;34m)\u001b[0m\u001b[0;34m\u001b[0m\u001b[0m\n\u001b[0m",
      "\u001b[0;31mNameError\u001b[0m: name 'df' is not defined"
     ]
    }
   ],
   "source": [
    "df.sum(axis=1).sort_values(ascending=False)"
   ]
  },
  {
   "cell_type": "code",
   "execution_count": 4,
   "metadata": {},
   "outputs": [
    {
     "ename": "NameError",
     "evalue": "name 'create_matrix' is not defined",
     "output_type": "error",
     "traceback": [
      "\u001b[0;31m---------------------------------------------------------------------------\u001b[0m",
      "\u001b[0;31mNameError\u001b[0m                                 Traceback (most recent call last)",
      "\u001b[0;32m<ipython-input-4-b8c11d2f454a>\u001b[0m in \u001b[0;36m<module>\u001b[0;34m()\u001b[0m\n\u001b[0;32m----> 1\u001b[0;31m \u001b[0mdf\u001b[0m \u001b[0;34m=\u001b[0m \u001b[0mcreate_matrix\u001b[0m\u001b[0;34m(\u001b[0m\u001b[0mnumeric\u001b[0m\u001b[0;34m=\u001b[0m\u001b[0;32mTrue\u001b[0m\u001b[0;34m)\u001b[0m\u001b[0;34m\u001b[0m\u001b[0m\n\u001b[0m\u001b[1;32m      2\u001b[0m \u001b[0;34m\u001b[0m\u001b[0m\n\u001b[1;32m      3\u001b[0m \u001b[0;31m# Generate a custom diverging colormap\u001b[0m\u001b[0;34m\u001b[0m\u001b[0;34m\u001b[0m\u001b[0m\n\u001b[1;32m      4\u001b[0m \u001b[0mcmap\u001b[0m \u001b[0;34m=\u001b[0m \u001b[0msns\u001b[0m\u001b[0;34m.\u001b[0m\u001b[0mlight_palette\u001b[0m\u001b[0;34m(\u001b[0m\u001b[0;34m(\u001b[0m\u001b[0;36m210\u001b[0m\u001b[0;34m,\u001b[0m \u001b[0;36m90\u001b[0m\u001b[0;34m,\u001b[0m \u001b[0;36m60\u001b[0m\u001b[0;34m)\u001b[0m\u001b[0;34m,\u001b[0m \u001b[0minput\u001b[0m\u001b[0;34m=\u001b[0m\u001b[0;34m\"husl\"\u001b[0m\u001b[0;34m)\u001b[0m\u001b[0;34m\u001b[0m\u001b[0m\n\u001b[1;32m      5\u001b[0m \u001b[0;34m\u001b[0m\u001b[0m\n",
      "\u001b[0;31mNameError\u001b[0m: name 'create_matrix' is not defined"
     ]
    }
   ],
   "source": [
    "df = create_matrix(numeric=True)\n",
    "\n",
    "# Generate a custom diverging colormap\n",
    "cmap = sns.light_palette((210, 90, 60), input=\"husl\")\n",
    "\n",
    "# Draw the heatmap with the mask and correct aspect ratio\n",
    "plot = sns.clustermap(df, cmap=cmap, linewidths=.5, metric='hamming', \n",
    "                      row_cluster=True, figsize=(12,16))\n",
    "\n",
    "for _, ax in enumerate(plot.fig.axes):\n",
    "    ax.set_xticklabels(ax.get_xticklabels(), rotation = 45, horizontalalignment='right')\n",
    "    \n",
    "plot.savefig('../thesis/data/figures/science-determinations-binary-cluster.png')"
   ]
  },
  {
   "cell_type": "code",
   "execution_count": 5,
   "metadata": {},
   "outputs": [
    {
     "ename": "NameError",
     "evalue": "name 'plot' is not defined",
     "output_type": "error",
     "traceback": [
      "\u001b[0;31m---------------------------------------------------------------------------\u001b[0m",
      "\u001b[0;31mNameError\u001b[0m                                 Traceback (most recent call last)",
      "\u001b[0;32m<ipython-input-5-f47a7b368e0a>\u001b[0m in \u001b[0;36m<module>\u001b[0;34m()\u001b[0m\n\u001b[0;32m----> 1\u001b[0;31m \u001b[0mplot\u001b[0m\u001b[0;34m.\u001b[0m\u001b[0msavefig\u001b[0m\u001b[0;34m(\u001b[0m\u001b[0;34m'../figures/science-rationes-binary-clustermap.pdf'\u001b[0m\u001b[0;34m)\u001b[0m\u001b[0;34m\u001b[0m\u001b[0m\n\u001b[0m\u001b[1;32m      2\u001b[0m print_figure_inclusion(\n\u001b[1;32m      3\u001b[0m     \u001b[0;34m'../figures/science-rationes-binary-clustermap'\u001b[0m\u001b[0;34m,\u001b[0m \u001b[0mplot\u001b[0m\u001b[0;34m,\u001b[0m\u001b[0;34m\u001b[0m\u001b[0m\n\u001b[1;32m      4\u001b[0m     \u001b[0mcaption\u001b[0m\u001b[0;34m=\u001b[0m\u001b[0;34m'Binary clustermap of rationes doctrines.'\u001b[0m\u001b[0;34m,\u001b[0m\u001b[0;34m\u001b[0m\u001b[0m\n\u001b[1;32m      5\u001b[0m     label='fig:sci:rationes:binary-clustermap')\n",
      "\u001b[0;31mNameError\u001b[0m: name 'plot' is not defined"
     ]
    }
   ],
   "source": [
    "plot.savefig('../figures/science-rationes-binary-clustermap.pdf')\n",
    "print_figure_inclusion(\n",
    "    '../figures/science-rationes-binary-clustermap', plot,\n",
    "    caption='Binary clustermap of rationes doctrines.',\n",
    "    label='fig:sci:rationes:binary-clustermap')"
   ]
  },
  {
   "cell_type": "code",
   "execution_count": null,
   "metadata": {},
   "outputs": [],
   "source": []
  },
  {
   "cell_type": "code",
   "execution_count": null,
   "metadata": {},
   "outputs": [],
   "source": []
  },
  {
   "cell_type": "code",
   "execution_count": null,
   "metadata": {},
   "outputs": [],
   "source": []
  },
  {
   "cell_type": "code",
   "execution_count": null,
   "metadata": {},
   "outputs": [],
   "source": []
  },
  {
   "cell_type": "code",
   "execution_count": null,
   "metadata": {},
   "outputs": [],
   "source": []
  },
  {
   "cell_type": "code",
   "execution_count": null,
   "metadata": {},
   "outputs": [],
   "source": []
  }
 ],
 "metadata": {
  "kernelspec": {
   "display_name": "Python 3",
   "language": "python",
   "name": "python3"
  },
  "language_info": {
   "codemirror_mode": {
    "name": "ipython",
    "version": 3
   },
   "file_extension": ".py",
   "mimetype": "text/x-python",
   "name": "python",
   "nbconvert_exporter": "python",
   "pygments_lexer": "ipython3",
   "version": "3.6.4"
  }
 },
 "nbformat": 4,
 "nbformat_minor": 2
}
