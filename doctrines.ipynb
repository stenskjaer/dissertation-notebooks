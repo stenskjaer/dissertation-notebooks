{
 "cells": [
  {
   "cell_type": "markdown",
   "metadata": {},
   "source": [
    "# The science of the soul: Doctrinal tendencies and clusters\n",
    "\n",
    "This notebook contains the quantitative analyses of doctrinal tendencies and clusters on the possibility of having a science of the soul in the included commentaries. \n"
   ]
  },
  {
   "cell_type": "markdown",
   "metadata": {},
   "source": [
    "## Setup and utility functions"
   ]
  },
  {
   "cell_type": "code",
   "execution_count": 1,
   "metadata": {},
   "outputs": [
    {
     "ename": "ModuleNotFoundError",
     "evalue": "No module named 'pandas'",
     "output_type": "error",
     "traceback": [
      "\u001b[0;31m---------------------------------------------------------------------------\u001b[0m",
      "\u001b[0;31mModuleNotFoundError\u001b[0m                       Traceback (most recent call last)",
      "\u001b[0;32m<ipython-input-1-e0d1c6ec5dea>\u001b[0m in \u001b[0;36m<module>\u001b[0;34m()\u001b[0m\n\u001b[0;32m----> 1\u001b[0;31m \u001b[0;32mimport\u001b[0m \u001b[0mpandas\u001b[0m \u001b[0;32mas\u001b[0m \u001b[0mpd\u001b[0m\u001b[0;34m\u001b[0m\u001b[0m\n\u001b[0m\u001b[1;32m      2\u001b[0m \u001b[0;32mimport\u001b[0m \u001b[0mseaborn\u001b[0m \u001b[0;32mas\u001b[0m \u001b[0msns\u001b[0m\u001b[0;34m\u001b[0m\u001b[0m\n\u001b[1;32m      3\u001b[0m \u001b[0;32mimport\u001b[0m \u001b[0mnumpy\u001b[0m \u001b[0;32mas\u001b[0m \u001b[0mnpJ\u001b[0m\u001b[0;34m\u001b[0m\u001b[0m\n\u001b[1;32m      4\u001b[0m \u001b[0;32mimport\u001b[0m \u001b[0mmatplotlib\u001b[0m\u001b[0;34m.\u001b[0m\u001b[0mpyplot\u001b[0m \u001b[0;32mas\u001b[0m \u001b[0mplt\u001b[0m\u001b[0;34m\u001b[0m\u001b[0m\n\u001b[1;32m      5\u001b[0m \u001b[0;32mfrom\u001b[0m \u001b[0mos\u001b[0m \u001b[0;32mimport\u001b[0m \u001b[0mpath\u001b[0m\u001b[0;34m\u001b[0m\u001b[0m\n",
      "\u001b[0;31mModuleNotFoundError\u001b[0m: No module named 'pandas'"
     ]
    }
   ],
   "source": [
    "import pandas as pd\n",
    "import seaborn as sns\n",
    "import numpy as npJ\n",
    "import matplotlib.pyplot as plt\n",
    "from os import path\n",
    "\n",
    "%matplotlib inline\n",
    "\n",
    "sns.set_context(\"paper\", font_scale=1.2)"
   ]
  },
  {
   "cell_type": "code",
   "execution_count": null,
   "metadata": {},
   "outputs": [],
   "source": [
    "# Type hinting\n",
    "from typing import Callable, Dict, List"
   ]
  },
  {
   "cell_type": "code",
   "execution_count": null,
   "metadata": {},
   "outputs": [],
   "source": [
    "# Include some general utility functions\n",
    "from utilities import run_query, save_table, print_figure_inclusion"
   ]
  },
  {
   "cell_type": "markdown",
   "metadata": {},
   "source": [
    "## Analysis\n",
    "\n",
    "We are ready to start the analysis proper.\n",
    "\n",
    "The main objectives are:\n",
    "\n",
    "1. Get some general information about the quantities, distribution and variety across the material.\n",
    "2. Identify clusters of commentators based on how many doctrines they share among each other.\n",
    "\n",
    "### Included authors\n",
    "Load the authors that we want to analyze into a variable. We include everybody except Aristotle himself."
   ]
  },
  {
   "cell_type": "code",
   "execution_count": 12,
   "metadata": {},
   "outputs": [],
   "source": [
    "q = (\"MATCH (n:Author) where not n.name = 'Aristotle' \"\n",
    "     \"RETURN n.name ORDER BY n.name asc\")\n",
    "author_names = [t[0] for t in run_query(q).values()]"
   ]
  },
  {
   "cell_type": "markdown",
   "metadata": {},
   "source": [
    "### General quantities\n",
    "\n",
    "Let's look at some general quantities, both on all kinds of doctrines and within special types such as first level determination doctrines and *rationes principales*.\n",
    "\n",
    "Note however that not all doctrines need be either a supporting or attacking doctrine of a specific other doctrine.\n",
    "The obvious example is of course a root doctrine such as the basic positive idea that there can be a science about the soul, but some doctrines also describe a general tendency that can occur across a range of different discussions (e.g. the distinction between proper and improper science)."
   ]
  },
  {
   "cell_type": "markdown",
   "metadata": {},
   "source": [
    "#### Doctrines in general numbers"
   ]
  },
  {
   "cell_type": "code",
   "execution_count": 131,
   "metadata": {},
   "outputs": [
    {
     "data": {
      "text/plain": [
       "53"
      ]
     },
     "execution_count": 131,
     "metadata": {},
     "output_type": "execute_result"
    }
   ],
   "source": [
    "# All doctrines on the question (5 levels deep, which is sufficient here)\n",
    "q = (\"MATCH (d:Doctrine)<-[:CONTAINS]-(:Question)-[:INSTANCE_OF]->(:QuestionType {name:'Science of the soul'})\"\n",
    "     \"RETURN count(distinct d)\")\n",
    "run_query(q).single()[0]"
   ]
  },
  {
   "cell_type": "code",
   "execution_count": 132,
   "metadata": {},
   "outputs": [
    {
     "data": {
      "text/plain": [
       "11"
      ]
     },
     "execution_count": 132,
     "metadata": {},
     "output_type": "execute_result"
    }
   ],
   "source": [
    "# First level positive doctrines\n",
    "q = (\"MATCH (d:Doctrine)-[:SUPPORTS]->(:Doctrine {name:'There can be a science of the soul'})\"\n",
    "     \"RETURN count(distinct d)\")\n",
    "run_query(q).single()[0]"
   ]
  },
  {
   "cell_type": "code",
   "execution_count": 133,
   "metadata": {},
   "outputs": [
    {
     "data": {
      "text/plain": [
       "18"
      ]
     },
     "execution_count": 133,
     "metadata": {},
     "output_type": "execute_result"
    }
   ],
   "source": [
    "# First level negative rationes\n",
    "q = (\"MATCH (d:Doctrine)-[:ATTACKS]->(:Doctrine {name:'There can be a science of the soul'})\"\n",
    "     \"RETURN count(distinct d)\")\n",
    "run_query(q).single()[0]"
   ]
  },
  {
   "cell_type": "code",
   "execution_count": 134,
   "metadata": {},
   "outputs": [
    {
     "data": {
      "text/plain": [
       "19"
      ]
     },
     "execution_count": 134,
     "metadata": {},
     "output_type": "execute_result"
    }
   ],
   "source": [
    "# Attacks on negative rationes (= refutation doctrines)\n",
    "q = (\"MATCH (d:Doctrine)-[:ATTACKS]->(:Doctrine)-[:ATTACKS]->(:Doctrine {name:'There can be a science of the soul'})\"\n",
    "     \"RETURN count(distinct d)\")\n",
    "run_query(q).single()[0]"
   ]
  },
  {
   "cell_type": "markdown",
   "metadata": {},
   "source": [
    "#### How many doctrines per commentator?"
   ]
  },
  {
   "cell_type": "code",
   "execution_count": 204,
   "metadata": {},
   "outputs": [
    {
     "data": {
      "text/plain": [
       "[2, 2, 12, 8, 4, 16]"
      ]
     },
     "execution_count": 204,
     "metadata": {},
     "output_type": "execute_result"
    }
   ],
   "source": [
    "def commentator_doctrines(name: str) -> List[int]:\n",
    "    q_all = (\"MATCH (root:Doctrine {name:'There can be a science of the soul'})\"\n",
    "             \"MATCH (a:Author)--(:Text)--(q:Question)--(d:Doctrine)\"\n",
    "             \"WHERE (q)-[:INSTANCE_OF]->(:QuestionType {name:'Science of the soul'})\"\n",
    "             \"AND a.name = '%s'\"\n",
    "             \"RETURN count(distinct d)\" % name)\n",
    "    q_pos = (\"MATCH (root:Doctrine {name:'There can be a science of the soul'})\"\n",
    "             \"MATCH (a:Author)--(:Text)--(q:Question)--(d:Doctrine)\"\n",
    "             \"WHERE (d)-[:SUPPORTS]-(root)\"\n",
    "             \"AND a.name = '%s'\"\n",
    "             \"RETURN count(distinct d)\" % name)\n",
    "    q_att = (\"MATCH (root:Doctrine {name:'There can be a science of the soul'})\"\n",
    "             \"MATCH (a:Author)--(:Text)--(q:Question)--(d:Doctrine)\"\n",
    "             \"WHERE (d)-[:ATTACKS]->(root)\"\n",
    "             \"AND a.name = '%s'\"\n",
    "             \"RETURN count(distinct d)\" % name)\n",
    "    q_ref = (\"MATCH (root:Doctrine {name:'There can be a science of the soul'})\"\n",
    "             \"MATCH (a:Author)--(:Text)--(q:Question)--(d:Doctrine)\"\n",
    "             \"WHERE (d:Doctrine)-[:ATTACKS]->(:Doctrine)-[:ATTACKS]->(root)\"\n",
    "             \"AND a.name = '%s'\"\n",
    "             \"RETURN count(distinct d)\" % name)\n",
    "    q_free = (\"MATCH (root:Doctrine {name:'There can be a science of the soul'})\"\n",
    "              \"MATCH (a:Author)--(:Text)--(q:Question)--(d:Doctrine)\"\n",
    "              \"WHERE (q)-[:INSTANCE_OF]->(:QuestionType {name:'Science of the soul'})\"\n",
    "              \"AND NOT (d)--(:Doctrine)\"\n",
    "              \"AND a.name = '%s'\"\n",
    "              \"RETURN count(distinct d)\" % name)\n",
    "    res_all = run_query(q_all).single()[0]\n",
    "    res_pos = run_query(q_pos).single()[0]\n",
    "    res_att = run_query(q_att).single()[0]\n",
    "    res_ref = run_query(q_ref).single()[0]\n",
    "    res_free = run_query(q_free).single()[0]\n",
    "    return [res_pos, res_free, res_att + res_ref, res_att, res_ref, res_all]\n",
    "    \n",
    "# Test with one of the guys.\n",
    "commentator_doctrines('John of Jandun')"
   ]
  },
  {
   "cell_type": "code",
   "execution_count": 205,
   "metadata": {},
   "outputs": [],
   "source": [
    "# Build a matrix of all the commentators\n",
    "count_all = {author: commentator_doctrines(author) for author in author_names}"
   ]
  },
  {
   "cell_type": "code",
   "execution_count": 206,
   "metadata": {},
   "outputs": [
    {
     "data": {
      "text/html": [
       "<div>\n",
       "<style scoped>\n",
       "    .dataframe tbody tr th:only-of-type {\n",
       "        vertical-align: middle;\n",
       "    }\n",
       "\n",
       "    .dataframe tbody tr th {\n",
       "        vertical-align: top;\n",
       "    }\n",
       "\n",
       "    .dataframe thead th {\n",
       "        text-align: right;\n",
       "    }\n",
       "</style>\n",
       "<table border=\"1\" class=\"dataframe\">\n",
       "  <thead>\n",
       "    <tr style=\"text-align: right;\">\n",
       "      <th></th>\n",
       "      <th>Positive</th>\n",
       "      <th>Free</th>\n",
       "      <th>Rationes</th>\n",
       "      <th>Attacking</th>\n",
       "      <th>Refuting</th>\n",
       "      <th>All</th>\n",
       "    </tr>\n",
       "  </thead>\n",
       "  <tbody>\n",
       "    <tr>\n",
       "      <th>Anonymus Mertoniensis 275</th>\n",
       "      <td>6</td>\n",
       "      <td>1</td>\n",
       "      <td>12</td>\n",
       "      <td>6</td>\n",
       "      <td>6</td>\n",
       "      <td>19</td>\n",
       "    </tr>\n",
       "    <tr>\n",
       "      <th>Henric de la Wyle</th>\n",
       "      <td>3</td>\n",
       "      <td>1</td>\n",
       "      <td>12</td>\n",
       "      <td>5</td>\n",
       "      <td>7</td>\n",
       "      <td>17</td>\n",
       "    </tr>\n",
       "    <tr>\n",
       "      <th>John of Jandun</th>\n",
       "      <td>2</td>\n",
       "      <td>2</td>\n",
       "      <td>12</td>\n",
       "      <td>8</td>\n",
       "      <td>4</td>\n",
       "      <td>16</td>\n",
       "    </tr>\n",
       "    <tr>\n",
       "      <th>Anonymus Oriel 33</th>\n",
       "      <td>3</td>\n",
       "      <td>1</td>\n",
       "      <td>11</td>\n",
       "      <td>5</td>\n",
       "      <td>6</td>\n",
       "      <td>14</td>\n",
       "    </tr>\n",
       "    <tr>\n",
       "      <th>Anonymus Bernardini</th>\n",
       "      <td>5</td>\n",
       "      <td>0</td>\n",
       "      <td>8</td>\n",
       "      <td>4</td>\n",
       "      <td>4</td>\n",
       "      <td>13</td>\n",
       "    </tr>\n",
       "    <tr>\n",
       "      <th>John Dinsdale</th>\n",
       "      <td>3</td>\n",
       "      <td>1</td>\n",
       "      <td>10</td>\n",
       "      <td>5</td>\n",
       "      <td>5</td>\n",
       "      <td>13</td>\n",
       "    </tr>\n",
       "    <tr>\n",
       "      <th>Simon of Faversham</th>\n",
       "      <td>3</td>\n",
       "      <td>2</td>\n",
       "      <td>8</td>\n",
       "      <td>4</td>\n",
       "      <td>4</td>\n",
       "      <td>13</td>\n",
       "    </tr>\n",
       "    <tr>\n",
       "      <th>Anonymus Vat. Lat. 2170 I</th>\n",
       "      <td>5</td>\n",
       "      <td>0</td>\n",
       "      <td>6</td>\n",
       "      <td>3</td>\n",
       "      <td>3</td>\n",
       "      <td>12</td>\n",
       "    </tr>\n",
       "    <tr>\n",
       "      <th>Radulphus Brito</th>\n",
       "      <td>3</td>\n",
       "      <td>2</td>\n",
       "      <td>7</td>\n",
       "      <td>4</td>\n",
       "      <td>3</td>\n",
       "      <td>12</td>\n",
       "    </tr>\n",
       "    <tr>\n",
       "      <th>Anonymus Vennebusch</th>\n",
       "      <td>3</td>\n",
       "      <td>1</td>\n",
       "      <td>4</td>\n",
       "      <td>2</td>\n",
       "      <td>2</td>\n",
       "      <td>8</td>\n",
       "    </tr>\n",
       "    <tr>\n",
       "      <th>Anonymus Bazan I</th>\n",
       "      <td>1</td>\n",
       "      <td>0</td>\n",
       "      <td>5</td>\n",
       "      <td>3</td>\n",
       "      <td>2</td>\n",
       "      <td>7</td>\n",
       "    </tr>\n",
       "    <tr>\n",
       "      <th>Anonymus Steenberghen</th>\n",
       "      <td>2</td>\n",
       "      <td>0</td>\n",
       "      <td>4</td>\n",
       "      <td>2</td>\n",
       "      <td>2</td>\n",
       "      <td>7</td>\n",
       "    </tr>\n",
       "    <tr>\n",
       "      <th>Anonymus Vat. Lat. 2170 II</th>\n",
       "      <td>1</td>\n",
       "      <td>1</td>\n",
       "      <td>4</td>\n",
       "      <td>2</td>\n",
       "      <td>2</td>\n",
       "      <td>7</td>\n",
       "    </tr>\n",
       "    <tr>\n",
       "      <th>Anonymus Giele</th>\n",
       "      <td>1</td>\n",
       "      <td>0</td>\n",
       "      <td>5</td>\n",
       "      <td>2</td>\n",
       "      <td>3</td>\n",
       "      <td>6</td>\n",
       "    </tr>\n",
       "  </tbody>\n",
       "</table>\n",
       "</div>"
      ],
      "text/plain": [
       "                            Positive  Free  Rationes  Attacking  Refuting  All\n",
       "Anonymus Mertoniensis 275          6     1        12          6         6   19\n",
       "Henric de la Wyle                  3     1        12          5         7   17\n",
       "John of Jandun                     2     2        12          8         4   16\n",
       "Anonymus Oriel 33                  3     1        11          5         6   14\n",
       "Anonymus Bernardini                5     0         8          4         4   13\n",
       "John Dinsdale                      3     1        10          5         5   13\n",
       "Simon of Faversham                 3     2         8          4         4   13\n",
       "Anonymus Vat. Lat. 2170 I          5     0         6          3         3   12\n",
       "Radulphus Brito                    3     2         7          4         3   12\n",
       "Anonymus Vennebusch                3     1         4          2         2    8\n",
       "Anonymus Bazan I                   1     0         5          3         2    7\n",
       "Anonymus Steenberghen              2     0         4          2         2    7\n",
       "Anonymus Vat. Lat. 2170 II         1     1         4          2         2    7\n",
       "Anonymus Giele                     1     0         5          2         3    6"
      ]
     },
     "execution_count": 206,
     "metadata": {},
     "output_type": "execute_result"
    }
   ],
   "source": [
    "# Put it in a dataframe and present the table\n",
    "df_count_all = pd.DataFrame(count_all, index=['Positive', 'Free', 'Rationes', 'Attacking', 'Refuting', 'All'])\n",
    "df_count_all = df_count_all.T # Transpose to have present rows rather than colums of observations\n",
    "df_count_all.sort_values(by='All', ascending=False)"
   ]
  },
  {
   "cell_type": "code",
   "execution_count": 207,
   "metadata": {},
   "outputs": [
    {
     "data": {
      "text/html": [
       "<div>\n",
       "<style scoped>\n",
       "    .dataframe tbody tr th:only-of-type {\n",
       "        vertical-align: middle;\n",
       "    }\n",
       "\n",
       "    .dataframe tbody tr th {\n",
       "        vertical-align: top;\n",
       "    }\n",
       "\n",
       "    .dataframe thead th {\n",
       "        text-align: right;\n",
       "    }\n",
       "</style>\n",
       "<table border=\"1\" class=\"dataframe\">\n",
       "  <thead>\n",
       "    <tr style=\"text-align: right;\">\n",
       "      <th></th>\n",
       "      <th>Positive</th>\n",
       "      <th>Free</th>\n",
       "      <th>Rationes</th>\n",
       "      <th>Attacking</th>\n",
       "      <th>Refuting</th>\n",
       "      <th>All</th>\n",
       "    </tr>\n",
       "  </thead>\n",
       "  <tbody>\n",
       "    <tr>\n",
       "      <th>count</th>\n",
       "      <td>14.00</td>\n",
       "      <td>14.00</td>\n",
       "      <td>14.00</td>\n",
       "      <td>14.00</td>\n",
       "      <td>14.00</td>\n",
       "      <td>14.00</td>\n",
       "    </tr>\n",
       "    <tr>\n",
       "      <th>mean</th>\n",
       "      <td>2.93</td>\n",
       "      <td>0.86</td>\n",
       "      <td>7.71</td>\n",
       "      <td>3.93</td>\n",
       "      <td>3.79</td>\n",
       "      <td>11.71</td>\n",
       "    </tr>\n",
       "    <tr>\n",
       "      <th>std</th>\n",
       "      <td>1.54</td>\n",
       "      <td>0.77</td>\n",
       "      <td>3.17</td>\n",
       "      <td>1.77</td>\n",
       "      <td>1.67</td>\n",
       "      <td>4.14</td>\n",
       "    </tr>\n",
       "    <tr>\n",
       "      <th>min</th>\n",
       "      <td>1.00</td>\n",
       "      <td>0.00</td>\n",
       "      <td>4.00</td>\n",
       "      <td>2.00</td>\n",
       "      <td>2.00</td>\n",
       "      <td>6.00</td>\n",
       "    </tr>\n",
       "    <tr>\n",
       "      <th>25%</th>\n",
       "      <td>2.00</td>\n",
       "      <td>0.00</td>\n",
       "      <td>5.00</td>\n",
       "      <td>2.25</td>\n",
       "      <td>2.25</td>\n",
       "      <td>7.25</td>\n",
       "    </tr>\n",
       "    <tr>\n",
       "      <th>50%</th>\n",
       "      <td>3.00</td>\n",
       "      <td>1.00</td>\n",
       "      <td>7.50</td>\n",
       "      <td>4.00</td>\n",
       "      <td>3.50</td>\n",
       "      <td>12.50</td>\n",
       "    </tr>\n",
       "    <tr>\n",
       "      <th>75%</th>\n",
       "      <td>3.00</td>\n",
       "      <td>1.00</td>\n",
       "      <td>10.75</td>\n",
       "      <td>5.00</td>\n",
       "      <td>4.75</td>\n",
       "      <td>13.75</td>\n",
       "    </tr>\n",
       "    <tr>\n",
       "      <th>max</th>\n",
       "      <td>6.00</td>\n",
       "      <td>2.00</td>\n",
       "      <td>12.00</td>\n",
       "      <td>8.00</td>\n",
       "      <td>7.00</td>\n",
       "      <td>19.00</td>\n",
       "    </tr>\n",
       "  </tbody>\n",
       "</table>\n",
       "</div>"
      ],
      "text/plain": [
       "       Positive   Free  Rationes  Attacking  Refuting    All\n",
       "count     14.00  14.00     14.00      14.00     14.00  14.00\n",
       "mean       2.93   0.86      7.71       3.93      3.79  11.71\n",
       "std        1.54   0.77      3.17       1.77      1.67   4.14\n",
       "min        1.00   0.00      4.00       2.00      2.00   6.00\n",
       "25%        2.00   0.00      5.00       2.25      2.25   7.25\n",
       "50%        3.00   1.00      7.50       4.00      3.50  12.50\n",
       "75%        3.00   1.00     10.75       5.00      4.75  13.75\n",
       "max        6.00   2.00     12.00       8.00      7.00  19.00"
      ]
     },
     "execution_count": 207,
     "metadata": {},
     "output_type": "execute_result"
    }
   ],
   "source": [
    "# General summaries of the values\n",
    "df_count_all.describe().round(2)"
   ]
  },
  {
   "cell_type": "markdown",
   "metadata": {},
   "source": [
    "#### Unique and shared determination points"
   ]
  },
  {
   "cell_type": "code",
   "execution_count": 216,
   "metadata": {},
   "outputs": [
    {
     "data": {
      "text/plain": [
       "0"
      ]
     },
     "execution_count": 216,
     "metadata": {},
     "output_type": "execute_result"
    }
   ],
   "source": [
    "def count_unique_determination_doctrines(name):\n",
    "    q = (\"MATCH (a:Author)--(:Text)--(q:Question)--(d:Doctrine)\"\n",
    "         \"WHERE a.name = '%s'\"\n",
    "         \"AND (d)-[:SUPPORTS]->(:Doctrine {name:'There can be a science of the soul'})\"\n",
    "         \"AND NOT (:Question)--(d)--(q:Question)\"\n",
    "         \"RETURN count(distinct d)\" % (name))\n",
    "    try:\n",
    "        return run_query(q).single()[0]\n",
    "    except TypeError:\n",
    "        return 0\n",
    "\n",
    "# Example\n",
    "count_unique_determination_doctrines('John of Jandun')"
   ]
  },
  {
   "cell_type": "code",
   "execution_count": 217,
   "metadata": {},
   "outputs": [
    {
     "data": {
      "text/plain": [
       "2"
      ]
     },
     "execution_count": 217,
     "metadata": {},
     "output_type": "execute_result"
    }
   ],
   "source": [
    "def count_shared_determination_doctrines(name):\n",
    "    q = (\"MATCH (a:Author)--(:Text)--(q:Question)--(d:Doctrine)\"\n",
    "         \"WHERE a.name = '%s' and not(a.name = 'Aristotle')\"\n",
    "         \"AND (d)-[:SUPPORTS]->(:Doctrine {name:'There can be a science of the soul'})\"\n",
    "         \"MATCH (q1:Question)--(d)\"\n",
    "         \"WHERE (q1) <> (q)\"\n",
    "         \"RETURN count(distinct d), collect(distinct d.name)\" % (name))\n",
    "    try:\n",
    "        return run_query(q).single()[0]\n",
    "    except TypeError:\n",
    "        return 0\n",
    "\n",
    "# Example\n",
    "count_shared_determination_doctrines('John of Jandun')"
   ]
  },
  {
   "cell_type": "markdown",
   "metadata": {},
   "source": [
    "Proportion unique of all doctrines"
   ]
  },
  {
   "cell_type": "code",
   "execution_count": 218,
   "metadata": {},
   "outputs": [
    {
     "data": {
      "text/plain": [
       "0.0"
      ]
     },
     "execution_count": 218,
     "metadata": {},
     "output_type": "execute_result"
    }
   ],
   "source": [
    "def unique_to_shared_proportion(unique, shared):\n",
    "    try:\n",
    "        return unique / (unique + shared)\n",
    "    except ZeroDivisionError:\n",
    "        return 0\n",
    "    \n",
    "# Example\n",
    "unique_to_shared_proportion(\n",
    "    count_unique_determination_doctrines('John of Jandun'),\n",
    "    count_shared_determination_doctrines('John of Jandun')\n",
    ")"
   ]
  },
  {
   "cell_type": "markdown",
   "metadata": {},
   "source": [
    "Now let's get the values of these for all the commentators and put them into a matrix."
   ]
  },
  {
   "cell_type": "code",
   "execution_count": 220,
   "metadata": {},
   "outputs": [],
   "source": [
    "def unique_shared_determinations_all(authors):\n",
    "    d = {}\n",
    "    for a in authors:\n",
    "        unique = count_unique_determination_doctrines(a)\n",
    "        shared = count_shared_determination_doctrines(a)\n",
    "        prop = unique_to_shared_proportion(unique, shared)\n",
    "        \n",
    "        d[a] = [unique, shared, unique + shared, prop]\n",
    "    return d\n",
    "\n",
    "# Example\n",
    "m = unique_shared_determinations_all(author_names)"
   ]
  },
  {
   "cell_type": "markdown",
   "metadata": {},
   "source": [
    "Put this in a DataFrame and sort according to highest proportion of unique."
   ]
  },
  {
   "cell_type": "code",
   "execution_count": 221,
   "metadata": {},
   "outputs": [
    {
     "data": {
      "text/html": [
       "<div>\n",
       "<style scoped>\n",
       "    .dataframe tbody tr th:only-of-type {\n",
       "        vertical-align: middle;\n",
       "    }\n",
       "\n",
       "    .dataframe tbody tr th {\n",
       "        vertical-align: top;\n",
       "    }\n",
       "\n",
       "    .dataframe thead th {\n",
       "        text-align: right;\n",
       "    }\n",
       "</style>\n",
       "<table border=\"1\" class=\"dataframe\">\n",
       "  <thead>\n",
       "    <tr style=\"text-align: right;\">\n",
       "      <th></th>\n",
       "      <th>Unique</th>\n",
       "      <th>Shared</th>\n",
       "      <th>Sum</th>\n",
       "      <th>Proportion</th>\n",
       "    </tr>\n",
       "  </thead>\n",
       "  <tbody>\n",
       "    <tr>\n",
       "      <th>Anonymus Steenberghen</th>\n",
       "      <td>1</td>\n",
       "      <td>1</td>\n",
       "      <td>2</td>\n",
       "      <td>0.5</td>\n",
       "    </tr>\n",
       "    <tr>\n",
       "      <th>Henric de la Wyle</th>\n",
       "      <td>1</td>\n",
       "      <td>2</td>\n",
       "      <td>3</td>\n",
       "      <td>0.3</td>\n",
       "    </tr>\n",
       "    <tr>\n",
       "      <th>Anonymus Bernardini</th>\n",
       "      <td>1</td>\n",
       "      <td>4</td>\n",
       "      <td>5</td>\n",
       "      <td>0.2</td>\n",
       "    </tr>\n",
       "    <tr>\n",
       "      <th>Anonymus Vat. Lat. 2170 I</th>\n",
       "      <td>1</td>\n",
       "      <td>4</td>\n",
       "      <td>5</td>\n",
       "      <td>0.2</td>\n",
       "    </tr>\n",
       "    <tr>\n",
       "      <th>Anonymus Bazan I</th>\n",
       "      <td>0</td>\n",
       "      <td>1</td>\n",
       "      <td>1</td>\n",
       "      <td>0.0</td>\n",
       "    </tr>\n",
       "    <tr>\n",
       "      <th>Anonymus Giele</th>\n",
       "      <td>0</td>\n",
       "      <td>1</td>\n",
       "      <td>1</td>\n",
       "      <td>0.0</td>\n",
       "    </tr>\n",
       "    <tr>\n",
       "      <th>Anonymus Mertoniensis 275</th>\n",
       "      <td>0</td>\n",
       "      <td>6</td>\n",
       "      <td>6</td>\n",
       "      <td>0.0</td>\n",
       "    </tr>\n",
       "    <tr>\n",
       "      <th>Anonymus Oriel 33</th>\n",
       "      <td>0</td>\n",
       "      <td>3</td>\n",
       "      <td>3</td>\n",
       "      <td>0.0</td>\n",
       "    </tr>\n",
       "    <tr>\n",
       "      <th>Anonymus Vat. Lat. 2170 II</th>\n",
       "      <td>0</td>\n",
       "      <td>1</td>\n",
       "      <td>1</td>\n",
       "      <td>0.0</td>\n",
       "    </tr>\n",
       "    <tr>\n",
       "      <th>Anonymus Vennebusch</th>\n",
       "      <td>0</td>\n",
       "      <td>3</td>\n",
       "      <td>3</td>\n",
       "      <td>0.0</td>\n",
       "    </tr>\n",
       "    <tr>\n",
       "      <th>John Dinsdale</th>\n",
       "      <td>0</td>\n",
       "      <td>3</td>\n",
       "      <td>3</td>\n",
       "      <td>0.0</td>\n",
       "    </tr>\n",
       "    <tr>\n",
       "      <th>John of Jandun</th>\n",
       "      <td>0</td>\n",
       "      <td>2</td>\n",
       "      <td>2</td>\n",
       "      <td>0.0</td>\n",
       "    </tr>\n",
       "    <tr>\n",
       "      <th>Radulphus Brito</th>\n",
       "      <td>0</td>\n",
       "      <td>3</td>\n",
       "      <td>3</td>\n",
       "      <td>0.0</td>\n",
       "    </tr>\n",
       "    <tr>\n",
       "      <th>Simon of Faversham</th>\n",
       "      <td>0</td>\n",
       "      <td>3</td>\n",
       "      <td>3</td>\n",
       "      <td>0.0</td>\n",
       "    </tr>\n",
       "  </tbody>\n",
       "</table>\n",
       "</div>"
      ],
      "text/plain": [
       "                            Unique  Shared  Sum  Proportion\n",
       "Anonymus Steenberghen            1       1    2         0.5\n",
       "Henric de la Wyle                1       2    3         0.3\n",
       "Anonymus Bernardini              1       4    5         0.2\n",
       "Anonymus Vat. Lat. 2170 I        1       4    5         0.2\n",
       "Anonymus Bazan I                 0       1    1         0.0\n",
       "Anonymus Giele                   0       1    1         0.0\n",
       "Anonymus Mertoniensis 275        0       6    6         0.0\n",
       "Anonymus Oriel 33                0       3    3         0.0\n",
       "Anonymus Vat. Lat. 2170 II       0       1    1         0.0\n",
       "Anonymus Vennebusch              0       3    3         0.0\n",
       "John Dinsdale                    0       3    3         0.0\n",
       "John of Jandun                   0       2    2         0.0\n",
       "Radulphus Brito                  0       3    3         0.0\n",
       "Simon of Faversham               0       3    3         0.0"
      ]
     },
     "execution_count": 221,
     "metadata": {},
     "output_type": "execute_result"
    }
   ],
   "source": [
    "df = pd.DataFrame(m, index=['Unique', 'Shared', 'Sum', 'Proportion'])\n",
    "df = df.T\n",
    "df[['Unique', 'Shared', 'Sum']] = df[['Unique', 'Shared', 'Sum']].astype(int)\n",
    "df.round(1).sort_values(by='Proportion', ascending=False)"
   ]
  },
  {
   "cell_type": "code",
   "execution_count": 223,
   "metadata": {},
   "outputs": [
    {
     "data": {
      "text/plain": [
       "Unique     4\n",
       "Shared    37\n",
       "Sum       41\n",
       "dtype: int64"
      ]
     },
     "execution_count": 223,
     "metadata": {},
     "output_type": "execute_result"
    }
   ],
   "source": [
    "# The sums?\n",
    "df[['Unique', 'Shared', 'Sum']].sum()"
   ]
  },
  {
   "cell_type": "code",
   "execution_count": 224,
   "metadata": {},
   "outputs": [
    {
     "data": {
      "text/plain": [
       "9.8"
      ]
     },
     "execution_count": 224,
     "metadata": {},
     "output_type": "execute_result"
    }
   ],
   "source": [
    "# Proportion in percent?\n",
    "round((df['Unique'].sum() / df['Sum'].sum()) * 100, 1)"
   ]
  },
  {
   "cell_type": "markdown",
   "metadata": {},
   "source": [
    "#### Unique and shared attacks and refutations"
   ]
  },
  {
   "cell_type": "markdown",
   "metadata": {},
   "source": [
    "##### Attacks"
   ]
  },
  {
   "cell_type": "code",
   "execution_count": 225,
   "metadata": {},
   "outputs": [
    {
     "data": {
      "text/plain": [
       "2"
      ]
     },
     "execution_count": 225,
     "metadata": {},
     "output_type": "execute_result"
    }
   ],
   "source": [
    "def count_unique_negative_doctrines(name):\n",
    "    q = (\"MATCH (root:Doctrine {name:'There can be a science of the soul'})\"\n",
    "         \"MATCH (a:Author)--(:Text)--(q:Question)--(d:Doctrine)\"\n",
    "         \"WHERE (d)-[:ATTACKS]-(root)\"\n",
    "         \"AND NOT (:Question)--(d)--(q:Question)\"\n",
    "         \"AND a.name = '%s'\"\n",
    "         \"RETURN count(distinct d)\" % name)\n",
    "    try:\n",
    "        return run_query(q).single()[0]\n",
    "    except TypeError:\n",
    "        return 0\n",
    "\n",
    "# Example\n",
    "count_unique_negative_doctrines('John of Jandun')"
   ]
  },
  {
   "cell_type": "code",
   "execution_count": 226,
   "metadata": {},
   "outputs": [
    {
     "data": {
      "text/plain": [
       "6"
      ]
     },
     "execution_count": 226,
     "metadata": {},
     "output_type": "execute_result"
    }
   ],
   "source": [
    "def count_shared_negative_doctrines(name):\n",
    "    q = (\"MATCH (root:Doctrine {name:'There can be a science of the soul'})\"\n",
    "         \"MATCH (a:Author)--(:Text)--(q:Question)--(d:Doctrine)\"\n",
    "         \"WHERE (d)-[:ATTACKS]->(root)\"\n",
    "         \"AND a.name = '%s'\"\n",
    "         \"MATCH (q1:Question)--(d)\"\n",
    "         \"WHERE (q1) <> (q)\"\n",
    "         \"RETURN count(distinct d), collect(distinct d.name)\" % (name))\n",
    "    try:\n",
    "        return run_query(q).single()[0]\n",
    "    except TypeError:\n",
    "        return 0\n",
    "\n",
    "# Example\n",
    "count_shared_negative_doctrines('John of Jandun')"
   ]
  },
  {
   "cell_type": "markdown",
   "metadata": {},
   "source": [
    "Proportion unique of all doctrines"
   ]
  },
  {
   "cell_type": "code",
   "execution_count": 228,
   "metadata": {},
   "outputs": [
    {
     "data": {
      "text/plain": [
       "0.25"
      ]
     },
     "execution_count": 228,
     "metadata": {},
     "output_type": "execute_result"
    }
   ],
   "source": [
    "def unique_to_shared_proportion(unique, shared):\n",
    "    try:\n",
    "        return unique / (unique + shared)\n",
    "    except ZeroDivisionError:\n",
    "        return 0\n",
    "    \n",
    "# Example\n",
    "unique_to_shared_proportion(\n",
    "    count_unique_negative_doctrines('John of Jandun'),\n",
    "    count_shared_negative_doctrines('John of Jandun')\n",
    ")"
   ]
  },
  {
   "cell_type": "markdown",
   "metadata": {},
   "source": [
    "Now let's get the values of these for all the commentators and put them into a matrix."
   ]
  },
  {
   "cell_type": "code",
   "execution_count": 231,
   "metadata": {},
   "outputs": [],
   "source": [
    "def unique_shared_determinations_all(authors):\n",
    "    d = {}\n",
    "    for a in authors:\n",
    "        unique = count_unique_negative_doctrines(a)\n",
    "        shared = count_shared_negative_doctrines(a)\n",
    "        prop = unique_to_shared_proportion(unique, shared)\n",
    "        \n",
    "        d[a] = [unique, shared, unique + shared, prop]\n",
    "    return d\n",
    "\n",
    "# Example\n",
    "m = unique_shared_determinations_all(author_names)"
   ]
  },
  {
   "cell_type": "markdown",
   "metadata": {},
   "source": [
    "Put this in a DataFrame and sort according to highest proportion of unique."
   ]
  },
  {
   "cell_type": "code",
   "execution_count": 254,
   "metadata": {
    "scrolled": false
   },
   "outputs": [
    {
     "data": {
      "text/html": [
       "<div>\n",
       "<style scoped>\n",
       "    .dataframe tbody tr th:only-of-type {\n",
       "        vertical-align: middle;\n",
       "    }\n",
       "\n",
       "    .dataframe tbody tr th {\n",
       "        vertical-align: top;\n",
       "    }\n",
       "\n",
       "    .dataframe thead th {\n",
       "        text-align: right;\n",
       "    }\n",
       "</style>\n",
       "<table border=\"1\" class=\"dataframe\">\n",
       "  <thead>\n",
       "    <tr style=\"text-align: right;\">\n",
       "      <th></th>\n",
       "      <th>Unique</th>\n",
       "      <th>Shared</th>\n",
       "      <th>Sum</th>\n",
       "      <th>Proportion</th>\n",
       "    </tr>\n",
       "  </thead>\n",
       "  <tbody>\n",
       "    <tr>\n",
       "      <th>Anonymus Bazan I</th>\n",
       "      <td>1</td>\n",
       "      <td>1</td>\n",
       "      <td>2</td>\n",
       "      <td>0.5</td>\n",
       "    </tr>\n",
       "    <tr>\n",
       "      <th>Anonymus Steenberghen</th>\n",
       "      <td>1</td>\n",
       "      <td>1</td>\n",
       "      <td>2</td>\n",
       "      <td>0.5</td>\n",
       "    </tr>\n",
       "    <tr>\n",
       "      <th>Henric de la Wyle</th>\n",
       "      <td>3</td>\n",
       "      <td>4</td>\n",
       "      <td>7</td>\n",
       "      <td>0.4</td>\n",
       "    </tr>\n",
       "    <tr>\n",
       "      <th>Anonymus Mertoniensis 275</th>\n",
       "      <td>2</td>\n",
       "      <td>4</td>\n",
       "      <td>6</td>\n",
       "      <td>0.3</td>\n",
       "    </tr>\n",
       "    <tr>\n",
       "      <th>Anonymus Bernardini</th>\n",
       "      <td>1</td>\n",
       "      <td>3</td>\n",
       "      <td>4</td>\n",
       "      <td>0.2</td>\n",
       "    </tr>\n",
       "    <tr>\n",
       "      <th>John of Jandun</th>\n",
       "      <td>1</td>\n",
       "      <td>3</td>\n",
       "      <td>4</td>\n",
       "      <td>0.2</td>\n",
       "    </tr>\n",
       "    <tr>\n",
       "      <th>Anonymus Giele</th>\n",
       "      <td>0</td>\n",
       "      <td>3</td>\n",
       "      <td>3</td>\n",
       "      <td>0.0</td>\n",
       "    </tr>\n",
       "    <tr>\n",
       "      <th>Anonymus Oriel 33</th>\n",
       "      <td>0</td>\n",
       "      <td>6</td>\n",
       "      <td>6</td>\n",
       "      <td>0.0</td>\n",
       "    </tr>\n",
       "    <tr>\n",
       "      <th>Anonymus Vat. Lat. 2170 I</th>\n",
       "      <td>0</td>\n",
       "      <td>3</td>\n",
       "      <td>3</td>\n",
       "      <td>0.0</td>\n",
       "    </tr>\n",
       "    <tr>\n",
       "      <th>Anonymus Vat. Lat. 2170 II</th>\n",
       "      <td>0</td>\n",
       "      <td>2</td>\n",
       "      <td>2</td>\n",
       "      <td>0.0</td>\n",
       "    </tr>\n",
       "    <tr>\n",
       "      <th>Anonymus Vennebusch</th>\n",
       "      <td>0</td>\n",
       "      <td>2</td>\n",
       "      <td>2</td>\n",
       "      <td>0.0</td>\n",
       "    </tr>\n",
       "    <tr>\n",
       "      <th>John Dinsdale</th>\n",
       "      <td>0</td>\n",
       "      <td>5</td>\n",
       "      <td>5</td>\n",
       "      <td>0.0</td>\n",
       "    </tr>\n",
       "    <tr>\n",
       "      <th>Radulphus Brito</th>\n",
       "      <td>0</td>\n",
       "      <td>3</td>\n",
       "      <td>3</td>\n",
       "      <td>0.0</td>\n",
       "    </tr>\n",
       "    <tr>\n",
       "      <th>Simon of Faversham</th>\n",
       "      <td>0</td>\n",
       "      <td>4</td>\n",
       "      <td>4</td>\n",
       "      <td>0.0</td>\n",
       "    </tr>\n",
       "  </tbody>\n",
       "</table>\n",
       "</div>"
      ],
      "text/plain": [
       "                            Unique  Shared  Sum  Proportion\n",
       "Anonymus Bazan I                 1       1    2         0.5\n",
       "Anonymus Steenberghen            1       1    2         0.5\n",
       "Henric de la Wyle                3       4    7         0.4\n",
       "Anonymus Mertoniensis 275        2       4    6         0.3\n",
       "Anonymus Bernardini              1       3    4         0.2\n",
       "John of Jandun                   1       3    4         0.2\n",
       "Anonymus Giele                   0       3    3         0.0\n",
       "Anonymus Oriel 33                0       6    6         0.0\n",
       "Anonymus Vat. Lat. 2170 I        0       3    3         0.0\n",
       "Anonymus Vat. Lat. 2170 II       0       2    2         0.0\n",
       "Anonymus Vennebusch              0       2    2         0.0\n",
       "John Dinsdale                    0       5    5         0.0\n",
       "Radulphus Brito                  0       3    3         0.0\n",
       "Simon of Faversham               0       4    4         0.0"
      ]
     },
     "execution_count": 254,
     "metadata": {},
     "output_type": "execute_result"
    }
   ],
   "source": [
    "df_attacks = pd.DataFrame(m, index=['Unique', 'Shared', 'Sum', 'Proportion'])\n",
    "df = df_attacks.T\n",
    "df[['Unique', 'Shared', 'Sum']] = df[['Unique', 'Shared', 'Sum']].astype(int)\n",
    "df.round(1).sort_values(by='Proportion', ascending=False)"
   ]
  },
  {
   "cell_type": "code",
   "execution_count": 234,
   "metadata": {},
   "outputs": [
    {
     "data": {
      "text/plain": [
       "Unique     8\n",
       "Shared    47\n",
       "Sum       55\n",
       "dtype: int64"
      ]
     },
     "execution_count": 234,
     "metadata": {},
     "output_type": "execute_result"
    }
   ],
   "source": [
    "# The sums?\n",
    "df[['Unique', 'Shared', 'Sum']].sum()"
   ]
  },
  {
   "cell_type": "code",
   "execution_count": 239,
   "metadata": {
    "scrolled": true
   },
   "outputs": [
    {
     "data": {
      "text/plain": [
       "14.5"
      ]
     },
     "execution_count": 239,
     "metadata": {},
     "output_type": "execute_result"
    }
   ],
   "source": [
    "# Proportion in percent?\n",
    "round((df['Unique'].sum() / df['Sum'].sum()) * 100, 1)"
   ]
  },
  {
   "cell_type": "markdown",
   "metadata": {},
   "source": [
    "##### Refutations"
   ]
  },
  {
   "cell_type": "code",
   "execution_count": 241,
   "metadata": {},
   "outputs": [
    {
     "data": {
      "text/plain": [
       "1"
      ]
     },
     "execution_count": 241,
     "metadata": {},
     "output_type": "execute_result"
    }
   ],
   "source": [
    "def count_unique_refutation_doctrines(name):\n",
    "    q = (\"MATCH (root:Doctrine {name:'There can be a science of the soul'})\"\n",
    "         \"MATCH (a:Author)--(:Text)--(q:Question)--(d:Doctrine)\"\n",
    "         \"WHERE (d)-[:ATTACKS]->(:Doctrine)-[:ATTACKS]->(root)\"\n",
    "         \"AND NOT (:Question)--(d)--(q:Question)\"\n",
    "         \"AND a.name = '%s'\"\n",
    "         \"RETURN count(distinct d)\" % name)\n",
    "    try:\n",
    "        return run_query(q).single()[0]\n",
    "    except TypeError:\n",
    "        return 0\n",
    "\n",
    "# Example\n",
    "count_unique_refutation_doctrines('John of Jandun')"
   ]
  },
  {
   "cell_type": "code",
   "execution_count": 248,
   "metadata": {},
   "outputs": [
    {
     "data": {
      "text/plain": [
       "3"
      ]
     },
     "execution_count": 248,
     "metadata": {},
     "output_type": "execute_result"
    }
   ],
   "source": [
    "def count_shared_refutation_doctrines(name):\n",
    "    q = (\"MATCH (root:Doctrine {name:'There can be a science of the soul'})\"\n",
    "         \"MATCH (a:Author)--(:Text)--(q:Question)--(d:Doctrine)\"\n",
    "         \"WHERE (d)-[:ATTACKS]->(:Doctrine)-[:ATTACKS]->(root)\"\n",
    "         \"AND a.name = '%s'\"\n",
    "         \"MATCH (q1:Question)--(d)\"\n",
    "         \"WHERE (q1) <> (q)\"\n",
    "         \"RETURN count(distinct d), collect(distinct d.name)\" % (name))\n",
    "    try:\n",
    "        return run_query(q).single()[0]\n",
    "    except TypeError:\n",
    "        return 0\n",
    "\n",
    "# Example\n",
    "count_shared_refutation_doctrines('John of Jandun')"
   ]
  },
  {
   "cell_type": "markdown",
   "metadata": {},
   "source": [
    "Proportion unique of all doctrines"
   ]
  },
  {
   "cell_type": "code",
   "execution_count": 249,
   "metadata": {},
   "outputs": [
    {
     "data": {
      "text/plain": [
       "0.25"
      ]
     },
     "execution_count": 249,
     "metadata": {},
     "output_type": "execute_result"
    }
   ],
   "source": [
    "def unique_to_shared_proportion(unique, shared):\n",
    "    try:\n",
    "        return unique / (unique + shared)\n",
    "    except ZeroDivisionError:\n",
    "        return 0\n",
    "    \n",
    "# Example\n",
    "unique_to_shared_proportion(\n",
    "    count_unique_refutation_doctrines('John of Jandun'),\n",
    "    count_shared_refutation_doctrines('John of Jandun')\n",
    ")"
   ]
  },
  {
   "cell_type": "markdown",
   "metadata": {},
   "source": [
    "Now let's get the values of these for all the commentators and put them into a matrix."
   ]
  },
  {
   "cell_type": "code",
   "execution_count": 250,
   "metadata": {},
   "outputs": [],
   "source": [
    "def unique_shared_refutations_all(authors):\n",
    "    d = {}\n",
    "    for a in authors:\n",
    "        unique = count_unique_refutation_doctrines(a)\n",
    "        shared = count_shared_refutation_doctrines(a)\n",
    "        prop = unique_to_shared_proportion(unique, shared)\n",
    "        \n",
    "        d[a] = [unique, shared, unique + shared, prop]\n",
    "    return d\n",
    "\n",
    "# Example\n",
    "m = unique_shared_refutations_all(author_names)"
   ]
  },
  {
   "cell_type": "markdown",
   "metadata": {},
   "source": [
    "Put this in a DataFrame and sort according to highest proportion of unique."
   ]
  },
  {
   "cell_type": "code",
   "execution_count": 255,
   "metadata": {
    "scrolled": false
   },
   "outputs": [
    {
     "data": {
      "text/html": [
       "<div>\n",
       "<style scoped>\n",
       "    .dataframe tbody tr th:only-of-type {\n",
       "        vertical-align: middle;\n",
       "    }\n",
       "\n",
       "    .dataframe tbody tr th {\n",
       "        vertical-align: top;\n",
       "    }\n",
       "\n",
       "    .dataframe thead th {\n",
       "        text-align: right;\n",
       "    }\n",
       "</style>\n",
       "<table border=\"1\" class=\"dataframe\">\n",
       "  <thead>\n",
       "    <tr style=\"text-align: right;\">\n",
       "      <th></th>\n",
       "      <th>Unique</th>\n",
       "      <th>Shared</th>\n",
       "      <th>Sum</th>\n",
       "      <th>Proportion</th>\n",
       "    </tr>\n",
       "  </thead>\n",
       "  <tbody>\n",
       "    <tr>\n",
       "      <th>Anonymus Bazan I</th>\n",
       "      <td>1</td>\n",
       "      <td>1</td>\n",
       "      <td>2</td>\n",
       "      <td>0.5</td>\n",
       "    </tr>\n",
       "    <tr>\n",
       "      <th>Anonymus Steenberghen</th>\n",
       "      <td>1</td>\n",
       "      <td>1</td>\n",
       "      <td>2</td>\n",
       "      <td>0.5</td>\n",
       "    </tr>\n",
       "    <tr>\n",
       "      <th>Henric de la Wyle</th>\n",
       "      <td>3</td>\n",
       "      <td>4</td>\n",
       "      <td>7</td>\n",
       "      <td>0.4</td>\n",
       "    </tr>\n",
       "    <tr>\n",
       "      <th>Anonymus Mertoniensis 275</th>\n",
       "      <td>2</td>\n",
       "      <td>4</td>\n",
       "      <td>6</td>\n",
       "      <td>0.3</td>\n",
       "    </tr>\n",
       "    <tr>\n",
       "      <th>Anonymus Bernardini</th>\n",
       "      <td>1</td>\n",
       "      <td>3</td>\n",
       "      <td>4</td>\n",
       "      <td>0.2</td>\n",
       "    </tr>\n",
       "    <tr>\n",
       "      <th>John of Jandun</th>\n",
       "      <td>1</td>\n",
       "      <td>3</td>\n",
       "      <td>4</td>\n",
       "      <td>0.2</td>\n",
       "    </tr>\n",
       "    <tr>\n",
       "      <th>Anonymus Giele</th>\n",
       "      <td>0</td>\n",
       "      <td>3</td>\n",
       "      <td>3</td>\n",
       "      <td>0.0</td>\n",
       "    </tr>\n",
       "    <tr>\n",
       "      <th>Anonymus Oriel 33</th>\n",
       "      <td>0</td>\n",
       "      <td>6</td>\n",
       "      <td>6</td>\n",
       "      <td>0.0</td>\n",
       "    </tr>\n",
       "    <tr>\n",
       "      <th>Anonymus Vat. Lat. 2170 I</th>\n",
       "      <td>0</td>\n",
       "      <td>3</td>\n",
       "      <td>3</td>\n",
       "      <td>0.0</td>\n",
       "    </tr>\n",
       "    <tr>\n",
       "      <th>Anonymus Vat. Lat. 2170 II</th>\n",
       "      <td>0</td>\n",
       "      <td>2</td>\n",
       "      <td>2</td>\n",
       "      <td>0.0</td>\n",
       "    </tr>\n",
       "    <tr>\n",
       "      <th>Anonymus Vennebusch</th>\n",
       "      <td>0</td>\n",
       "      <td>2</td>\n",
       "      <td>2</td>\n",
       "      <td>0.0</td>\n",
       "    </tr>\n",
       "    <tr>\n",
       "      <th>John Dinsdale</th>\n",
       "      <td>0</td>\n",
       "      <td>5</td>\n",
       "      <td>5</td>\n",
       "      <td>0.0</td>\n",
       "    </tr>\n",
       "    <tr>\n",
       "      <th>Radulphus Brito</th>\n",
       "      <td>0</td>\n",
       "      <td>3</td>\n",
       "      <td>3</td>\n",
       "      <td>0.0</td>\n",
       "    </tr>\n",
       "    <tr>\n",
       "      <th>Simon of Faversham</th>\n",
       "      <td>0</td>\n",
       "      <td>4</td>\n",
       "      <td>4</td>\n",
       "      <td>0.0</td>\n",
       "    </tr>\n",
       "  </tbody>\n",
       "</table>\n",
       "</div>"
      ],
      "text/plain": [
       "                            Unique  Shared  Sum  Proportion\n",
       "Anonymus Bazan I                 1       1    2         0.5\n",
       "Anonymus Steenberghen            1       1    2         0.5\n",
       "Henric de la Wyle                3       4    7         0.4\n",
       "Anonymus Mertoniensis 275        2       4    6         0.3\n",
       "Anonymus Bernardini              1       3    4         0.2\n",
       "John of Jandun                   1       3    4         0.2\n",
       "Anonymus Giele                   0       3    3         0.0\n",
       "Anonymus Oriel 33                0       6    6         0.0\n",
       "Anonymus Vat. Lat. 2170 I        0       3    3         0.0\n",
       "Anonymus Vat. Lat. 2170 II       0       2    2         0.0\n",
       "Anonymus Vennebusch              0       2    2         0.0\n",
       "John Dinsdale                    0       5    5         0.0\n",
       "Radulphus Brito                  0       3    3         0.0\n",
       "Simon of Faversham               0       4    4         0.0"
      ]
     },
     "execution_count": 255,
     "metadata": {},
     "output_type": "execute_result"
    }
   ],
   "source": [
    "df_refutations = pd.DataFrame(m, index=['Unique', 'Shared', 'Sum', 'Proportion'])\n",
    "df = df_refutations.T\n",
    "df[['Unique', 'Shared', 'Sum']] = df[['Unique', 'Shared', 'Sum']].astype(int)\n",
    "df.round(1).sort_values(by='Proportion', ascending=False)"
   ]
  },
  {
   "cell_type": "code",
   "execution_count": 256,
   "metadata": {
    "scrolled": true
   },
   "outputs": [
    {
     "data": {
      "text/plain": [
       "Unique     9\n",
       "Shared    44\n",
       "Sum       53\n",
       "dtype: int64"
      ]
     },
     "execution_count": 256,
     "metadata": {},
     "output_type": "execute_result"
    }
   ],
   "source": [
    "# The sums?\n",
    "df[['Unique', 'Shared', 'Sum']].sum()"
   ]
  },
  {
   "cell_type": "code",
   "execution_count": 257,
   "metadata": {
    "scrolled": true
   },
   "outputs": [
    {
     "data": {
      "text/plain": [
       "17.0"
      ]
     },
     "execution_count": 257,
     "metadata": {},
     "output_type": "execute_result"
    }
   ],
   "source": [
    "# Proportion in percent?\n",
    "round((df['Unique'].sum() / df['Sum'].sum()) * 100, 1)"
   ]
  },
  {
   "cell_type": "markdown",
   "metadata": {},
   "source": [
    "##### Both"
   ]
  },
  {
   "cell_type": "code",
   "execution_count": 2,
   "metadata": {},
   "outputs": [
    {
     "ename": "NameError",
     "evalue": "name 'df_attacks' is not defined",
     "output_type": "error",
     "traceback": [
      "\u001b[0;31m---------------------------------------------------------------------------\u001b[0m",
      "\u001b[0;31mNameError\u001b[0m                                 Traceback (most recent call last)",
      "\u001b[0;32m<ipython-input-2-02e60f68aadf>\u001b[0m in \u001b[0;36m<module>\u001b[0;34m()\u001b[0m\n\u001b[0;32m----> 1\u001b[0;31m \u001b[0mdf_rationes\u001b[0m \u001b[0;34m=\u001b[0m \u001b[0mdf_attacks\u001b[0m\u001b[0;34m[\u001b[0m\u001b[0;36m0\u001b[0m\u001b[0;34m:\u001b[0m\u001b[0;36m3\u001b[0m\u001b[0;34m]\u001b[0m \u001b[0;34m+\u001b[0m \u001b[0mdf_refutations\u001b[0m\u001b[0;34m[\u001b[0m\u001b[0;36m0\u001b[0m\u001b[0;34m:\u001b[0m\u001b[0;36m3\u001b[0m\u001b[0;34m]\u001b[0m\u001b[0;34m\u001b[0m\u001b[0m\n\u001b[0m\u001b[1;32m      2\u001b[0m \u001b[0mdf_rationes\u001b[0m \u001b[0;34m=\u001b[0m \u001b[0mdf_rationes\u001b[0m\u001b[0;34m.\u001b[0m\u001b[0mT\u001b[0m\u001b[0;34m.\u001b[0m\u001b[0mastype\u001b[0m\u001b[0;34m(\u001b[0m\u001b[0mint\u001b[0m\u001b[0;34m)\u001b[0m\u001b[0;34m\u001b[0m\u001b[0m\n\u001b[1;32m      3\u001b[0m \u001b[0mdf_rationes\u001b[0m\u001b[0;34m[\u001b[0m\u001b[0;34m'Proportion'\u001b[0m\u001b[0;34m]\u001b[0m \u001b[0;34m=\u001b[0m \u001b[0mdf_rationes\u001b[0m\u001b[0;34m[\u001b[0m\u001b[0;34m'Unique'\u001b[0m\u001b[0;34m]\u001b[0m \u001b[0;34m/\u001b[0m \u001b[0mdf_rationes\u001b[0m\u001b[0;34m[\u001b[0m\u001b[0;34m'Sum'\u001b[0m\u001b[0;34m]\u001b[0m\u001b[0;34m\u001b[0m\u001b[0m\n\u001b[1;32m      4\u001b[0m \u001b[0mdf_rationes\u001b[0m\u001b[0;34m.\u001b[0m\u001b[0mround\u001b[0m\u001b[0;34m(\u001b[0m\u001b[0;36m2\u001b[0m\u001b[0;34m)\u001b[0m\u001b[0;34m\u001b[0m\u001b[0m\n",
      "\u001b[0;31mNameError\u001b[0m: name 'df_attacks' is not defined"
     ]
    }
   ],
   "source": [
    "df_rationes = df_attacks[0:3] + df_refutations[0:3]\n",
    "df_rationes = df_rationes.T.astype(int)\n",
    "df_rationes['Proportion'] = df_rationes['Unique'] / df_rationes['Sum']\n",
    "df_rationes.round(2)"
   ]
  },
  {
   "cell_type": "code",
   "execution_count": null,
   "metadata": {},
   "outputs": [],
   "source": []
  },
  {
   "cell_type": "code",
   "execution_count": null,
   "metadata": {},
   "outputs": [],
   "source": []
  },
  {
   "cell_type": "code",
   "execution_count": null,
   "metadata": {},
   "outputs": [],
   "source": []
  },
  {
   "cell_type": "markdown",
   "metadata": {},
   "source": [
    "## Relative proportions: The  proportional distribution matrix"
   ]
  },
  {
   "cell_type": "markdown",
   "metadata": {},
   "source": [
    "To get a better idea of the relation of one commentator to any other, we calculate how many of their total doctrines they share."
   ]
  },
  {
   "cell_type": "code",
   "execution_count": 24,
   "metadata": {},
   "outputs": [
    {
     "data": {
      "text/plain": [
       "{'Anonymus Bernardini': 1,\n",
       " 'Anonymus Mertoniensis 275': 1,\n",
       " 'Anonymus Oriel 33': 1,\n",
       " 'Anonymus Vat. Lat. 2170 I': 1,\n",
       " 'Anonymus Vennebusch': 1,\n",
       " 'John Dinsdale': 1,\n",
       " 'John of Jandun': 1,\n",
       " 'Radulphus Brito': 1,\n",
       " 'Simon of Faversham': 1}"
      ]
     },
     "execution_count": 24,
     "metadata": {},
     "output_type": "execute_result"
    }
   ],
   "source": [
    "def number_shared_determination_doctrines(name):\n",
    "    with driver.session() as session:\n",
    "        with session.begin_transaction() as tx:\n",
    "            res = tx.run(\"MATCH (d:Doctrine) WHERE (d)-[:SUPPORTS]->(:Doctrine {name:'There can be a science of the soul'})\"\n",
    "                         \"MATCH (a:Author)--(:Text)--(q:Question)--(d)--(:Question)--(:Text)--(a2:Author)\"\n",
    "                         \"WHERE a.name = {name}\"\n",
    "                         \"RETURN a2.name, count(distinct d)\", name=name)\n",
    "            return {r[0]: r[1] for r in res}\n",
    "\n",
    "number_shared_determination_doctrines('Anonymus Giele')"
   ]
  },
  {
   "cell_type": "code",
   "execution_count": 25,
   "metadata": {},
   "outputs": [
    {
     "data": {
      "text/plain": [
       "{'Anonymus Bernardini': 0.26666666666666666,\n",
       " 'Anonymus Giele': 0.3333333333333333,\n",
       " 'Anonymus Mertoniensis 275': 0.5,\n",
       " 'Anonymus Oriel 33': 1.0,\n",
       " 'Anonymus Vat. Lat. 2170 I': 0.26666666666666666,\n",
       " 'Anonymus Vat. Lat. 2170 II': 0.3333333333333333,\n",
       " 'Anonymus Vennebusch': 0.4444444444444444,\n",
       " 'Henric de la Wyle': 0.4444444444444444,\n",
       " 'John Dinsdale': 1.0,\n",
       " 'John of Jandun': 0.6666666666666666,\n",
       " 'Radulphus Brito': 0.4444444444444444,\n",
       " 'Simon of Faversham': 0.4444444444444444}"
      ]
     },
     "execution_count": 25,
     "metadata": {},
     "output_type": "execute_result"
    }
   ],
   "source": [
    "def proportion_shared_determination_doctrines(name):\n",
    "    with driver.session() as session:\n",
    "        with session.begin_transaction() as tx:\n",
    "            res = tx.run(\"MATCH (d:Doctrine) WHERE (d)-[:SUPPORTS]->(:Doctrine {name:'There can be a science of the soul'})\"\n",
    "                         \"MATCH (a:Author)--(:Text)--(q1:Question)--(d)\"\n",
    "                         \"WHERE a.name = {name}\"\n",
    "                         \"MATCH (d)--(q2:Question)--(:Text)--(a2:Author)\"\n",
    "                         \"MATCH (q1:Question)--(d1:Doctrine) WHERE (d1)-[:SUPPORTS]->(:Doctrine {name:'There can be a science of the soul'})\"                         \n",
    "                         \"MATCH (q2:Question)--(d2:Doctrine) WHERE (d2)-[:SUPPORTS]->(:Doctrine {name:'There can be a science of the soul'})\"                         \n",
    "                         \"RETURN a2.name, (toFloat(count(distinct d)) / count(distinct d1)) * (toFloat(count(distinct d)) / count(distinct d2))\", name=name)\n",
    "            return {r[0]: r[1] for r in res}\n",
    "\n",
    "proportion_shared_determination_doctrines('John Dinsdale')"
   ]
  },
  {
   "cell_type": "code",
   "execution_count": 26,
   "metadata": {},
   "outputs": [
    {
     "data": {
      "text/plain": [
       "['Anonymus Bazan I',\n",
       " 'Anonymus Bernardini',\n",
       " 'Anonymus Giele',\n",
       " 'Anonymus Mertoniensis 275',\n",
       " 'Anonymus Oriel 33',\n",
       " 'Anonymus Steenberghen',\n",
       " 'Anonymus Vat. Lat. 2170 I',\n",
       " 'Anonymus Vat. Lat. 2170 II',\n",
       " 'Anonymus Vennebusch',\n",
       " 'Henric de la Wyle',\n",
       " 'John Dinsdale',\n",
       " 'John of Jandun',\n",
       " 'Radulphus Brito',\n",
       " 'Simon of Faversham']"
      ]
     },
     "execution_count": 26,
     "metadata": {},
     "output_type": "execute_result"
    }
   ],
   "source": [
    "author_names"
   ]
  },
  {
   "cell_type": "code",
   "execution_count": 27,
   "metadata": {},
   "outputs": [],
   "source": [
    "\n",
    "def build_matrix(authors, docfunc=proportion_shared_determination_doctrines):\n",
    "    matrix = {}\n",
    "    for author in authors:\n",
    "        matrix[author] = []\n",
    "        values = docfunc(author)\n",
    "        for name in authors:\n",
    "            if name in values:\n",
    "                matrix[author].append(values[name])\n",
    "            else:\n",
    "                matrix[author].append(0)\n",
    "    return matrix\n",
    "\n",
    "d = build_matrix(author_names)\n",
    "            "
   ]
  },
  {
   "cell_type": "code",
   "execution_count": 28,
   "metadata": {},
   "outputs": [
    {
     "data": {
      "image/png": "[encoded data removed]",
      "text/plain": [
       "<matplotlib.figure.Figure at 0x113c13390>"
      ]
     },
     "metadata": {},
     "output_type": "display_data"
    }
   ],
   "source": [
    "df = pd.DataFrame(d, index=author_names)\n",
    "\n",
    "# Generate a custom diverging colormap\n",
    "cmap = sns.light_palette((210, 90, 60), as_cmap=True, input=\"husl\")\n",
    "\n",
    "# Draw the heatmap with the mask and correct aspect ratio\n",
    "plot = sns.clustermap(df, cmap=cmap, linewidths=.5, row_cluster=True)\n",
    "for _, ax in enumerate(plot.fig.axes):\n",
    "    ax.set_xticklabels(ax.get_xticklabels(), rotation = 45, horizontalalignment='right')\n"
   ]
  },
  {
   "cell_type": "code",
   "execution_count": 241,
   "metadata": {},
   "outputs": [
    {
     "name": "stdout",
     "output_type": "stream",
     "text": [
      "\\begin{figure}\n",
      "\\centering\n",
      "\\includegraphics[width=\\linewidth]{data/figures/science-determ-proportional-clustermap.pdf}\n",
      "\\caption{Proportional clustermap of determination doctrines.}\n",
      "\\label{fig:sci:determ:prop-clustermap}\n",
      "\\end{figure}\n"
     ]
    }
   ],
   "source": [
    "plot.savefig('../thesis/data/figures/science-determ-proportional-clustermap.pdf')\n",
    "print_figure_inclusion(\n",
    "    '../figures/science-determ-proportional-clustermap', plot,\n",
    "    caption='Proportional clustermap of determination doctrines.',\n",
    "    label='fig:sci:determ:prop-clustermap')"
   ]
  },
  {
   "cell_type": "code",
   "execution_count": 242,
   "metadata": {},
   "outputs": [
    {
     "data": {
      "text/plain": [
       "John Dinsdale                 0.4\n",
       "Anonymus Oriel 33             0.4\n",
       "Simon of Faversham            0.4\n",
       "Radulphus Brito               0.4\n",
       "John of Jandun                0.4\n",
       "Anonymus Mertoniensis 275     0.4\n",
       "Anonymus Vat. Lat. 2170 I     0.3\n",
       "Anonymus Giele                0.3\n",
       "Anonymus Bernardini           0.3\n",
       "Anonymus Vennebusch           0.3\n",
       "Anonymus Vat. Lat. 2170 II    0.3\n",
       "Henric de la Wyle             0.2\n",
       "Anonymus Bazan I              0.2\n",
       "Anonymus Steenberghen         0.1\n",
       "dtype: float64"
      ]
     },
     "execution_count": 242,
     "metadata": {},
     "output_type": "execute_result"
    }
   ],
   "source": [
    "# Mean commonality values \n",
    "df.mean().sort_values(ascending=False).round(1)"
   ]
  },
  {
   "cell_type": "code",
   "execution_count": 243,
   "metadata": {},
   "outputs": [
    {
     "data": {
      "text/plain": [
       "Anonymus Bazan I              0.00\n",
       "Anonymus Bernardini           0.27\n",
       "Anonymus Giele                0.33\n",
       "Anonymus Mertoniensis 275     0.50\n",
       "Anonymus Oriel 33             1.00\n",
       "Anonymus Steenberghen         0.00\n",
       "Anonymus Vat. Lat. 2170 I     0.27\n",
       "Anonymus Vat. Lat. 2170 II    0.33\n",
       "Anonymus Vennebusch           0.44\n",
       "Henric de la Wyle             0.44\n",
       "John Dinsdale                 1.00\n",
       "John of Jandun                0.67\n",
       "Radulphus Brito               0.44\n",
       "Simon of Faversham            0.44\n",
       "Name: John Dinsdale, dtype: float64"
      ]
     },
     "execution_count": 243,
     "metadata": {},
     "output_type": "execute_result"
    }
   ],
   "source": [
    "# Dinsdale example\n",
    "dins = df['John Dinsdale'].round(decimals=2)\n",
    "save_table('../thesis/data/tables/dinsdale-fingerprint.tex', dins.to_latex(), \n",
    "           caption='Example of proportional shared profile for determination doctrines of John Dinsdale.',\n",
    "           label='tab:sci:determ:profile-dinsdale')\n",
    "dins"
   ]
  },
  {
   "cell_type": "markdown",
   "metadata": {},
   "source": [
    "# Create doctrinal matrix\n",
    "Here we want to create a matrix table where it can be seen in more detail which doctrines each commentator uses. It is probably a good idea to distinguish between determination doctrines and rationes doctrines."
   ]
  },
  {
   "cell_type": "markdown",
   "metadata": {},
   "source": [
    "First we pull out a list of the names of the doctrines in determinations of each commentator."
   ]
  },
  {
   "cell_type": "code",
   "execution_count": 244,
   "metadata": {},
   "outputs": [
    {
     "data": {
      "text/plain": [
       "['Substantial knowledge from accidents']"
      ]
     },
     "execution_count": 244,
     "metadata": {},
     "output_type": "execute_result"
    }
   ],
   "source": [
    "def determination_doctrines_of(name):\n",
    "    q = (\"MATCH (a:Author)--(t:Text)--(q:Question)--(d:Doctrine)\"\n",
    "         \"WHERE a.name = '%s'\"\n",
    "         \"AND (d)-[:SUPPORTS]->(:Doctrine {name:'There can be a science of the soul'})\"\n",
    "         \"RETURN d.name\" % name )\n",
    "    return [t[0] for t in run_query(q).values()]\n",
    "\n",
    "# Example test\n",
    "determination_doctrines_of(\"Anonymus Giele\")"
   ]
  },
  {
   "cell_type": "markdown",
   "metadata": {},
   "source": [
    "Then we create a full list of all the doctrines in determinations."
   ]
  },
  {
   "cell_type": "code",
   "execution_count": 245,
   "metadata": {},
   "outputs": [
    {
     "data": {
      "text/plain": [
       "['Certain science about simple subject',\n",
       " 'Four requirements of a science (universal, incorruptible, parts and properties, intellectual immediacy)',\n",
       " 'Identity of knower and known',\n",
       " 'Propter quod unumquodque tale et illud magis',\n",
       " 'Science about a substance which contains parts and properties',\n",
       " 'Science of form and perfection',\n",
       " 'Science through self-reflection',\n",
       " 'Science through subject, properties, principles',\n",
       " 'Soul indirectly available to sense perception',\n",
       " 'Substantial knowledge from accidents',\n",
       " 'There can be science about everything with intelligible essence or definition']"
      ]
     },
     "execution_count": 245,
     "metadata": {},
     "output_type": "execute_result"
    }
   ],
   "source": [
    "def all_determination_doctrines():\n",
    "    q = (\"MATCH (d:Doctrine)--(:Question)\"\n",
    "         \"WHERE (d)-[:SUPPORTS]->(:Doctrine {name:'There can be a science of the soul'})\"\n",
    "         \"AND NOT d.name = 'There can be a science of the soul'\"\n",
    "         \"RETURN distinct d.name ORDER BY d.name asc\")\n",
    "    return [t[0] for t in run_query(q).values()]\n",
    "\n",
    "all_docs = all_determination_doctrines()\n",
    "\n",
    "# Test output\n",
    "all_docs"
   ]
  },
  {
   "cell_type": "markdown",
   "metadata": {},
   "source": [
    "Now for each author we register how many of the doctrines he ticks off and reads that into a matrix."
   ]
  },
  {
   "cell_type": "code",
   "execution_count": 246,
   "metadata": {},
   "outputs": [],
   "source": [
    "matrix = {}\n",
    "for author in author_names:\n",
    "    matrix[author] = []\n",
    "    adocs = determination_doctrines_of(author)\n",
    "    for doc in all_docs:\n",
    "        if doc in adocs:\n",
    "            matrix[author].append(1)\n",
    "        else:\n",
    "            matrix[author].append(0)\n",
    "\n",
    "\n",
    "df = pd.DataFrame(matrix, index=all_docs)"
   ]
  },
  {
   "cell_type": "markdown",
   "metadata": {},
   "source": [
    "Okay, I want to sort the matrix by how many doctrines the texts contain. This means that we sort the columns based on the sum of the values. Oddly enough I can't figure out how to do that within the `DataFrame`, so instead I create a dict, from that a list of the authors sorted by their sum doctrines. That list is used for keys in building a new matrix with the desired order. But then the rows and columns are switched, so I need to transmute those with the `zip` function. *This just doesn't feel right*."
   ]
  },
  {
   "cell_type": "code",
   "execution_count": 247,
   "metadata": {},
   "outputs": [
    {
     "data": {
      "text/html": [
       "<div>\n",
       "<style scoped>\n",
       "    .dataframe tbody tr th:only-of-type {\n",
       "        vertical-align: middle;\n",
       "    }\n",
       "\n",
       "    .dataframe tbody tr th {\n",
       "        vertical-align: top;\n",
       "    }\n",
       "\n",
       "    .dataframe thead th {\n",
       "        text-align: right;\n",
       "    }\n",
       "</style>\n",
       "<table border=\"1\" class=\"dataframe\">\n",
       "  <thead>\n",
       "    <tr style=\"text-align: right;\">\n",
       "      <th></th>\n",
       "      <th>Anonymus Bernardini</th>\n",
       "      <th>Anonymus Steenberghen</th>\n",
       "      <th>Anonymus Mertoniensis 275</th>\n",
       "      <th>Anonymus Vennebusch</th>\n",
       "      <th>Anonymus Vat. Lat. 2170 I</th>\n",
       "      <th>Henric de la Wyle</th>\n",
       "      <th>Radulphus Brito</th>\n",
       "      <th>Simon of Faversham</th>\n",
       "      <th>Anonymus Bazan I</th>\n",
       "      <th>Anonymus Oriel 33</th>\n",
       "      <th>John Dinsdale</th>\n",
       "      <th>John of Jandun</th>\n",
       "      <th>Anonymus Vat. Lat. 2170 II</th>\n",
       "      <th>Anonymus Giele</th>\n",
       "    </tr>\n",
       "  </thead>\n",
       "  <tbody>\n",
       "    <tr>\n",
       "      <th>Certain science about simple subject</th>\n",
       "      <td>x</td>\n",
       "      <td></td>\n",
       "      <td></td>\n",
       "      <td></td>\n",
       "      <td></td>\n",
       "      <td></td>\n",
       "      <td></td>\n",
       "      <td></td>\n",
       "      <td></td>\n",
       "      <td></td>\n",
       "      <td></td>\n",
       "      <td></td>\n",
       "      <td></td>\n",
       "      <td></td>\n",
       "    </tr>\n",
       "    <tr>\n",
       "      <th>Four requirements of a science (universal, incorruptible, parts and properties, intellectual immediacy)</th>\n",
       "      <td></td>\n",
       "      <td>x</td>\n",
       "      <td></td>\n",
       "      <td></td>\n",
       "      <td></td>\n",
       "      <td></td>\n",
       "      <td></td>\n",
       "      <td></td>\n",
       "      <td></td>\n",
       "      <td></td>\n",
       "      <td></td>\n",
       "      <td></td>\n",
       "      <td></td>\n",
       "      <td></td>\n",
       "    </tr>\n",
       "    <tr>\n",
       "      <th>Identity of knower and known</th>\n",
       "      <td>x</td>\n",
       "      <td></td>\n",
       "      <td>x</td>\n",
       "      <td></td>\n",
       "      <td></td>\n",
       "      <td></td>\n",
       "      <td></td>\n",
       "      <td></td>\n",
       "      <td></td>\n",
       "      <td></td>\n",
       "      <td></td>\n",
       "      <td></td>\n",
       "      <td></td>\n",
       "      <td></td>\n",
       "    </tr>\n",
       "    <tr>\n",
       "      <th>Propter quod unumquodque tale et illud magis</th>\n",
       "      <td></td>\n",
       "      <td></td>\n",
       "      <td>x</td>\n",
       "      <td>x</td>\n",
       "      <td></td>\n",
       "      <td></td>\n",
       "      <td></td>\n",
       "      <td></td>\n",
       "      <td></td>\n",
       "      <td></td>\n",
       "      <td></td>\n",
       "      <td></td>\n",
       "      <td></td>\n",
       "      <td></td>\n",
       "    </tr>\n",
       "    <tr>\n",
       "      <th>Science about a substance which contains parts and properties</th>\n",
       "      <td></td>\n",
       "      <td>x</td>\n",
       "      <td></td>\n",
       "      <td></td>\n",
       "      <td>x</td>\n",
       "      <td></td>\n",
       "      <td></td>\n",
       "      <td></td>\n",
       "      <td></td>\n",
       "      <td></td>\n",
       "      <td></td>\n",
       "      <td></td>\n",
       "      <td></td>\n",
       "      <td></td>\n",
       "    </tr>\n",
       "    <tr>\n",
       "      <th>Science of form and perfection</th>\n",
       "      <td></td>\n",
       "      <td></td>\n",
       "      <td></td>\n",
       "      <td></td>\n",
       "      <td></td>\n",
       "      <td>x</td>\n",
       "      <td></td>\n",
       "      <td></td>\n",
       "      <td></td>\n",
       "      <td></td>\n",
       "      <td></td>\n",
       "      <td></td>\n",
       "      <td></td>\n",
       "      <td></td>\n",
       "    </tr>\n",
       "    <tr>\n",
       "      <th>Science through self-reflection</th>\n",
       "      <td>x</td>\n",
       "      <td></td>\n",
       "      <td>x</td>\n",
       "      <td></td>\n",
       "      <td>x</td>\n",
       "      <td></td>\n",
       "      <td>x</td>\n",
       "      <td>x</td>\n",
       "      <td>x</td>\n",
       "      <td></td>\n",
       "      <td></td>\n",
       "      <td></td>\n",
       "      <td></td>\n",
       "      <td></td>\n",
       "    </tr>\n",
       "    <tr>\n",
       "      <th>Science through subject, properties, principles</th>\n",
       "      <td></td>\n",
       "      <td></td>\n",
       "      <td>x</td>\n",
       "      <td></td>\n",
       "      <td>x</td>\n",
       "      <td>x</td>\n",
       "      <td>x</td>\n",
       "      <td>x</td>\n",
       "      <td></td>\n",
       "      <td>x</td>\n",
       "      <td>x</td>\n",
       "      <td>x</td>\n",
       "      <td>x</td>\n",
       "      <td></td>\n",
       "    </tr>\n",
       "    <tr>\n",
       "      <th>Soul indirectly available to sense perception</th>\n",
       "      <td>x</td>\n",
       "      <td></td>\n",
       "      <td>x</td>\n",
       "      <td>x</td>\n",
       "      <td></td>\n",
       "      <td>x</td>\n",
       "      <td></td>\n",
       "      <td></td>\n",
       "      <td></td>\n",
       "      <td>x</td>\n",
       "      <td>x</td>\n",
       "      <td></td>\n",
       "      <td></td>\n",
       "      <td></td>\n",
       "    </tr>\n",
       "    <tr>\n",
       "      <th>Substantial knowledge from accidents</th>\n",
       "      <td>x</td>\n",
       "      <td></td>\n",
       "      <td>x</td>\n",
       "      <td>x</td>\n",
       "      <td>x</td>\n",
       "      <td></td>\n",
       "      <td>x</td>\n",
       "      <td>x</td>\n",
       "      <td></td>\n",
       "      <td>x</td>\n",
       "      <td>x</td>\n",
       "      <td>x</td>\n",
       "      <td></td>\n",
       "      <td>x</td>\n",
       "    </tr>\n",
       "    <tr>\n",
       "      <th>There can be science about everything with intelligible essence or definition</th>\n",
       "      <td></td>\n",
       "      <td></td>\n",
       "      <td></td>\n",
       "      <td></td>\n",
       "      <td>x</td>\n",
       "      <td></td>\n",
       "      <td></td>\n",
       "      <td></td>\n",
       "      <td></td>\n",
       "      <td></td>\n",
       "      <td></td>\n",
       "      <td></td>\n",
       "      <td></td>\n",
       "      <td></td>\n",
       "    </tr>\n",
       "  </tbody>\n",
       "</table>\n",
       "</div>"
      ],
      "text/plain": [
       "                                                   Anonymus Bernardini  \\\n",
       "Certain science about simple subject                                 x   \n",
       "Four requirements of a science (universal, inco...                       \n",
       "Identity of knower and known                                         x   \n",
       "Propter quod unumquodque tale et illud magis                             \n",
       "Science about a substance which contains parts ...                       \n",
       "Science of form and perfection                                           \n",
       "Science through self-reflection                                      x   \n",
       "Science through subject, properties, principles                          \n",
       "Soul indirectly available to sense perception                        x   \n",
       "Substantial knowledge from accidents                                 x   \n",
       "There can be science about everything with inte...                       \n",
       "\n",
       "                                                   Anonymus Steenberghen  \\\n",
       "Certain science about simple subject                                       \n",
       "Four requirements of a science (universal, inco...                     x   \n",
       "Identity of knower and known                                               \n",
       "Propter quod unumquodque tale et illud magis                               \n",
       "Science about a substance which contains parts ...                     x   \n",
       "Science of form and perfection                                             \n",
       "Science through self-reflection                                            \n",
       "Science through subject, properties, principles                            \n",
       "Soul indirectly available to sense perception                              \n",
       "Substantial knowledge from accidents                                       \n",
       "There can be science about everything with inte...                         \n",
       "\n",
       "                                                   Anonymus Mertoniensis 275  \\\n",
       "Certain science about simple subject                                           \n",
       "Four requirements of a science (universal, inco...                             \n",
       "Identity of knower and known                                               x   \n",
       "Propter quod unumquodque tale et illud magis                               x   \n",
       "Science about a substance which contains parts ...                             \n",
       "Science of form and perfection                                                 \n",
       "Science through self-reflection                                            x   \n",
       "Science through subject, properties, principles                            x   \n",
       "Soul indirectly available to sense perception                              x   \n",
       "Substantial knowledge from accidents                                       x   \n",
       "There can be science about everything with inte...                             \n",
       "\n",
       "                                                   Anonymus Vennebusch  \\\n",
       "Certain science about simple subject                                     \n",
       "Four requirements of a science (universal, inco...                       \n",
       "Identity of knower and known                                             \n",
       "Propter quod unumquodque tale et illud magis                         x   \n",
       "Science about a substance which contains parts ...                       \n",
       "Science of form and perfection                                           \n",
       "Science through self-reflection                                          \n",
       "Science through subject, properties, principles                          \n",
       "Soul indirectly available to sense perception                        x   \n",
       "Substantial knowledge from accidents                                 x   \n",
       "There can be science about everything with inte...                       \n",
       "\n",
       "                                                   Anonymus Vat. Lat. 2170 I  \\\n",
       "Certain science about simple subject                                           \n",
       "Four requirements of a science (universal, inco...                             \n",
       "Identity of knower and known                                                   \n",
       "Propter quod unumquodque tale et illud magis                                   \n",
       "Science about a substance which contains parts ...                         x   \n",
       "Science of form and perfection                                                 \n",
       "Science through self-reflection                                            x   \n",
       "Science through subject, properties, principles                            x   \n",
       "Soul indirectly available to sense perception                                  \n",
       "Substantial knowledge from accidents                                       x   \n",
       "There can be science about everything with inte...                         x   \n",
       "\n",
       "                                                   Henric de la Wyle  \\\n",
       "Certain science about simple subject                                   \n",
       "Four requirements of a science (universal, inco...                     \n",
       "Identity of knower and known                                           \n",
       "Propter quod unumquodque tale et illud magis                           \n",
       "Science about a substance which contains parts ...                     \n",
       "Science of form and perfection                                     x   \n",
       "Science through self-reflection                                        \n",
       "Science through subject, properties, principles                    x   \n",
       "Soul indirectly available to sense perception                      x   \n",
       "Substantial knowledge from accidents                                   \n",
       "There can be science about everything with inte...                     \n",
       "\n",
       "                                                   Radulphus Brito  \\\n",
       "Certain science about simple subject                                 \n",
       "Four requirements of a science (universal, inco...                   \n",
       "Identity of knower and known                                         \n",
       "Propter quod unumquodque tale et illud magis                         \n",
       "Science about a substance which contains parts ...                   \n",
       "Science of form and perfection                                       \n",
       "Science through self-reflection                                  x   \n",
       "Science through subject, properties, principles                  x   \n",
       "Soul indirectly available to sense perception                        \n",
       "Substantial knowledge from accidents                             x   \n",
       "There can be science about everything with inte...                   \n",
       "\n",
       "                                                   Simon of Faversham  \\\n",
       "Certain science about simple subject                                    \n",
       "Four requirements of a science (universal, inco...                      \n",
       "Identity of knower and known                                            \n",
       "Propter quod unumquodque tale et illud magis                            \n",
       "Science about a substance which contains parts ...                      \n",
       "Science of form and perfection                                          \n",
       "Science through self-reflection                                     x   \n",
       "Science through subject, properties, principles                     x   \n",
       "Soul indirectly available to sense perception                           \n",
       "Substantial knowledge from accidents                                x   \n",
       "There can be science about everything with inte...                      \n",
       "\n",
       "                                                   Anonymus Bazan I  \\\n",
       "Certain science about simple subject                                  \n",
       "Four requirements of a science (universal, inco...                    \n",
       "Identity of knower and known                                          \n",
       "Propter quod unumquodque tale et illud magis                          \n",
       "Science about a substance which contains parts ...                    \n",
       "Science of form and perfection                                        \n",
       "Science through self-reflection                                   x   \n",
       "Science through subject, properties, principles                       \n",
       "Soul indirectly available to sense perception                         \n",
       "Substantial knowledge from accidents                                  \n",
       "There can be science about everything with inte...                    \n",
       "\n",
       "                                                   Anonymus Oriel 33  \\\n",
       "Certain science about simple subject                                   \n",
       "Four requirements of a science (universal, inco...                     \n",
       "Identity of knower and known                                           \n",
       "Propter quod unumquodque tale et illud magis                           \n",
       "Science about a substance which contains parts ...                     \n",
       "Science of form and perfection                                         \n",
       "Science through self-reflection                                        \n",
       "Science through subject, properties, principles                    x   \n",
       "Soul indirectly available to sense perception                      x   \n",
       "Substantial knowledge from accidents                               x   \n",
       "There can be science about everything with inte...                     \n",
       "\n",
       "                                                   John Dinsdale  \\\n",
       "Certain science about simple subject                               \n",
       "Four requirements of a science (universal, inco...                 \n",
       "Identity of knower and known                                       \n",
       "Propter quod unumquodque tale et illud magis                       \n",
       "Science about a substance which contains parts ...                 \n",
       "Science of form and perfection                                     \n",
       "Science through self-reflection                                    \n",
       "Science through subject, properties, principles                x   \n",
       "Soul indirectly available to sense perception                  x   \n",
       "Substantial knowledge from accidents                           x   \n",
       "There can be science about everything with inte...                 \n",
       "\n",
       "                                                   John of Jandun  \\\n",
       "Certain science about simple subject                                \n",
       "Four requirements of a science (universal, inco...                  \n",
       "Identity of knower and known                                        \n",
       "Propter quod unumquodque tale et illud magis                        \n",
       "Science about a substance which contains parts ...                  \n",
       "Science of form and perfection                                      \n",
       "Science through self-reflection                                     \n",
       "Science through subject, properties, principles                 x   \n",
       "Soul indirectly available to sense perception                       \n",
       "Substantial knowledge from accidents                            x   \n",
       "There can be science about everything with inte...                  \n",
       "\n",
       "                                                   Anonymus Vat. Lat. 2170 II  \\\n",
       "Certain science about simple subject                                            \n",
       "Four requirements of a science (universal, inco...                              \n",
       "Identity of knower and known                                                    \n",
       "Propter quod unumquodque tale et illud magis                                    \n",
       "Science about a substance which contains parts ...                              \n",
       "Science of form and perfection                                                  \n",
       "Science through self-reflection                                                 \n",
       "Science through subject, properties, principles                             x   \n",
       "Soul indirectly available to sense perception                                   \n",
       "Substantial knowledge from accidents                                            \n",
       "There can be science about everything with inte...                              \n",
       "\n",
       "                                                   Anonymus Giele  \n",
       "Certain science about simple subject                               \n",
       "Four requirements of a science (universal, inco...                 \n",
       "Identity of knower and known                                       \n",
       "Propter quod unumquodque tale et illud magis                       \n",
       "Science about a substance which contains parts ...                 \n",
       "Science of form and perfection                                     \n",
       "Science through self-reflection                                    \n",
       "Science through subject, properties, principles                    \n",
       "Soul indirectly available to sense perception                      \n",
       "Substantial knowledge from accidents                            x  \n",
       "There can be science about everything with inte...                 "
      ]
     },
     "execution_count": 247,
     "metadata": {},
     "output_type": "execute_result"
    }
   ],
   "source": [
    "def create_matrix(numeric=True):\n",
    "    matrix = {}\n",
    "    if numeric:\n",
    "        true_val = 1\n",
    "        false_val = 0\n",
    "    else:\n",
    "        true_val = 'x'\n",
    "        false_val = ''\n",
    "        \n",
    "    for author in author_names:\n",
    "        matrix[author] = []\n",
    "        adocs = determination_doctrines_of(author)\n",
    "        for doc in all_docs:\n",
    "            if doc in adocs:\n",
    "                matrix[author].append(true_val)\n",
    "            else:\n",
    "                matrix[author].append(false_val)\n",
    "    sorted_names = sorted(matrix, key=matrix.get, reverse=True)\n",
    "    m = [matrix[key] for key in sorted_names]\n",
    "    m = [list(i) for i in zip(*m)]\n",
    "    return pd.DataFrame(m, columns=sorted_names, index=all_docs)\n",
    "\n",
    "create_matrix(numeric=False)"
   ]
  },
  {
   "cell_type": "markdown",
   "metadata": {},
   "source": [
    "I can sort the sum of the DataFrame like this, but I can't figure out how to sort the columns by that."
   ]
  },
  {
   "cell_type": "code",
   "execution_count": 248,
   "metadata": {
    "scrolled": true
   },
   "outputs": [
    {
     "data": {
      "text/plain": [
       "Anonymus Mertoniensis 275     6\n",
       "Anonymus Vat. Lat. 2170 I     5\n",
       "Anonymus Bernardini           5\n",
       "John Dinsdale                 3\n",
       "Anonymus Oriel 33             3\n",
       "Simon of Faversham            3\n",
       "Radulphus Brito               3\n",
       "Henric de la Wyle             3\n",
       "Anonymus Vennebusch           3\n",
       "John of Jandun                2\n",
       "Anonymus Steenberghen         2\n",
       "Anonymus Giele                1\n",
       "Anonymus Vat. Lat. 2170 II    1\n",
       "Anonymus Bazan I              1\n",
       "dtype: int64"
      ]
     },
     "execution_count": 248,
     "metadata": {},
     "output_type": "execute_result"
    }
   ],
   "source": [
    "\n",
    "df = create_matrix(numeric=True)\n",
    "sums = df.sum().sort_values(ascending=False)\n",
    "sums"
   ]
  },
  {
   "cell_type": "code",
   "execution_count": 249,
   "metadata": {},
   "outputs": [],
   "source": [
    "#print(sums.to_latex())"
   ]
  },
  {
   "cell_type": "markdown",
   "metadata": {},
   "source": [
    "What is the mean amount of doctrines?"
   ]
  },
  {
   "cell_type": "code",
   "execution_count": 250,
   "metadata": {},
   "outputs": [
    {
     "data": {
      "text/plain": [
       "2.9285714285714284"
      ]
     },
     "execution_count": 250,
     "metadata": {},
     "output_type": "execute_result"
    }
   ],
   "source": [
    "df.sum().mean()"
   ]
  },
  {
   "cell_type": "code",
   "execution_count": 251,
   "metadata": {},
   "outputs": [
    {
     "data": {
      "text/plain": [
       "<matplotlib.axes._subplots.AxesSubplot at 0x1101812b0>"
      ]
     },
     "execution_count": 251,
     "metadata": {},
     "output_type": "execute_result"
    },
    {
     "data": {
      "image/png": "[encoded data removed]",
      "text/plain": [
       "<matplotlib.figure.Figure at 0x11023ebe0>"
      ]
     },
     "metadata": {},
     "output_type": "display_data"
    }
   ],
   "source": [
    "sns.distplot(df.sum())"
   ]
  },
  {
   "cell_type": "markdown",
   "metadata": {},
   "source": [
    "### Popularity of arguments"
   ]
  },
  {
   "cell_type": "code",
   "execution_count": 252,
   "metadata": {},
   "outputs": [
    {
     "data": {
      "text/plain": [
       "Substantial knowledge from accidents                                                                       10\n",
       "Science through subject, properties, principles                                                             9\n",
       "Soul indirectly available to sense perception                                                               6\n",
       "Science through self-reflection                                                                             6\n",
       "Science about a substance which contains parts and properties                                               2\n",
       "Propter quod unumquodque tale et illud magis                                                                2\n",
       "Identity of knower and known                                                                                2\n",
       "There can be science about everything with intelligible essence or definition                               1\n",
       "Science of form and perfection                                                                              1\n",
       "Four requirements of a science (universal, incorruptible, parts and properties, intellectual immediacy)     1\n",
       "Certain science about simple subject                                                                        1\n",
       "dtype: int64"
      ]
     },
     "execution_count": 252,
     "metadata": {},
     "output_type": "execute_result"
    }
   ],
   "source": [
    "df.sum(axis=1).sort_values(ascending=False)"
   ]
  },
  {
   "cell_type": "markdown",
   "metadata": {},
   "source": [
    "# Binary matrix cluster analysis\n",
    "So what if we take the binary matrix representing the presence or absence of a doctrine and use that for clustering?\n",
    "I have used this as an inspiration: https://stats.stackexchange.com/questions/222492/any-distance-measures-that-are-more-useful-for-binary-data-clustering.\n",
    "As suggested in the post we use the Hamming metric for distance measuring, as that just counts the number of coordinates that differ. AS it is also mentioned in the scipy documentation it can therefore be used for boolean matrices (https://docs.scipy.org/doc/scipy/reference/generated/scipy.spatial.distance.pdist.html)."
   ]
  },
  {
   "cell_type": "code",
   "execution_count": 253,
   "metadata": {
    "scrolled": false
   },
   "outputs": [
    {
     "data": {
      "image/png": "[encoded data removed]",
      "text/plain": [
       "<matplotlib.figure.Figure at 0x110173828>"
      ]
     },
     "metadata": {},
     "output_type": "display_data"
    }
   ],
   "source": [
    "df = create_matrix(numeric=True)\n",
    "\n",
    "# Generate a custom diverging colormap\n",
    "cmap = sns.light_palette((210, 90, 60), input=\"husl\")\n",
    "\n",
    "# Draw the heatmap with the mask and correct aspect ratio\n",
    "plot = sns.clustermap(df, cmap=cmap, linewidths=.5, row_cluster=False, metric='hamming')\n",
    "\n",
    "for _, ax in enumerate(plot.fig.axes):\n",
    "    ax.set_xticklabels(ax.get_xticklabels(), rotation = 45, horizontalalignment='right')"
   ]
  },
  {
   "cell_type": "markdown",
   "metadata": {},
   "source": [
    "# Positive doctrines (determinations and rationes)"
   ]
  },
  {
   "cell_type": "code",
   "execution_count": 254,
   "metadata": {},
   "outputs": [
    {
     "data": {
      "text/plain": [
       "2"
      ]
     },
     "execution_count": 254,
     "metadata": {},
     "output_type": "execute_result"
    }
   ],
   "source": [
    "def count_unique_positive_doctrines(name):\n",
    "    q = (\"MATCH (a:Author)--(:Text)--(q:Question)--(d:Doctrine)\"\n",
    "         \"WHERE a.name = '%s'\"\n",
    "         \"AND (d)-[:ATTACKS]->(:Doctrine {name:'There can be a science of the soul'})\"\n",
    "         \"AND NOT (:Question)--(d)--(q:Question)\"\n",
    "         \"RETURN count(distinct d)\" % (name))\n",
    "    try:\n",
    "        return run_query(q).single()[0]\n",
    "    except TypeError:\n",
    "        return 0\n",
    "\n",
    "# Example\n",
    "count_unique_positive_doctrines('John of Jandun')"
   ]
  },
  {
   "cell_type": "code",
   "execution_count": 255,
   "metadata": {},
   "outputs": [
    {
     "data": {
      "text/plain": [
       "6"
      ]
     },
     "execution_count": 255,
     "metadata": {},
     "output_type": "execute_result"
    }
   ],
   "source": [
    "def count_shared_positive_doctrines(name):\n",
    "    q = (\"MATCH (a:Author)--(:Text)--(q:Question)--(d:Doctrine)\"\n",
    "         \"WHERE a.name = '%s' and not(a.name = 'Aristotle')\"\n",
    "         \"AND NOT (d)-[:ATTACKS]->(:Doctrine {name:'There can be a science of the soul'})\"\n",
    "         \"MATCH (q1:Question)--(d)\"\n",
    "         \"WHERE (q1) <> (q)\"\n",
    "         \"RETURN count(distinct d), collect(distinct d.name)\" % (name))\n",
    "    try:\n",
    "        return run_query(q).single()[0]\n",
    "    except TypeError:\n",
    "        return 0\n",
    "\n",
    "# Example\n",
    "count_shared_positive_doctrines('John of Jandun')"
   ]
  },
  {
   "cell_type": "markdown",
   "metadata": {},
   "source": [
    "Proportion unique of all doctrines"
   ]
  },
  {
   "cell_type": "code",
   "execution_count": 256,
   "metadata": {},
   "outputs": [
    {
     "data": {
      "text/plain": [
       "0.25"
      ]
     },
     "execution_count": 256,
     "metadata": {},
     "output_type": "execute_result"
    }
   ],
   "source": [
    "def unique_to_shared_proportion(name):\n",
    "    unique = count_unique_positive_doctrines(name)\n",
    "    shared = count_shared_positive_doctrines(name)\n",
    "    try:\n",
    "        return unique / (unique + shared)\n",
    "    except ZeroDivisionError:\n",
    "        return 0\n",
    "    \n",
    "# Example\n",
    "unique_to_shared_proportion('John of Jandun')"
   ]
  },
  {
   "cell_type": "markdown",
   "metadata": {},
   "source": [
    "Now let's get the values of these for all the commentators and put them into a matrix."
   ]
  },
  {
   "cell_type": "code",
   "execution_count": 258,
   "metadata": {},
   "outputs": [],
   "source": [
    "def unique_shared_positive_all(authors):\n",
    "    d = {}\n",
    "    for a in authors:\n",
    "        unique = count_unique_positive_doctrines(a)\n",
    "        shared = count_shared_positive_doctrines(a)\n",
    "        prop = unique_to_shared_proportion(a)\n",
    "        \n",
    "        d[a] = [unique, shared, unique + shared, round(prop, 2)]\n",
    "    return d\n",
    "\n",
    "# Example\n",
    "m = unique_shared_positive_all(author_names)"
   ]
  },
  {
   "cell_type": "markdown",
   "metadata": {},
   "source": [
    "Put this in a DataFrame and sort according to most unique."
   ]
  },
  {
   "cell_type": "code",
   "execution_count": 259,
   "metadata": {},
   "outputs": [
    {
     "data": {
      "text/html": [
       "<div>\n",
       "<style scoped>\n",
       "    .dataframe tbody tr th:only-of-type {\n",
       "        vertical-align: middle;\n",
       "    }\n",
       "\n",
       "    .dataframe tbody tr th {\n",
       "        vertical-align: top;\n",
       "    }\n",
       "\n",
       "    .dataframe thead th {\n",
       "        text-align: right;\n",
       "    }\n",
       "</style>\n",
       "<table border=\"1\" class=\"dataframe\">\n",
       "  <thead>\n",
       "    <tr style=\"text-align: right;\">\n",
       "      <th></th>\n",
       "      <th>Unique</th>\n",
       "      <th>Shared</th>\n",
       "      <th>Sum</th>\n",
       "      <th>Proportion</th>\n",
       "    </tr>\n",
       "  </thead>\n",
       "  <tbody>\n",
       "    <tr>\n",
       "      <th>Anonymus Mertoniensis 275</th>\n",
       "      <td>2</td>\n",
       "      <td>11</td>\n",
       "      <td>13</td>\n",
       "      <td>0.15</td>\n",
       "    </tr>\n",
       "    <tr>\n",
       "      <th>Anonymus Oriel 33</th>\n",
       "      <td>0</td>\n",
       "      <td>9</td>\n",
       "      <td>9</td>\n",
       "      <td>0.00</td>\n",
       "    </tr>\n",
       "    <tr>\n",
       "      <th>Henric de la Wyle</th>\n",
       "      <td>1</td>\n",
       "      <td>8</td>\n",
       "      <td>9</td>\n",
       "      <td>0.11</td>\n",
       "    </tr>\n",
       "    <tr>\n",
       "      <th>Radulphus Brito</th>\n",
       "      <td>1</td>\n",
       "      <td>8</td>\n",
       "      <td>9</td>\n",
       "      <td>0.11</td>\n",
       "    </tr>\n",
       "    <tr>\n",
       "      <th>Simon of Faversham</th>\n",
       "      <td>1</td>\n",
       "      <td>8</td>\n",
       "      <td>9</td>\n",
       "      <td>0.11</td>\n",
       "    </tr>\n",
       "    <tr>\n",
       "      <th>Anonymus Vat. Lat. 2170 I</th>\n",
       "      <td>0</td>\n",
       "      <td>8</td>\n",
       "      <td>8</td>\n",
       "      <td>0.00</td>\n",
       "    </tr>\n",
       "    <tr>\n",
       "      <th>John Dinsdale</th>\n",
       "      <td>0</td>\n",
       "      <td>8</td>\n",
       "      <td>8</td>\n",
       "      <td>0.00</td>\n",
       "    </tr>\n",
       "    <tr>\n",
       "      <th>John of Jandun</th>\n",
       "      <td>2</td>\n",
       "      <td>6</td>\n",
       "      <td>8</td>\n",
       "      <td>0.25</td>\n",
       "    </tr>\n",
       "    <tr>\n",
       "      <th>Anonymus Bernardini</th>\n",
       "      <td>0</td>\n",
       "      <td>7</td>\n",
       "      <td>7</td>\n",
       "      <td>0.00</td>\n",
       "    </tr>\n",
       "    <tr>\n",
       "      <th>Anonymus Vennebusch</th>\n",
       "      <td>1</td>\n",
       "      <td>6</td>\n",
       "      <td>7</td>\n",
       "      <td>0.14</td>\n",
       "    </tr>\n",
       "    <tr>\n",
       "      <th>Anonymus Giele</th>\n",
       "      <td>0</td>\n",
       "      <td>4</td>\n",
       "      <td>4</td>\n",
       "      <td>0.00</td>\n",
       "    </tr>\n",
       "    <tr>\n",
       "      <th>Anonymus Vat. Lat. 2170 II</th>\n",
       "      <td>0</td>\n",
       "      <td>4</td>\n",
       "      <td>4</td>\n",
       "      <td>0.00</td>\n",
       "    </tr>\n",
       "    <tr>\n",
       "      <th>Anonymus Bazan I</th>\n",
       "      <td>0</td>\n",
       "      <td>3</td>\n",
       "      <td>3</td>\n",
       "      <td>0.00</td>\n",
       "    </tr>\n",
       "    <tr>\n",
       "      <th>Anonymus Steenberghen</th>\n",
       "      <td>0</td>\n",
       "      <td>3</td>\n",
       "      <td>3</td>\n",
       "      <td>0.00</td>\n",
       "    </tr>\n",
       "  </tbody>\n",
       "</table>\n",
       "</div>"
      ],
      "text/plain": [
       "                            Unique  Shared  Sum  Proportion\n",
       "Anonymus Mertoniensis 275        2      11   13        0.15\n",
       "Anonymus Oriel 33                0       9    9        0.00\n",
       "Henric de la Wyle                1       8    9        0.11\n",
       "Radulphus Brito                  1       8    9        0.11\n",
       "Simon of Faversham               1       8    9        0.11\n",
       "Anonymus Vat. Lat. 2170 I        0       8    8        0.00\n",
       "John Dinsdale                    0       8    8        0.00\n",
       "John of Jandun                   2       6    8        0.25\n",
       "Anonymus Bernardini              0       7    7        0.00\n",
       "Anonymus Vennebusch              1       6    7        0.14\n",
       "Anonymus Giele                   0       4    4        0.00\n",
       "Anonymus Vat. Lat. 2170 II       0       4    4        0.00\n",
       "Anonymus Bazan I                 0       3    3        0.00\n",
       "Anonymus Steenberghen            0       3    3        0.00"
      ]
     },
     "execution_count": 259,
     "metadata": {},
     "output_type": "execute_result"
    }
   ],
   "source": [
    "df = pd.DataFrame(m, index=['Unique', 'Shared', 'Sum', 'Proportion'])\n",
    "df = df.T.sort_values(by='Sum', ascending=False)\n",
    "df[['Unique', 'Shared', 'Sum']] = df[['Unique', 'Shared', 'Sum']].apply(np.int64)\n",
    "df"
   ]
  },
  {
   "cell_type": "code",
   "execution_count": 260,
   "metadata": {},
   "outputs": [],
   "source": [
    "# Some saving could be set up here...\n",
    "save_table('../thesis/data/tables/sci-determinations-quantities.tex', df.to_latex(), \n",
    "           caption='Unique, shared, total, and proportion of unique to shared doctrines in determinations.',\n",
    "           label='tab:sci:determ:quantities')"
   ]
  },
  {
   "cell_type": "code",
   "execution_count": 261,
   "metadata": {},
   "outputs": [
    {
     "data": {
      "text/plain": [
       "Unique      8\n",
       "Shared     93\n",
       "Sum       101\n",
       "dtype: int64"
      ]
     },
     "execution_count": 261,
     "metadata": {},
     "output_type": "execute_result"
    }
   ],
   "source": [
    "# The sums?\n",
    "df[['Unique', 'Shared', 'Sum']].sum()"
   ]
  },
  {
   "cell_type": "code",
   "execution_count": 264,
   "metadata": {},
   "outputs": [
    {
     "data": {
      "text/plain": [
       "35"
      ]
     },
     "execution_count": 264,
     "metadata": {},
     "output_type": "execute_result"
    }
   ],
   "source": [
    "# Number of distinct rationes\n",
    "doctrine_count = run_query('MATCH (d:Doctrine)'\n",
    "                           'WHERE NOT (d)-[:ATTACKS]->(:Doctrine {name:\"There can be a science of the soul\"})'\n",
    "                           'AND NOT d.name=\"There can be a science of the soul\"'\n",
    "                           'RETURN count(DISTINCT d)').single()[0]\n",
    "doctrine_count"
   ]
  },
  {
   "cell_type": "code",
   "execution_count": 265,
   "metadata": {},
   "outputs": [
    {
     "data": {
      "text/plain": [
       "0.22857142857142856"
      ]
     },
     "execution_count": 265,
     "metadata": {},
     "output_type": "execute_result"
    }
   ],
   "source": [
    "# Proportion of unique\n",
    "df['Unique'].sum() / doctrine_count"
   ]
  },
  {
   "cell_type": "code",
   "execution_count": 266,
   "metadata": {},
   "outputs": [
    {
     "data": {
      "text/plain": [
       "0.07920792079207921"
      ]
     },
     "execution_count": 266,
     "metadata": {},
     "output_type": "execute_result"
    }
   ],
   "source": [
    "# Proportion of unique instances\n",
    "df['Unique'].sum() / df['Sum'].sum()"
   ]
  },
  {
   "cell_type": "code",
   "execution_count": 267,
   "metadata": {},
   "outputs": [
    {
     "data": {
      "text/plain": [
       "3.7"
      ]
     },
     "execution_count": 267,
     "metadata": {},
     "output_type": "execute_result"
    }
   ],
   "source": [
    "# Average use number of non-uniques\n",
    "round(df['Sum'].sum() / (doctrine_count - df['Unique'].sum()), 1)"
   ]
  },
  {
   "cell_type": "markdown",
   "metadata": {},
   "source": [
    "## Proportional distribution matrix"
   ]
  },
  {
   "cell_type": "code",
   "execution_count": 268,
   "metadata": {},
   "outputs": [
    {
     "data": {
      "text/plain": [
       "{'Anonymus Bazan I': 2,\n",
       " 'Anonymus Bernardini': 2,\n",
       " 'Anonymus Mertoniensis 275': 2,\n",
       " 'Anonymus Oriel 33': 2,\n",
       " 'Anonymus Steenberghen': 1,\n",
       " 'Anonymus Vat. Lat. 2170 I': 4,\n",
       " 'Anonymus Vat. Lat. 2170 II': 2,\n",
       " 'Anonymus Vennebusch': 2,\n",
       " 'Henric de la Wyle': 2,\n",
       " 'John Dinsdale': 2,\n",
       " 'John of Jandun': 4,\n",
       " 'Radulphus Brito': 3,\n",
       " 'Simon of Faversham': 4}"
      ]
     },
     "execution_count": 268,
     "metadata": {},
     "output_type": "execute_result"
    }
   ],
   "source": [
    "def number_shared_positive_doctrines(name):\n",
    "    with driver.session() as session:\n",
    "        with session.begin_transaction() as tx:\n",
    "            res = tx.run(\"MATCH (d:Doctrine) WHERE NOT (d)-[:ATTACKS]->(:Doctrine {name:'There can be a science of the soul'})\"\n",
    "                         \"MATCH (a:Author)--(:Text)--(q:Question)--(d)--(:Question)--(:Text)--(a2:Author)\"\n",
    "                         \"WHERE a.name = {name}\"\n",
    "                         \"RETURN a2.name, count(distinct d)\", name=name)\n",
    "            return {r[0]: r[1] for r in res}\n",
    "\n",
    "number_shared_positive_doctrines('Anonymus Giele')"
   ]
  },
  {
   "cell_type": "code",
   "execution_count": 269,
   "metadata": {},
   "outputs": [
    {
     "data": {
      "text/plain": [
       "{'Anonymus Bazan I': 0.03125,\n",
       " 'Anonymus Bernardini': 0.2222222222222222,\n",
       " 'Anonymus Giele': 0.125,\n",
       " 'Anonymus Mertoniensis 275': 0.34615384615384615,\n",
       " 'Anonymus Oriel 33': 0.8888888888888888,\n",
       " 'Anonymus Steenberghen': 0.025,\n",
       " 'Anonymus Vat. Lat. 2170 I': 0.125,\n",
       " 'Anonymus Vat. Lat. 2170 II': 0.125,\n",
       " 'Anonymus Vennebusch': 0.1875,\n",
       " 'Henric de la Wyle': 0.375,\n",
       " 'John Dinsdale': 1.0,\n",
       " 'John of Jandun': 0.125,\n",
       " 'Radulphus Brito': 0.140625,\n",
       " 'Simon of Faversham': 0.25}"
      ]
     },
     "execution_count": 269,
     "metadata": {},
     "output_type": "execute_result"
    }
   ],
   "source": [
    "def proportion_shared_determination_doctrines(name):\n",
    "    with driver.session() as session:\n",
    "        with session.begin_transaction() as tx:\n",
    "            res = tx.run(\"MATCH (d:Doctrine) WHERE NOT (d)-[:ATTACKS]->(:Doctrine {name:'There can be a science of the soul'})\"\n",
    "                         \"MATCH (a:Author)--(:Text)--(q1:Question)--(d)\"\n",
    "                         \"WHERE a.name = {name}\"\n",
    "                         \"MATCH (d)--(q2:Question)--(:Text)--(a2:Author)\"\n",
    "                         \"MATCH (q1:Question)--(d1:Doctrine) WHERE NOT (d1)-[:ATTACKS]->(:Doctrine {name:'There can be a science of the soul'})\"                         \n",
    "                         \"MATCH (q2:Question)--(d2:Doctrine) WHERE NOT (d2)-[:ATTACKS]->(:Doctrine {name:'There can be a science of the soul'})\"                         \n",
    "                         \"RETURN a2.name, (toFloat(count(distinct d)) / count(distinct d1)) * (toFloat(count(distinct d)) / count(distinct d2))\", name=name)\n",
    "            return {r[0]: r[1] for r in res}\n",
    "\n",
    "proportion_shared_determination_doctrines('John Dinsdale')"
   ]
  },
  {
   "cell_type": "code",
   "execution_count": 270,
   "metadata": {},
   "outputs": [
    {
     "data": {
      "text/plain": [
       "['Anonymus Bazan I',\n",
       " 'Anonymus Bernardini',\n",
       " 'Anonymus Giele',\n",
       " 'Anonymus Mertoniensis 275',\n",
       " 'Anonymus Oriel 33',\n",
       " 'Anonymus Steenberghen',\n",
       " 'Anonymus Vat. Lat. 2170 I',\n",
       " 'Anonymus Vat. Lat. 2170 II',\n",
       " 'Anonymus Vennebusch',\n",
       " 'Henric de la Wyle',\n",
       " 'John Dinsdale',\n",
       " 'John of Jandun',\n",
       " 'Radulphus Brito',\n",
       " 'Simon of Faversham']"
      ]
     },
     "execution_count": 270,
     "metadata": {},
     "output_type": "execute_result"
    }
   ],
   "source": [
    "author_names"
   ]
  },
  {
   "cell_type": "code",
   "execution_count": 271,
   "metadata": {},
   "outputs": [],
   "source": [
    "\n",
    "def build_matrix(authors, docfunc=proportion_shared_determination_doctrines):\n",
    "    matrix = {}\n",
    "    for author in authors:\n",
    "        matrix[author] = []\n",
    "        values = docfunc(author)\n",
    "        for name in authors:\n",
    "            if name in values:\n",
    "                matrix[author].append(values[name])\n",
    "            else:\n",
    "                matrix[author].append(0)\n",
    "    return matrix\n",
    "\n",
    "d = build_matrix(author_names)\n",
    "            "
   ]
  },
  {
   "cell_type": "code",
   "execution_count": 272,
   "metadata": {},
   "outputs": [
    {
     "data": {
      "image/png": "[encoded data removed]",
      "text/plain": [
       "<matplotlib.figure.Figure at 0x1102205c0>"
      ]
     },
     "metadata": {},
     "output_type": "display_data"
    }
   ],
   "source": [
    "df = pd.DataFrame(d, index=author_names)\n",
    "\n",
    "# Generate a custom diverging colormap\n",
    "cmap = sns.light_palette((210, 90, 60), as_cmap=True, input=\"husl\")\n",
    "\n",
    "# Draw the heatmap with the mask and correct aspect ratio\n",
    "plot = sns.clustermap(df, cmap=cmap, linewidths=.5, row_cluster=True)\n",
    "for _, ax in enumerate(plot.fig.axes):\n",
    "    ax.set_xticklabels(ax.get_xticklabels(), rotation = 45, horizontalalignment='right')\n"
   ]
  },
  {
   "cell_type": "code",
   "execution_count": 274,
   "metadata": {},
   "outputs": [
    {
     "name": "stdout",
     "output_type": "stream",
     "text": [
      "\\begin{figure}\n",
      "\\centering\n",
      "\\includegraphics[width=\\linewidth]{data/figures/science-positive-proportional-clustermap.pdf}\n",
      "\\caption{Proportional clustermap of positive doctrines.}\n",
      "\\label{fig:sci:positive:prop-clustermap}\n",
      "\\end{figure}\n"
     ]
    }
   ],
   "source": [
    "plot.savefig('../thesis/data/figures/science-positive-proportional-clustermap.pdf')\n",
    "print_figure_inclusion(\n",
    "    '../figures/science-positive-proportional-clustermap', plot,\n",
    "    caption='Proportional clustermap of positive doctrines.',\n",
    "    label='fig:sci:positive:prop-clustermap')"
   ]
  },
  {
   "cell_type": "code",
   "execution_count": 275,
   "metadata": {},
   "outputs": [
    {
     "data": {
      "text/plain": [
       "Simon of Faversham            0.4\n",
       "Radulphus Brito               0.3\n",
       "John Dinsdale                 0.3\n",
       "Anonymus Vat. Lat. 2170 I     0.3\n",
       "Anonymus Giele                0.3\n",
       "Anonymus Oriel 33             0.3\n",
       "Anonymus Vat. Lat. 2170 II    0.3\n",
       "John of Jandun                0.3\n",
       "Anonymus Mertoniensis 275     0.2\n",
       "Anonymus Bernardini           0.2\n",
       "Anonymus Bazan I              0.2\n",
       "Henric de la Wyle             0.2\n",
       "Anonymus Vennebusch           0.2\n",
       "Anonymus Steenberghen         0.1\n",
       "dtype: float64"
      ]
     },
     "execution_count": 275,
     "metadata": {},
     "output_type": "execute_result"
    }
   ],
   "source": [
    "# Mean commonality values \n",
    "df.mean().sort_values(ascending=False).round(1)"
   ]
  },
  {
   "cell_type": "code",
   "execution_count": 276,
   "metadata": {},
   "outputs": [
    {
     "data": {
      "text/plain": [
       "Anonymus Bazan I              0.03\n",
       "Anonymus Bernardini           0.22\n",
       "Anonymus Giele                0.12\n",
       "Anonymus Mertoniensis 275     0.35\n",
       "Anonymus Oriel 33             0.89\n",
       "Anonymus Steenberghen         0.02\n",
       "Anonymus Vat. Lat. 2170 I     0.12\n",
       "Anonymus Vat. Lat. 2170 II    0.12\n",
       "Anonymus Vennebusch           0.19\n",
       "Henric de la Wyle             0.38\n",
       "John Dinsdale                 1.00\n",
       "John of Jandun                0.12\n",
       "Radulphus Brito               0.14\n",
       "Simon of Faversham            0.25\n",
       "Name: John Dinsdale, dtype: float64"
      ]
     },
     "execution_count": 276,
     "metadata": {},
     "output_type": "execute_result"
    }
   ],
   "source": [
    "# Dinsdale example\n",
    "dins = df['John Dinsdale'].round(decimals=2)\n",
    "save_table('../thesis/data/tables/dinsdale-fingerprint-positive.tex', dins.to_latex(), \n",
    "           caption='Example of proportional shared profile for positive doctrines of John Dinsdale.',\n",
    "           label='tab:sci:determ:profile-dinsdale')\n",
    "dins"
   ]
  },
  {
   "cell_type": "markdown",
   "metadata": {},
   "source": [
    "# Create doctrinal matrix\n",
    "Here we want to create a matrix table where it can be seen in more detail which doctrines each commentator uses. It is probably a good idea to distinguish between determination doctrines and rationes doctrines."
   ]
  },
  {
   "cell_type": "markdown",
   "metadata": {},
   "source": [
    "First we pull out a list of the names of the doctrines in determinations of each commentator."
   ]
  },
  {
   "cell_type": "code",
   "execution_count": 277,
   "metadata": {},
   "outputs": [
    {
     "data": {
      "text/plain": [
       "['There can be a science of the soul', 'Substantial knowledge from accidents']"
      ]
     },
     "execution_count": 277,
     "metadata": {},
     "output_type": "execute_result"
    }
   ],
   "source": [
    "def determination_doctrines_of(name):\n",
    "    q = (\"MATCH (a:Author)--(t:Text)--(q:Question)--(d:Doctrine)\"\n",
    "         \"WHERE a.name = '%s'\"\n",
    "         \"AND NOT (d)-[:ATTACKS]->(:Doctrine {name:'There can be a science of the soul'})\"\n",
    "         \"AND (d)-[:SUPPORTS|:USES]-()\"\n",
    "         \"RETURN d.name\" % name )\n",
    "    return [t[0] for t in run_query(q).values()]\n",
    "\n",
    "# Example test\n",
    "determination_doctrines_of(\"Anonymus Giele\")"
   ]
  },
  {
   "cell_type": "markdown",
   "metadata": {},
   "source": [
    "Then we create a full list of all the doctrines in determinations."
   ]
  },
  {
   "cell_type": "code",
   "execution_count": 278,
   "metadata": {},
   "outputs": [
    {
     "data": {
      "text/plain": [
       "['Certain science about simple subject',\n",
       " 'Different types of intelligibility',\n",
       " 'Four requirements of a science (universal, incorruptible, parts and properties, intellectual immediacy)',\n",
       " 'Identity of knower and known',\n",
       " 'Intellect is not like senses but has reflexivity',\n",
       " 'Propter quod unumquodque tale et illud magis',\n",
       " 'Science about a substance which contains parts and properties',\n",
       " 'Science from observations of accidents is also science',\n",
       " 'Science of form and perfection',\n",
       " 'Science through self-reflection',\n",
       " 'Science through subject, properties, principles',\n",
       " 'Soul has parts and properties in virtue of its embodied activities',\n",
       " 'Soul indirectly available to sense perception',\n",
       " 'Substantial knowledge from accidents',\n",
       " 'There can be science about everything with intelligible essence or definition',\n",
       " 'Three meanings of science']"
      ]
     },
     "execution_count": 278,
     "metadata": {},
     "output_type": "execute_result"
    }
   ],
   "source": [
    "def all_determination_doctrines():\n",
    "    q = (\"MATCH (d:Doctrine)--(:Question)\"\n",
    "         \"WHERE NOT (d)-[:ATTACKS]->(:Doctrine {name:'There can be a science of the soul'})\"\n",
    "         \"AND (d)-[:SUPPORTS|:USES]-()\"\n",
    "         \"AND NOT d.name = 'There can be a science of the soul'\"\n",
    "         \"RETURN distinct d.name ORDER BY d.name asc\")\n",
    "    return [t[0] for t in run_query(q).values()]\n",
    "\n",
    "all_docs = all_determination_doctrines()\n",
    "\n",
    "# Test output\n",
    "all_docs"
   ]
  },
  {
   "cell_type": "markdown",
   "metadata": {},
   "source": [
    "Now for each author we register how many of the doctrines he ticks off and reads that into a matrix."
   ]
  },
  {
   "cell_type": "code",
   "execution_count": 279,
   "metadata": {},
   "outputs": [],
   "source": [
    "matrix = {}\n",
    "for author in author_names:\n",
    "    matrix[author] = []\n",
    "    adocs = determination_doctrines_of(author)\n",
    "    for doc in all_docs:\n",
    "        if doc in adocs:\n",
    "            matrix[author].append(1)\n",
    "        else:\n",
    "            matrix[author].append(0)\n",
    "\n",
    "\n",
    "df = pd.DataFrame(matrix, index=all_docs)"
   ]
  },
  {
   "cell_type": "markdown",
   "metadata": {},
   "source": [
    "Okay, I want to sort the matrix by how many doctrines the texts contain. This means that we sort the columns based on the sum of the values. Oddly enough I can't figure out how to do that within the `DataFrame`, so instead I create a dict, from that a list of the authors sorted by their sum doctrines. That list is used for keys in building a new matrix with the desired order. But then the rows and columns are switched, so I need to transmute those with the `zip` function. *This just doesn't feel right*."
   ]
  },
  {
   "cell_type": "code",
   "execution_count": 280,
   "metadata": {},
   "outputs": [
    {
     "data": {
      "text/html": [
       "<div>\n",
       "<style scoped>\n",
       "    .dataframe tbody tr th:only-of-type {\n",
       "        vertical-align: middle;\n",
       "    }\n",
       "\n",
       "    .dataframe tbody tr th {\n",
       "        vertical-align: top;\n",
       "    }\n",
       "\n",
       "    .dataframe thead th {\n",
       "        text-align: right;\n",
       "    }\n",
       "</style>\n",
       "<table border=\"1\" class=\"dataframe\">\n",
       "  <thead>\n",
       "    <tr style=\"text-align: right;\">\n",
       "      <th></th>\n",
       "      <th>Anonymus Bernardini</th>\n",
       "      <th>Anonymus Mertoniensis 275</th>\n",
       "      <th>Anonymus Vennebusch</th>\n",
       "      <th>Anonymus Steenberghen</th>\n",
       "      <th>Anonymus Vat. Lat. 2170 I</th>\n",
       "      <th>Henric de la Wyle</th>\n",
       "      <th>Radulphus Brito</th>\n",
       "      <th>Simon of Faversham</th>\n",
       "      <th>Anonymus Bazan I</th>\n",
       "      <th>Anonymus Oriel 33</th>\n",
       "      <th>John Dinsdale</th>\n",
       "      <th>John of Jandun</th>\n",
       "      <th>Anonymus Vat. Lat. 2170 II</th>\n",
       "      <th>Anonymus Giele</th>\n",
       "    </tr>\n",
       "  </thead>\n",
       "  <tbody>\n",
       "    <tr>\n",
       "      <th>Certain science about simple subject</th>\n",
       "      <td>x</td>\n",
       "      <td></td>\n",
       "      <td></td>\n",
       "      <td></td>\n",
       "      <td></td>\n",
       "      <td></td>\n",
       "      <td></td>\n",
       "      <td></td>\n",
       "      <td></td>\n",
       "      <td></td>\n",
       "      <td></td>\n",
       "      <td></td>\n",
       "      <td></td>\n",
       "      <td></td>\n",
       "    </tr>\n",
       "    <tr>\n",
       "      <th>Different types of intelligibility</th>\n",
       "      <td>x</td>\n",
       "      <td>x</td>\n",
       "      <td>x</td>\n",
       "      <td></td>\n",
       "      <td></td>\n",
       "      <td></td>\n",
       "      <td></td>\n",
       "      <td></td>\n",
       "      <td></td>\n",
       "      <td></td>\n",
       "      <td></td>\n",
       "      <td></td>\n",
       "      <td></td>\n",
       "      <td></td>\n",
       "    </tr>\n",
       "    <tr>\n",
       "      <th>Four requirements of a science (universal, incorruptible, parts and properties, intellectual immediacy)</th>\n",
       "      <td></td>\n",
       "      <td></td>\n",
       "      <td></td>\n",
       "      <td>x</td>\n",
       "      <td></td>\n",
       "      <td></td>\n",
       "      <td></td>\n",
       "      <td></td>\n",
       "      <td></td>\n",
       "      <td></td>\n",
       "      <td></td>\n",
       "      <td></td>\n",
       "      <td></td>\n",
       "      <td></td>\n",
       "    </tr>\n",
       "    <tr>\n",
       "      <th>Identity of knower and known</th>\n",
       "      <td>x</td>\n",
       "      <td>x</td>\n",
       "      <td></td>\n",
       "      <td></td>\n",
       "      <td></td>\n",
       "      <td></td>\n",
       "      <td></td>\n",
       "      <td></td>\n",
       "      <td></td>\n",
       "      <td></td>\n",
       "      <td></td>\n",
       "      <td></td>\n",
       "      <td></td>\n",
       "      <td></td>\n",
       "    </tr>\n",
       "    <tr>\n",
       "      <th>Intellect is not like senses but has reflexivity</th>\n",
       "      <td></td>\n",
       "      <td>x</td>\n",
       "      <td></td>\n",
       "      <td></td>\n",
       "      <td></td>\n",
       "      <td></td>\n",
       "      <td></td>\n",
       "      <td></td>\n",
       "      <td></td>\n",
       "      <td></td>\n",
       "      <td></td>\n",
       "      <td></td>\n",
       "      <td></td>\n",
       "      <td></td>\n",
       "    </tr>\n",
       "    <tr>\n",
       "      <th>Propter quod unumquodque tale et illud magis</th>\n",
       "      <td></td>\n",
       "      <td>x</td>\n",
       "      <td>x</td>\n",
       "      <td></td>\n",
       "      <td></td>\n",
       "      <td></td>\n",
       "      <td></td>\n",
       "      <td></td>\n",
       "      <td></td>\n",
       "      <td></td>\n",
       "      <td></td>\n",
       "      <td></td>\n",
       "      <td></td>\n",
       "      <td></td>\n",
       "    </tr>\n",
       "    <tr>\n",
       "      <th>Science about a substance which contains parts and properties</th>\n",
       "      <td></td>\n",
       "      <td></td>\n",
       "      <td></td>\n",
       "      <td>x</td>\n",
       "      <td>x</td>\n",
       "      <td></td>\n",
       "      <td></td>\n",
       "      <td></td>\n",
       "      <td></td>\n",
       "      <td></td>\n",
       "      <td></td>\n",
       "      <td></td>\n",
       "      <td></td>\n",
       "      <td></td>\n",
       "    </tr>\n",
       "    <tr>\n",
       "      <th>Science from observations of accidents is also science</th>\n",
       "      <td></td>\n",
       "      <td>x</td>\n",
       "      <td></td>\n",
       "      <td></td>\n",
       "      <td></td>\n",
       "      <td></td>\n",
       "      <td></td>\n",
       "      <td></td>\n",
       "      <td></td>\n",
       "      <td></td>\n",
       "      <td></td>\n",
       "      <td></td>\n",
       "      <td></td>\n",
       "      <td></td>\n",
       "    </tr>\n",
       "    <tr>\n",
       "      <th>Science of form and perfection</th>\n",
       "      <td></td>\n",
       "      <td></td>\n",
       "      <td></td>\n",
       "      <td></td>\n",
       "      <td></td>\n",
       "      <td>x</td>\n",
       "      <td></td>\n",
       "      <td></td>\n",
       "      <td></td>\n",
       "      <td></td>\n",
       "      <td></td>\n",
       "      <td></td>\n",
       "      <td></td>\n",
       "      <td></td>\n",
       "    </tr>\n",
       "    <tr>\n",
       "      <th>Science through self-reflection</th>\n",
       "      <td>x</td>\n",
       "      <td>x</td>\n",
       "      <td></td>\n",
       "      <td></td>\n",
       "      <td>x</td>\n",
       "      <td></td>\n",
       "      <td>x</td>\n",
       "      <td>x</td>\n",
       "      <td>x</td>\n",
       "      <td></td>\n",
       "      <td></td>\n",
       "      <td></td>\n",
       "      <td></td>\n",
       "      <td></td>\n",
       "    </tr>\n",
       "    <tr>\n",
       "      <th>Science through subject, properties, principles</th>\n",
       "      <td></td>\n",
       "      <td>x</td>\n",
       "      <td></td>\n",
       "      <td></td>\n",
       "      <td>x</td>\n",
       "      <td>x</td>\n",
       "      <td>x</td>\n",
       "      <td>x</td>\n",
       "      <td></td>\n",
       "      <td>x</td>\n",
       "      <td>x</td>\n",
       "      <td>x</td>\n",
       "      <td>x</td>\n",
       "      <td></td>\n",
       "    </tr>\n",
       "    <tr>\n",
       "      <th>Soul has parts and properties in virtue of its embodied activities</th>\n",
       "      <td></td>\n",
       "      <td></td>\n",
       "      <td></td>\n",
       "      <td>x</td>\n",
       "      <td></td>\n",
       "      <td></td>\n",
       "      <td>x</td>\n",
       "      <td></td>\n",
       "      <td></td>\n",
       "      <td></td>\n",
       "      <td></td>\n",
       "      <td></td>\n",
       "      <td></td>\n",
       "      <td></td>\n",
       "    </tr>\n",
       "    <tr>\n",
       "      <th>Soul indirectly available to sense perception</th>\n",
       "      <td>x</td>\n",
       "      <td>x</td>\n",
       "      <td>x</td>\n",
       "      <td></td>\n",
       "      <td></td>\n",
       "      <td>x</td>\n",
       "      <td></td>\n",
       "      <td></td>\n",
       "      <td></td>\n",
       "      <td>x</td>\n",
       "      <td>x</td>\n",
       "      <td></td>\n",
       "      <td></td>\n",
       "      <td></td>\n",
       "    </tr>\n",
       "    <tr>\n",
       "      <th>Substantial knowledge from accidents</th>\n",
       "      <td>x</td>\n",
       "      <td>x</td>\n",
       "      <td>x</td>\n",
       "      <td></td>\n",
       "      <td>x</td>\n",
       "      <td></td>\n",
       "      <td>x</td>\n",
       "      <td>x</td>\n",
       "      <td></td>\n",
       "      <td>x</td>\n",
       "      <td>x</td>\n",
       "      <td>x</td>\n",
       "      <td></td>\n",
       "      <td>x</td>\n",
       "    </tr>\n",
       "    <tr>\n",
       "      <th>There can be science about everything with intelligible essence or definition</th>\n",
       "      <td></td>\n",
       "      <td></td>\n",
       "      <td></td>\n",
       "      <td></td>\n",
       "      <td>x</td>\n",
       "      <td></td>\n",
       "      <td></td>\n",
       "      <td></td>\n",
       "      <td></td>\n",
       "      <td></td>\n",
       "      <td></td>\n",
       "      <td></td>\n",
       "      <td></td>\n",
       "      <td></td>\n",
       "    </tr>\n",
       "    <tr>\n",
       "      <th>Three meanings of science</th>\n",
       "      <td></td>\n",
       "      <td></td>\n",
       "      <td></td>\n",
       "      <td></td>\n",
       "      <td>x</td>\n",
       "      <td>x</td>\n",
       "      <td></td>\n",
       "      <td></td>\n",
       "      <td></td>\n",
       "      <td></td>\n",
       "      <td></td>\n",
       "      <td></td>\n",
       "      <td></td>\n",
       "      <td></td>\n",
       "    </tr>\n",
       "  </tbody>\n",
       "</table>\n",
       "</div>"
      ],
      "text/plain": [
       "                                                   Anonymus Bernardini  \\\n",
       "Certain science about simple subject                                 x   \n",
       "Different types of intelligibility                                   x   \n",
       "Four requirements of a science (universal, inco...                       \n",
       "Identity of knower and known                                         x   \n",
       "Intellect is not like senses but has reflexivity                         \n",
       "Propter quod unumquodque tale et illud magis                             \n",
       "Science about a substance which contains parts ...                       \n",
       "Science from observations of accidents is also ...                       \n",
       "Science of form and perfection                                           \n",
       "Science through self-reflection                                      x   \n",
       "Science through subject, properties, principles                          \n",
       "Soul has parts and properties in virtue of its ...                       \n",
       "Soul indirectly available to sense perception                        x   \n",
       "Substantial knowledge from accidents                                 x   \n",
       "There can be science about everything with inte...                       \n",
       "Three meanings of science                                                \n",
       "\n",
       "                                                   Anonymus Mertoniensis 275  \\\n",
       "Certain science about simple subject                                           \n",
       "Different types of intelligibility                                         x   \n",
       "Four requirements of a science (universal, inco...                             \n",
       "Identity of knower and known                                               x   \n",
       "Intellect is not like senses but has reflexivity                           x   \n",
       "Propter quod unumquodque tale et illud magis                               x   \n",
       "Science about a substance which contains parts ...                             \n",
       "Science from observations of accidents is also ...                         x   \n",
       "Science of form and perfection                                                 \n",
       "Science through self-reflection                                            x   \n",
       "Science through subject, properties, principles                            x   \n",
       "Soul has parts and properties in virtue of its ...                             \n",
       "Soul indirectly available to sense perception                              x   \n",
       "Substantial knowledge from accidents                                       x   \n",
       "There can be science about everything with inte...                             \n",
       "Three meanings of science                                                      \n",
       "\n",
       "                                                   Anonymus Vennebusch  \\\n",
       "Certain science about simple subject                                     \n",
       "Different types of intelligibility                                   x   \n",
       "Four requirements of a science (universal, inco...                       \n",
       "Identity of knower and known                                             \n",
       "Intellect is not like senses but has reflexivity                         \n",
       "Propter quod unumquodque tale et illud magis                         x   \n",
       "Science about a substance which contains parts ...                       \n",
       "Science from observations of accidents is also ...                       \n",
       "Science of form and perfection                                           \n",
       "Science through self-reflection                                          \n",
       "Science through subject, properties, principles                          \n",
       "Soul has parts and properties in virtue of its ...                       \n",
       "Soul indirectly available to sense perception                        x   \n",
       "Substantial knowledge from accidents                                 x   \n",
       "There can be science about everything with inte...                       \n",
       "Three meanings of science                                                \n",
       "\n",
       "                                                   Anonymus Steenberghen  \\\n",
       "Certain science about simple subject                                       \n",
       "Different types of intelligibility                                         \n",
       "Four requirements of a science (universal, inco...                     x   \n",
       "Identity of knower and known                                               \n",
       "Intellect is not like senses but has reflexivity                           \n",
       "Propter quod unumquodque tale et illud magis                               \n",
       "Science about a substance which contains parts ...                     x   \n",
       "Science from observations of accidents is also ...                         \n",
       "Science of form and perfection                                             \n",
       "Science through self-reflection                                            \n",
       "Science through subject, properties, principles                            \n",
       "Soul has parts and properties in virtue of its ...                     x   \n",
       "Soul indirectly available to sense perception                              \n",
       "Substantial knowledge from accidents                                       \n",
       "There can be science about everything with inte...                         \n",
       "Three meanings of science                                                  \n",
       "\n",
       "                                                   Anonymus Vat. Lat. 2170 I  \\\n",
       "Certain science about simple subject                                           \n",
       "Different types of intelligibility                                             \n",
       "Four requirements of a science (universal, inco...                             \n",
       "Identity of knower and known                                                   \n",
       "Intellect is not like senses but has reflexivity                               \n",
       "Propter quod unumquodque tale et illud magis                                   \n",
       "Science about a substance which contains parts ...                         x   \n",
       "Science from observations of accidents is also ...                             \n",
       "Science of form and perfection                                                 \n",
       "Science through self-reflection                                            x   \n",
       "Science through subject, properties, principles                            x   \n",
       "Soul has parts and properties in virtue of its ...                             \n",
       "Soul indirectly available to sense perception                                  \n",
       "Substantial knowledge from accidents                                       x   \n",
       "There can be science about everything with inte...                         x   \n",
       "Three meanings of science                                                  x   \n",
       "\n",
       "                                                   Henric de la Wyle  \\\n",
       "Certain science about simple subject                                   \n",
       "Different types of intelligibility                                     \n",
       "Four requirements of a science (universal, inco...                     \n",
       "Identity of knower and known                                           \n",
       "Intellect is not like senses but has reflexivity                       \n",
       "Propter quod unumquodque tale et illud magis                           \n",
       "Science about a substance which contains parts ...                     \n",
       "Science from observations of accidents is also ...                     \n",
       "Science of form and perfection                                     x   \n",
       "Science through self-reflection                                        \n",
       "Science through subject, properties, principles                    x   \n",
       "Soul has parts and properties in virtue of its ...                     \n",
       "Soul indirectly available to sense perception                      x   \n",
       "Substantial knowledge from accidents                                   \n",
       "There can be science about everything with inte...                     \n",
       "Three meanings of science                                          x   \n",
       "\n",
       "                                                   Radulphus Brito  \\\n",
       "Certain science about simple subject                                 \n",
       "Different types of intelligibility                                   \n",
       "Four requirements of a science (universal, inco...                   \n",
       "Identity of knower and known                                         \n",
       "Intellect is not like senses but has reflexivity                     \n",
       "Propter quod unumquodque tale et illud magis                         \n",
       "Science about a substance which contains parts ...                   \n",
       "Science from observations of accidents is also ...                   \n",
       "Science of form and perfection                                       \n",
       "Science through self-reflection                                  x   \n",
       "Science through subject, properties, principles                  x   \n",
       "Soul has parts and properties in virtue of its ...               x   \n",
       "Soul indirectly available to sense perception                        \n",
       "Substantial knowledge from accidents                             x   \n",
       "There can be science about everything with inte...                   \n",
       "Three meanings of science                                            \n",
       "\n",
       "                                                   Simon of Faversham  \\\n",
       "Certain science about simple subject                                    \n",
       "Different types of intelligibility                                      \n",
       "Four requirements of a science (universal, inco...                      \n",
       "Identity of knower and known                                            \n",
       "Intellect is not like senses but has reflexivity                        \n",
       "Propter quod unumquodque tale et illud magis                            \n",
       "Science about a substance which contains parts ...                      \n",
       "Science from observations of accidents is also ...                      \n",
       "Science of form and perfection                                          \n",
       "Science through self-reflection                                     x   \n",
       "Science through subject, properties, principles                     x   \n",
       "Soul has parts and properties in virtue of its ...                      \n",
       "Soul indirectly available to sense perception                           \n",
       "Substantial knowledge from accidents                                x   \n",
       "There can be science about everything with inte...                      \n",
       "Three meanings of science                                               \n",
       "\n",
       "                                                   Anonymus Bazan I  \\\n",
       "Certain science about simple subject                                  \n",
       "Different types of intelligibility                                    \n",
       "Four requirements of a science (universal, inco...                    \n",
       "Identity of knower and known                                          \n",
       "Intellect is not like senses but has reflexivity                      \n",
       "Propter quod unumquodque tale et illud magis                          \n",
       "Science about a substance which contains parts ...                    \n",
       "Science from observations of accidents is also ...                    \n",
       "Science of form and perfection                                        \n",
       "Science through self-reflection                                   x   \n",
       "Science through subject, properties, principles                       \n",
       "Soul has parts and properties in virtue of its ...                    \n",
       "Soul indirectly available to sense perception                         \n",
       "Substantial knowledge from accidents                                  \n",
       "There can be science about everything with inte...                    \n",
       "Three meanings of science                                             \n",
       "\n",
       "                                                   Anonymus Oriel 33  \\\n",
       "Certain science about simple subject                                   \n",
       "Different types of intelligibility                                     \n",
       "Four requirements of a science (universal, inco...                     \n",
       "Identity of knower and known                                           \n",
       "Intellect is not like senses but has reflexivity                       \n",
       "Propter quod unumquodque tale et illud magis                           \n",
       "Science about a substance which contains parts ...                     \n",
       "Science from observations of accidents is also ...                     \n",
       "Science of form and perfection                                         \n",
       "Science through self-reflection                                        \n",
       "Science through subject, properties, principles                    x   \n",
       "Soul has parts and properties in virtue of its ...                     \n",
       "Soul indirectly available to sense perception                      x   \n",
       "Substantial knowledge from accidents                               x   \n",
       "There can be science about everything with inte...                     \n",
       "Three meanings of science                                              \n",
       "\n",
       "                                                   John Dinsdale  \\\n",
       "Certain science about simple subject                               \n",
       "Different types of intelligibility                                 \n",
       "Four requirements of a science (universal, inco...                 \n",
       "Identity of knower and known                                       \n",
       "Intellect is not like senses but has reflexivity                   \n",
       "Propter quod unumquodque tale et illud magis                       \n",
       "Science about a substance which contains parts ...                 \n",
       "Science from observations of accidents is also ...                 \n",
       "Science of form and perfection                                     \n",
       "Science through self-reflection                                    \n",
       "Science through subject, properties, principles                x   \n",
       "Soul has parts and properties in virtue of its ...                 \n",
       "Soul indirectly available to sense perception                  x   \n",
       "Substantial knowledge from accidents                           x   \n",
       "There can be science about everything with inte...                 \n",
       "Three meanings of science                                          \n",
       "\n",
       "                                                   John of Jandun  \\\n",
       "Certain science about simple subject                                \n",
       "Different types of intelligibility                                  \n",
       "Four requirements of a science (universal, inco...                  \n",
       "Identity of knower and known                                        \n",
       "Intellect is not like senses but has reflexivity                    \n",
       "Propter quod unumquodque tale et illud magis                        \n",
       "Science about a substance which contains parts ...                  \n",
       "Science from observations of accidents is also ...                  \n",
       "Science of form and perfection                                      \n",
       "Science through self-reflection                                     \n",
       "Science through subject, properties, principles                 x   \n",
       "Soul has parts and properties in virtue of its ...                  \n",
       "Soul indirectly available to sense perception                       \n",
       "Substantial knowledge from accidents                            x   \n",
       "There can be science about everything with inte...                  \n",
       "Three meanings of science                                           \n",
       "\n",
       "                                                   Anonymus Vat. Lat. 2170 II  \\\n",
       "Certain science about simple subject                                            \n",
       "Different types of intelligibility                                              \n",
       "Four requirements of a science (universal, inco...                              \n",
       "Identity of knower and known                                                    \n",
       "Intellect is not like senses but has reflexivity                                \n",
       "Propter quod unumquodque tale et illud magis                                    \n",
       "Science about a substance which contains parts ...                              \n",
       "Science from observations of accidents is also ...                              \n",
       "Science of form and perfection                                                  \n",
       "Science through self-reflection                                                 \n",
       "Science through subject, properties, principles                             x   \n",
       "Soul has parts and properties in virtue of its ...                              \n",
       "Soul indirectly available to sense perception                                   \n",
       "Substantial knowledge from accidents                                            \n",
       "There can be science about everything with inte...                              \n",
       "Three meanings of science                                                       \n",
       "\n",
       "                                                   Anonymus Giele  \n",
       "Certain science about simple subject                               \n",
       "Different types of intelligibility                                 \n",
       "Four requirements of a science (universal, inco...                 \n",
       "Identity of knower and known                                       \n",
       "Intellect is not like senses but has reflexivity                   \n",
       "Propter quod unumquodque tale et illud magis                       \n",
       "Science about a substance which contains parts ...                 \n",
       "Science from observations of accidents is also ...                 \n",
       "Science of form and perfection                                     \n",
       "Science through self-reflection                                    \n",
       "Science through subject, properties, principles                    \n",
       "Soul has parts and properties in virtue of its ...                 \n",
       "Soul indirectly available to sense perception                      \n",
       "Substantial knowledge from accidents                            x  \n",
       "There can be science about everything with inte...                 \n",
       "Three meanings of science                                          "
      ]
     },
     "execution_count": 280,
     "metadata": {},
     "output_type": "execute_result"
    }
   ],
   "source": [
    "def create_matrix(numeric=True):\n",
    "    matrix = {}\n",
    "    if numeric:\n",
    "        true_val = 1\n",
    "        false_val = 0\n",
    "    else:\n",
    "        true_val = 'x'\n",
    "        false_val = ''\n",
    "        \n",
    "    for author in author_names:\n",
    "        matrix[author] = []\n",
    "        adocs = determination_doctrines_of(author)\n",
    "        for doc in all_docs:\n",
    "            if doc in adocs:\n",
    "                matrix[author].append(true_val)\n",
    "            else:\n",
    "                matrix[author].append(false_val)\n",
    "    sorted_names = sorted(matrix, key=matrix.get, reverse=True)\n",
    "    m = [matrix[key] for key in sorted_names]\n",
    "    m = [list(i) for i in zip(*m)]\n",
    "    return pd.DataFrame(m, columns=sorted_names, index=all_docs)\n",
    "\n",
    "create_matrix(numeric=False)"
   ]
  },
  {
   "cell_type": "markdown",
   "metadata": {},
   "source": [
    "I can sort the sum of the DataFrame like this, but I can't figure out how to sort the columns by that."
   ]
  },
  {
   "cell_type": "code",
   "execution_count": 281,
   "metadata": {
    "scrolled": true
   },
   "outputs": [
    {
     "data": {
      "text/plain": [
       "Anonymus Mertoniensis 275     9\n",
       "Anonymus Vat. Lat. 2170 I     6\n",
       "Anonymus Bernardini           6\n",
       "Radulphus Brito               4\n",
       "Henric de la Wyle             4\n",
       "Anonymus Vennebusch           4\n",
       "John Dinsdale                 3\n",
       "Anonymus Oriel 33             3\n",
       "Simon of Faversham            3\n",
       "Anonymus Steenberghen         3\n",
       "John of Jandun                2\n",
       "Anonymus Giele                1\n",
       "Anonymus Vat. Lat. 2170 II    1\n",
       "Anonymus Bazan I              1\n",
       "dtype: int64"
      ]
     },
     "execution_count": 281,
     "metadata": {},
     "output_type": "execute_result"
    }
   ],
   "source": [
    "\n",
    "df = create_matrix(numeric=True)\n",
    "sums = df.sum().sort_values(ascending=False)\n",
    "sums"
   ]
  },
  {
   "cell_type": "code",
   "execution_count": 282,
   "metadata": {},
   "outputs": [],
   "source": [
    "#print(sums.to_latex())"
   ]
  },
  {
   "cell_type": "markdown",
   "metadata": {},
   "source": [
    "What is the mean amount of doctrines?"
   ]
  },
  {
   "cell_type": "code",
   "execution_count": 283,
   "metadata": {},
   "outputs": [
    {
     "data": {
      "text/plain": [
       "3.5714285714285716"
      ]
     },
     "execution_count": 283,
     "metadata": {},
     "output_type": "execute_result"
    }
   ],
   "source": [
    "df.sum().mean()"
   ]
  },
  {
   "cell_type": "code",
   "execution_count": 284,
   "metadata": {},
   "outputs": [
    {
     "data": {
      "text/plain": [
       "<matplotlib.axes._subplots.AxesSubplot at 0x10c2d3f28>"
      ]
     },
     "execution_count": 284,
     "metadata": {},
     "output_type": "execute_result"
    },
    {
     "data": {
      "image/png": "[encoded data removed]",
      "text/plain": [
       "<matplotlib.figure.Figure at 0x10c763278>"
      ]
     },
     "metadata": {},
     "output_type": "display_data"
    }
   ],
   "source": [
    "sns.distplot(df.sum())"
   ]
  },
  {
   "cell_type": "markdown",
   "metadata": {},
   "source": [
    "### Popularity of arguments"
   ]
  },
  {
   "cell_type": "code",
   "execution_count": 285,
   "metadata": {},
   "outputs": [
    {
     "data": {
      "text/plain": [
       "Substantial knowledge from accidents                                                                       10\n",
       "Science through subject, properties, principles                                                             9\n",
       "Soul indirectly available to sense perception                                                               6\n",
       "Science through self-reflection                                                                             6\n",
       "Different types of intelligibility                                                                          3\n",
       "Three meanings of science                                                                                   2\n",
       "Soul has parts and properties in virtue of its embodied activities                                          2\n",
       "Science about a substance which contains parts and properties                                               2\n",
       "Propter quod unumquodque tale et illud magis                                                                2\n",
       "Identity of knower and known                                                                                2\n",
       "There can be science about everything with intelligible essence or definition                               1\n",
       "Science of form and perfection                                                                              1\n",
       "Science from observations of accidents is also science                                                      1\n",
       "Intellect is not like senses but has reflexivity                                                            1\n",
       "Four requirements of a science (universal, incorruptible, parts and properties, intellectual immediacy)     1\n",
       "Certain science about simple subject                                                                        1\n",
       "dtype: int64"
      ]
     },
     "execution_count": 285,
     "metadata": {},
     "output_type": "execute_result"
    }
   ],
   "source": [
    "df.sum(axis=1).sort_values(ascending=False)"
   ]
  },
  {
   "cell_type": "markdown",
   "metadata": {},
   "source": [
    "# Binary matrix cluster analysis\n",
    "So what if we take the binary matrix representing the presence or absence of a doctrine and use that for clustering?\n",
    "I have used this as an inspiration: https://stats.stackexchange.com/questions/222492/any-distance-measures-that-are-more-useful-for-binary-data-clustering.\n",
    "As suggested in the post we use the Hamming metric for distance measuring, as that just counts the number of coordinates that differ. AS it is also mentioned in the scipy documentation it can therefore be used for boolean matrices (https://docs.scipy.org/doc/scipy/reference/generated/scipy.spatial.distance.pdist.html)."
   ]
  },
  {
   "cell_type": "code",
   "execution_count": 286,
   "metadata": {},
   "outputs": [
    {
     "data": {
      "image/png": "[encoded data removed]",
      "text/plain": [
       "<matplotlib.figure.Figure at 0x10aa6ff28>"
      ]
     },
     "metadata": {},
     "output_type": "display_data"
    }
   ],
   "source": [
    "df = create_matrix(numeric=True)\n",
    "\n",
    "# Generate a custom diverging colormap\n",
    "cmap = sns.light_palette((210, 90, 60), input=\"husl\")\n",
    "\n",
    "# Draw the heatmap with the mask and correct aspect ratio\n",
    "plot = sns.clustermap(df, cmap=cmap, linewidths=.5, row_cluster=False, metric='hamming')\n",
    "\n",
    "for _, ax in enumerate(plot.fig.axes):\n",
    "    ax.set_xticklabels(ax.get_xticklabels(), rotation = 45, horizontalalignment='right')"
   ]
  },
  {
   "cell_type": "code",
   "execution_count": 288,
   "metadata": {
    "scrolled": false
   },
   "outputs": [
    {
     "name": "stdout",
     "output_type": "stream",
     "text": [
      "\\begin{figure}\n",
      "\\centering\n",
      "\\includegraphics[width=\\linewidth]{data/figures/science-determinations-binary-clustermap.pdf}\n",
      "\\caption{Binary clustermap of positive doctrines.}\n",
      "\\label{fig:sci:positive:binary-clustermap}\n",
      "\\end{figure}\n"
     ]
    }
   ],
   "source": [
    "plot.savefig('../thesis/data/figures/science-positive-binary-clustermap.pdf')\n",
    "print_figure_inclusion(\n",
    "    'science-determinations-binary-clustermap', plot,\n",
    "    caption='Binary clustermap of positive doctrines.',\n",
    "    label='fig:sci:positive:binary-clustermap')"
   ]
  },
  {
   "cell_type": "markdown",
   "metadata": {},
   "source": [
    "# Doctrines in rationes\n",
    "How about if we only focus on rationes?"
   ]
  },
  {
   "cell_type": "markdown",
   "metadata": {},
   "source": [
    "## Proportional representation"
   ]
  },
  {
   "cell_type": "markdown",
   "metadata": {},
   "source": [
    "First, let's get some simple quantitative data on the amount of doctrines each author has in each category."
   ]
  },
  {
   "cell_type": "code",
   "execution_count": 171,
   "metadata": {},
   "outputs": [
    {
     "data": {
      "text/plain": [
       "2"
      ]
     },
     "execution_count": 171,
     "metadata": {},
     "output_type": "execute_result"
    }
   ],
   "source": [
    "def number_unique_rationes_doctrines(name):\n",
    "    with driver.session() as session:\n",
    "        with session.begin_transaction() as tx:\n",
    "            res = tx.run(\"MATCH (a:Author)--(:Text)--(q:Question)--(d:Doctrine)\"\n",
    "                         \"WHERE (d)-[:ATTACKS]->(:Doctrine {name:'There can be a science of the soul'})\"\n",
    "                         \"AND a.name = {name}\"\n",
    "                         \"AND NOT (:Question)--(d)--(q:Question)\"\n",
    "                         \"RETURN count(distinct d)\", name=name)\n",
    "            return res.single()['count(distinct d)']\n",
    "            \n",
    "number_unique_rationes_doctrines('John of Jandun')"
   ]
  },
  {
   "cell_type": "code",
   "execution_count": 172,
   "metadata": {},
   "outputs": [
    {
     "data": {
      "text/plain": [
       "6"
      ]
     },
     "execution_count": 172,
     "metadata": {},
     "output_type": "execute_result"
    }
   ],
   "source": [
    "def number_shared_rationes_doctrines(name):\n",
    "    with driver.session() as session:\n",
    "        with session.begin_transaction() as tx:\n",
    "            res = tx.run(\"MATCH (a:Author)--(:Text)--(q:Question)--(d:Doctrine)\"\n",
    "                         \"WHERE (d)-[:ATTACKS]->(:Doctrine {name:'There can be a science of the soul'})\"\n",
    "                         \"AND a.name = {name}\"\n",
    "                         \"MATCH (q1:Question)--(d)--(q)\"\n",
    "                         \"WHERE (q1) <> (q)\"\n",
    "                         \"RETURN count(distinct d)\", name=name)\n",
    "            return res.single()['count(distinct d)']\n",
    "\n",
    "number_shared_rationes_doctrines('John of Jandun')"
   ]
  },
  {
   "cell_type": "markdown",
   "metadata": {},
   "source": [
    "Proportion unique of all doctrines"
   ]
  },
  {
   "cell_type": "code",
   "execution_count": 173,
   "metadata": {},
   "outputs": [
    {
     "data": {
      "text/plain": [
       "0.25"
      ]
     },
     "execution_count": 173,
     "metadata": {},
     "output_type": "execute_result"
    }
   ],
   "source": [
    "number_unique_rationes_doctrines('John of Jandun') / sum([number_unique_rationes_doctrines('John of Jandun'), \n",
    "                                                          number_shared_rationes_doctrines('John of Jandun')])"
   ]
  },
  {
   "cell_type": "markdown",
   "metadata": {},
   "source": [
    "Now let's get the values of these for all the commentators and put them into a matrix."
   ]
  },
  {
   "cell_type": "code",
   "execution_count": 174,
   "metadata": {},
   "outputs": [],
   "source": [
    "def unique_shared_proportions_all():\n",
    "    d = {}\n",
    "    for a in author_names:\n",
    "        unique = number_unique_rationes_doctrines(a)\n",
    "        shared = number_shared_rationes_doctrines(a)\n",
    "        if unique is not 0:\n",
    "            prop = number_unique_rationes_doctrines(a) / sum([number_unique_rationes_doctrines('John of Jandun'), \n",
    "                                                              number_shared_rationes_doctrines('John of Jandun')])\n",
    "        else:\n",
    "            prop = 0\n",
    "\n",
    "        d[a] = [unique, shared, unique + shared, round(prop, 2)]\n",
    "\n",
    "    return d\n",
    "m = unique_shared_proportions_all()\n"
   ]
  },
  {
   "cell_type": "markdown",
   "metadata": {},
   "source": [
    "Put this in a DataFrame and sort according to most unique."
   ]
  },
  {
   "cell_type": "code",
   "execution_count": 175,
   "metadata": {},
   "outputs": [
    {
     "data": {
      "text/html": [
       "<div>\n",
       "<style scoped>\n",
       "    .dataframe tbody tr th:only-of-type {\n",
       "        vertical-align: middle;\n",
       "    }\n",
       "\n",
       "    .dataframe tbody tr th {\n",
       "        vertical-align: top;\n",
       "    }\n",
       "\n",
       "    .dataframe thead th {\n",
       "        text-align: right;\n",
       "    }\n",
       "</style>\n",
       "<table border=\"1\" class=\"dataframe\">\n",
       "  <thead>\n",
       "    <tr style=\"text-align: right;\">\n",
       "      <th></th>\n",
       "      <th>Unique</th>\n",
       "      <th>Shared</th>\n",
       "      <th>Sum</th>\n",
       "      <th>Proportion</th>\n",
       "    </tr>\n",
       "  </thead>\n",
       "  <tbody>\n",
       "    <tr>\n",
       "      <th>John of Jandun</th>\n",
       "      <td>2</td>\n",
       "      <td>6</td>\n",
       "      <td>8</td>\n",
       "      <td>0.25</td>\n",
       "    </tr>\n",
       "    <tr>\n",
       "      <th>Anonymus Mertoniensis 275</th>\n",
       "      <td>2</td>\n",
       "      <td>4</td>\n",
       "      <td>6</td>\n",
       "      <td>0.25</td>\n",
       "    </tr>\n",
       "    <tr>\n",
       "      <th>Anonymus Oriel 33</th>\n",
       "      <td>0</td>\n",
       "      <td>5</td>\n",
       "      <td>5</td>\n",
       "      <td>0.00</td>\n",
       "    </tr>\n",
       "    <tr>\n",
       "      <th>Henric de la Wyle</th>\n",
       "      <td>1</td>\n",
       "      <td>4</td>\n",
       "      <td>5</td>\n",
       "      <td>0.12</td>\n",
       "    </tr>\n",
       "    <tr>\n",
       "      <th>John Dinsdale</th>\n",
       "      <td>0</td>\n",
       "      <td>5</td>\n",
       "      <td>5</td>\n",
       "      <td>0.00</td>\n",
       "    </tr>\n",
       "    <tr>\n",
       "      <th>Anonymus Bernardini</th>\n",
       "      <td>0</td>\n",
       "      <td>4</td>\n",
       "      <td>4</td>\n",
       "      <td>0.00</td>\n",
       "    </tr>\n",
       "    <tr>\n",
       "      <th>Radulphus Brito</th>\n",
       "      <td>1</td>\n",
       "      <td>3</td>\n",
       "      <td>4</td>\n",
       "      <td>0.12</td>\n",
       "    </tr>\n",
       "    <tr>\n",
       "      <th>Simon of Faversham</th>\n",
       "      <td>1</td>\n",
       "      <td>3</td>\n",
       "      <td>4</td>\n",
       "      <td>0.12</td>\n",
       "    </tr>\n",
       "    <tr>\n",
       "      <th>Anonymus Bazan I</th>\n",
       "      <td>0</td>\n",
       "      <td>3</td>\n",
       "      <td>3</td>\n",
       "      <td>0.00</td>\n",
       "    </tr>\n",
       "    <tr>\n",
       "      <th>Anonymus Vat. Lat. 2170 I</th>\n",
       "      <td>0</td>\n",
       "      <td>3</td>\n",
       "      <td>3</td>\n",
       "      <td>0.00</td>\n",
       "    </tr>\n",
       "    <tr>\n",
       "      <th>Anonymus Giele</th>\n",
       "      <td>0</td>\n",
       "      <td>2</td>\n",
       "      <td>2</td>\n",
       "      <td>0.00</td>\n",
       "    </tr>\n",
       "    <tr>\n",
       "      <th>Anonymus Steenberghen</th>\n",
       "      <td>0</td>\n",
       "      <td>2</td>\n",
       "      <td>2</td>\n",
       "      <td>0.00</td>\n",
       "    </tr>\n",
       "    <tr>\n",
       "      <th>Anonymus Vat. Lat. 2170 II</th>\n",
       "      <td>0</td>\n",
       "      <td>2</td>\n",
       "      <td>2</td>\n",
       "      <td>0.00</td>\n",
       "    </tr>\n",
       "    <tr>\n",
       "      <th>Anonymus Vennebusch</th>\n",
       "      <td>1</td>\n",
       "      <td>1</td>\n",
       "      <td>2</td>\n",
       "      <td>0.12</td>\n",
       "    </tr>\n",
       "  </tbody>\n",
       "</table>\n",
       "</div>"
      ],
      "text/plain": [
       "                            Unique  Shared  Sum  Proportion\n",
       "John of Jandun                   2       6    8        0.25\n",
       "Anonymus Mertoniensis 275        2       4    6        0.25\n",
       "Anonymus Oriel 33                0       5    5        0.00\n",
       "Henric de la Wyle                1       4    5        0.12\n",
       "John Dinsdale                    0       5    5        0.00\n",
       "Anonymus Bernardini              0       4    4        0.00\n",
       "Radulphus Brito                  1       3    4        0.12\n",
       "Simon of Faversham               1       3    4        0.12\n",
       "Anonymus Bazan I                 0       3    3        0.00\n",
       "Anonymus Vat. Lat. 2170 I        0       3    3        0.00\n",
       "Anonymus Giele                   0       2    2        0.00\n",
       "Anonymus Steenberghen            0       2    2        0.00\n",
       "Anonymus Vat. Lat. 2170 II       0       2    2        0.00\n",
       "Anonymus Vennebusch              1       1    2        0.12"
      ]
     },
     "execution_count": 175,
     "metadata": {},
     "output_type": "execute_result"
    }
   ],
   "source": [
    "df = pd.DataFrame(m, index=['Unique', 'Shared', 'Sum', 'Proportion'])\n",
    "df = df.T.sort_values(by='Sum', ascending=False)\n",
    "df[['Unique', 'Shared', 'Sum']] = df[['Unique', 'Shared', 'Sum']].apply(np.int64)\n",
    "df"
   ]
  },
  {
   "cell_type": "code",
   "execution_count": 177,
   "metadata": {},
   "outputs": [],
   "source": [
    "# Some saving could be set up here...\n",
    "save_table('../thesis/data/tables/sci-rationes-quantities.tex', df.to_latex(), \n",
    "           caption='Unique, shared, total, and proportion of unique to shared doctrines in rationes.',\n",
    "           label='tab:sci:rationes:quantities')"
   ]
  },
  {
   "cell_type": "code",
   "execution_count": 178,
   "metadata": {},
   "outputs": [
    {
     "data": {
      "text/plain": [
       "Unique     8\n",
       "Shared    47\n",
       "Sum       55\n",
       "dtype: int64"
      ]
     },
     "execution_count": 178,
     "metadata": {},
     "output_type": "execute_result"
    }
   ],
   "source": [
    "# The sums?\n",
    "df[['Unique', 'Shared', 'Sum']].sum()"
   ]
  },
  {
   "cell_type": "code",
   "execution_count": 180,
   "metadata": {},
   "outputs": [
    {
     "data": {
      "text/plain": [
       "18"
      ]
     },
     "execution_count": 180,
     "metadata": {},
     "output_type": "execute_result"
    }
   ],
   "source": [
    "# Number of distinct rationes\n",
    "rationes_count = run_query('MATCH (d:Doctrine)'\n",
    "                                 \"WHERE (d)-[:ATTACKS]->(:Doctrine {name:'There can be a science of the soul'})\"\n",
    "                                 'RETURN count(DISTINCT d)').single()[0]\n",
    "rationes_count"
   ]
  },
  {
   "cell_type": "code",
   "execution_count": 181,
   "metadata": {},
   "outputs": [
    {
     "data": {
      "text/plain": [
       "0.4444444444444444"
      ]
     },
     "execution_count": 181,
     "metadata": {},
     "output_type": "execute_result"
    }
   ],
   "source": [
    "# Proportion of unique\n",
    "df['Unique'].sum() / rationes_count"
   ]
  },
  {
   "cell_type": "code",
   "execution_count": 182,
   "metadata": {},
   "outputs": [
    {
     "data": {
      "text/plain": [
       "0.14545454545454545"
      ]
     },
     "execution_count": 182,
     "metadata": {},
     "output_type": "execute_result"
    }
   ],
   "source": [
    "# Proportion of unique instances\n",
    "df['Unique'].sum() / df['Sum'].sum()"
   ]
  },
  {
   "cell_type": "code",
   "execution_count": 183,
   "metadata": {
    "scrolled": true
   },
   "outputs": [
    {
     "data": {
      "text/plain": [
       "5.5"
      ]
     },
     "execution_count": 183,
     "metadata": {},
     "output_type": "execute_result"
    }
   ],
   "source": [
    "# Average use number of non-uniques\n",
    "round(df['Sum'].sum() / (rationes_count - df['Unique'].sum()), 1)"
   ]
  },
  {
   "cell_type": "markdown",
   "metadata": {},
   "source": [
    "But the relative proportions in relation to all the others is more interesting..."
   ]
  },
  {
   "cell_type": "code",
   "execution_count": 186,
   "metadata": {},
   "outputs": [
    {
     "data": {
      "text/plain": [
       "{'Anonymus Bazan I': 0.15,\n",
       " 'Anonymus Bernardini': 0.041666666666666664,\n",
       " 'Anonymus Giele': 0.4166666666666667,\n",
       " 'Anonymus Mertoniensis 275': 0.027777777777777776,\n",
       " 'Anonymus Oriel 33': 0.12121212121212122,\n",
       " 'Anonymus Steenberghen': 0.020833333333333332,\n",
       " 'Anonymus Vat. Lat. 2170 I': 0.5,\n",
       " 'Anonymus Vat. Lat. 2170 II': 0.1111111111111111,\n",
       " 'Anonymus Vennebusch': 0.08333333333333333,\n",
       " 'Henric de la Wyle': 0.0625,\n",
       " 'John Dinsdale': 0.13333333333333333,\n",
       " 'John of Jandun': 1.0,\n",
       " 'Radulphus Brito': 0.19047619047619047,\n",
       " 'Simon of Faversham': 0.2976190476190476}"
      ]
     },
     "execution_count": 186,
     "metadata": {},
     "output_type": "execute_result"
    }
   ],
   "source": [
    "def proportion_shared_rationes_doctrines(name):\n",
    "    with driver.session() as session:\n",
    "        with session.begin_transaction() as tx:\n",
    "            res = tx.run(\"MATCH (a:Author)--(:Text)--(q1:Question)--(d:Doctrine)\"\n",
    "                         \"MATCH (:Doctrine {name:'There can be a science of the soul'})<-[:ATTACKS *1..5]-(d)\"\n",
    "                         \"WHERE a.name = {name}\"\n",
    "                         \"MATCH (d)--(q2:Question)--(:Text)--(a2:Author)\"\n",
    "                         \"MATCH (:Doctrine {name:'There can be a science of the soul'})<-[:ATTACKS *1..5]-(d1:Doctrine)--(q1)\"\n",
    "                         \"MATCH (:Doctrine {name:'There can be a science of the soul'})<-[:ATTACKS *1..5]-(d2:Doctrine)--(q2)\"\n",
    "                         \"RETURN a2.name, (toFloat(count(distinct d)) / count(distinct d1)) * (toFloat(count(distinct d)) / count(distinct d2))\", name=name)\n",
    "            return {r[0]: r[1] for r in res}\n",
    "\n",
    "proportion_shared_rationes_doctrines('John of Jandun')"
   ]
  },
  {
   "cell_type": "code",
   "execution_count": 187,
   "metadata": {},
   "outputs": [],
   "source": [
    "d = build_matrix(author_names, docfunc=proportion_shared_rationes_doctrines)"
   ]
  },
  {
   "cell_type": "code",
   "execution_count": 188,
   "metadata": {},
   "outputs": [
    {
     "data": {
      "image/png": "[encoded data removed]",
      "text/plain": [
       "<matplotlib.figure.Figure at 0x10cd6fe10>"
      ]
     },
     "metadata": {},
     "output_type": "display_data"
    }
   ],
   "source": [
    "df = pd.DataFrame(d, index=author_names)\n",
    "\n",
    "# Generate a custom diverging colormap\n",
    "cmap = sns.light_palette((210, 90, 60), as_cmap=True, input=\"husl\")\n",
    "\n",
    "# Draw the heatmap with the mask and correct aspect ratio\n",
    "plot = sns.clustermap(df, cmap=cmap, linewidths=.5, row_cluster=True)\n",
    "for _, ax in enumerate(plot.fig.axes):\n",
    "    ax.set_xticklabels(ax.get_xticklabels(), rotation = 45, horizontalalignment='right')"
   ]
  },
  {
   "cell_type": "code",
   "execution_count": 190,
   "metadata": {},
   "outputs": [
    {
     "name": "stdout",
     "output_type": "stream",
     "text": [
      "\\begin{figure}\n",
      "\\centering\n",
      "\\includegraphics[width=\\linewidth]{data/figures/science-rationes-proportional-clustermap.pdf}\n",
      "\\caption{Proportional clustermap of rationes doctrines.}\n",
      "\\label{fig:sci:rationes:prop-clustermap}\n",
      "\\end{figure}\n"
     ]
    }
   ],
   "source": [
    "plot.savefig('../thesis/data/figures/science-rationes-proportional-clustermap.pdf')\n",
    "print_figure_inclusion(\n",
    "    '../figures/science-rationes-proportional-clustermap', plot,\n",
    "    caption='Proportional clustermap of rationes doctrines.',\n",
    "    label='fig:sci:rationes:prop-clustermap')"
   ]
  },
  {
   "cell_type": "markdown",
   "metadata": {},
   "source": [
    "## Binary doctrines"
   ]
  },
  {
   "cell_type": "code",
   "execution_count": 192,
   "metadata": {},
   "outputs": [
    {
     "data": {
      "text/plain": [
       "18"
      ]
     },
     "execution_count": 192,
     "metadata": {},
     "output_type": "execute_result"
    }
   ],
   "source": [
    "# All doctrines except the base statement of the science\n",
    "def all_rationes_doctrines():\n",
    "    q = (\"MATCH (:Doctrine {name:'There can be a science of the soul'})<-[:ATTACKS]-(d)\"\n",
    "         \"RETURN distinct(d.name) ORDER BY d.name asc\")\n",
    "    return [t[0] for t in run_query(q).values()]\n",
    "\n",
    "all_docs = all_rationes_doctrines()\n",
    "\n",
    "# Test output\n",
    "len(all_docs)"
   ]
  },
  {
   "cell_type": "code",
   "execution_count": 194,
   "metadata": {},
   "outputs": [
    {
     "data": {
      "text/plain": [
       "['No science about corruptible things, so no science about the soul',\n",
       " 'Intellect denudated of object before knowledge, so no science of the soul',\n",
       " 'No identity of mover and moved, so no science of the soul',\n",
       " 'No sense perception of the soul, so there cannot be a science about it',\n",
       " 'Soul not intelligible to us',\n",
       " 'No science about the non-existent, so no science about the soul',\n",
       " 'Soul is a particular, so there can be no science about it',\n",
       " 'No identity between knower and known, so no science of the soul']"
      ]
     },
     "execution_count": 194,
     "metadata": {},
     "output_type": "execute_result"
    }
   ],
   "source": [
    "def all_rationes_doctrines_of(name):\n",
    "    q = (\"MATCH (r:Doctrine) WHERE r.name='There can be a science of the soul'\"\n",
    "         \"MATCH (r)<-[:ATTACKS]-(d:Doctrine)\"\n",
    "         \"MATCH (a:Author)--(t:Text)--(q:Question)--(d)\"\n",
    "         \"WHERE a.name = '{name}'\"\n",
    "         \"RETURN distinct(d.name)\".format(name=name))\n",
    "    return [t[0] for t in run_query(q).values()]\n",
    "\n",
    "# Example test\n",
    "all_rationes_doctrines_of(\"John of Jandun\")"
   ]
  },
  {
   "cell_type": "code",
   "execution_count": 195,
   "metadata": {},
   "outputs": [
    {
     "data": {
      "text/html": [
       "<div>\n",
       "<style scoped>\n",
       "    .dataframe tbody tr th:only-of-type {\n",
       "        vertical-align: middle;\n",
       "    }\n",
       "\n",
       "    .dataframe tbody tr th {\n",
       "        vertical-align: top;\n",
       "    }\n",
       "\n",
       "    .dataframe thead th {\n",
       "        text-align: right;\n",
       "    }\n",
       "</style>\n",
       "<table border=\"1\" class=\"dataframe\">\n",
       "  <thead>\n",
       "    <tr style=\"text-align: right;\">\n",
       "      <th></th>\n",
       "      <th>Radulphus Brito</th>\n",
       "      <th>John of Jandun</th>\n",
       "      <th>Henric de la Wyle</th>\n",
       "      <th>Anonymus Oriel 33</th>\n",
       "      <th>John Dinsdale</th>\n",
       "      <th>Anonymus Mertoniensis 275</th>\n",
       "      <th>Anonymus Bernardini</th>\n",
       "      <th>Anonymus Vat. Lat. 2170 I</th>\n",
       "      <th>Anonymus Steenberghen</th>\n",
       "      <th>Anonymus Vennebusch</th>\n",
       "      <th>Simon of Faversham</th>\n",
       "      <th>Anonymus Bazan I</th>\n",
       "      <th>Anonymus Vat. Lat. 2170 II</th>\n",
       "      <th>Anonymus Giele</th>\n",
       "    </tr>\n",
       "  </thead>\n",
       "  <tbody>\n",
       "    <tr>\n",
       "      <th>Act and potency problem, so no science of the soul</th>\n",
       "      <td>x</td>\n",
       "      <td></td>\n",
       "      <td></td>\n",
       "      <td></td>\n",
       "      <td></td>\n",
       "      <td></td>\n",
       "      <td></td>\n",
       "      <td></td>\n",
       "      <td></td>\n",
       "      <td></td>\n",
       "      <td></td>\n",
       "      <td></td>\n",
       "      <td></td>\n",
       "      <td></td>\n",
       "    </tr>\n",
       "    <tr>\n",
       "      <th>Intellect denudated of object before knowledge, so no science of the soul</th>\n",
       "      <td></td>\n",
       "      <td>x</td>\n",
       "      <td></td>\n",
       "      <td></td>\n",
       "      <td></td>\n",
       "      <td></td>\n",
       "      <td></td>\n",
       "      <td></td>\n",
       "      <td></td>\n",
       "      <td></td>\n",
       "      <td></td>\n",
       "      <td></td>\n",
       "      <td></td>\n",
       "      <td></td>\n",
       "    </tr>\n",
       "    <tr>\n",
       "      <th>Knowledge is continuous and temporal, so no science of the soul</th>\n",
       "      <td></td>\n",
       "      <td></td>\n",
       "      <td>x</td>\n",
       "      <td>x</td>\n",
       "      <td>x</td>\n",
       "      <td>x</td>\n",
       "      <td>x</td>\n",
       "      <td></td>\n",
       "      <td></td>\n",
       "      <td></td>\n",
       "      <td></td>\n",
       "      <td></td>\n",
       "      <td></td>\n",
       "      <td></td>\n",
       "    </tr>\n",
       "    <tr>\n",
       "      <th>No identity between knower and known, so no science of the soul</th>\n",
       "      <td></td>\n",
       "      <td>x</td>\n",
       "      <td></td>\n",
       "      <td></td>\n",
       "      <td></td>\n",
       "      <td></td>\n",
       "      <td></td>\n",
       "      <td>x</td>\n",
       "      <td></td>\n",
       "      <td></td>\n",
       "      <td></td>\n",
       "      <td></td>\n",
       "      <td></td>\n",
       "      <td></td>\n",
       "    </tr>\n",
       "    <tr>\n",
       "      <th>No identity of mover and moved, so no science of the soul</th>\n",
       "      <td></td>\n",
       "      <td>x</td>\n",
       "      <td>x</td>\n",
       "      <td>x</td>\n",
       "      <td>x</td>\n",
       "      <td></td>\n",
       "      <td></td>\n",
       "      <td></td>\n",
       "      <td></td>\n",
       "      <td></td>\n",
       "      <td></td>\n",
       "      <td></td>\n",
       "      <td></td>\n",
       "      <td></td>\n",
       "    </tr>\n",
       "    <tr>\n",
       "      <th>No intellectual self-knowledge, so no science of the soul</th>\n",
       "      <td></td>\n",
       "      <td></td>\n",
       "      <td></td>\n",
       "      <td></td>\n",
       "      <td></td>\n",
       "      <td>x</td>\n",
       "      <td></td>\n",
       "      <td></td>\n",
       "      <td></td>\n",
       "      <td></td>\n",
       "      <td></td>\n",
       "      <td></td>\n",
       "      <td></td>\n",
       "      <td></td>\n",
       "    </tr>\n",
       "    <tr>\n",
       "      <th>No phantasm from the soul, so no science about it</th>\n",
       "      <td></td>\n",
       "      <td></td>\n",
       "      <td>x</td>\n",
       "      <td></td>\n",
       "      <td></td>\n",
       "      <td>x</td>\n",
       "      <td>x</td>\n",
       "      <td></td>\n",
       "      <td></td>\n",
       "      <td></td>\n",
       "      <td></td>\n",
       "      <td></td>\n",
       "      <td></td>\n",
       "      <td></td>\n",
       "    </tr>\n",
       "    <tr>\n",
       "      <th>No science about corruptible things, so no science about the soul</th>\n",
       "      <td></td>\n",
       "      <td>x</td>\n",
       "      <td></td>\n",
       "      <td></td>\n",
       "      <td></td>\n",
       "      <td></td>\n",
       "      <td></td>\n",
       "      <td>x</td>\n",
       "      <td>x</td>\n",
       "      <td></td>\n",
       "      <td></td>\n",
       "      <td></td>\n",
       "      <td></td>\n",
       "      <td></td>\n",
       "    </tr>\n",
       "    <tr>\n",
       "      <th>No science about the non-existent, so no science about the soul</th>\n",
       "      <td></td>\n",
       "      <td>x</td>\n",
       "      <td></td>\n",
       "      <td></td>\n",
       "      <td></td>\n",
       "      <td></td>\n",
       "      <td></td>\n",
       "      <td></td>\n",
       "      <td></td>\n",
       "      <td></td>\n",
       "      <td></td>\n",
       "      <td></td>\n",
       "      <td></td>\n",
       "      <td></td>\n",
       "    </tr>\n",
       "    <tr>\n",
       "      <th>No sense perception of the soul, so there cannot be a science about it</th>\n",
       "      <td>x</td>\n",
       "      <td>x</td>\n",
       "      <td></td>\n",
       "      <td>x</td>\n",
       "      <td>x</td>\n",
       "      <td>x</td>\n",
       "      <td>x</td>\n",
       "      <td>x</td>\n",
       "      <td></td>\n",
       "      <td>x</td>\n",
       "      <td>x</td>\n",
       "      <td>x</td>\n",
       "      <td>x</td>\n",
       "      <td>x</td>\n",
       "    </tr>\n",
       "    <tr>\n",
       "      <th>No universal about the soul, as it requires sense perception</th>\n",
       "      <td></td>\n",
       "      <td></td>\n",
       "      <td></td>\n",
       "      <td></td>\n",
       "      <td></td>\n",
       "      <td></td>\n",
       "      <td></td>\n",
       "      <td></td>\n",
       "      <td></td>\n",
       "      <td>x</td>\n",
       "      <td></td>\n",
       "      <td></td>\n",
       "      <td></td>\n",
       "      <td></td>\n",
       "    </tr>\n",
       "    <tr>\n",
       "      <th>Science about subject with parts and properties, so no science about the soul</th>\n",
       "      <td>x</td>\n",
       "      <td></td>\n",
       "      <td></td>\n",
       "      <td></td>\n",
       "      <td></td>\n",
       "      <td></td>\n",
       "      <td></td>\n",
       "      <td></td>\n",
       "      <td>x</td>\n",
       "      <td></td>\n",
       "      <td>x</td>\n",
       "      <td>x</td>\n",
       "      <td>x</td>\n",
       "      <td></td>\n",
       "    </tr>\n",
       "    <tr>\n",
       "      <th>Science about universals abstracted from perception</th>\n",
       "      <td></td>\n",
       "      <td></td>\n",
       "      <td>x</td>\n",
       "      <td></td>\n",
       "      <td></td>\n",
       "      <td></td>\n",
       "      <td></td>\n",
       "      <td></td>\n",
       "      <td></td>\n",
       "      <td></td>\n",
       "      <td></td>\n",
       "      <td></td>\n",
       "      <td></td>\n",
       "      <td></td>\n",
       "    </tr>\n",
       "    <tr>\n",
       "      <th>Science proceeds from causes, so no science about the soul</th>\n",
       "      <td></td>\n",
       "      <td></td>\n",
       "      <td></td>\n",
       "      <td></td>\n",
       "      <td></td>\n",
       "      <td>x</td>\n",
       "      <td></td>\n",
       "      <td></td>\n",
       "      <td></td>\n",
       "      <td></td>\n",
       "      <td></td>\n",
       "      <td></td>\n",
       "      <td></td>\n",
       "      <td></td>\n",
       "    </tr>\n",
       "    <tr>\n",
       "      <th>Sciene about something actually intelligible, so no science about the soul</th>\n",
       "      <td></td>\n",
       "      <td></td>\n",
       "      <td></td>\n",
       "      <td></td>\n",
       "      <td></td>\n",
       "      <td></td>\n",
       "      <td></td>\n",
       "      <td></td>\n",
       "      <td></td>\n",
       "      <td></td>\n",
       "      <td>x</td>\n",
       "      <td></td>\n",
       "      <td></td>\n",
       "      <td></td>\n",
       "    </tr>\n",
       "    <tr>\n",
       "      <th>Soul is a particular, so there can be no science about it</th>\n",
       "      <td></td>\n",
       "      <td>x</td>\n",
       "      <td></td>\n",
       "      <td></td>\n",
       "      <td></td>\n",
       "      <td></td>\n",
       "      <td></td>\n",
       "      <td></td>\n",
       "      <td></td>\n",
       "      <td></td>\n",
       "      <td>x</td>\n",
       "      <td></td>\n",
       "      <td></td>\n",
       "      <td>x</td>\n",
       "    </tr>\n",
       "    <tr>\n",
       "      <th>Soul not intelligible to us</th>\n",
       "      <td>x</td>\n",
       "      <td>x</td>\n",
       "      <td>x</td>\n",
       "      <td>x</td>\n",
       "      <td>x</td>\n",
       "      <td></td>\n",
       "      <td></td>\n",
       "      <td></td>\n",
       "      <td></td>\n",
       "      <td></td>\n",
       "      <td></td>\n",
       "      <td>x</td>\n",
       "      <td></td>\n",
       "      <td></td>\n",
       "    </tr>\n",
       "    <tr>\n",
       "      <th>Things most manifest in nature are opaque, so no science of the soul</th>\n",
       "      <td></td>\n",
       "      <td></td>\n",
       "      <td></td>\n",
       "      <td>x</td>\n",
       "      <td>x</td>\n",
       "      <td>x</td>\n",
       "      <td>x</td>\n",
       "      <td></td>\n",
       "      <td></td>\n",
       "      <td></td>\n",
       "      <td></td>\n",
       "      <td></td>\n",
       "      <td></td>\n",
       "      <td></td>\n",
       "    </tr>\n",
       "  </tbody>\n",
       "</table>\n",
       "</div>"
      ],
      "text/plain": [
       "                                                   Radulphus Brito  \\\n",
       "Act and potency problem, so no science of the soul               x   \n",
       "Intellect denudated of object before knowledge,...                   \n",
       "Knowledge is continuous and temporal, so no sci...                   \n",
       "No identity between knower and known, so no sci...                   \n",
       "No identity of mover and moved, so no science o...                   \n",
       "No intellectual self-knowledge, so no science o...                   \n",
       "No phantasm from the soul, so no science about it                    \n",
       "No science about corruptible things, so no scie...                   \n",
       "No science about the non-existent, so no scienc...                   \n",
       "No sense perception of the soul, so there canno...               x   \n",
       "No universal about the soul, as it requires sen...                   \n",
       "Science about subject with parts and properties...               x   \n",
       "Science about universals abstracted from percep...                   \n",
       "Science proceeds from causes, so no science abo...                   \n",
       "Sciene about something actually intelligible, s...                   \n",
       "Soul is a particular, so there can be no scienc...                   \n",
       "Soul not intelligible to us                                      x   \n",
       "Things most manifest in nature are opaque, so n...                   \n",
       "\n",
       "                                                   John of Jandun  \\\n",
       "Act and potency problem, so no science of the soul                  \n",
       "Intellect denudated of object before knowledge,...              x   \n",
       "Knowledge is continuous and temporal, so no sci...                  \n",
       "No identity between knower and known, so no sci...              x   \n",
       "No identity of mover and moved, so no science o...              x   \n",
       "No intellectual self-knowledge, so no science o...                  \n",
       "No phantasm from the soul, so no science about it                   \n",
       "No science about corruptible things, so no scie...              x   \n",
       "No science about the non-existent, so no scienc...              x   \n",
       "No sense perception of the soul, so there canno...              x   \n",
       "No universal about the soul, as it requires sen...                  \n",
       "Science about subject with parts and properties...                  \n",
       "Science about universals abstracted from percep...                  \n",
       "Science proceeds from causes, so no science abo...                  \n",
       "Sciene about something actually intelligible, s...                  \n",
       "Soul is a particular, so there can be no scienc...              x   \n",
       "Soul not intelligible to us                                     x   \n",
       "Things most manifest in nature are opaque, so n...                  \n",
       "\n",
       "                                                   Henric de la Wyle  \\\n",
       "Act and potency problem, so no science of the soul                     \n",
       "Intellect denudated of object before knowledge,...                     \n",
       "Knowledge is continuous and temporal, so no sci...                 x   \n",
       "No identity between knower and known, so no sci...                     \n",
       "No identity of mover and moved, so no science o...                 x   \n",
       "No intellectual self-knowledge, so no science o...                     \n",
       "No phantasm from the soul, so no science about it                  x   \n",
       "No science about corruptible things, so no scie...                     \n",
       "No science about the non-existent, so no scienc...                     \n",
       "No sense perception of the soul, so there canno...                     \n",
       "No universal about the soul, as it requires sen...                     \n",
       "Science about subject with parts and properties...                     \n",
       "Science about universals abstracted from percep...                 x   \n",
       "Science proceeds from causes, so no science abo...                     \n",
       "Sciene about something actually intelligible, s...                     \n",
       "Soul is a particular, so there can be no scienc...                     \n",
       "Soul not intelligible to us                                        x   \n",
       "Things most manifest in nature are opaque, so n...                     \n",
       "\n",
       "                                                   Anonymus Oriel 33  \\\n",
       "Act and potency problem, so no science of the soul                     \n",
       "Intellect denudated of object before knowledge,...                     \n",
       "Knowledge is continuous and temporal, so no sci...                 x   \n",
       "No identity between knower and known, so no sci...                     \n",
       "No identity of mover and moved, so no science o...                 x   \n",
       "No intellectual self-knowledge, so no science o...                     \n",
       "No phantasm from the soul, so no science about it                      \n",
       "No science about corruptible things, so no scie...                     \n",
       "No science about the non-existent, so no scienc...                     \n",
       "No sense perception of the soul, so there canno...                 x   \n",
       "No universal about the soul, as it requires sen...                     \n",
       "Science about subject with parts and properties...                     \n",
       "Science about universals abstracted from percep...                     \n",
       "Science proceeds from causes, so no science abo...                     \n",
       "Sciene about something actually intelligible, s...                     \n",
       "Soul is a particular, so there can be no scienc...                     \n",
       "Soul not intelligible to us                                        x   \n",
       "Things most manifest in nature are opaque, so n...                 x   \n",
       "\n",
       "                                                   John Dinsdale  \\\n",
       "Act and potency problem, so no science of the soul                 \n",
       "Intellect denudated of object before knowledge,...                 \n",
       "Knowledge is continuous and temporal, so no sci...             x   \n",
       "No identity between knower and known, so no sci...                 \n",
       "No identity of mover and moved, so no science o...             x   \n",
       "No intellectual self-knowledge, so no science o...                 \n",
       "No phantasm from the soul, so no science about it                  \n",
       "No science about corruptible things, so no scie...                 \n",
       "No science about the non-existent, so no scienc...                 \n",
       "No sense perception of the soul, so there canno...             x   \n",
       "No universal about the soul, as it requires sen...                 \n",
       "Science about subject with parts and properties...                 \n",
       "Science about universals abstracted from percep...                 \n",
       "Science proceeds from causes, so no science abo...                 \n",
       "Sciene about something actually intelligible, s...                 \n",
       "Soul is a particular, so there can be no scienc...                 \n",
       "Soul not intelligible to us                                    x   \n",
       "Things most manifest in nature are opaque, so n...             x   \n",
       "\n",
       "                                                   Anonymus Mertoniensis 275  \\\n",
       "Act and potency problem, so no science of the soul                             \n",
       "Intellect denudated of object before knowledge,...                             \n",
       "Knowledge is continuous and temporal, so no sci...                         x   \n",
       "No identity between knower and known, so no sci...                             \n",
       "No identity of mover and moved, so no science o...                             \n",
       "No intellectual self-knowledge, so no science o...                         x   \n",
       "No phantasm from the soul, so no science about it                          x   \n",
       "No science about corruptible things, so no scie...                             \n",
       "No science about the non-existent, so no scienc...                             \n",
       "No sense perception of the soul, so there canno...                         x   \n",
       "No universal about the soul, as it requires sen...                             \n",
       "Science about subject with parts and properties...                             \n",
       "Science about universals abstracted from percep...                             \n",
       "Science proceeds from causes, so no science abo...                         x   \n",
       "Sciene about something actually intelligible, s...                             \n",
       "Soul is a particular, so there can be no scienc...                             \n",
       "Soul not intelligible to us                                                    \n",
       "Things most manifest in nature are opaque, so n...                         x   \n",
       "\n",
       "                                                   Anonymus Bernardini  \\\n",
       "Act and potency problem, so no science of the soul                       \n",
       "Intellect denudated of object before knowledge,...                       \n",
       "Knowledge is continuous and temporal, so no sci...                   x   \n",
       "No identity between knower and known, so no sci...                       \n",
       "No identity of mover and moved, so no science o...                       \n",
       "No intellectual self-knowledge, so no science o...                       \n",
       "No phantasm from the soul, so no science about it                    x   \n",
       "No science about corruptible things, so no scie...                       \n",
       "No science about the non-existent, so no scienc...                       \n",
       "No sense perception of the soul, so there canno...                   x   \n",
       "No universal about the soul, as it requires sen...                       \n",
       "Science about subject with parts and properties...                       \n",
       "Science about universals abstracted from percep...                       \n",
       "Science proceeds from causes, so no science abo...                       \n",
       "Sciene about something actually intelligible, s...                       \n",
       "Soul is a particular, so there can be no scienc...                       \n",
       "Soul not intelligible to us                                              \n",
       "Things most manifest in nature are opaque, so n...                   x   \n",
       "\n",
       "                                                   Anonymus Vat. Lat. 2170 I  \\\n",
       "Act and potency problem, so no science of the soul                             \n",
       "Intellect denudated of object before knowledge,...                             \n",
       "Knowledge is continuous and temporal, so no sci...                             \n",
       "No identity between knower and known, so no sci...                         x   \n",
       "No identity of mover and moved, so no science o...                             \n",
       "No intellectual self-knowledge, so no science o...                             \n",
       "No phantasm from the soul, so no science about it                              \n",
       "No science about corruptible things, so no scie...                         x   \n",
       "No science about the non-existent, so no scienc...                             \n",
       "No sense perception of the soul, so there canno...                         x   \n",
       "No universal about the soul, as it requires sen...                             \n",
       "Science about subject with parts and properties...                             \n",
       "Science about universals abstracted from percep...                             \n",
       "Science proceeds from causes, so no science abo...                             \n",
       "Sciene about something actually intelligible, s...                             \n",
       "Soul is a particular, so there can be no scienc...                             \n",
       "Soul not intelligible to us                                                    \n",
       "Things most manifest in nature are opaque, so n...                             \n",
       "\n",
       "                                                   Anonymus Steenberghen  \\\n",
       "Act and potency problem, so no science of the soul                         \n",
       "Intellect denudated of object before knowledge,...                         \n",
       "Knowledge is continuous and temporal, so no sci...                         \n",
       "No identity between knower and known, so no sci...                         \n",
       "No identity of mover and moved, so no science o...                         \n",
       "No intellectual self-knowledge, so no science o...                         \n",
       "No phantasm from the soul, so no science about it                          \n",
       "No science about corruptible things, so no scie...                     x   \n",
       "No science about the non-existent, so no scienc...                         \n",
       "No sense perception of the soul, so there canno...                         \n",
       "No universal about the soul, as it requires sen...                         \n",
       "Science about subject with parts and properties...                     x   \n",
       "Science about universals abstracted from percep...                         \n",
       "Science proceeds from causes, so no science abo...                         \n",
       "Sciene about something actually intelligible, s...                         \n",
       "Soul is a particular, so there can be no scienc...                         \n",
       "Soul not intelligible to us                                                \n",
       "Things most manifest in nature are opaque, so n...                         \n",
       "\n",
       "                                                   Anonymus Vennebusch  \\\n",
       "Act and potency problem, so no science of the soul                       \n",
       "Intellect denudated of object before knowledge,...                       \n",
       "Knowledge is continuous and temporal, so no sci...                       \n",
       "No identity between knower and known, so no sci...                       \n",
       "No identity of mover and moved, so no science o...                       \n",
       "No intellectual self-knowledge, so no science o...                       \n",
       "No phantasm from the soul, so no science about it                        \n",
       "No science about corruptible things, so no scie...                       \n",
       "No science about the non-existent, so no scienc...                       \n",
       "No sense perception of the soul, so there canno...                   x   \n",
       "No universal about the soul, as it requires sen...                   x   \n",
       "Science about subject with parts and properties...                       \n",
       "Science about universals abstracted from percep...                       \n",
       "Science proceeds from causes, so no science abo...                       \n",
       "Sciene about something actually intelligible, s...                       \n",
       "Soul is a particular, so there can be no scienc...                       \n",
       "Soul not intelligible to us                                              \n",
       "Things most manifest in nature are opaque, so n...                       \n",
       "\n",
       "                                                   Simon of Faversham  \\\n",
       "Act and potency problem, so no science of the soul                      \n",
       "Intellect denudated of object before knowledge,...                      \n",
       "Knowledge is continuous and temporal, so no sci...                      \n",
       "No identity between knower and known, so no sci...                      \n",
       "No identity of mover and moved, so no science o...                      \n",
       "No intellectual self-knowledge, so no science o...                      \n",
       "No phantasm from the soul, so no science about it                       \n",
       "No science about corruptible things, so no scie...                      \n",
       "No science about the non-existent, so no scienc...                      \n",
       "No sense perception of the soul, so there canno...                  x   \n",
       "No universal about the soul, as it requires sen...                      \n",
       "Science about subject with parts and properties...                  x   \n",
       "Science about universals abstracted from percep...                      \n",
       "Science proceeds from causes, so no science abo...                      \n",
       "Sciene about something actually intelligible, s...                  x   \n",
       "Soul is a particular, so there can be no scienc...                  x   \n",
       "Soul not intelligible to us                                             \n",
       "Things most manifest in nature are opaque, so n...                      \n",
       "\n",
       "                                                   Anonymus Bazan I  \\\n",
       "Act and potency problem, so no science of the soul                    \n",
       "Intellect denudated of object before knowledge,...                    \n",
       "Knowledge is continuous and temporal, so no sci...                    \n",
       "No identity between knower and known, so no sci...                    \n",
       "No identity of mover and moved, so no science o...                    \n",
       "No intellectual self-knowledge, so no science o...                    \n",
       "No phantasm from the soul, so no science about it                     \n",
       "No science about corruptible things, so no scie...                    \n",
       "No science about the non-existent, so no scienc...                    \n",
       "No sense perception of the soul, so there canno...                x   \n",
       "No universal about the soul, as it requires sen...                    \n",
       "Science about subject with parts and properties...                x   \n",
       "Science about universals abstracted from percep...                    \n",
       "Science proceeds from causes, so no science abo...                    \n",
       "Sciene about something actually intelligible, s...                    \n",
       "Soul is a particular, so there can be no scienc...                    \n",
       "Soul not intelligible to us                                       x   \n",
       "Things most manifest in nature are opaque, so n...                    \n",
       "\n",
       "                                                   Anonymus Vat. Lat. 2170 II  \\\n",
       "Act and potency problem, so no science of the soul                              \n",
       "Intellect denudated of object before knowledge,...                              \n",
       "Knowledge is continuous and temporal, so no sci...                              \n",
       "No identity between knower and known, so no sci...                              \n",
       "No identity of mover and moved, so no science o...                              \n",
       "No intellectual self-knowledge, so no science o...                              \n",
       "No phantasm from the soul, so no science about it                               \n",
       "No science about corruptible things, so no scie...                              \n",
       "No science about the non-existent, so no scienc...                              \n",
       "No sense perception of the soul, so there canno...                          x   \n",
       "No universal about the soul, as it requires sen...                              \n",
       "Science about subject with parts and properties...                          x   \n",
       "Science about universals abstracted from percep...                              \n",
       "Science proceeds from causes, so no science abo...                              \n",
       "Sciene about something actually intelligible, s...                              \n",
       "Soul is a particular, so there can be no scienc...                              \n",
       "Soul not intelligible to us                                                     \n",
       "Things most manifest in nature are opaque, so n...                              \n",
       "\n",
       "                                                   Anonymus Giele  \n",
       "Act and potency problem, so no science of the soul                 \n",
       "Intellect denudated of object before knowledge,...                 \n",
       "Knowledge is continuous and temporal, so no sci...                 \n",
       "No identity between knower and known, so no sci...                 \n",
       "No identity of mover and moved, so no science o...                 \n",
       "No intellectual self-knowledge, so no science o...                 \n",
       "No phantasm from the soul, so no science about it                  \n",
       "No science about corruptible things, so no scie...                 \n",
       "No science about the non-existent, so no scienc...                 \n",
       "No sense perception of the soul, so there canno...              x  \n",
       "No universal about the soul, as it requires sen...                 \n",
       "Science about subject with parts and properties...                 \n",
       "Science about universals abstracted from percep...                 \n",
       "Science proceeds from causes, so no science abo...                 \n",
       "Sciene about something actually intelligible, s...                 \n",
       "Soul is a particular, so there can be no scienc...              x  \n",
       "Soul not intelligible to us                                        \n",
       "Things most manifest in nature are opaque, so n...                 "
      ]
     },
     "execution_count": 195,
     "metadata": {},
     "output_type": "execute_result"
    }
   ],
   "source": [
    "def create_matrix(numeric=True):\n",
    "    matrix = {}\n",
    "    if numeric:\n",
    "        true_val = 1\n",
    "        false_val = 0\n",
    "    else:\n",
    "        true_val = 'x'\n",
    "        false_val = ''\n",
    "        \n",
    "    for author in author_names:\n",
    "        matrix[author] = []\n",
    "        adocs = all_rationes_doctrines_of(author)\n",
    "        for doc in all_docs:\n",
    "            if doc in adocs:\n",
    "                matrix[author].append(true_val)\n",
    "            else:\n",
    "                matrix[author].append(false_val)\n",
    "    sorted_names = sorted(matrix, key=matrix.get, reverse=True)\n",
    "    m = [matrix[key] for key in sorted_names]\n",
    "    m = [list(i) for i in zip(*m)]\n",
    "    return pd.DataFrame(m, columns=sorted_names, index=all_docs)\n",
    "\n",
    "create_matrix(numeric=False)"
   ]
  },
  {
   "cell_type": "markdown",
   "metadata": {},
   "source": [
    "And now a bit of quantitative info."
   ]
  },
  {
   "cell_type": "code",
   "execution_count": 196,
   "metadata": {},
   "outputs": [
    {
     "data": {
      "text/plain": [
       "John of Jandun                8\n",
       "Anonymus Mertoniensis 275     6\n",
       "John Dinsdale                 5\n",
       "Anonymus Oriel 33             5\n",
       "Henric de la Wyle             5\n",
       "Simon of Faversham            4\n",
       "Anonymus Bernardini           4\n",
       "Radulphus Brito               4\n",
       "Anonymus Bazan I              3\n",
       "Anonymus Vat. Lat. 2170 I     3\n",
       "Anonymus Giele                2\n",
       "Anonymus Vat. Lat. 2170 II    2\n",
       "Anonymus Vennebusch           2\n",
       "Anonymus Steenberghen         2\n",
       "dtype: int64"
      ]
     },
     "execution_count": 196,
     "metadata": {},
     "output_type": "execute_result"
    }
   ],
   "source": [
    "df = create_matrix(numeric=True)\n",
    "sums = df.sum().sort_values(ascending=False)\n",
    "sums\n",
    "#print(sums.to_latex())"
   ]
  },
  {
   "cell_type": "code",
   "execution_count": 197,
   "metadata": {},
   "outputs": [
    {
     "data": {
      "text/plain": [
       "3.9285714285714284"
      ]
     },
     "execution_count": 197,
     "metadata": {},
     "output_type": "execute_result"
    }
   ],
   "source": [
    "df.sum().mean()"
   ]
  },
  {
   "cell_type": "code",
   "execution_count": 198,
   "metadata": {},
   "outputs": [
    {
     "data": {
      "text/plain": [
       "<matplotlib.axes._subplots.AxesSubplot at 0x10d2e4ef0>"
      ]
     },
     "execution_count": 198,
     "metadata": {},
     "output_type": "execute_result"
    },
    {
     "data": {
      "image/png": "[encoded data removed]",
      "text/plain": [
       "<matplotlib.figure.Figure at 0x10d305f60>"
      ]
     },
     "metadata": {},
     "output_type": "display_data"
    }
   ],
   "source": [
    "sns.distplot(df.sum())"
   ]
  },
  {
   "cell_type": "code",
   "execution_count": 199,
   "metadata": {},
   "outputs": [
    {
     "data": {
      "text/plain": [
       "No sense perception of the soul, so there cannot be a science about it           12\n",
       "Soul not intelligible to us                                                       6\n",
       "Knowledge is continuous and temporal, so no science of the soul                   5\n",
       "Science about subject with parts and properties, so no science about the soul     5\n",
       "Things most manifest in nature are opaque, so no science of the soul              4\n",
       "No identity of mover and moved, so no science of the soul                         4\n",
       "Soul is a particular, so there can be no science about it                         3\n",
       "No science about corruptible things, so no science about the soul                 3\n",
       "No phantasm from the soul, so no science about it                                 3\n",
       "No identity between knower and known, so no science of the soul                   2\n",
       "No intellectual self-knowledge, so no science of the soul                         1\n",
       "Intellect denudated of object before knowledge, so no science of the soul         1\n",
       "No science about the non-existent, so no science about the soul                   1\n",
       "No universal about the soul, as it requires sense perception                      1\n",
       "Science about universals abstracted from perception                               1\n",
       "Science proceeds from causes, so no science about the soul                        1\n",
       "Sciene about something actually intelligible, so no science about the soul        1\n",
       "Act and potency problem, so no science of the soul                                1\n",
       "dtype: int64"
      ]
     },
     "execution_count": 199,
     "metadata": {},
     "output_type": "execute_result"
    }
   ],
   "source": [
    "df.sum(axis=1).sort_values(ascending=False)"
   ]
  },
  {
   "cell_type": "code",
   "execution_count": 203,
   "metadata": {},
   "outputs": [
    {
     "data": {
      "image/png": "[encoded data removed]",
      "text/plain": [
       "<matplotlib.figure.Figure at 0x10aa657f0>"
      ]
     },
     "metadata": {},
     "output_type": "display_data"
    }
   ],
   "source": [
    "df = create_matrix(numeric=True)\n",
    "\n",
    "# Generate a custom diverging colormap\n",
    "cmap = sns.light_palette((210, 90, 60), input=\"husl\")\n",
    "\n",
    "# Draw the heatmap with the mask and correct aspect ratio\n",
    "plot = sns.clustermap(df, cmap=cmap, linewidths=.5, metric='hamming', \n",
    "                      row_cluster=True, figsize=(12,16))\n",
    "\n",
    "for _, ax in enumerate(plot.fig.axes):\n",
    "    ax.set_xticklabels(ax.get_xticklabels(), rotation = 45, horizontalalignment='right')\n",
    "    \n",
    "plot.savefig('../thesis/data/figures/science-determinations-binary-cluster.png')"
   ]
  },
  {
   "cell_type": "code",
   "execution_count": 661,
   "metadata": {},
   "outputs": [
    {
     "name": "stdout",
     "output_type": "stream",
     "text": [
      "\\begin{figure}\n",
      "\\centering\n",
      "\\includegraphics[width=\\linewidth]{data/figures/science-rationes-binary-clustermap.pdf}\n",
      "\\caption{Binary clustermap of rationes doctrines.}\n",
      "\\label{fig:sci:rationes:binary-clustermap}\n",
      "\\end{figure}\n"
     ]
    }
   ],
   "source": [
    "plot.savefig('../figures/science-rationes-binary-clustermap.pdf')\n",
    "print_figure_inclusion(\n",
    "    '../figures/science-rationes-binary-clustermap', plot,\n",
    "    caption='Binary clustermap of rationes doctrines.',\n",
    "    label='fig:sci:rationes:binary-clustermap')"
   ]
  },
  {
   "cell_type": "code",
   "execution_count": null,
   "metadata": {},
   "outputs": [],
   "source": []
  },
  {
   "cell_type": "code",
   "execution_count": null,
   "metadata": {},
   "outputs": [],
   "source": []
  }
 ],
 "metadata": {
  "kernelspec": {
   "display_name": "Python 3",
   "language": "python",
   "name": "python3"
  },
  "language_info": {
   "codemirror_mode": {
    "name": "ipython",
    "version": 3
   },
   "file_extension": ".py",
   "mimetype": "text/x-python",
   "name": "python",
   "nbconvert_exporter": "python",
   "pygments_lexer": "ipython3",
   "version": "3.6.5"
  }
 },
 "nbformat": 4,
 "nbformat_minor": 2
}
